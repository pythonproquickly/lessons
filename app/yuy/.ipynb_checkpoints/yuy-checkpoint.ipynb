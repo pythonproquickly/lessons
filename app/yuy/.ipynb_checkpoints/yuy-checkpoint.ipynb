{
 "cells": [
  {
   "cell_type": "code",
   "execution_count": null,
   "id": "714cf5a6",
   "metadata": {},
   "outputs": [],
   "source": [
    "import random\n",
    "from collections import deque\n",
    "import collections\n",
    "import numpy as np\n",
    "import pandas as pd\n",
    "import matplotlib.pyplot as plt"
   ]
  },
  {
   "cell_type": "code",
   "execution_count": null,
   "id": "5add86f5",
   "metadata": {},
   "outputs": [],
   "source": [
    "file = \"~/ws/client-files/andykmiles/src/andykmiles/yuy/tour750.csv\""
   ]
  },
  {
   "cell_type": "code",
   "execution_count": null,
   "id": "1691d8ed",
   "metadata": {},
   "outputs": [],
   "source": [
    "import functools\n",
    "import time\n",
    "def timer(func):\n",
    "    @functools.wraps(func)\n",
    "    def wrapper_timer(*args, **kwargs):\n",
    "        start_time = time.perf_counter()\n",
    "        value = func(*args, **kwargs)\n",
    "        end_time = time.perf_counter()\n",
    "        run_time = end_time - start_time\n",
    "        print(f\"Ran {func.__name__!r} in {run_time:.4f} secs\")\n",
    "        return value\n",
    "\n",
    "    return wrapper_timer"
   ]
  },
  {
   "cell_type": "code",
   "execution_count": null,
   "id": "7d5e1f2c",
   "metadata": {},
   "outputs": [],
   "source": [
    "class Speedy:\n",
    "    def __init__(self, func):\n",
    "        self.func = func\n",
    "        self.memo = {}\n",
    "\n",
    "    def __call__(self, *args):\n",
    "        if args not in self.memo:\n",
    "            self.memo[args] = self.func(*args)\n",
    "        return self.memo[args]\n"
   ]
  },
  {
   "cell_type": "code",
   "execution_count": null,
   "id": "4b35f911",
   "metadata": {
    "scrolled": true
   },
   "outputs": [],
   "source": [
    "df = pd.read_csv(file, header = None)\n",
    "df"
   ]
  },
  {
   "cell_type": "code",
   "execution_count": null,
   "id": "19a35bc8",
   "metadata": {},
   "outputs": [],
   "source": [
    "def getRandomPositions(size):\n",
    "\n",
    "    individual = np.random.permutation(size)\n",
    "\n",
    "    return list(individual)"
   ]
  },
  {
   "cell_type": "code",
   "execution_count": null,
   "id": "bafd257a",
   "metadata": {},
   "outputs": [],
   "source": [
    "def initialise(popSize, size):\n",
    "    population = [getRandomPositions(size) for x in range(popSize)]\n",
    "\n",
    "    return population"
   ]
  },
  {
   "cell_type": "code",
   "execution_count": null,
   "id": "02c22f79",
   "metadata": {},
   "outputs": [],
   "source": [
    "population = initialise(100, len(df))\n",
    "#population"
   ]
  },
  {
   "cell_type": "code",
   "execution_count": null,
   "id": "da410676",
   "metadata": {},
   "outputs": [],
   "source": [
    "def calculateCost(df, individual):\n",
    "    # function written by teammate, check if the last distance was added?\n",
    "\n",
    "    accumulated_dist = 0\n",
    "    for i in range(len(individual)):\n",
    "        dist = df[individual[i]][individual[(i + 1) % len(individual)]]\n",
    "        accumulated_dist += dist\n",
    "\n",
    "    return accumulated_dist"
   ]
  },
  {
   "cell_type": "code",
   "execution_count": null,
   "id": "f7f5fe59",
   "metadata": {},
   "outputs": [],
   "source": [
    "def select_parent(df, population):\n",
    "    # use k-tournament selection to find parents\n",
    "        \n",
    "    parents =random.choices(population, k=7) #k=3 #change from 3 to 7 increased the result a lot\n",
    "    costParents = [calculateCost(df, x) for x in parents]\n",
    "    parent_indx = costParents.index(min(costParents))\n",
    "    selected_parent = parents[parent_indx]\n",
    "\n",
    "    return selected_parent"
   ]
  },
  {
   "cell_type": "code",
   "execution_count": null,
   "id": "9776525e",
   "metadata": {},
   "outputs": [],
   "source": [
    "def order_crossover(parent1, parent2):\n",
    "\n",
    "    size = len(parent1)\n",
    "    positions = random.sample(range(0,size), 2)\n",
    "\n",
    "    pos1 = min(positions[0], positions[1])   #random.randint(0, 9)\n",
    "    pos2 = max(positions[0], positions[1])   #random.randint(0, 9)\n",
    "\n",
    "    pos = [pos1, pos2]\n",
    "\n",
    "    ### Copy the part from the parent1\n",
    "    parent1_part = parent1[pos[0]:pos[1] + 1]\n",
    "\n",
    "    ### Find the parent2 parts\n",
    "    i_list = collections.deque(range(len(parent1)))\n",
    "    i_list.rotate(-(pos[1] + 1))\n",
    "\n",
    "    parent2_part = []\n",
    "\n",
    "    for i in i_list:\n",
    "        if parent2[i] not in parent1_part:\n",
    "            parent2_part.append(parent2[i])\n",
    "    return parent2_part[len(parent1) - pos[1] - 1:] + parent1_part + parent2_part[:len(parent1) - pos[1] - 1]"
   ]
  },
  {
   "cell_type": "code",
   "execution_count": null,
   "id": "5b305ade",
   "metadata": {
    "scrolled": false
   },
   "outputs": [],
   "source": [
    "parent1 = select_parent(df, population)\n",
    "parent2 = select_parent(df, population)\n",
    "child = order_crossover(parent1, parent2)"
   ]
  },
  {
   "cell_type": "code",
   "execution_count": null,
   "id": "7e0a9ea6",
   "metadata": {},
   "outputs": [],
   "source": [
    "def inversion_mutation(candidate):\n",
    "\n",
    "    pos = random.sample(range(len(candidate)), 2)\n",
    "    pos.sort()\n",
    "\n",
    "    inversed_part = candidate[pos[0]:pos[1] + 1]\n",
    "    inversed_part.reverse()\n",
    "    new_candidate = candidate[:pos[0]] + inversed_part + candidate[pos[1] + 1:]\n",
    "    return new_candidate"
   ]
  },
  {
   "cell_type": "code",
   "execution_count": 53,
   "id": "a4e58d71",
   "metadata": {},
   "outputs": [],
   "source": [
    "@timer\n",
    "def get_new_population(df, population):    \n",
    "    mutation_rate = 0.1\n",
    "\n",
    "    off_springs = []\n",
    "    \n",
    "    ivals = tuple(range(len(population)//2))\n",
    "    \n",
    "    \n",
    "    parentOneList = tuple([select_parent(df, population) for i in ivals])\n",
    "    # parentTwoList = [select_parent(df, population) for i in range(len(population)//2)]\n",
    "    parentTwoList = tuple(parentOneList)\n",
    "\n",
    "    for i in ivals:\n",
    "        p1 = parentOneList[i]\n",
    "        p2 = parentOneList[i]\n",
    "        offspringOne = order_crossover(p1, p2)\n",
    "        offspringTwo = order_crossover(p2, p1)\n",
    "  \n",
    "        # apply mutation rate with 0.1\n",
    "        if random.uniform(0, 1) < mutation_rate:\n",
    "            offspringOne = inversion_mutation(offspringOne)\n",
    "        if random.uniform(0, 1) < mutation_rate:\n",
    "            offspringTwo = inversion_mutation(offspringOne)\n",
    "            \n",
    "        off_springs.append(offspringOne)\n",
    "        off_springs.append(offspringTwo)\n",
    "                \n",
    "    costs = np.array([calculateCost(df, ind) for ind in off_springs])\n",
    "    return off_springs, costs"
   ]
  },
  {
   "cell_type": "code",
   "execution_count": 54,
   "id": "776286b1",
   "metadata": {},
   "outputs": [
    {
     "name": "stdout",
     "output_type": "stream",
     "text": [
      "Ran 'get_new_population' in 1.2364 secs\n"
     ]
    }
   ],
   "source": [
    "new_population, costs = get_new_population(df, population)"
   ]
  },
  {
   "cell_type": "code",
   "execution_count": 55,
   "id": "c732eadf",
   "metadata": {
    "scrolled": true
   },
   "outputs": [
    {
     "name": "stdout",
     "output_type": "stream",
     "text": [
      "Ran 'get_new_population' in 1.2887 secs\n",
      "Ran 'get_new_population' in 1.2534 secs\n",
      "Ran 'get_new_population' in 1.2711 secs\n",
      "Ran 'get_new_population' in 1.3186 secs\n",
      "Ran 'get_new_population' in 1.2718 secs\n",
      "Ran 'get_new_population' in 1.2954 secs\n",
      "Ran 'get_new_population' in 1.4363 secs\n",
      "Ran 'get_new_population' in 1.2854 secs\n",
      "Ran 'get_new_population' in 1.4275 secs\n",
      "Ran 'get_new_population' in 1.2731 secs\n",
      "Ran 'get_new_population' in 1.2953 secs\n",
      "Ran 'get_new_population' in 1.3735 secs\n",
      "Ran 'get_new_population' in 1.2707 secs\n",
      "Ran 'get_new_population' in 1.2770 secs\n",
      "Ran 'get_new_population' in 1.2830 secs\n",
      "Ran 'get_new_population' in 1.2543 secs\n",
      "Ran 'get_new_population' in 1.2959 secs\n",
      "Ran 'get_new_population' in 1.4360 secs\n",
      "Ran 'get_new_population' in 1.2943 secs\n"
     ]
    },
    {
     "ename": "KeyboardInterrupt",
     "evalue": "",
     "output_type": "error",
     "traceback": [
      "\u001b[0;31m-------------------------------------------------------------------\u001b[0m",
      "\u001b[0;31mKeyboardInterrupt\u001b[0m                 Traceback (most recent call last)",
      "\u001b[0;32m<ipython-input-55-2181c30fa247>\u001b[0m in \u001b[0;36m<module>\u001b[0;34m\u001b[0m\n\u001b[1;32m      3\u001b[0m \u001b[0mminimum\u001b[0m \u001b[0;34m=\u001b[0m \u001b[0;34m[\u001b[0m\u001b[0;34m]\u001b[0m\u001b[0;34m\u001b[0m\u001b[0;34m\u001b[0m\u001b[0m\n\u001b[1;32m      4\u001b[0m \u001b[0;32mfor\u001b[0m \u001b[0mi\u001b[0m \u001b[0;32min\u001b[0m \u001b[0mrange\u001b[0m\u001b[0;34m(\u001b[0m\u001b[0mnumber_its\u001b[0m\u001b[0;34m)\u001b[0m\u001b[0;34m:\u001b[0m\u001b[0;34m\u001b[0m\u001b[0;34m\u001b[0m\u001b[0m\n\u001b[0;32m----> 5\u001b[0;31m     \u001b[0mpopulation\u001b[0m\u001b[0;34m,\u001b[0m \u001b[0mcosts\u001b[0m \u001b[0;34m=\u001b[0m \u001b[0mget_new_population\u001b[0m\u001b[0;34m(\u001b[0m\u001b[0mdf\u001b[0m\u001b[0;34m,\u001b[0m \u001b[0mpopulation\u001b[0m\u001b[0;34m)\u001b[0m\u001b[0;34m\u001b[0m\u001b[0;34m\u001b[0m\u001b[0m\n\u001b[0m\u001b[1;32m      6\u001b[0m     \u001b[0mavg\u001b[0m\u001b[0;34m.\u001b[0m\u001b[0mappend\u001b[0m\u001b[0;34m(\u001b[0m\u001b[0mnp\u001b[0m\u001b[0;34m.\u001b[0m\u001b[0mmean\u001b[0m\u001b[0;34m(\u001b[0m\u001b[0mcosts\u001b[0m\u001b[0;34m)\u001b[0m\u001b[0;34m)\u001b[0m\u001b[0;34m\u001b[0m\u001b[0;34m\u001b[0m\u001b[0m\n\u001b[1;32m      7\u001b[0m     \u001b[0mminimum\u001b[0m\u001b[0;34m.\u001b[0m\u001b[0mappend\u001b[0m\u001b[0;34m(\u001b[0m\u001b[0mnp\u001b[0m\u001b[0;34m.\u001b[0m\u001b[0mmin\u001b[0m\u001b[0;34m(\u001b[0m\u001b[0mcosts\u001b[0m\u001b[0;34m)\u001b[0m\u001b[0;34m)\u001b[0m\u001b[0;34m\u001b[0m\u001b[0;34m\u001b[0m\u001b[0m\n",
      "\u001b[0;32m<ipython-input-36-c0ab1756573a>\u001b[0m in \u001b[0;36mwrapper_timer\u001b[0;34m(*args, **kwargs)\u001b[0m\n\u001b[1;32m      5\u001b[0m     \u001b[0;32mdef\u001b[0m \u001b[0mwrapper_timer\u001b[0m\u001b[0;34m(\u001b[0m\u001b[0;34m*\u001b[0m\u001b[0margs\u001b[0m\u001b[0;34m,\u001b[0m \u001b[0;34m**\u001b[0m\u001b[0mkwargs\u001b[0m\u001b[0;34m)\u001b[0m\u001b[0;34m:\u001b[0m\u001b[0;34m\u001b[0m\u001b[0;34m\u001b[0m\u001b[0m\n\u001b[1;32m      6\u001b[0m         \u001b[0mstart_time\u001b[0m \u001b[0;34m=\u001b[0m \u001b[0mtime\u001b[0m\u001b[0;34m.\u001b[0m\u001b[0mperf_counter\u001b[0m\u001b[0;34m(\u001b[0m\u001b[0;34m)\u001b[0m\u001b[0;34m\u001b[0m\u001b[0;34m\u001b[0m\u001b[0m\n\u001b[0;32m----> 7\u001b[0;31m         \u001b[0mvalue\u001b[0m \u001b[0;34m=\u001b[0m \u001b[0mfunc\u001b[0m\u001b[0;34m(\u001b[0m\u001b[0;34m*\u001b[0m\u001b[0margs\u001b[0m\u001b[0;34m,\u001b[0m \u001b[0;34m**\u001b[0m\u001b[0mkwargs\u001b[0m\u001b[0;34m)\u001b[0m\u001b[0;34m\u001b[0m\u001b[0;34m\u001b[0m\u001b[0m\n\u001b[0m\u001b[1;32m      8\u001b[0m         \u001b[0mend_time\u001b[0m \u001b[0;34m=\u001b[0m \u001b[0mtime\u001b[0m\u001b[0;34m.\u001b[0m\u001b[0mperf_counter\u001b[0m\u001b[0;34m(\u001b[0m\u001b[0;34m)\u001b[0m\u001b[0;34m\u001b[0m\u001b[0;34m\u001b[0m\u001b[0m\n\u001b[1;32m      9\u001b[0m         \u001b[0mrun_time\u001b[0m \u001b[0;34m=\u001b[0m \u001b[0mend_time\u001b[0m \u001b[0;34m-\u001b[0m \u001b[0mstart_time\u001b[0m\u001b[0;34m\u001b[0m\u001b[0;34m\u001b[0m\u001b[0m\n",
      "\u001b[0;32m<ipython-input-53-cea5e0edb8e2>\u001b[0m in \u001b[0;36mget_new_population\u001b[0;34m(df, population)\u001b[0m\n\u001b[1;32m      8\u001b[0m \u001b[0;34m\u001b[0m\u001b[0m\n\u001b[1;32m      9\u001b[0m \u001b[0;34m\u001b[0m\u001b[0m\n\u001b[0;32m---> 10\u001b[0;31m     \u001b[0mparentOneList\u001b[0m \u001b[0;34m=\u001b[0m \u001b[0mtuple\u001b[0m\u001b[0;34m(\u001b[0m\u001b[0;34m[\u001b[0m\u001b[0mselect_parent\u001b[0m\u001b[0;34m(\u001b[0m\u001b[0mdf\u001b[0m\u001b[0;34m,\u001b[0m \u001b[0mpopulation\u001b[0m\u001b[0;34m)\u001b[0m \u001b[0;32mfor\u001b[0m \u001b[0mi\u001b[0m \u001b[0;32min\u001b[0m \u001b[0mivals\u001b[0m\u001b[0;34m]\u001b[0m\u001b[0;34m)\u001b[0m\u001b[0;34m\u001b[0m\u001b[0;34m\u001b[0m\u001b[0m\n\u001b[0m\u001b[1;32m     11\u001b[0m     \u001b[0;31m# parentTwoList = [select_parent(df, population) for i in range(len(population)//2)]\u001b[0m\u001b[0;34m\u001b[0m\u001b[0;34m\u001b[0m\u001b[0;34m\u001b[0m\u001b[0m\n\u001b[1;32m     12\u001b[0m     \u001b[0mparentTwoList\u001b[0m \u001b[0;34m=\u001b[0m \u001b[0mtuple\u001b[0m\u001b[0;34m(\u001b[0m\u001b[0mparentOneList\u001b[0m\u001b[0;34m)\u001b[0m\u001b[0;34m\u001b[0m\u001b[0;34m\u001b[0m\u001b[0m\n",
      "\u001b[0;32m<ipython-input-53-cea5e0edb8e2>\u001b[0m in \u001b[0;36m<listcomp>\u001b[0;34m(.0)\u001b[0m\n\u001b[1;32m      8\u001b[0m \u001b[0;34m\u001b[0m\u001b[0m\n\u001b[1;32m      9\u001b[0m \u001b[0;34m\u001b[0m\u001b[0m\n\u001b[0;32m---> 10\u001b[0;31m     \u001b[0mparentOneList\u001b[0m \u001b[0;34m=\u001b[0m \u001b[0mtuple\u001b[0m\u001b[0;34m(\u001b[0m\u001b[0;34m[\u001b[0m\u001b[0mselect_parent\u001b[0m\u001b[0;34m(\u001b[0m\u001b[0mdf\u001b[0m\u001b[0;34m,\u001b[0m \u001b[0mpopulation\u001b[0m\u001b[0;34m)\u001b[0m \u001b[0;32mfor\u001b[0m \u001b[0mi\u001b[0m \u001b[0;32min\u001b[0m \u001b[0mivals\u001b[0m\u001b[0;34m]\u001b[0m\u001b[0;34m)\u001b[0m\u001b[0;34m\u001b[0m\u001b[0;34m\u001b[0m\u001b[0m\n\u001b[0m\u001b[1;32m     11\u001b[0m     \u001b[0;31m# parentTwoList = [select_parent(df, population) for i in range(len(population)//2)]\u001b[0m\u001b[0;34m\u001b[0m\u001b[0;34m\u001b[0m\u001b[0;34m\u001b[0m\u001b[0m\n\u001b[1;32m     12\u001b[0m     \u001b[0mparentTwoList\u001b[0m \u001b[0;34m=\u001b[0m \u001b[0mtuple\u001b[0m\u001b[0;34m(\u001b[0m\u001b[0mparentOneList\u001b[0m\u001b[0;34m)\u001b[0m\u001b[0;34m\u001b[0m\u001b[0;34m\u001b[0m\u001b[0m\n",
      "\u001b[0;32m<ipython-input-43-dee2f906f234>\u001b[0m in \u001b[0;36mselect_parent\u001b[0;34m(df, population)\u001b[0m\n\u001b[1;32m      3\u001b[0m \u001b[0;34m\u001b[0m\u001b[0m\n\u001b[1;32m      4\u001b[0m     \u001b[0mparents\u001b[0m \u001b[0;34m=\u001b[0m\u001b[0mrandom\u001b[0m\u001b[0;34m.\u001b[0m\u001b[0mchoices\u001b[0m\u001b[0;34m(\u001b[0m\u001b[0mpopulation\u001b[0m\u001b[0;34m,\u001b[0m \u001b[0mk\u001b[0m\u001b[0;34m=\u001b[0m\u001b[0;36m7\u001b[0m\u001b[0;34m)\u001b[0m \u001b[0;31m#k=3 #change from 3 to 7 increased the result a lot\u001b[0m\u001b[0;34m\u001b[0m\u001b[0;34m\u001b[0m\u001b[0m\n\u001b[0;32m----> 5\u001b[0;31m     \u001b[0mcostParents\u001b[0m \u001b[0;34m=\u001b[0m \u001b[0;34m[\u001b[0m\u001b[0mcalculateCost\u001b[0m\u001b[0;34m(\u001b[0m\u001b[0mdf\u001b[0m\u001b[0;34m,\u001b[0m \u001b[0mx\u001b[0m\u001b[0;34m)\u001b[0m \u001b[0;32mfor\u001b[0m \u001b[0mx\u001b[0m \u001b[0;32min\u001b[0m \u001b[0mparents\u001b[0m\u001b[0;34m]\u001b[0m\u001b[0;34m\u001b[0m\u001b[0;34m\u001b[0m\u001b[0m\n\u001b[0m\u001b[1;32m      6\u001b[0m     \u001b[0mparent_indx\u001b[0m \u001b[0;34m=\u001b[0m \u001b[0mcostParents\u001b[0m\u001b[0;34m.\u001b[0m\u001b[0mindex\u001b[0m\u001b[0;34m(\u001b[0m\u001b[0mmin\u001b[0m\u001b[0;34m(\u001b[0m\u001b[0mcostParents\u001b[0m\u001b[0;34m)\u001b[0m\u001b[0;34m)\u001b[0m\u001b[0;34m\u001b[0m\u001b[0;34m\u001b[0m\u001b[0m\n\u001b[1;32m      7\u001b[0m     \u001b[0mselected_parent\u001b[0m \u001b[0;34m=\u001b[0m \u001b[0mparents\u001b[0m\u001b[0;34m[\u001b[0m\u001b[0mparent_indx\u001b[0m\u001b[0;34m]\u001b[0m\u001b[0;34m\u001b[0m\u001b[0;34m\u001b[0m\u001b[0m\n",
      "\u001b[0;32m<ipython-input-43-dee2f906f234>\u001b[0m in \u001b[0;36m<listcomp>\u001b[0;34m(.0)\u001b[0m\n\u001b[1;32m      3\u001b[0m \u001b[0;34m\u001b[0m\u001b[0m\n\u001b[1;32m      4\u001b[0m     \u001b[0mparents\u001b[0m \u001b[0;34m=\u001b[0m\u001b[0mrandom\u001b[0m\u001b[0;34m.\u001b[0m\u001b[0mchoices\u001b[0m\u001b[0;34m(\u001b[0m\u001b[0mpopulation\u001b[0m\u001b[0;34m,\u001b[0m \u001b[0mk\u001b[0m\u001b[0;34m=\u001b[0m\u001b[0;36m7\u001b[0m\u001b[0;34m)\u001b[0m \u001b[0;31m#k=3 #change from 3 to 7 increased the result a lot\u001b[0m\u001b[0;34m\u001b[0m\u001b[0;34m\u001b[0m\u001b[0m\n\u001b[0;32m----> 5\u001b[0;31m     \u001b[0mcostParents\u001b[0m \u001b[0;34m=\u001b[0m \u001b[0;34m[\u001b[0m\u001b[0mcalculateCost\u001b[0m\u001b[0;34m(\u001b[0m\u001b[0mdf\u001b[0m\u001b[0;34m,\u001b[0m \u001b[0mx\u001b[0m\u001b[0;34m)\u001b[0m \u001b[0;32mfor\u001b[0m \u001b[0mx\u001b[0m \u001b[0;32min\u001b[0m \u001b[0mparents\u001b[0m\u001b[0;34m]\u001b[0m\u001b[0;34m\u001b[0m\u001b[0;34m\u001b[0m\u001b[0m\n\u001b[0m\u001b[1;32m      6\u001b[0m     \u001b[0mparent_indx\u001b[0m \u001b[0;34m=\u001b[0m \u001b[0mcostParents\u001b[0m\u001b[0;34m.\u001b[0m\u001b[0mindex\u001b[0m\u001b[0;34m(\u001b[0m\u001b[0mmin\u001b[0m\u001b[0;34m(\u001b[0m\u001b[0mcostParents\u001b[0m\u001b[0;34m)\u001b[0m\u001b[0;34m)\u001b[0m\u001b[0;34m\u001b[0m\u001b[0;34m\u001b[0m\u001b[0m\n\u001b[1;32m      7\u001b[0m     \u001b[0mselected_parent\u001b[0m \u001b[0;34m=\u001b[0m \u001b[0mparents\u001b[0m\u001b[0;34m[\u001b[0m\u001b[0mparent_indx\u001b[0m\u001b[0;34m]\u001b[0m\u001b[0;34m\u001b[0m\u001b[0;34m\u001b[0m\u001b[0m\n",
      "\u001b[0;32m<ipython-input-42-492a76de4bd5>\u001b[0m in \u001b[0;36mcalculateCost\u001b[0;34m(df, individual)\u001b[0m\n\u001b[1;32m      4\u001b[0m     \u001b[0maccumulated_dist\u001b[0m \u001b[0;34m=\u001b[0m \u001b[0;36m0\u001b[0m\u001b[0;34m\u001b[0m\u001b[0;34m\u001b[0m\u001b[0m\n\u001b[1;32m      5\u001b[0m     \u001b[0;32mfor\u001b[0m \u001b[0mi\u001b[0m \u001b[0;32min\u001b[0m \u001b[0mrange\u001b[0m\u001b[0;34m(\u001b[0m\u001b[0mlen\u001b[0m\u001b[0;34m(\u001b[0m\u001b[0mindividual\u001b[0m\u001b[0;34m)\u001b[0m\u001b[0;34m)\u001b[0m\u001b[0;34m:\u001b[0m\u001b[0;34m\u001b[0m\u001b[0;34m\u001b[0m\u001b[0m\n\u001b[0;32m----> 6\u001b[0;31m         \u001b[0mdist\u001b[0m \u001b[0;34m=\u001b[0m \u001b[0mdf\u001b[0m\u001b[0;34m[\u001b[0m\u001b[0mindividual\u001b[0m\u001b[0;34m[\u001b[0m\u001b[0mi\u001b[0m\u001b[0;34m]\u001b[0m\u001b[0;34m]\u001b[0m\u001b[0;34m[\u001b[0m\u001b[0mindividual\u001b[0m\u001b[0;34m[\u001b[0m\u001b[0;34m(\u001b[0m\u001b[0mi\u001b[0m \u001b[0;34m+\u001b[0m \u001b[0;36m1\u001b[0m\u001b[0;34m)\u001b[0m \u001b[0;34m%\u001b[0m \u001b[0mlen\u001b[0m\u001b[0;34m(\u001b[0m\u001b[0mindividual\u001b[0m\u001b[0;34m)\u001b[0m\u001b[0;34m]\u001b[0m\u001b[0;34m]\u001b[0m\u001b[0;34m\u001b[0m\u001b[0;34m\u001b[0m\u001b[0m\n\u001b[0m\u001b[1;32m      7\u001b[0m         \u001b[0maccumulated_dist\u001b[0m \u001b[0;34m+=\u001b[0m \u001b[0mdist\u001b[0m\u001b[0;34m\u001b[0m\u001b[0;34m\u001b[0m\u001b[0m\n\u001b[1;32m      8\u001b[0m \u001b[0;34m\u001b[0m\u001b[0m\n",
      "\u001b[0;32m~/.pyenv/versions/anaconda3-2021.05/lib/python3.8/site-packages/pandas/core/series.py\u001b[0m in \u001b[0;36m__getitem__\u001b[0;34m(self, key)\u001b[0m\n\u001b[1;32m    851\u001b[0m \u001b[0;34m\u001b[0m\u001b[0m\n\u001b[1;32m    852\u001b[0m         \u001b[0;32melif\u001b[0m \u001b[0mkey_is_scalar\u001b[0m\u001b[0;34m:\u001b[0m\u001b[0;34m\u001b[0m\u001b[0;34m\u001b[0m\u001b[0m\n\u001b[0;32m--> 853\u001b[0;31m             \u001b[0;32mreturn\u001b[0m \u001b[0mself\u001b[0m\u001b[0;34m.\u001b[0m\u001b[0m_get_value\u001b[0m\u001b[0;34m(\u001b[0m\u001b[0mkey\u001b[0m\u001b[0;34m)\u001b[0m\u001b[0;34m\u001b[0m\u001b[0;34m\u001b[0m\u001b[0m\n\u001b[0m\u001b[1;32m    854\u001b[0m \u001b[0;34m\u001b[0m\u001b[0m\n\u001b[1;32m    855\u001b[0m         \u001b[0;32mif\u001b[0m \u001b[0mis_hashable\u001b[0m\u001b[0;34m(\u001b[0m\u001b[0mkey\u001b[0m\u001b[0;34m)\u001b[0m\u001b[0;34m:\u001b[0m\u001b[0;34m\u001b[0m\u001b[0;34m\u001b[0m\u001b[0m\n",
      "\u001b[0;32m~/.pyenv/versions/anaconda3-2021.05/lib/python3.8/site-packages/pandas/core/series.py\u001b[0m in \u001b[0;36m_get_value\u001b[0;34m(self, label, takeable)\u001b[0m\n\u001b[1;32m    959\u001b[0m \u001b[0;34m\u001b[0m\u001b[0m\n\u001b[1;32m    960\u001b[0m         \u001b[0;31m# Similar to Index.get_value, but we do not fall back to positional\u001b[0m\u001b[0;34m\u001b[0m\u001b[0;34m\u001b[0m\u001b[0;34m\u001b[0m\u001b[0m\n\u001b[0;32m--> 961\u001b[0;31m         \u001b[0mloc\u001b[0m \u001b[0;34m=\u001b[0m \u001b[0mself\u001b[0m\u001b[0;34m.\u001b[0m\u001b[0mindex\u001b[0m\u001b[0;34m.\u001b[0m\u001b[0mget_loc\u001b[0m\u001b[0;34m(\u001b[0m\u001b[0mlabel\u001b[0m\u001b[0;34m)\u001b[0m\u001b[0;34m\u001b[0m\u001b[0;34m\u001b[0m\u001b[0m\n\u001b[0m\u001b[1;32m    962\u001b[0m         \u001b[0;32mreturn\u001b[0m \u001b[0mself\u001b[0m\u001b[0;34m.\u001b[0m\u001b[0mindex\u001b[0m\u001b[0;34m.\u001b[0m\u001b[0m_get_values_for_loc\u001b[0m\u001b[0;34m(\u001b[0m\u001b[0mself\u001b[0m\u001b[0;34m,\u001b[0m \u001b[0mloc\u001b[0m\u001b[0;34m,\u001b[0m \u001b[0mlabel\u001b[0m\u001b[0;34m)\u001b[0m\u001b[0;34m\u001b[0m\u001b[0;34m\u001b[0m\u001b[0m\n\u001b[1;32m    963\u001b[0m \u001b[0;34m\u001b[0m\u001b[0m\n",
      "\u001b[0;31mKeyboardInterrupt\u001b[0m: "
     ]
    }
   ],
   "source": [
    "number_its = 50\n",
    "avg = []\n",
    "minimum = []\n",
    "for i in range(number_its):\n",
    "    population, costs = get_new_population(df, population)\n",
    "    avg.append(np.mean(costs))\n",
    "    minimum.append(np.min(costs))"
   ]
  },
  {
   "cell_type": "code",
   "execution_count": null,
   "id": "e981cfa6",
   "metadata": {
    "scrolled": false
   },
   "outputs": [],
   "source": [
    "plt.plot(range(len(avg)), avg)\n",
    "plt.plot(range(len(minimum)), minimum)"
   ]
  },
  {
   "cell_type": "code",
   "execution_count": null,
   "id": "a99a75ab",
   "metadata": {},
   "outputs": [],
   "source": [
    "def generate_smart_individual(df, individual):\n",
    "    df_copy = df.copy()\n",
    "\n",
    "    smart_positions = []\n",
    "\n",
    "    positions = random.sample(range(0,size), 2)\n",
    "    pos1 = min(positions[0], positions[1])   #random.randint(0, 9)\n",
    "    pos2 = max(positions[0], positions[1])   #random.randint(0, 9)\n",
    "\n",
    "    pos = [pos1, pos2]\n",
    "    segm = individual[pos1, pos2]\n",
    "    \n",
    "    seg_size = pos2-pos1 + 1\n",
    "    k = 10 \n",
    "    for i in range(size-1):\n",
    "        smart_positions.append(individual[pos1])\n",
    "\n",
    "    # choose 3 near neighbors based on distance\n",
    "        choose_nn = list(df_copy[start].sort_values().index)[1:k]\n",
    "    # randomly choose one among 3\n",
    "        next_stop = random.choice(choose_nn)\n",
    "    # delete the row that was the start\n",
    "        df_copy = df_copy.drop(start)\n",
    "        start = next_stop # now setting the start as next stop\n",
    "\n",
    "# add index of last number\n",
    "    smart_positions.append(int(df_copy.reset_index()[\"index\"]))\n",
    "    return smart_positions"
   ]
  },
  {
   "cell_type": "code",
   "execution_count": null,
   "id": "5a79b032",
   "metadata": {
    "scrolled": true
   },
   "outputs": [],
   "source": [
    "smart_individuals = generate_smart_individual(df, size)"
   ]
  },
  {
   "cell_type": "code",
   "execution_count": null,
   "id": "3604aacf",
   "metadata": {},
   "outputs": [],
   "source": []
  }
 ],
 "metadata": {
  "kernelspec": {
   "display_name": "Python 3",
   "language": "python",
   "name": "python3"
  },
  "language_info": {
   "codemirror_mode": {
    "name": "ipython",
    "version": 3
   },
   "file_extension": ".py",
   "mimetype": "text/x-python",
   "name": "python",
   "nbconvert_exporter": "python",
   "pygments_lexer": "ipython3",
   "version": "3.8.8"
  }
 },
 "nbformat": 4,
 "nbformat_minor": 5
}
