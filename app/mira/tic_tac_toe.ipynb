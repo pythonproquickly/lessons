{
 "cells": [
  {
   "cell_type": "code",
   "execution_count": 1,
   "id": "c91843f1",
   "metadata": {
    "scrolled": true
   },
   "outputs": [
    {
     "ename": "KeyboardInterrupt",
     "evalue": "Interrupted by user",
     "output_type": "error",
     "traceback": [
      "\u001b[0;31m---------------------------------------------------------------------------\u001b[0m",
      "\u001b[0;31mKeyboardInterrupt\u001b[0m                         Traceback (most recent call last)",
      "\u001b[0;32m<ipython-input-1-15f9cb141c1e>\u001b[0m in \u001b[0;36m<module>\u001b[0;34m\u001b[0m\n\u001b[0;32m----> 1\u001b[0;31m \u001b[0mboard_size\u001b[0m \u001b[0;34m=\u001b[0m \u001b[0mint\u001b[0m\u001b[0;34m(\u001b[0m\u001b[0minput\u001b[0m\u001b[0;34m(\u001b[0m\u001b[0;34m\"How many rows do you want in your board?\"\u001b[0m\u001b[0;34m)\u001b[0m\u001b[0;34m)\u001b[0m\u001b[0;34m\u001b[0m\u001b[0;34m\u001b[0m\u001b[0m\n\u001b[0m\u001b[1;32m      2\u001b[0m \u001b[0;34m\u001b[0m\u001b[0m\n\u001b[1;32m      3\u001b[0m \u001b[0mboard\u001b[0m \u001b[0;34m=\u001b[0m \u001b[0;34m[\u001b[0m\u001b[0;34m]\u001b[0m\u001b[0;34m\u001b[0m\u001b[0;34m\u001b[0m\u001b[0m\n\u001b[1;32m      4\u001b[0m \u001b[0;34m\u001b[0m\u001b[0m\n\u001b[1;32m      5\u001b[0m \u001b[0mboard\u001b[0m\u001b[0;34m.\u001b[0m\u001b[0mappend\u001b[0m\u001b[0;34m(\u001b[0m\u001b[0;34m\" \"\u001b[0m \u001b[0;34m+\u001b[0m \u001b[0;34m(\u001b[0m\u001b[0;34m(\u001b[0m\u001b[0;34m\"-\"\u001b[0m \u001b[0;34m*\u001b[0m \u001b[0mboard_size\u001b[0m\u001b[0;34m)\u001b[0m \u001b[0;34m+\u001b[0m \u001b[0;34m\" \"\u001b[0m\u001b[0;34m)\u001b[0m \u001b[0;34m*\u001b[0m \u001b[0mboard_size\u001b[0m\u001b[0;34m)\u001b[0m\u001b[0;34m\u001b[0m\u001b[0;34m\u001b[0m\u001b[0m\n",
      "\u001b[0;32m~/opt/anaconda3/lib/python3.8/site-packages/ipykernel/kernelbase.py\u001b[0m in \u001b[0;36mraw_input\u001b[0;34m(self, prompt)\u001b[0m\n\u001b[1;32m    858\u001b[0m                 \u001b[0;34m\"raw_input was called, but this frontend does not support input requests.\"\u001b[0m\u001b[0;34m\u001b[0m\u001b[0;34m\u001b[0m\u001b[0m\n\u001b[1;32m    859\u001b[0m             )\n\u001b[0;32m--> 860\u001b[0;31m         return self._input_request(str(prompt),\n\u001b[0m\u001b[1;32m    861\u001b[0m             \u001b[0mself\u001b[0m\u001b[0;34m.\u001b[0m\u001b[0m_parent_ident\u001b[0m\u001b[0;34m,\u001b[0m\u001b[0;34m\u001b[0m\u001b[0;34m\u001b[0m\u001b[0m\n\u001b[1;32m    862\u001b[0m             \u001b[0mself\u001b[0m\u001b[0;34m.\u001b[0m\u001b[0m_parent_header\u001b[0m\u001b[0;34m,\u001b[0m\u001b[0;34m\u001b[0m\u001b[0;34m\u001b[0m\u001b[0m\n",
      "\u001b[0;32m~/opt/anaconda3/lib/python3.8/site-packages/ipykernel/kernelbase.py\u001b[0m in \u001b[0;36m_input_request\u001b[0;34m(self, prompt, ident, parent, password)\u001b[0m\n\u001b[1;32m    902\u001b[0m             \u001b[0;32mexcept\u001b[0m \u001b[0mKeyboardInterrupt\u001b[0m\u001b[0;34m:\u001b[0m\u001b[0;34m\u001b[0m\u001b[0;34m\u001b[0m\u001b[0m\n\u001b[1;32m    903\u001b[0m                 \u001b[0;31m# re-raise KeyboardInterrupt, to truncate traceback\u001b[0m\u001b[0;34m\u001b[0m\u001b[0;34m\u001b[0m\u001b[0;34m\u001b[0m\u001b[0m\n\u001b[0;32m--> 904\u001b[0;31m                 \u001b[0;32mraise\u001b[0m \u001b[0mKeyboardInterrupt\u001b[0m\u001b[0;34m(\u001b[0m\u001b[0;34m\"Interrupted by user\"\u001b[0m\u001b[0;34m)\u001b[0m \u001b[0;32mfrom\u001b[0m \u001b[0;32mNone\u001b[0m\u001b[0;34m\u001b[0m\u001b[0;34m\u001b[0m\u001b[0m\n\u001b[0m\u001b[1;32m    905\u001b[0m             \u001b[0;32mexcept\u001b[0m \u001b[0mException\u001b[0m \u001b[0;32mas\u001b[0m \u001b[0me\u001b[0m\u001b[0;34m:\u001b[0m\u001b[0;34m\u001b[0m\u001b[0;34m\u001b[0m\u001b[0m\n\u001b[1;32m    906\u001b[0m                 \u001b[0mself\u001b[0m\u001b[0;34m.\u001b[0m\u001b[0mlog\u001b[0m\u001b[0;34m.\u001b[0m\u001b[0mwarning\u001b[0m\u001b[0;34m(\u001b[0m\u001b[0;34m\"Invalid Message:\"\u001b[0m\u001b[0;34m,\u001b[0m \u001b[0mexc_info\u001b[0m\u001b[0;34m=\u001b[0m\u001b[0;32mTrue\u001b[0m\u001b[0;34m)\u001b[0m\u001b[0;34m\u001b[0m\u001b[0;34m\u001b[0m\u001b[0m\n",
      "\u001b[0;31mKeyboardInterrupt\u001b[0m: Interrupted by user"
     ]
    }
   ],
   "source": [
    "board_size = int(input(\"How many rows do you want in your board?\"))\n",
    "\n",
    "board = []\n",
    "\n",
    "board.append(\" \" + ((\"-\" * board_size) + \" \") * board_size)\n",
    "board.append(((\"|\"  + (\" \" * board_size)) * board_size) + \"|\")\n",
    "\n",
    "for _ in range(board_size):\n",
    "    print(board[0])\n",
    "    print(board[1])\n",
    "\n",
    "print(board[0])\n",
    "\n",
    "\"\"\"for row_number, row in enumerate(board):\n",
    "    if row_number != HEADER:\n",
    "        for _ in range(NUMBER_OF_ROWS):\n",
    "            print(row)\n",
    "    else:\n",
    "        print(row)\"\"\""
   ]
  },
  {
   "cell_type": "code",
   "execution_count": 19,
   "id": "120fd6bc",
   "metadata": {},
   "outputs": [],
   "source": [
    "def check_horizontal(game_grid):\n",
    "    for row in game_grid:\n",
    "        won = True\n",
    "        first_column = row[0]\n",
    "        for column in row:\n",
    "            ux = column.upper()\n",
    "            if ux not in [\"X\",\"O\"]:\n",
    "                print(column)\n",
    "                won = False\n",
    "                break\n",
    "            if column != first_column:\n",
    "                won = False\n",
    "                break\n",
    "        if not won:\n",
    "            continue\n",
    "        return True\n",
    "    return False"
   ]
  },
  {
   "cell_type": "code",
   "execution_count": 20,
   "id": "d4249fc8",
   "metadata": {
    "scrolled": true
   },
   "outputs": [
    {
     "name": "stdout",
     "output_type": "stream",
     "text": [
      " \n",
      " \n"
     ]
    },
    {
     "data": {
      "text/plain": [
       "False"
      ]
     },
     "execution_count": 20,
     "metadata": {},
     "output_type": "execute_result"
    }
   ],
   "source": [
    "check_horizontal([[\"x\",\"X\",\"X\"],\n",
    "              [\" \",\" \",\" \"],\n",
    "              [\" \",\" \",\" \"]\n",
    "             ])"
   ]
  },
  {
   "cell_type": "code",
   "execution_count": 2,
   "id": "e38c087b",
   "metadata": {},
   "outputs": [],
   "source": [
    "def check_vertical(game_grid):\n",
    "    row = 0\n",
    "    max_row = 3\n",
    "    max_column = 3\n",
    "\n",
    "    for column in range(max_column):  \n",
    "        won = True\n",
    "        column_values = []\n",
    "        for row in game_grid:\n",
    "            if row[column] == 0:\n",
    "                won = False\n",
    "                break\n",
    "            if len(column_values) == 0: \n",
    "                column_values.append(row[column])\n",
    "            else:    \n",
    "                if row[column] not in column_values:\n",
    "                    won = False\n",
    "                    break        \n",
    "        if won:        \n",
    "            return True\n",
    "    return False"
   ]
  },
  {
   "cell_type": "code",
   "execution_count": 3,
   "id": "8b30cb77",
   "metadata": {},
   "outputs": [],
   "source": [
    "def check_diagonal(game_grid):\n",
    "    won = True\n",
    "    column_value = game_grid[0][0] \n",
    "    if column_value != 0:\n",
    "        for coordinate in range(1,(len(game_grid) - 1)):\n",
    "            if game_grid[coordinate][coordinate] != column_value:\n",
    "                won = False\n",
    "                break\n",
    "        if won:\n",
    "            return True\n",
    "    \n",
    "    column_value = game_grid[len(game_grid)-1][0] \n",
    "    if column_value != 0:\n",
    "        column = 0\n",
    "        for coordinate in range((len(game_grid) - 2),-1,-1):\n",
    "            column += 1\n",
    "            if game_grid[coordinate][column] != column_value:\n",
    "                return False\n",
    "        return True\n",
    "    else:\n",
    "        return False "
   ]
  },
  {
   "cell_type": "code",
   "execution_count": null,
   "id": "82b17426",
   "metadata": {},
   "outputs": [],
   "source": [
    "game_grid = [[0, 1, 0, 0],\n",
    "             [1, 0, 1, 0],\n",
    "             [2, 2, 0, 0],\n",
    "             [1, 0, 1, 0]]\n",
    "\n",
    "results = []\n",
    "results.append(check_horizontal(game_grid))\n",
    "results.append(check_vertical(game_grid))\n",
    "results.append(check_diagonal(game_grid))\n",
    "\n",
    "if True in results:\n",
    "    print (\"You have won.\")\n",
    "else:\n",
    "    print (\"You have lost.\")"
   ]
  },
  {
   "cell_type": "code",
   "execution_count": null,
   "id": "2beb3e72",
   "metadata": {},
   "outputs": [],
   "source": [
    "lose_three_by_three = [[0, 1, 0],\n",
    "                       [1, 2, 1],\n",
    "                       [2, 2, 0]]\n",
    "game_grids = [\n",
    "              [[0, 1, 0, 0],\n",
    "               [1, 0, 1, 0],\n",
    "               [2, 2, 0, 0],\n",
    "               [1, 0, 1, 0]],\n",
    "              \n",
    "              lose_three_by_three,\n",
    "\n",
    "              [[0, 1, 1],\n",
    "               [1, 0, 1],\n",
    "               [2, 2, 1]],\n",
    "             ]"
   ]
  },
  {
   "cell_type": "code",
   "execution_count": null,
   "id": "d53ac14f",
   "metadata": {},
   "outputs": [],
   "source": [
    "for game_grid in game_grids:\n",
    "    \n",
    "    results = []\n",
    "    results.append(check_horizontal(game_grid))\n",
    "    results.append(check_vertical(game_grid))\n",
    "    results.append(check_diagonal(game_grid))\n",
    "\n",
    "    if True in results:\n",
    "        print (\"You have won.\")\n",
    "    else:\n",
    "        print (\"You have lost.\")"
   ]
  },
  {
   "cell_type": "code",
   "execution_count": 4,
   "id": "7421c338",
   "metadata": {},
   "outputs": [],
   "source": [
    "import random"
   ]
  },
  {
   "cell_type": "code",
   "execution_count": 7,
   "id": "b5dd7049",
   "metadata": {},
   "outputs": [
    {
     "name": "stdout",
     "output_type": "stream",
     "text": [
      "How many rows do you want in your board?3\n",
      " --- --- --- \n",
      "|   |   |   |\n",
      " --- --- --- \n",
      "|   |   |   |\n",
      " --- --- --- \n",
      "|   |   |   |\n",
      " --- --- --- \n",
      "Enter row for Player X:1\n",
      "Enter column for Player X:1\n",
      "[['X', ' ', ' '], [' ', ' ', ' '], [' ', ' ', ' ']]\n",
      "[True, True, True]\n",
      "Player X have won.\n"
     ]
    }
   ],
   "source": [
    "while True:\n",
    "    board_size = int(input(\"How many rows do you want in your board?\"))\n",
    "    if board_size < 3:\n",
    "        print(\"Please choose a board size larger than 2.\")\n",
    "        continue\n",
    "    break\n",
    "\n",
    "board = []\n",
    "\n",
    "board.append(\" \" + ((\"-\" * board_size) + \" \") * board_size)\n",
    "board.append(((\"|\"  + (\" \" * board_size)) * board_size) + \"|\")\n",
    "\n",
    "for _ in range(board_size):\n",
    "    print(board[0])\n",
    "    print(board[1])\n",
    "\n",
    "print(board[0])\n",
    "\n",
    "board_data = [[\" \",\" \",\" \"],\n",
    "              [\" \",\" \",\" \"],\n",
    "              [\" \",\" \",\" \"]\n",
    "             ]\n",
    "\n",
    "def get_player_coordinates(player):\n",
    "    while True: \n",
    "        player_row = int(input(f\"Enter row for Player {player}:\"))\n",
    "        player_column = int(input(f\"Enter column for Player {player}:\"))\n",
    "\n",
    "        if player_row > board_size or player_column > board_size or player_row <= 0 or player_column <= 0:\n",
    "            print(f\"Please choose a row/column between 1 and {board_size}\")\n",
    "            continue\n",
    "        if board_data[player_row - 1][player_column - 1] != \" \":\n",
    "            print(\"This space is already occupied. Choose another space.\")\n",
    "            continue\n",
    "        break\n",
    "        \n",
    "    return player_row, player_column\n",
    "        \n",
    "player = random.choice([\"X\",\"O\"])\n",
    "    \n",
    "results = []    \n",
    "\n",
    "while True:\n",
    "    \n",
    "    row, column = get_player_coordinates(player)\n",
    "    \n",
    "    board_data[row - 1][column - 1] = player\n",
    "    print(board_data)\n",
    "\n",
    "    results.append(check_horizontal(board_data))\n",
    "    results.append(check_vertical(board_data))\n",
    "    results.append(check_diagonal(board_data))\n",
    "    print(results)\n",
    "\n",
    "    if True in results:\n",
    "        print (f\"Player {player} have won.\")\n",
    "        break\n",
    "    \n",
    "    if player == \"X\":\n",
    "        player = \"O\"\n",
    "    else:\n",
    "        player = \"X\""
   ]
  },
  {
   "cell_type": "code",
   "execution_count": 5,
   "id": "3864cb33",
   "metadata": {},
   "outputs": [
    {
     "name": "stdout",
     "output_type": "stream",
     "text": [
      "[[' ', ' ', ' ', ' ', ' '], [' ', ' ', ' ', ' ', ' '], [' ', ' ', ' ', ' ', ' '], [' ', ' ', ' ', ' ', ' '], [' ', ' ', ' ', ' ', ' ']]\n"
     ]
    }
   ],
   "source": [
    "board_size = 5\n",
    "board_data = [[\" \"] * board_size] * board_size\n",
    "print(board_data)"
   ]
  },
  {
   "cell_type": "code",
   "execution_count": 12,
   "id": "bb7eafad",
   "metadata": {},
   "outputs": [
    {
     "ename": "SyntaxError",
     "evalue": "invalid syntax (<ipython-input-12-a63cd66ad437>, line 1)",
     "output_type": "error",
     "traceback": [
      "\u001b[0;36m  File \u001b[0;32m\"<ipython-input-12-a63cd66ad437>\"\u001b[0;36m, line \u001b[0;32m1\u001b[0m\n\u001b[0;31m    print ==(assert \" \")\u001b[0m\n\u001b[0m             ^\u001b[0m\n\u001b[0;31mSyntaxError\u001b[0m\u001b[0;31m:\u001b[0m invalid syntax\n"
     ]
    }
   ],
   "source": [
    "print(assert \" \")"
   ]
  },
  {
   "cell_type": "code",
   "execution_count": 8,
   "id": "20135822",
   "metadata": {},
   "outputs": [
    {
     "name": "stdout",
     "output_type": "stream",
     "text": [
      "X\n"
     ]
    }
   ],
   "source": [
    "var = \"X\"\n",
    "print(var.upper())\n"
   ]
  },
  {
   "cell_type": "code",
   "execution_count": null,
   "id": "82145d21",
   "metadata": {},
   "outputs": [],
   "source": []
  }
 ],
 "metadata": {
  "kernelspec": {
   "display_name": "Python 3 (ipykernel)",
   "language": "python",
   "name": "python3"
  },
  "language_info": {
   "codemirror_mode": {
    "name": "ipython",
    "version": 3
   },
   "file_extension": ".py",
   "mimetype": "text/x-python",
   "name": "python",
   "nbconvert_exporter": "python",
   "pygments_lexer": "ipython3",
   "version": "3.9.7"
  }
 },
 "nbformat": 4,
 "nbformat_minor": 5
}
