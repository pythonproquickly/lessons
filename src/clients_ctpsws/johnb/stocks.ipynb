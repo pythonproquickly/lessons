{
 "cells": [
  {
   "cell_type": "code",
   "execution_count": null,
   "id": "ec6b2b83",
   "metadata": {},
   "outputs": [],
   "source": [
    "import pandas as pd"
   ]
  },
  {
   "cell_type": "code",
   "execution_count": null,
   "id": "f42959c3",
   "metadata": {},
   "outputs": [],
   "source": [
    "index = pd.read_csv(\"/home/app/app/data/johnb/indexData.csv\")"
   ]
  },
  {
   "cell_type": "code",
   "execution_count": null,
   "id": "c514c3d7",
   "metadata": {},
   "outputs": [],
   "source": [
    "index"
   ]
  },
  {
   "cell_type": "code",
   "execution_count": null,
   "id": "f72fc2d5",
   "metadata": {},
   "outputs": [],
   "source": [
    "index.plot(x=\"Date\", y=\"Close\", figsize=(16,10))"
   ]
  },
  {
   "cell_type": "code",
   "execution_count": null,
   "id": "6bec21c2",
   "metadata": {},
   "outputs": [],
   "source": [
    "index['Date'] = pd.to_datetime(index['Date'], format='%Y-%m-%d')"
   ]
  },
  {
   "cell_type": "code",
   "execution_count": null,
   "id": "595a4661",
   "metadata": {},
   "outputs": [],
   "source": [
    "index.plot(x=\"Date\", y=\"Close\", figsize=(16,10), kind=\"line\")"
   ]
  },
  {
   "cell_type": "code",
   "execution_count": null,
   "id": "777397c3",
   "metadata": {},
   "outputs": [],
   "source": []
  }
 ],
 "metadata": {
  "kernelspec": {
   "display_name": "Python 3 (ipykernel)",
   "language": "python",
   "name": "python3"
  },
  "language_info": {
   "codemirror_mode": {
    "name": "ipython",
    "version": 3
   },
   "file_extension": ".py",
   "mimetype": "text/x-python",
   "name": "python",
   "nbconvert_exporter": "python",
   "pygments_lexer": "ipython3",
   "version": "3.9.7"
  }
 },
 "nbformat": 4,
 "nbformat_minor": 5
}
