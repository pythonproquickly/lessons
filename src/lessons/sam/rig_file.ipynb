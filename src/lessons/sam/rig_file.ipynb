{
 "cells": [
  {
   "cell_type": "code",
   "execution_count": 1,
   "id": "fe03714a",
   "metadata": {},
   "outputs": [],
   "source": [
    "ANALYSIS_FILE = \"/Users/andy/ws/lessons/log_summary.csv\"\n",
    "ANALYSIS_FILE_SHORT = \"/Users/andy/ws/lessons/log_summary_short.csv\"\n",
    "count = 0\n",
    "op = open(ANALYSIS_FILE_SHORT, \"w\")\n",
    "with open(ANALYSIS_FILE, \"r\") as f:\n",
    "    while count < 500_000:\n",
    "        op.write(f.readline())\n",
    "        count += 1\n",
    "op.close()"
   ]
  },
  {
   "cell_type": "code",
   "execution_count": null,
   "id": "a86fb563",
   "metadata": {},
   "outputs": [],
   "source": []
  }
 ],
 "metadata": {
  "kernelspec": {
   "display_name": "Python 3.10.6 ('lessons')",
   "language": "python",
   "name": "python3"
  },
  "language_info": {
   "codemirror_mode": {
    "name": "ipython",
    "version": 3
   },
   "file_extension": ".py",
   "mimetype": "text/x-python",
   "name": "python",
   "nbconvert_exporter": "python",
   "pygments_lexer": "ipython3",
   "version": "3.10.6"
  },
  "vscode": {
   "interpreter": {
    "hash": "0354f713e8eb2c1cc0228d64ec2d35c54ed7d2b7711c27b9d8656cbc2c3e7558"
   }
  }
 },
 "nbformat": 4,
 "nbformat_minor": 5
}
