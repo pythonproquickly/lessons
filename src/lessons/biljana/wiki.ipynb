{
 "cells": [
  {
   "cell_type": "code",
   "execution_count": 90,
   "outputs": [],
   "source": [
    "import pandas as pd\n",
    "import json"
   ],
   "metadata": {
    "collapsed": false,
    "pycharm": {
     "name": "#%%\n"
    }
   }
  },
  {
   "cell_type": "code",
   "execution_count": 91,
   "outputs": [],
   "source": [
    "pd.set_option('display.max_rows', None)\n",
    "pd.set_option('display.max_columns', None)\n",
    "pd.set_option('display.width', 1000)\n",
    "pd.set_option('display.colheader_justify', 'center')\n",
    "pd.set_option('display.precision', 3)"
   ],
   "metadata": {
    "collapsed": false,
    "pycharm": {
     "name": "#%%\n"
    }
   }
  },
  {
   "cell_type": "code",
   "execution_count": 93,
   "outputs": [
    {
     "name": "stdout",
     "output_type": "stream",
     "text": [
      "\n",
      "wiki.txt\n",
      "--------\n"
     ]
    },
    {
     "data": {
      "text/plain": "                    id                  actor_objectType    actor_name          actor_mbox                          verb_id                   verb_display_de-DE verb_display_en-US verb_display_es-ES verb_display_fr-FR object_objectType   object_id    object/definition/name\\en-US object/definition/description\\en-US          context_registration                 timestamp                    stored           authority_objectType authority_account_name      authority_account_homePage     version\n0  b8bc1989-0c4e-4b97-bb23-04f90888996b  Agent            Henrik Persson  mailto:hpersson@fake.ji  http://adlnet.gov/expapi/verbs/experienced  erlebte            experienced        experimentó        a éprouvé          Activity          act:wiki-page  Wiki homepage                Wiki page: Wiki homepage            aee9656b-dbd8-4461-a4ce-c8aaf97cb403  2022-04-12T13:28:10.6886Z  2022-04-12T13:28:10.6886Z  Agent                Wiki                   http://wiki.jeffersoneducation.org  1.0.0 ",
      "text/html": "<div>\n<style scoped>\n    .dataframe tbody tr th:only-of-type {\n        vertical-align: middle;\n    }\n\n    .dataframe tbody tr th {\n        vertical-align: top;\n    }\n\n    .dataframe thead th {\n        text-align: right;\n    }\n</style>\n<table border=\"1\" class=\"dataframe\">\n  <thead>\n    <tr style=\"text-align: center;\">\n      <th></th>\n      <th>id</th>\n      <th>actor_objectType</th>\n      <th>actor_name</th>\n      <th>actor_mbox</th>\n      <th>verb_id</th>\n      <th>verb_display_de-DE</th>\n      <th>verb_display_en-US</th>\n      <th>verb_display_es-ES</th>\n      <th>verb_display_fr-FR</th>\n      <th>object_objectType</th>\n      <th>object_id</th>\n      <th>object/definition/name\\en-US</th>\n      <th>object/definition/description\\en-US</th>\n      <th>context_registration</th>\n      <th>timestamp</th>\n      <th>stored</th>\n      <th>authority_objectType</th>\n      <th>authority_account_name</th>\n      <th>authority_account_homePage</th>\n      <th>version</th>\n    </tr>\n  </thead>\n  <tbody>\n    <tr>\n      <th>0</th>\n      <td>b8bc1989-0c4e-4b97-bb23-04f90888996b</td>\n      <td>Agent</td>\n      <td>Henrik Persson</td>\n      <td>mailto:hpersson@fake.ji</td>\n      <td>http://adlnet.gov/expapi/verbs/experienced</td>\n      <td>erlebte</td>\n      <td>experienced</td>\n      <td>experimentó</td>\n      <td>a éprouvé</td>\n      <td>Activity</td>\n      <td>act:wiki-page</td>\n      <td>Wiki homepage</td>\n      <td>Wiki page: Wiki homepage</td>\n      <td>aee9656b-dbd8-4461-a4ce-c8aaf97cb403</td>\n      <td>2022-04-12T13:28:10.6886Z</td>\n      <td>2022-04-12T13:28:10.6886Z</td>\n      <td>Agent</td>\n      <td>Wiki</td>\n      <td>http://wiki.jeffersoneducation.org</td>\n      <td>1.0.0</td>\n    </tr>\n  </tbody>\n</table>\n</div>"
     },
     "metadata": {},
     "output_type": "display_data"
    },
    {
     "name": "stdout",
     "output_type": "stream",
     "text": [
      "\n",
      "\n",
      "exonaut.txt\n",
      "-----------\n"
     ]
    },
    {
     "data": {
      "text/plain": "                    id                  actor_objectType    actor_name           actor_mbox                       verb_id                 verb_display_en-US object_objectType                                                                                                                                             object_id                                                                                                                                                                                                                                                        object/definition/name\\und                                                                                                                       object_definition_type              result_score_raw  result_score_scaled context_team_objectType context/team/account\\name context/team/account\\homePage   context_extensions_parent          timestamp                   stored           authority_objectType authority_account_name  \\\n0  c637b8ec-a0c3-4776-bdf9-3d7b516c5edf  Agent            Urban Forsberg  mailto:uforsberg@fake.ji  http://adlnet.gov/expapi/verbs/scored  scored             Activity          http://jeffersoneducation.org/learners-objectives/2.12.k Sufficiently proficient in written English to produce clear and coherent FRAGO�s/warning orders, situational reports and other written products. Sufficiently proficient in oral English to conduct daily Commander�s update briefings.  2.12.k Sufficiently proficient in written English to produce clear and coherent FRAGO�s/warning orders, situational reports and other written products. Sufficiently proficient in oral English to conduct daily Commander�s update briefings.  http://adlnet.gov/expapi/activities/objective  50                0.5                  Group                   NFOR MCC                  http://jeffersoneducation.org  Conduct ongoing operations  2022-04-03T13:30:00.000Z  2022-04-08T12:51:54.2069Z  Agent                Exonaut                 \n\n        authority_account_homePage       version  \n0  http://Exonaut.jeffersoneducation.org  1.0.0   ",
      "text/html": "<div>\n<style scoped>\n    .dataframe tbody tr th:only-of-type {\n        vertical-align: middle;\n    }\n\n    .dataframe tbody tr th {\n        vertical-align: top;\n    }\n\n    .dataframe thead th {\n        text-align: right;\n    }\n</style>\n<table border=\"1\" class=\"dataframe\">\n  <thead>\n    <tr style=\"text-align: center;\">\n      <th></th>\n      <th>id</th>\n      <th>actor_objectType</th>\n      <th>actor_name</th>\n      <th>actor_mbox</th>\n      <th>verb_id</th>\n      <th>verb_display_en-US</th>\n      <th>object_objectType</th>\n      <th>object_id</th>\n      <th>object/definition/name\\und</th>\n      <th>object_definition_type</th>\n      <th>result_score_raw</th>\n      <th>result_score_scaled</th>\n      <th>context_team_objectType</th>\n      <th>context/team/account\\name</th>\n      <th>context/team/account\\homePage</th>\n      <th>context_extensions_parent</th>\n      <th>timestamp</th>\n      <th>stored</th>\n      <th>authority_objectType</th>\n      <th>authority_account_name</th>\n      <th>authority_account_homePage</th>\n      <th>version</th>\n    </tr>\n  </thead>\n  <tbody>\n    <tr>\n      <th>0</th>\n      <td>c637b8ec-a0c3-4776-bdf9-3d7b516c5edf</td>\n      <td>Agent</td>\n      <td>Urban Forsberg</td>\n      <td>mailto:uforsberg@fake.ji</td>\n      <td>http://adlnet.gov/expapi/verbs/scored</td>\n      <td>scored</td>\n      <td>Activity</td>\n      <td>http://jeffersoneducation.org/learners-objectives/2.12.k Sufficiently proficient in written English to produce clear and coherent FRAGO�s/warning orders, situational reports and other written products. Sufficiently proficient in oral English to conduct daily Commander�s update briefings.</td>\n      <td>2.12.k Sufficiently proficient in written English to produce clear and coherent FRAGO�s/warning orders, situational reports and other written products. Sufficiently proficient in oral English to conduct daily Commander�s update briefings.</td>\n      <td>http://adlnet.gov/expapi/activities/objective</td>\n      <td>50</td>\n      <td>0.5</td>\n      <td>Group</td>\n      <td>NFOR MCC</td>\n      <td>http://jeffersoneducation.org</td>\n      <td>Conduct ongoing operations</td>\n      <td>2022-04-03T13:30:00.000Z</td>\n      <td>2022-04-08T12:51:54.2069Z</td>\n      <td>Agent</td>\n      <td>Exonaut</td>\n      <td>http://Exonaut.jeffersoneducation.org</td>\n      <td>1.0.0</td>\n    </tr>\n  </tbody>\n</table>\n</div>"
     },
     "metadata": {},
     "output_type": "display_data"
    },
    {
     "name": "stdout",
     "output_type": "stream",
     "text": [
      "\n",
      "\n",
      "adl.txt\n",
      "-------\n"
     ]
    },
    {
     "data": {
      "text/plain": "                    id                  actor_objectType    actor_name          actor_mbox                        verb_id                  verb_display_en-US object_objectType                  object_id                     object/definition/name\\und            context_registration          \\\n0  d366caa2-b695-4ab4-a29d-20ebc91b528f  Agent            Tintin Franzen  mailto:tfranzen@fake.ji  http://adlnet.gov/expapi/verbs/launched  launched           Activity          http://nato-crisis-response-operation-nfor  NATO Crisis Response Operation  73c007e4-5dd3-432e-aeda-207acca79033   \n\n                                                                                                                                                                                                                                                                                                                                                           context_contextActivities_parent                                                                                                                                                                                                                                                                                                                                                                          context_contextActivities_grouping                                                               context_contextActivities_category                                                context_language         timestamp                    stored            \\\n0  [{'objectType': 'Activity', 'id': 'https://vikinglearning.org/course/view.php?id=76', 'definition': {'name': {'en-US': 'NATO  Crisis Response Operation'}, 'description': {'en-US': '<p dir=\"ltr\" style=\"text-align: left;\">Mandatory\\r\\ncourse that covers the scenario of Viking 22 from a NATO perspective.</p><p dir=\"ltr\" style=\"text-align: left;\"><img src=\"@@PLUGINFILE@@/mandatory.PNG\" alt=\"\" role=\"presentation\" class=\"img-fluid atto_image_button_middle\" width=\"200\" height=\"86\"><br></p><p dir=\"ltr\" style=\"text-align: left;\">Target audience: TA\\r\\nand EXCON in the NATO structure</p><p dir=\"ltr\" style=\"text-align: left;\">What you will learn: <br></p><ul><li>Scenario</li><li>\\r\\n\\r\\nRoad to Crises</li></ul><p></p>'}}}]  [{'objectType': 'Activity', 'id': 'https://vikinglearning.org'}]  [{'objectType': 'Activity', 'id': 'https://moodle.org', 'definition': {'type': 'http://id.tincanapi.com/activitytype/source'}}]  en               2022-03-31T14:30:25+01:00  2022-03-31T13:30:26.0634Z   \n\n  authority_objectType authority_account_name     authority_account_homePage     version  \n0  Agent                ADL                    http://adl.jeffersoneducation.org  1.0.0   ",
      "text/html": "<div>\n<style scoped>\n    .dataframe tbody tr th:only-of-type {\n        vertical-align: middle;\n    }\n\n    .dataframe tbody tr th {\n        vertical-align: top;\n    }\n\n    .dataframe thead th {\n        text-align: right;\n    }\n</style>\n<table border=\"1\" class=\"dataframe\">\n  <thead>\n    <tr style=\"text-align: center;\">\n      <th></th>\n      <th>id</th>\n      <th>actor_objectType</th>\n      <th>actor_name</th>\n      <th>actor_mbox</th>\n      <th>verb_id</th>\n      <th>verb_display_en-US</th>\n      <th>object_objectType</th>\n      <th>object_id</th>\n      <th>object/definition/name\\und</th>\n      <th>context_registration</th>\n      <th>context_contextActivities_parent</th>\n      <th>context_contextActivities_grouping</th>\n      <th>context_contextActivities_category</th>\n      <th>context_language</th>\n      <th>timestamp</th>\n      <th>stored</th>\n      <th>authority_objectType</th>\n      <th>authority_account_name</th>\n      <th>authority_account_homePage</th>\n      <th>version</th>\n    </tr>\n  </thead>\n  <tbody>\n    <tr>\n      <th>0</th>\n      <td>d366caa2-b695-4ab4-a29d-20ebc91b528f</td>\n      <td>Agent</td>\n      <td>Tintin Franzen</td>\n      <td>mailto:tfranzen@fake.ji</td>\n      <td>http://adlnet.gov/expapi/verbs/launched</td>\n      <td>launched</td>\n      <td>Activity</td>\n      <td>http://nato-crisis-response-operation-nfor</td>\n      <td>NATO Crisis Response Operation</td>\n      <td>73c007e4-5dd3-432e-aeda-207acca79033</td>\n      <td>[{'objectType': 'Activity', 'id': 'https://vikinglearning.org/course/view.php?id=76', 'definition': {'name': {'en-US': 'NATO  Crisis Response Operation'}, 'description': {'en-US': '&lt;p dir=\"ltr\" style=\"text-align: left;\"&gt;Mandatory\\r\\ncourse that covers the scenario of Viking 22 from a NATO perspective.&lt;/p&gt;&lt;p dir=\"ltr\" style=\"text-align: left;\"&gt;&lt;img src=\"@@PLUGINFILE@@/mandatory.PNG\" alt=\"\" role=\"presentation\" class=\"img-fluid atto_image_button_middle\" width=\"200\" height=\"86\"&gt;&lt;br&gt;&lt;/p&gt;&lt;p dir=\"ltr\" style=\"text-align: left;\"&gt;Target audience: TA\\r\\nand EXCON in the NATO structure&lt;/p&gt;&lt;p dir=\"ltr\" style=\"text-align: left;\"&gt;What you will learn: &lt;br&gt;&lt;/p&gt;&lt;ul&gt;&lt;li&gt;Scenario&lt;/li&gt;&lt;li&gt;\\r\\n\\r\\nRoad to Crises&lt;/li&gt;&lt;/ul&gt;&lt;p&gt;&lt;/p&gt;'}}}]</td>\n      <td>[{'objectType': 'Activity', 'id': 'https://vikinglearning.org'}]</td>\n      <td>[{'objectType': 'Activity', 'id': 'https://moodle.org', 'definition': {'type': 'http://id.tincanapi.com/activitytype/source'}}]</td>\n      <td>en</td>\n      <td>2022-03-31T14:30:25+01:00</td>\n      <td>2022-03-31T13:30:26.0634Z</td>\n      <td>Agent</td>\n      <td>ADL</td>\n      <td>http://adl.jeffersoneducation.org</td>\n      <td>1.0.0</td>\n    </tr>\n  </tbody>\n</table>\n</div>"
     },
     "metadata": {},
     "output_type": "display_data"
    },
    {
     "name": "stdout",
     "output_type": "stream",
     "text": [
      "\n"
     ]
    },
    {
     "data": {
      "text/plain": "       0        1          2              3           4         5              6                   7                   8                       9                         10                           11                                 12                                  13                              14                           15                           16                       17                     18                        19                        20                        21                22   \n0  wiki.txt     id  actor_objectType  actor_name  actor_mbox  verb_id  verb_display_de-DE  verb_display_en-US  verb_display_es-ES  verb_display_fr-FR          object_objectType       object_id                         object/definition/name\\en-US        object/definition/description\\en-US  context_registration       timestamp                      stored                     authority_objectType  authority_account_name  authority_account_homePage  version                 None                        None   \n1  exonaut.txt  id  actor_objectType  actor_name  actor_mbox  verb_id  verb_display_en-US  object_objectType   object_id           object/definition/name\\und  object_definition_type  result_score_raw                  result_score_scaled                 context_team_objectType              context/team/account\\name  context/team/account\\homePage  context_extensions_parent  timestamp             stored                  authority_objectType        authority_account_name  authority_account_homePage  version\n2  adl.txt      id  actor_objectType  actor_name  actor_mbox  verb_id  verb_display_en-US  object_objectType   object_id           object/definition/name\\und  context_registration    context_contextActivities_parent  context_contextActivities_grouping  context_contextActivities_category   context_language           timestamp                      stored                     authority_objectType  authority_account_name  authority_account_homePage  version                 None                        None   ",
      "text/html": "<div>\n<style scoped>\n    .dataframe tbody tr th:only-of-type {\n        vertical-align: middle;\n    }\n\n    .dataframe tbody tr th {\n        vertical-align: top;\n    }\n\n    .dataframe thead th {\n        text-align: right;\n    }\n</style>\n<table border=\"1\" class=\"dataframe\">\n  <thead>\n    <tr style=\"text-align: center;\">\n      <th></th>\n      <th>0</th>\n      <th>1</th>\n      <th>2</th>\n      <th>3</th>\n      <th>4</th>\n      <th>5</th>\n      <th>6</th>\n      <th>7</th>\n      <th>8</th>\n      <th>9</th>\n      <th>10</th>\n      <th>11</th>\n      <th>12</th>\n      <th>13</th>\n      <th>14</th>\n      <th>15</th>\n      <th>16</th>\n      <th>17</th>\n      <th>18</th>\n      <th>19</th>\n      <th>20</th>\n      <th>21</th>\n      <th>22</th>\n    </tr>\n  </thead>\n  <tbody>\n    <tr>\n      <th>0</th>\n      <td>wiki.txt</td>\n      <td>id</td>\n      <td>actor_objectType</td>\n      <td>actor_name</td>\n      <td>actor_mbox</td>\n      <td>verb_id</td>\n      <td>verb_display_de-DE</td>\n      <td>verb_display_en-US</td>\n      <td>verb_display_es-ES</td>\n      <td>verb_display_fr-FR</td>\n      <td>object_objectType</td>\n      <td>object_id</td>\n      <td>object/definition/name\\en-US</td>\n      <td>object/definition/description\\en-US</td>\n      <td>context_registration</td>\n      <td>timestamp</td>\n      <td>stored</td>\n      <td>authority_objectType</td>\n      <td>authority_account_name</td>\n      <td>authority_account_homePage</td>\n      <td>version</td>\n      <td>None</td>\n      <td>None</td>\n    </tr>\n    <tr>\n      <th>1</th>\n      <td>exonaut.txt</td>\n      <td>id</td>\n      <td>actor_objectType</td>\n      <td>actor_name</td>\n      <td>actor_mbox</td>\n      <td>verb_id</td>\n      <td>verb_display_en-US</td>\n      <td>object_objectType</td>\n      <td>object_id</td>\n      <td>object/definition/name\\und</td>\n      <td>object_definition_type</td>\n      <td>result_score_raw</td>\n      <td>result_score_scaled</td>\n      <td>context_team_objectType</td>\n      <td>context/team/account\\name</td>\n      <td>context/team/account\\homePage</td>\n      <td>context_extensions_parent</td>\n      <td>timestamp</td>\n      <td>stored</td>\n      <td>authority_objectType</td>\n      <td>authority_account_name</td>\n      <td>authority_account_homePage</td>\n      <td>version</td>\n    </tr>\n    <tr>\n      <th>2</th>\n      <td>adl.txt</td>\n      <td>id</td>\n      <td>actor_objectType</td>\n      <td>actor_name</td>\n      <td>actor_mbox</td>\n      <td>verb_id</td>\n      <td>verb_display_en-US</td>\n      <td>object_objectType</td>\n      <td>object_id</td>\n      <td>object/definition/name\\und</td>\n      <td>context_registration</td>\n      <td>context_contextActivities_parent</td>\n      <td>context_contextActivities_grouping</td>\n      <td>context_contextActivities_category</td>\n      <td>context_language</td>\n      <td>timestamp</td>\n      <td>stored</td>\n      <td>authority_objectType</td>\n      <td>authority_account_name</td>\n      <td>authority_account_homePage</td>\n      <td>version</td>\n      <td>None</td>\n      <td>None</td>\n    </tr>\n  </tbody>\n</table>\n</div>"
     },
     "metadata": {},
     "output_type": "display_data"
    }
   ],
   "source": [
    "FORMATS = ('wiki.txt', 'exonaut.txt', 'adl.txt')\n",
    "metadata = []\n",
    "for format in FORMATS:\n",
    "    json_data = json.loads(open(format).read())\n",
    "    reformated_data = {}\n",
    "    # TODO: this needs a recursive approach\n",
    "    # TODO: also, there are embedded lists to deal with\n",
    "    for key, value in json_data.items():\n",
    "        if isinstance(value, dict):\n",
    "            for ik1, iv1 in value.items():\n",
    "                if isinstance(iv1, dict):\n",
    "                    for ik2, iv2 in iv1.items():\n",
    "                        if isinstance(iv2, dict):\n",
    "                            for ik3, iv3 in iv2.items():\n",
    "                                rows = []\n",
    "                                rows.append(iv3)\n",
    "                                reformated_data[f\"{key}_{ik1}_{ik2}_{ik3}\"] = rows\n",
    "                        else:\n",
    "                            rows = []\n",
    "                            rows.append(iv2)\n",
    "                            reformated_data[f\"{key}_{ik1}_{ik2}\"] = rows\n",
    "                else:\n",
    "                    rows = []\n",
    "                    rows.append(iv1)\n",
    "                    reformated_data[f\"{key}_{ik1}\"] = rows\n",
    "\n",
    "        else:\n",
    "            rows = []\n",
    "            rows.append(value)\n",
    "            reformated_data[key] = rows\n",
    "\n",
    "    print()\n",
    "    print(format)\n",
    "    print(\"-\" * len(format))\n",
    "    parsed = pd.DataFrame(reformated_data)\n",
    "    metadata.append([col for col in parsed.columns])\n",
    "    metadata[-1].insert(0, format)\n",
    "    display(parsed)\n",
    "    print()\n",
    "\n",
    "column_analysis = pd.DataFrame(metadata)\n",
    "display(column_analysis)"
   ],
   "metadata": {
    "collapsed": false,
    "pycharm": {
     "name": "#%%\n"
    }
   }
  },
  {
   "cell_type": "code",
   "execution_count": null,
   "outputs": [],
   "source": [],
   "metadata": {
    "collapsed": false,
    "pycharm": {
     "name": "#%%\n"
    }
   }
  }
 ],
 "metadata": {
  "kernelspec": {
   "display_name": "Python 3",
   "language": "python",
   "name": "python3"
  },
  "language_info": {
   "codemirror_mode": {
    "name": "ipython",
    "version": 2
   },
   "file_extension": ".py",
   "mimetype": "text/x-python",
   "name": "python",
   "nbconvert_exporter": "python",
   "pygments_lexer": "ipython2",
   "version": "2.7.6"
  }
 },
 "nbformat": 4,
 "nbformat_minor": 0
}