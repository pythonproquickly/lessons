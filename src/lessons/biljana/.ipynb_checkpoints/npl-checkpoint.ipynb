{
 "cells": [
  {
   "cell_type": "code",
   "execution_count": 11,
   "metadata": {},
   "outputs": [],
   "source": [
    "# https://www.nltk.org/\n",
    "import nltk"
   ]
  },
  {
   "cell_type": "code",
   "execution_count": 27,
   "metadata": {
    "pycharm": {
     "name": "#%%\n"
    }
   },
   "outputs": [],
   "source": [
    "# pip install pypdf2\n",
    "\n",
    "from PyPDF2 import PdfFileReader\n",
    "from pathlib import Path\n",
    "import os"
   ]
  },
  {
   "cell_type": "raw",
   "metadata": {
    "pycharm": {
     "name": "#%% raw\n"
    }
   },
   "source": [
    "harvest text; for example pdfs"
   ]
  },
  {
   "cell_type": "code",
   "execution_count": null,
   "metadata": {
    "pycharm": {
     "name": "#%%\n"
    }
   },
   "outputs": [],
   "source": [
    "# PATH is input dir. Program recurses on this\n",
    "# OUTPUT_PATH mirrored dir structure of PATH\n",
    "\n",
    "PATH = r\"/home/andy/\"  # use raw string in case it needs to run on windows\n",
    "OUTPUT_PATH = r\"/home/andy/tmp/\"  # due to M$ non standard dir delimiter\n"
   ]
  },
  {
   "cell_type": "code",
   "execution_count": null,
   "metadata": {
    "pycharm": {
     "name": "#%%\n"
    }
   },
   "outputs": [],
   "source": [
    "def replace_bad_characters(filepath):\n",
    "    for character in filepath:\n",
    "        if character in \";:(), '\\\"\":\n",
    "            filepath = filepath.replace(character, \"_\")\n",
    "    return filepath"
   ]
  },
  {
   "cell_type": "code",
   "execution_count": null,
   "metadata": {
    "pycharm": {
     "name": "#%%\n"
    }
   },
   "outputs": [],
   "source": [
    "def extract_information(pdf_path):\n",
    "    doc = []\n",
    "    with open(pdf_path, 'rb') as f:\n",
    "        try:\n",
    "            pdf = PdfFileReader(f)\n",
    "        except:\n",
    "            print(f\"error opening {pdf_path}; can't read\")\n",
    "            return\n",
    "        try:\n",
    "            num_pages = pdf.getNumPages()\n",
    "        except:\n",
    "            print(f\"Can't read {pdf_path}: possibly encrypted\")\n",
    "            return\n",
    "        for page in range(num_pages):\n",
    "            this_page = pdf.getPage(page)\n",
    "            try:\n",
    "                doc.append(this_page.extractText())\n",
    "            except:\n",
    "                print(\n",
    "                    f\"error reading pdf: {pdf_path} name too long or file malformed\")\n",
    "                return\n",
    "    filedir = str(Path(pdf_path).resolve().parent)\n",
    "    filedir = filedir.replace(PATH, OUTPUT_PATH)\n",
    "    filedir = replace_bad_characters(filedir)\n",
    "    try:\n",
    "        os.system(f\"mkdir -p {filedir}\")\n",
    "    except FileExistsError:\n",
    "        pass\n",
    "    new_pdf_path = str(pdf_path)[:-3] + \"txt\"\n",
    "    new_pdf_path = new_pdf_path.replace(PATH, OUTPUT_PATH)\n",
    "    new_pdf_path = replace_bad_characters(new_pdf_path)\n",
    "    try:\n",
    "        with open(new_pdf_path, 'w') as f:\n",
    "            f.writelines(doc)\n",
    "    except FileNotFoundError:\n",
    "        print(f\"can't find file {pdf_path}\")"
   ]
  },
  {
   "cell_type": "code",
   "execution_count": null,
   "metadata": {
    "pycharm": {
     "name": "#%%\n"
    }
   },
   "outputs": [],
   "source": [
    "def getfiles():\n",
    "    paths = []\n",
    "    for filepath in Path(PATH).rglob('*.pdf'):\n",
    "        paths.append(filepath)\n",
    "    return paths"
   ]
  },
  {
   "cell_type": "code",
   "execution_count": null,
   "metadata": {
    "pycharm": {
     "name": "#%%\n"
    }
   },
   "outputs": [],
   "source": [
    "paths = getfiles()\n",
    "for filepath in paths:\n",
    "    extract_information(filepath)"
   ]
  },
  {
   "cell_type": "code",
   "execution_count": null,
   "metadata": {
    "pycharm": {
     "name": "#%%\n"
    }
   },
   "outputs": [],
   "source": []
  },
  {
   "cell_type": "raw",
   "metadata": {
    "pycharm": {
     "name": "#%% raw\n"
    }
   },
   "source": [
    "natural language processing...."
   ]
  },
  {
   "cell_type": "markdown",
   "metadata": {
    "pycharm": {
     "name": "#%% md\n"
    }
   },
   "source": [
    "to enable on your pc run in a terminal:\n",
    "```\n",
    "pip install nltk\n",
    "```\n",
    "and then in an interactive python shell run:\n",
    "\n",
    "```\n",
    "import nltk\n",
    "nltk.download()\n",
    "```"
   ]
  },
  {
   "cell_type": "code",
   "execution_count": 12,
   "metadata": {
    "pycharm": {
     "name": "#%%\n"
    }
   },
   "outputs": [],
   "source": [
    "tokenizer = nltk.data.load(\"tokenizers/punkt/english.pickle\")"
   ]
  },
  {
   "cell_type": "code",
   "execution_count": 13,
   "metadata": {
    "pycharm": {
     "name": "#%%\n"
    }
   },
   "outputs": [],
   "source": [
    "# here the text is hardcoded, This could be read from a text file easily\n",
    "# when delaing with large volumes of text (say more than 500,000 words)\n",
    "# we would use a generator to do the reading\n",
    "\n",
    "text = \"\"\"When we work with text, we can work with text units on different\n",
    "scales: we can work at the level of the document itself, such as a newspaper\n",
    "article; the paragraph, the sentence, or the word. Sentences are the main\n",
    "unit of processing in many NLP tasks. In this section, I will show you how\n",
    "to divide text into sentences.\"\"\"\n",
    "\n",
    "# note special characters above; we'll remove them now\n",
    "special_chars = \"\\n.,:;\"\n",
    "for char in special_chars:\n",
    "    text = text.replace(char, \" \")"
   ]
  },
  {
   "cell_type": "code",
   "execution_count": 14,
   "metadata": {
    "pycharm": {
     "name": "#%%\n"
    }
   },
   "outputs": [
    {
     "name": "stdout",
     "output_type": "stream",
     "text": [
      "['When we work with text  we can work with text units on different scales  we can work at the level of the document itself  such as a newspaper article  the paragraph  the sentence  or the word  Sentences are the main unit of processing in many NLP tasks  In this section  I will show you how to divide text into sentences']\n"
     ]
    }
   ],
   "source": [
    "sentences = tokenizer.tokenize(text)\n",
    "print(sentences)"
   ]
  },
  {
   "cell_type": "code",
   "execution_count": 15,
   "metadata": {
    "pycharm": {
     "name": "#%%\n"
    }
   },
   "outputs": [
    {
     "name": "stdout",
     "output_type": "stream",
     "text": [
      "['When', 'we', 'work', 'with', 'text', 'we', 'can', 'work', 'with', 'text', 'units', 'on', 'different', 'scales', 'we', 'can', 'work', 'at', 'the', 'level', 'of', 'the', 'document', 'itself', 'such', 'as', 'a', 'newspaper', 'article', 'the', 'paragraph', 'the', 'sentence', 'or', 'the', 'word', 'Sentences', 'are', 'the', 'main', 'unit', 'of', 'processing', 'in', 'many', 'NLP', 'tasks', 'In', 'this', 'section', 'I', 'will', 'show', 'you', 'how', 'to', 'divide', 'text', 'into', 'sentences']\n"
     ]
    }
   ],
   "source": [
    "tokens = [nltk.word_tokenize(sentence) for sentence in sentences][0]\n",
    "print(tokens)"
   ]
  },
  {
   "cell_type": "code",
   "execution_count": 16,
   "metadata": {
    "pycharm": {
     "name": "#%%\n"
    }
   },
   "outputs": [
    {
     "data": {
      "text/html": [
       "<div>\n",
       "<style scoped>\n",
       "    .dataframe tbody tr th:only-of-type {\n",
       "        vertical-align: middle;\n",
       "    }\n",
       "\n",
       "    .dataframe tbody tr th {\n",
       "        vertical-align: top;\n",
       "    }\n",
       "\n",
       "    .dataframe thead th {\n",
       "        text-align: right;\n",
       "    }\n",
       "</style>\n",
       "<table border=\"1\" class=\"dataframe\">\n",
       "  <thead>\n",
       "    <tr style=\"text-align: right;\">\n",
       "      <th></th>\n",
       "      <th>index</th>\n",
       "      <th>0</th>\n",
       "    </tr>\n",
       "  </thead>\n",
       "  <tbody>\n",
       "    <tr>\n",
       "      <th>11</th>\n",
       "      <td>the</td>\n",
       "      <td>6</td>\n",
       "    </tr>\n",
       "    <tr>\n",
       "      <th>2</th>\n",
       "      <td>work</td>\n",
       "      <td>3</td>\n",
       "    </tr>\n",
       "    <tr>\n",
       "      <th>1</th>\n",
       "      <td>we</td>\n",
       "      <td>3</td>\n",
       "    </tr>\n",
       "    <tr>\n",
       "      <th>4</th>\n",
       "      <td>text</td>\n",
       "      <td>3</td>\n",
       "    </tr>\n",
       "    <tr>\n",
       "      <th>21</th>\n",
       "      <td>sentence</td>\n",
       "      <td>2</td>\n",
       "    </tr>\n",
       "    <tr>\n",
       "      <th>17</th>\n",
       "      <td>a</td>\n",
       "      <td>2</td>\n",
       "    </tr>\n",
       "    <tr>\n",
       "      <th>13</th>\n",
       "      <td>of</td>\n",
       "      <td>2</td>\n",
       "    </tr>\n",
       "    <tr>\n",
       "      <th>5</th>\n",
       "      <td>can</td>\n",
       "      <td>2</td>\n",
       "    </tr>\n",
       "    <tr>\n",
       "      <th>6</th>\n",
       "      <td>unit</td>\n",
       "      <td>2</td>\n",
       "    </tr>\n",
       "    <tr>\n",
       "      <th>3</th>\n",
       "      <td>with</td>\n",
       "      <td>2</td>\n",
       "    </tr>\n",
       "    <tr>\n",
       "      <th>41</th>\n",
       "      <td>divide</td>\n",
       "      <td>1</td>\n",
       "    </tr>\n",
       "    <tr>\n",
       "      <th>28</th>\n",
       "      <td>in</td>\n",
       "      <td>1</td>\n",
       "    </tr>\n",
       "    <tr>\n",
       "      <th>29</th>\n",
       "      <td>many</td>\n",
       "      <td>1</td>\n",
       "    </tr>\n",
       "    <tr>\n",
       "      <th>30</th>\n",
       "      <td>NLP</td>\n",
       "      <td>1</td>\n",
       "    </tr>\n",
       "    <tr>\n",
       "      <th>31</th>\n",
       "      <td>task</td>\n",
       "      <td>1</td>\n",
       "    </tr>\n",
       "    <tr>\n",
       "      <th>32</th>\n",
       "      <td>In</td>\n",
       "      <td>1</td>\n",
       "    </tr>\n",
       "    <tr>\n",
       "      <th>33</th>\n",
       "      <td>this</td>\n",
       "      <td>1</td>\n",
       "    </tr>\n",
       "    <tr>\n",
       "      <th>34</th>\n",
       "      <td>section</td>\n",
       "      <td>1</td>\n",
       "    </tr>\n",
       "    <tr>\n",
       "      <th>40</th>\n",
       "      <td>to</td>\n",
       "      <td>1</td>\n",
       "    </tr>\n",
       "    <tr>\n",
       "      <th>35</th>\n",
       "      <td>I</td>\n",
       "      <td>1</td>\n",
       "    </tr>\n",
       "    <tr>\n",
       "      <th>36</th>\n",
       "      <td>will</td>\n",
       "      <td>1</td>\n",
       "    </tr>\n",
       "    <tr>\n",
       "      <th>26</th>\n",
       "      <td>main</td>\n",
       "      <td>1</td>\n",
       "    </tr>\n",
       "    <tr>\n",
       "      <th>37</th>\n",
       "      <td>show</td>\n",
       "      <td>1</td>\n",
       "    </tr>\n",
       "    <tr>\n",
       "      <th>38</th>\n",
       "      <td>you</td>\n",
       "      <td>1</td>\n",
       "    </tr>\n",
       "    <tr>\n",
       "      <th>39</th>\n",
       "      <td>how</td>\n",
       "      <td>1</td>\n",
       "    </tr>\n",
       "    <tr>\n",
       "      <th>27</th>\n",
       "      <td>processing</td>\n",
       "      <td>1</td>\n",
       "    </tr>\n",
       "    <tr>\n",
       "      <th>0</th>\n",
       "      <td>When</td>\n",
       "      <td>1</td>\n",
       "    </tr>\n",
       "    <tr>\n",
       "      <th>25</th>\n",
       "      <td>are</td>\n",
       "      <td>1</td>\n",
       "    </tr>\n",
       "    <tr>\n",
       "      <th>24</th>\n",
       "      <td>Sentences</td>\n",
       "      <td>1</td>\n",
       "    </tr>\n",
       "    <tr>\n",
       "      <th>23</th>\n",
       "      <td>word</td>\n",
       "      <td>1</td>\n",
       "    </tr>\n",
       "    <tr>\n",
       "      <th>22</th>\n",
       "      <td>or</td>\n",
       "      <td>1</td>\n",
       "    </tr>\n",
       "    <tr>\n",
       "      <th>20</th>\n",
       "      <td>paragraph</td>\n",
       "      <td>1</td>\n",
       "    </tr>\n",
       "    <tr>\n",
       "      <th>19</th>\n",
       "      <td>article</td>\n",
       "      <td>1</td>\n",
       "    </tr>\n",
       "    <tr>\n",
       "      <th>18</th>\n",
       "      <td>newspaper</td>\n",
       "      <td>1</td>\n",
       "    </tr>\n",
       "    <tr>\n",
       "      <th>16</th>\n",
       "      <td>such</td>\n",
       "      <td>1</td>\n",
       "    </tr>\n",
       "    <tr>\n",
       "      <th>15</th>\n",
       "      <td>itself</td>\n",
       "      <td>1</td>\n",
       "    </tr>\n",
       "    <tr>\n",
       "      <th>14</th>\n",
       "      <td>document</td>\n",
       "      <td>1</td>\n",
       "    </tr>\n",
       "    <tr>\n",
       "      <th>12</th>\n",
       "      <td>level</td>\n",
       "      <td>1</td>\n",
       "    </tr>\n",
       "    <tr>\n",
       "      <th>10</th>\n",
       "      <td>at</td>\n",
       "      <td>1</td>\n",
       "    </tr>\n",
       "    <tr>\n",
       "      <th>9</th>\n",
       "      <td>scale</td>\n",
       "      <td>1</td>\n",
       "    </tr>\n",
       "    <tr>\n",
       "      <th>8</th>\n",
       "      <td>different</td>\n",
       "      <td>1</td>\n",
       "    </tr>\n",
       "    <tr>\n",
       "      <th>7</th>\n",
       "      <td>on</td>\n",
       "      <td>1</td>\n",
       "    </tr>\n",
       "    <tr>\n",
       "      <th>42</th>\n",
       "      <td>into</td>\n",
       "      <td>1</td>\n",
       "    </tr>\n",
       "  </tbody>\n",
       "</table>\n",
       "</div>"
      ],
      "text/plain": [
       "         index  0\n",
       "11         the  6\n",
       "2         work  3\n",
       "1           we  3\n",
       "4         text  3\n",
       "21    sentence  2\n",
       "17           a  2\n",
       "13          of  2\n",
       "5          can  2\n",
       "6         unit  2\n",
       "3         with  2\n",
       "41      divide  1\n",
       "28          in  1\n",
       "29        many  1\n",
       "30         NLP  1\n",
       "31        task  1\n",
       "32          In  1\n",
       "33        this  1\n",
       "34     section  1\n",
       "40          to  1\n",
       "35           I  1\n",
       "36        will  1\n",
       "26        main  1\n",
       "37        show  1\n",
       "38         you  1\n",
       "39         how  1\n",
       "27  processing  1\n",
       "0         When  1\n",
       "25         are  1\n",
       "24   Sentences  1\n",
       "23        word  1\n",
       "22          or  1\n",
       "20   paragraph  1\n",
       "19     article  1\n",
       "18   newspaper  1\n",
       "16        such  1\n",
       "15      itself  1\n",
       "14    document  1\n",
       "12       level  1\n",
       "10          at  1\n",
       "9        scale  1\n",
       "8    different  1\n",
       "7           on  1\n",
       "42        into  1"
      ]
     },
     "execution_count": 16,
     "metadata": {},
     "output_type": "execute_result"
    }
   ],
   "source": [
    "from nltk.stem.wordnet import WordNetLemmatizer\n",
    "from collections import Counter\n",
    "import pandas as pd\n",
    "\n",
    "# find dictionary equivalents\n",
    "\n",
    "lemmatize = WordNetLemmatizer()\n",
    "\n",
    "lemmatized_words = []\n",
    "\n",
    "for word in tokens:\n",
    "    rootWord = lemmatize.lemmatize(word)\n",
    "    lemmatized_words.append(rootWord)\n",
    "\n",
    "counts_lemmatized_words = Counter(lemmatized_words)\n",
    "df_tokenized_lemmatized_words = pd.DataFrame.from_dict(counts_lemmatized_words,\n",
    "                                                       orient=\"index\").reset_index()\n",
    "df_tokenized_lemmatized_words.sort_values(by=0, ascending=False, inplace=True)\n",
    "df_tokenized_lemmatized_words"
   ]
  },
  {
   "cell_type": "code",
   "execution_count": 17,
   "metadata": {
    "pycharm": {
     "name": "#%%\n"
    }
   },
   "outputs": [
    {
     "name": "stdout",
     "output_type": "stream",
     "text": [
      "When:1\n",
      "we:3\n",
      "work:3\n",
      "with:2\n",
      "text:3\n",
      "can:2\n",
      "units:1\n",
      "on:1\n",
      "different:1\n",
      "scales:1\n",
      "at:1\n",
      "the:6\n",
      "level:1\n",
      "of:2\n",
      "document:1\n",
      "itself:1\n",
      "such:1\n",
      "as:1\n",
      "a:1\n",
      "newspaper:1\n",
      "article:1\n",
      "paragraph:1\n",
      "sentence:1\n",
      "or:1\n",
      "word:1\n",
      "Sentences:1\n",
      "are:1\n",
      "main:1\n",
      "unit:1\n",
      "processing:1\n",
      "in:1\n",
      "many:1\n",
      "NLP:1\n",
      "tasks:1\n",
      "In:1\n",
      "this:1\n",
      "section:1\n",
      "I:1\n",
      "will:1\n",
      "show:1\n",
      "you:1\n",
      "how:1\n",
      "to:1\n",
      "divide:1\n",
      "into:1\n",
      "sentences:1\n"
     ]
    }
   ],
   "source": [
    "# Frequencies\n",
    "#\n",
    "freq = nltk.FreqDist(tokens)\n",
    "\n",
    "for key, val in freq.items():\n",
    "    print(str(key) + ':' + str(val))"
   ]
  },
  {
   "cell_type": "code",
   "execution_count": 18,
   "metadata": {
    "pycharm": {
     "name": "#%%\n"
    }
   },
   "outputs": [
    {
     "data": {
      "image/png": "[encoded data removed]",
      "text/plain": [
       "<Figure size 432x288 with 1 Axes>"
      ]
     },
     "metadata": {
      "needs_background": "light"
     },
     "output_type": "display_data"
    },
    {
     "data": {
      "text/plain": [
       "<AxesSubplot:xlabel='Samples', ylabel='Counts'>"
      ]
     },
     "execution_count": 18,
     "metadata": {},
     "output_type": "execute_result"
    }
   ],
   "source": [
    "freq.plot(20, cumulative=False)"
   ]
  },
  {
   "cell_type": "code",
   "execution_count": 19,
   "metadata": {
    "pycharm": {
     "name": "#%%\n"
    }
   },
   "outputs": [
    {
     "name": "stdout",
     "output_type": "stream",
     "text": [
      "[('When', 'WRB'), ('we', 'PRP'), ('work', 'VBP'), ('with', 'IN'), ('text', 'NN'), ('we', 'PRP'), ('can', 'MD'), ('work', 'VB'), ('with', 'IN'), ('text', 'JJ'), ('units', 'NNS'), ('on', 'IN'), ('different', 'JJ'), ('scales', 'NNS'), ('we', 'PRP'), ('can', 'MD'), ('work', 'VB'), ('at', 'IN'), ('the', 'DT'), ('level', 'NN'), ('of', 'IN'), ('the', 'DT'), ('document', 'NN'), ('itself', 'PRP'), ('such', 'JJ'), ('as', 'IN'), ('a', 'DT'), ('newspaper', 'NN'), ('article', 'NN'), ('the', 'DT'), ('paragraph', 'NN'), ('the', 'DT'), ('sentence', 'NN'), ('or', 'CC'), ('the', 'DT'), ('word', 'NN'), ('Sentences', 'NNS'), ('are', 'VBP'), ('the', 'DT'), ('main', 'JJ'), ('unit', 'NN'), ('of', 'IN'), ('processing', 'VBG'), ('in', 'IN'), ('many', 'JJ'), ('NLP', 'NNP'), ('tasks', 'NNS'), ('In', 'IN'), ('this', 'DT'), ('section', 'NN'), ('I', 'PRP'), ('will', 'MD'), ('show', 'VB'), ('you', 'PRP'), ('how', 'WRB'), ('to', 'TO'), ('divide', 'VB'), ('text', 'NN'), ('into', 'IN'), ('sentences', 'NNS')]\n"
     ]
    }
   ],
   "source": [
    "# lets do some parts of speech tagging. Notice the classification\n",
    "\n",
    "for sentence in sentences:\n",
    "    tagged = nltk.pos_tag(tokens)\n",
    "print(tagged)"
   ]
  },
  {
   "cell_type": "code",
   "execution_count": 20,
   "metadata": {
    "pycharm": {
     "name": "#%%\n"
    }
   },
   "outputs": [],
   "source": [
    "# pip install svgling\n",
    "import svgling"
   ]
  },
  {
   "cell_type": "code",
   "execution_count": 28,
   "metadata": {
    "pycharm": {
     "name": "#%%\n"
    }
   },
   "outputs": [],
   "source": [
    "entities = nltk.chunk.ne_chunk(tagged[20:35])"
   ]
  },
  {
   "cell_type": "code",
   "execution_count": 29,
   "metadata": {
    "pycharm": {
     "name": "#%%\n"
    }
   },
   "outputs": [
    {
     "data": {
      "image/svg+xml": [
       "<svg baseProfile=\"full\" height=\"120px\" preserveAspectRatio=\"xMidYMid meet\" style=\"font-family: times, serif; font-weight:normal; font-style: normal; font-size: 16px;\" version=\"1.1\" viewBox=\"0,0,808.0,120.0\" width=\"808px\" xmlns=\"http://www.w3.org/2000/svg\" xmlns:ev=\"http://www.w3.org/2001/xml-events\" xmlns:xlink=\"http://www.w3.org/1999/xlink\"><defs /><svg width=\"100%\" x=\"0\" y=\"0em\"><defs /><text text-anchor=\"middle\" x=\"50%\" y=\"1em\">S</text></svg><svg width=\"3.9604%\" x=\"0%\" y=\"3em\"><defs /><svg width=\"100%\" x=\"0\" y=\"0em\"><defs /><text text-anchor=\"middle\" x=\"50%\" y=\"1em\">of</text></svg><svg width=\"100%\" x=\"0%\" y=\"3em\"><defs /><svg width=\"100%\" x=\"0\" y=\"0em\"><defs /><text text-anchor=\"middle\" x=\"50%\" y=\"1em\">IN</text></svg></svg><line stroke=\"black\" x1=\"50%\" x2=\"50%\" y1=\"1.2em\" y2=\"3em\" /></svg><line stroke=\"black\" x1=\"50%\" x2=\"1.9802%\" y1=\"1.2em\" y2=\"3em\" /><svg width=\"4.9505%\" x=\"3.9604%\" y=\"3em\"><defs /><svg width=\"100%\" x=\"0\" y=\"0em\"><defs /><text text-anchor=\"middle\" x=\"50%\" y=\"1em\">the</text></svg><svg width=\"100%\" x=\"0%\" y=\"3em\"><defs /><svg width=\"100%\" x=\"0\" y=\"0em\"><defs /><text text-anchor=\"middle\" x=\"50%\" y=\"1em\">DT</text></svg></svg><line stroke=\"black\" x1=\"50%\" x2=\"50%\" y1=\"1.2em\" y2=\"3em\" /></svg><line stroke=\"black\" x1=\"50%\" x2=\"6.43564%\" y1=\"1.2em\" y2=\"3em\" /><svg width=\"9.90099%\" x=\"8.91089%\" y=\"3em\"><defs /><svg width=\"100%\" x=\"0\" y=\"0em\"><defs /><text text-anchor=\"middle\" x=\"50%\" y=\"1em\">document</text></svg><svg width=\"100%\" x=\"0%\" y=\"3em\"><defs /><svg width=\"100%\" x=\"0\" y=\"0em\"><defs /><text text-anchor=\"middle\" x=\"50%\" y=\"1em\">NN</text></svg></svg><line stroke=\"black\" x1=\"50%\" x2=\"50%\" y1=\"1.2em\" y2=\"3em\" /></svg><line stroke=\"black\" x1=\"50%\" x2=\"13.8614%\" y1=\"1.2em\" y2=\"3em\" /><svg width=\"7.92079%\" x=\"18.8119%\" y=\"3em\"><defs /><svg width=\"100%\" x=\"0\" y=\"0em\"><defs /><text text-anchor=\"middle\" x=\"50%\" y=\"1em\">itself</text></svg><svg width=\"100%\" x=\"0%\" y=\"3em\"><defs /><svg width=\"100%\" x=\"0\" y=\"0em\"><defs /><text text-anchor=\"middle\" x=\"50%\" y=\"1em\">PRP</text></svg></svg><line stroke=\"black\" x1=\"50%\" x2=\"50%\" y1=\"1.2em\" y2=\"3em\" /></svg><line stroke=\"black\" x1=\"50%\" x2=\"22.7723%\" y1=\"1.2em\" y2=\"3em\" /><svg width=\"5.94059%\" x=\"26.7327%\" y=\"3em\"><defs /><svg width=\"100%\" x=\"0\" y=\"0em\"><defs /><text text-anchor=\"middle\" x=\"50%\" y=\"1em\">such</text></svg><svg width=\"100%\" x=\"0%\" y=\"3em\"><defs /><svg width=\"100%\" x=\"0\" y=\"0em\"><defs /><text text-anchor=\"middle\" x=\"50%\" y=\"1em\">JJ</text></svg></svg><line stroke=\"black\" x1=\"50%\" x2=\"50%\" y1=\"1.2em\" y2=\"3em\" /></svg><line stroke=\"black\" x1=\"50%\" x2=\"29.703%\" y1=\"1.2em\" y2=\"3em\" /><svg width=\"3.9604%\" x=\"32.6733%\" y=\"3em\"><defs /><svg width=\"100%\" x=\"0\" y=\"0em\"><defs /><text text-anchor=\"middle\" x=\"50%\" y=\"1em\">as</text></svg><svg width=\"100%\" x=\"0%\" y=\"3em\"><defs /><svg width=\"100%\" x=\"0\" y=\"0em\"><defs /><text text-anchor=\"middle\" x=\"50%\" y=\"1em\">IN</text></svg></svg><line stroke=\"black\" x1=\"50%\" x2=\"50%\" y1=\"1.2em\" y2=\"3em\" /></svg><line stroke=\"black\" x1=\"50%\" x2=\"34.6535%\" y1=\"1.2em\" y2=\"3em\" /><svg width=\"3.9604%\" x=\"36.6337%\" y=\"3em\"><defs /><svg width=\"100%\" x=\"0\" y=\"0em\"><defs /><text text-anchor=\"middle\" x=\"50%\" y=\"1em\">a</text></svg><svg width=\"100%\" x=\"0%\" y=\"3em\"><defs /><svg width=\"100%\" x=\"0\" y=\"0em\"><defs /><text text-anchor=\"middle\" x=\"50%\" y=\"1em\">DT</text></svg></svg><line stroke=\"black\" x1=\"50%\" x2=\"50%\" y1=\"1.2em\" y2=\"3em\" /></svg><line stroke=\"black\" x1=\"50%\" x2=\"38.6139%\" y1=\"1.2em\" y2=\"3em\" /><svg width=\"10.8911%\" x=\"40.5941%\" y=\"3em\"><defs /><svg width=\"100%\" x=\"0\" y=\"0em\"><defs /><text text-anchor=\"middle\" x=\"50%\" y=\"1em\">newspaper</text></svg><svg width=\"100%\" x=\"0%\" y=\"3em\"><defs /><svg width=\"100%\" x=\"0\" y=\"0em\"><defs /><text text-anchor=\"middle\" x=\"50%\" y=\"1em\">NN</text></svg></svg><line stroke=\"black\" x1=\"50%\" x2=\"50%\" y1=\"1.2em\" y2=\"3em\" /></svg><line stroke=\"black\" x1=\"50%\" x2=\"46.0396%\" y1=\"1.2em\" y2=\"3em\" /><svg width=\"8.91089%\" x=\"51.4851%\" y=\"3em\"><defs /><svg width=\"100%\" x=\"0\" y=\"0em\"><defs /><text text-anchor=\"middle\" x=\"50%\" y=\"1em\">article</text></svg><svg width=\"100%\" x=\"0%\" y=\"3em\"><defs /><svg width=\"100%\" x=\"0\" y=\"0em\"><defs /><text text-anchor=\"middle\" x=\"50%\" y=\"1em\">NN</text></svg></svg><line stroke=\"black\" x1=\"50%\" x2=\"50%\" y1=\"1.2em\" y2=\"3em\" /></svg><line stroke=\"black\" x1=\"50%\" x2=\"55.9406%\" y1=\"1.2em\" y2=\"3em\" /><svg width=\"4.9505%\" x=\"60.396%\" y=\"3em\"><defs /><svg width=\"100%\" x=\"0\" y=\"0em\"><defs /><text text-anchor=\"middle\" x=\"50%\" y=\"1em\">the</text></svg><svg width=\"100%\" x=\"0%\" y=\"3em\"><defs /><svg width=\"100%\" x=\"0\" y=\"0em\"><defs /><text text-anchor=\"middle\" x=\"50%\" y=\"1em\">DT</text></svg></svg><line stroke=\"black\" x1=\"50%\" x2=\"50%\" y1=\"1.2em\" y2=\"3em\" /></svg><line stroke=\"black\" x1=\"50%\" x2=\"62.8713%\" y1=\"1.2em\" y2=\"3em\" /><svg width=\"10.8911%\" x=\"65.3465%\" y=\"3em\"><defs /><svg width=\"100%\" x=\"0\" y=\"0em\"><defs /><text text-anchor=\"middle\" x=\"50%\" y=\"1em\">paragraph</text></svg><svg width=\"100%\" x=\"0%\" y=\"3em\"><defs /><svg width=\"100%\" x=\"0\" y=\"0em\"><defs /><text text-anchor=\"middle\" x=\"50%\" y=\"1em\">NN</text></svg></svg><line stroke=\"black\" x1=\"50%\" x2=\"50%\" y1=\"1.2em\" y2=\"3em\" /></svg><line stroke=\"black\" x1=\"50%\" x2=\"70.7921%\" y1=\"1.2em\" y2=\"3em\" /><svg width=\"4.9505%\" x=\"76.2376%\" y=\"3em\"><defs /><svg width=\"100%\" x=\"0\" y=\"0em\"><defs /><text text-anchor=\"middle\" x=\"50%\" y=\"1em\">the</text></svg><svg width=\"100%\" x=\"0%\" y=\"3em\"><defs /><svg width=\"100%\" x=\"0\" y=\"0em\"><defs /><text text-anchor=\"middle\" x=\"50%\" y=\"1em\">DT</text></svg></svg><line stroke=\"black\" x1=\"50%\" x2=\"50%\" y1=\"1.2em\" y2=\"3em\" /></svg><line stroke=\"black\" x1=\"50%\" x2=\"78.7129%\" y1=\"1.2em\" y2=\"3em\" /><svg width=\"9.90099%\" x=\"81.1881%\" y=\"3em\"><defs /><svg width=\"100%\" x=\"0\" y=\"0em\"><defs /><text text-anchor=\"middle\" x=\"50%\" y=\"1em\">sentence</text></svg><svg width=\"100%\" x=\"0%\" y=\"3em\"><defs /><svg width=\"100%\" x=\"0\" y=\"0em\"><defs /><text text-anchor=\"middle\" x=\"50%\" y=\"1em\">NN</text></svg></svg><line stroke=\"black\" x1=\"50%\" x2=\"50%\" y1=\"1.2em\" y2=\"3em\" /></svg><line stroke=\"black\" x1=\"50%\" x2=\"86.1386%\" y1=\"1.2em\" y2=\"3em\" /><svg width=\"3.9604%\" x=\"91.0891%\" y=\"3em\"><defs /><svg width=\"100%\" x=\"0\" y=\"0em\"><defs /><text text-anchor=\"middle\" x=\"50%\" y=\"1em\">or</text></svg><svg width=\"100%\" x=\"0%\" y=\"3em\"><defs /><svg width=\"100%\" x=\"0\" y=\"0em\"><defs /><text text-anchor=\"middle\" x=\"50%\" y=\"1em\">CC</text></svg></svg><line stroke=\"black\" x1=\"50%\" x2=\"50%\" y1=\"1.2em\" y2=\"3em\" /></svg><line stroke=\"black\" x1=\"50%\" x2=\"93.0693%\" y1=\"1.2em\" y2=\"3em\" /><svg width=\"4.9505%\" x=\"95.0495%\" y=\"3em\"><defs /><svg width=\"100%\" x=\"0\" y=\"0em\"><defs /><text text-anchor=\"middle\" x=\"50%\" y=\"1em\">the</text></svg><svg width=\"100%\" x=\"0%\" y=\"3em\"><defs /><svg width=\"100%\" x=\"0\" y=\"0em\"><defs /><text text-anchor=\"middle\" x=\"50%\" y=\"1em\">DT</text></svg></svg><line stroke=\"black\" x1=\"50%\" x2=\"50%\" y1=\"1.2em\" y2=\"3em\" /></svg><line stroke=\"black\" x1=\"50%\" x2=\"97.5248%\" y1=\"1.2em\" y2=\"3em\" /></svg>"
      ],
      "text/plain": [
       "Tree('S', [('of', 'IN'), ('the', 'DT'), ('document', 'NN'), ('itself', 'PRP'), ('such', 'JJ'), ('as', 'IN'), ('a', 'DT'), ('newspaper', 'NN'), ('article', 'NN'), ('the', 'DT'), ('paragraph', 'NN'), ('the', 'DT'), ('sentence', 'NN'), ('or', 'CC'), ('the', 'DT')])"
      ]
     },
     "execution_count": 29,
     "metadata": {},
     "output_type": "execute_result"
    }
   ],
   "source": [
    "entities"
   ]
  },
  {
   "cell_type": "code",
   "execution_count": null,
   "metadata": {
    "pycharm": {
     "name": "#%%\n"
    }
   },
   "outputs": [],
   "source": []
  }
 ],
 "metadata": {
  "kernelspec": {
   "display_name": "Python 3 (ipykernel)",
   "language": "python",
   "name": "python3"
  },
  "language_info": {
   "codemirror_mode": {
    "name": "ipython",
    "version": 3
   },
   "file_extension": ".py",
   "mimetype": "text/x-python",
   "name": "python",
   "nbconvert_exporter": "python",
   "pygments_lexer": "ipython3",
   "version": "3.10.2"
  }
 },
 "nbformat": 4,
 "nbformat_minor": 1
}
