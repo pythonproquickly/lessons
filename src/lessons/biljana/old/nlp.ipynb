{
 "cells": [
  {
   "cell_type": "code",
   "execution_count": null,
   "metadata": {},
   "outputs": [],
   "source": [
    "# https://www.nltk.org/\n",
    "import nltk"
   ]
  },
  {
   "cell_type": "code",
   "execution_count": null,
   "metadata": {
    "pycharm": {
     "name": "#%%\n"
    }
   },
   "outputs": [],
   "source": [
    "# pip install pypdf2\n",
    "\n",
    "from PyPDF2 import PdfFileReader\n",
    "from pathlib import Path\n",
    "import os"
   ]
  },
  {
   "cell_type": "raw",
   "metadata": {
    "pycharm": {
     "name": "#%% raw\n"
    }
   },
   "source": [
    "harvest text; for example pdfs"
   ]
  },
  {
   "cell_type": "code",
   "execution_count": null,
   "metadata": {
    "pycharm": {
     "name": "#%%\n"
    }
   },
   "outputs": [],
   "source": [
    "# PATH is input dir. Program recurses on this\n",
    "# OUTPUT_PATH mirrored dir structure of PATH\n",
    "\n",
    "PATH = r\"/home/andy/\"  # use raw string in case it needs to run on windows\n",
    "OUTPUT_PATH = r\"/home/andy/tmp/\"  # due to M$ non standard dir delimiter\n"
   ]
  },
  {
   "cell_type": "code",
   "execution_count": null,
   "metadata": {
    "pycharm": {
     "name": "#%%\n"
    }
   },
   "outputs": [],
   "source": [
    "def replace_bad_characters(filepath):\n",
    "    for character in filepath:\n",
    "        if character in \";:(), '\\\"\":\n",
    "            filepath = filepath.replace(character, \"_\")\n",
    "    return filepath"
   ]
  },
  {
   "cell_type": "code",
   "execution_count": null,
   "metadata": {
    "pycharm": {
     "name": "#%%\n"
    }
   },
   "outputs": [],
   "source": [
    "def extract_information(pdf_path):\n",
    "    doc = []\n",
    "    with open(pdf_path, 'rb') as f:\n",
    "        try:\n",
    "            pdf = PdfFileReader(f)\n",
    "        except:\n",
    "            print(f\"error opening {pdf_path}; can't read\")\n",
    "            return\n",
    "        try:\n",
    "            num_pages = pdf.getNumPages()\n",
    "        except:\n",
    "            print(f\"Can't read {pdf_path}: possibly encrypted\")\n",
    "            return\n",
    "        for page in range(num_pages):\n",
    "            this_page = pdf.getPage(page)\n",
    "            try:\n",
    "                doc.append(this_page.extractText())\n",
    "            except:\n",
    "                print(\n",
    "                    f\"error reading pdf: {pdf_path} name too long or file malformed\")\n",
    "                return\n",
    "    filedir = str(Path(pdf_path).resolve().parent)\n",
    "    filedir = filedir.replace(PATH, OUTPUT_PATH)\n",
    "    filedir = replace_bad_characters(filedir)\n",
    "    try:\n",
    "        os.system(f\"mkdir -p {filedir}\")\n",
    "    except FileExistsError:\n",
    "        pass\n",
    "    new_pdf_path = str(pdf_path)[:-3] + \"txt\"\n",
    "    new_pdf_path = new_pdf_path.replace(PATH, OUTPUT_PATH)\n",
    "    new_pdf_path = replace_bad_characters(new_pdf_path)\n",
    "    try:\n",
    "        with open(new_pdf_path, 'w') as f:\n",
    "            f.writelines(doc)\n",
    "    except FileNotFoundError:\n",
    "        print(f\"can't find file {pdf_path}\")"
   ]
  },
  {
   "cell_type": "code",
   "execution_count": null,
   "metadata": {
    "pycharm": {
     "name": "#%%\n"
    }
   },
   "outputs": [],
   "source": [
    "def getfiles():\n",
    "    paths = []\n",
    "    for filepath in Path(PATH).rglob('*.pdf'):\n",
    "        paths.append(filepath)\n",
    "    return paths"
   ]
  },
  {
   "cell_type": "code",
   "execution_count": null,
   "metadata": {
    "pycharm": {
     "name": "#%%\n"
    }
   },
   "outputs": [],
   "source": [
    "paths = getfiles()\n",
    "for filepath in paths:\n",
    "    extract_information(filepath)"
   ]
  },
  {
   "cell_type": "code",
   "execution_count": null,
   "metadata": {
    "pycharm": {
     "name": "#%%\n"
    }
   },
   "outputs": [],
   "source": []
  },
  {
   "cell_type": "raw",
   "metadata": {
    "pycharm": {
     "name": "#%% raw\n"
    }
   },
   "source": [
    "natural language processing...."
   ]
  },
  {
   "cell_type": "markdown",
   "metadata": {
    "pycharm": {
     "name": "#%% md\n"
    }
   },
   "source": [
    "to enable on your pc run in a terminal:\n",
    "```\n",
    "pip install nltk\n",
    "```\n",
    "and then in an interactive python shell run:\n",
    "\n",
    "```\n",
    "import nltk\n",
    "nltk.download()\n",
    "```"
   ]
  },
  {
   "cell_type": "code",
   "execution_count": null,
   "metadata": {},
   "outputs": [],
   "source": []
  },
  {
   "cell_type": "code",
   "execution_count": null,
   "metadata": {
    "pycharm": {
     "name": "#%%\n"
    }
   },
   "outputs": [],
   "source": [
    "tokenizer = nltk.data.load(\"tokenizers/punkt/english.pickle\")"
   ]
  },
  {
   "cell_type": "code",
   "execution_count": null,
   "metadata": {
    "pycharm": {
     "name": "#%%\n"
    }
   },
   "outputs": [],
   "source": [
    "# here the text is hardcoded, This could be read from a text file easily\n",
    "# when delaing with large volumes of text (say more than 500,000 words)\n",
    "# we would use a generator to do the reading\n",
    "\n",
    "text = \"\"\"When we work with text, we can work with text units on different\n",
    "scales: we can work at the level of the document itself, such as a newspaper\n",
    "article; the paragraph, the sentence, or the word. Sentences are the main\n",
    "unit of processing in many NLP tasks. In this section, I will show you how\n",
    "to divide text into sentences.\"\"\"\n",
    "\n",
    "# note special characters above; we'll remove them now\n",
    "special_chars = \"\\n.,:;\"\n",
    "for char in special_chars:\n",
    "    text = text.replace(char, \" \")"
   ]
  },
  {
   "cell_type": "code",
   "execution_count": null,
   "metadata": {
    "pycharm": {
     "name": "#%%\n"
    }
   },
   "outputs": [],
   "source": [
    "sentences = tokenizer.tokenize(text)\n",
    "print(sentences)"
   ]
  },
  {
   "cell_type": "code",
   "execution_count": null,
   "metadata": {
    "pycharm": {
     "name": "#%%\n"
    }
   },
   "outputs": [],
   "source": [
    "tokens = [nltk.word_tokenize(sentence) for sentence in sentences][0]\n",
    "print(tokens)"
   ]
  },
  {
   "cell_type": "code",
   "execution_count": null,
   "metadata": {
    "pycharm": {
     "name": "#%%\n"
    }
   },
   "outputs": [],
   "source": [
    "from nltk.stem.wordnet import WordNetLemmatizer\n",
    "from collections import Counter\n",
    "import pandas as pd\n",
    "\n",
    "# find dictionary equivalents\n",
    "\n",
    "lemmatize = WordNetLemmatizer()\n",
    "\n",
    "lemmatized_words = []\n",
    "\n",
    "for word in tokens:\n",
    "    rootWord = lemmatize.lemmatize(word)\n",
    "    lemmatized_words.append(rootWord)\n",
    "\n",
    "counts_lemmatized_words = Counter(lemmatized_words)\n",
    "df_tokenized_lemmatized_words = pd.DataFrame.from_dict(counts_lemmatized_words,\n",
    "                                                       orient=\"index\").reset_index()\n",
    "df_tokenized_lemmatized_words.sort_values(by=0, ascending=False, inplace=True)\n",
    "df_tokenized_lemmatized_words"
   ]
  },
  {
   "cell_type": "code",
   "execution_count": null,
   "metadata": {
    "pycharm": {
     "name": "#%%\n"
    }
   },
   "outputs": [],
   "source": [
    "# Frequencies\n",
    "#\n",
    "freq = nltk.FreqDist(tokens)\n",
    "\n",
    "for key, val in freq.items():\n",
    "    print(str(key) + ':' + str(val))"
   ]
  },
  {
   "cell_type": "code",
   "execution_count": null,
   "metadata": {
    "pycharm": {
     "name": "#%%\n"
    }
   },
   "outputs": [],
   "source": [
    "freq.plot(20, cumulative=False)"
   ]
  },
  {
   "cell_type": "code",
   "execution_count": null,
   "metadata": {
    "pycharm": {
     "name": "#%%\n"
    }
   },
   "outputs": [],
   "source": [
    "# lets do some parts of speech tagging. Notice the classification\n",
    "\n",
    "for sentence in sentences:\n",
    "    tagged = nltk.pos_tag(tokens)\n",
    "print(tagged)"
   ]
  },
  {
   "cell_type": "code",
   "execution_count": null,
   "metadata": {
    "pycharm": {
     "name": "#%%\n"
    }
   },
   "outputs": [],
   "source": [
    "# pip install svgling\n",
    "import svgling"
   ]
  },
  {
   "cell_type": "code",
   "execution_count": null,
   "metadata": {
    "pycharm": {
     "name": "#%%\n"
    }
   },
   "outputs": [],
   "source": [
    "entities = nltk.chunk.ne_chunk(tagged[20:35])"
   ]
  },
  {
   "cell_type": "code",
   "execution_count": null,
   "metadata": {
    "pycharm": {
     "name": "#%%\n"
    }
   },
   "outputs": [],
   "source": [
    "entities"
   ]
  },
  {
   "cell_type": "code",
   "execution_count": null,
   "metadata": {
    "pycharm": {
     "name": "#%%\n"
    }
   },
   "outputs": [],
   "source": []
  }
 ],
 "metadata": {
  "kernelspec": {
   "display_name": "Python 3 (ipykernel)",
   "language": "python",
   "name": "python3"
  },
  "language_info": {
   "codemirror_mode": {
    "name": "ipython",
    "version": 3
   },
   "file_extension": ".py",
   "mimetype": "text/x-python",
   "name": "python",
   "nbconvert_exporter": "python",
   "pygments_lexer": "ipython3",
   "version": "3.10.2"
  }
 },
 "nbformat": 4,
 "nbformat_minor": 1
}