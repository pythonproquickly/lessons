{
 "cells": [
  {
   "cell_type": "code",
   "execution_count": 41,
   "outputs": [],
   "source": [
    "import pandas as pd\n",
    "import json\n",
    "import pathlib\n",
    "from loguru import logger"
   ],
   "metadata": {
    "collapsed": false,
    "pycharm": {
     "name": "#%%\n"
    }
   }
  },
  {
   "cell_type": "code",
   "execution_count": 42,
   "outputs": [],
   "source": [
    "pd.set_option('display.max_rows', None)\n",
    "pd.set_option('display.max_columns', None)\n",
    "pd.set_option('display.width', 1000)\n",
    "pd.set_option('display.colheader_justify', 'center')\n",
    "pd.set_option('display.precision', 3)"
   ],
   "metadata": {
    "collapsed": false,
    "pycharm": {
     "name": "#%%\n"
    }
   }
  },
  {
   "cell_type": "code",
   "execution_count": 43,
   "outputs": [],
   "source": [
    "FILE_TYPE = \"*.txt\"\n",
    "PATH = \"/Users/andy/ws/ctpsws-clients/lessons/src/lessons/biljana\"\n",
    "\n",
    "\n",
    "def getfiles():\n",
    "    return [filepath for filepath in pathlib.Path(PATH).rglob(FILE_TYPE)]"
   ],
   "metadata": {
    "collapsed": false,
    "pycharm": {
     "name": "#%%\n"
    }
   }
  },
  {
   "cell_type": "code",
   "execution_count": 44,
   "outputs": [
    {
     "name": "stderr",
     "output_type": "stream",
     "text": [
      "2022-05-01 09:53:18.254 | INFO     | __main__:<cell line: 3>:4 - /Users/andy/ws/ctpsws-clients/lessons/src/lessons/biljana/wiki.txt\n",
      "2022-05-01 09:53:18.256 | INFO     | __main__:<cell line: 3>:4 - /Users/andy/ws/ctpsws-clients/lessons/src/lessons/biljana/exonaut.txt\n",
      "2022-05-01 09:53:18.258 | INFO     | __main__:<cell line: 3>:4 - /Users/andy/ws/ctpsws-clients/lessons/src/lessons/biljana/adl.txt\n"
     ]
    }
   ],
   "source": [
    "json_formats = getfiles()\n",
    "metadata = {}\n",
    "for json_format in json_formats:\n",
    "    logger.info(json_format)\n",
    "    json_data = json.loads(open(json_format).read())\n",
    "    reformatted_data = {}\n",
    "    # TODO: this needs a recursive approach\n",
    "    for key, value in json_data.items():\n",
    "        if isinstance(value, list):\n",
    "            if len(value) > 1:\n",
    "                raise ValueError\n",
    "            value = value[0]\n",
    "        if isinstance(value, dict):\n",
    "            for ik1, iv1 in value.items():\n",
    "                if isinstance(iv1, list):\n",
    "                    if len(iv1) > 1:\n",
    "                        raise ValueError\n",
    "                    iv1 = iv1[0]\n",
    "                if isinstance(iv1, dict):\n",
    "                    for ik2, iv2 in iv1.items():\n",
    "                        if isinstance(iv2, list):\n",
    "                            if len(iv2) > 1:\n",
    "                                raise ValueError\n",
    "                            iv2 = iv2[0]\n",
    "                        if isinstance(iv2, dict):\n",
    "                            for ik3, iv3 in iv2.items():\n",
    "                                if isinstance(iv3, list):\n",
    "                                    if len(iv3) > 1:\n",
    "                                        raise ValueError\n",
    "                                    iv3 = iv3[0]\n",
    "                                if isinstance(iv3, dict):\n",
    "                                    for ik4, iv4 in iv3.items():\n",
    "                                        if isinstance(iv4, list):\n",
    "                                            if len(iv4) > 1:\n",
    "                                                raise ValueError\n",
    "                                            iv4 = iv4[0]\n",
    "                                        rows = []\n",
    "                                        rows.append(iv4)\n",
    "                                        reformatted_data[\n",
    "                                            f\"{key}_{ik1}_{ik2}_{ik3}_{ik4}\"] = rows\n",
    "                                else:\n",
    "                                    rows = []\n",
    "                                    rows.append(iv3)\n",
    "                                    reformatted_data[\n",
    "                                        f\"{key}_{ik1}_{ik2}_{ik3}\"] = rows\n",
    "                        else:\n",
    "                            rows = []\n",
    "                            rows.append(iv2)\n",
    "                            reformatted_data[f\"{key}_{ik1}_{ik2}\"] = rows\n",
    "                else:\n",
    "                    rows = []\n",
    "                    rows.append(iv1)\n",
    "                    reformatted_data[f\"{key}_{ik1}\"] = rows\n",
    "\n",
    "        else:\n",
    "            rows = []\n",
    "            rows.append(value)\n",
    "            reformatted_data[key] = rows\n",
    "\n",
    "    parsed = pd.DataFrame(reformatted_data)\n",
    "    for col in parsed.columns:\n",
    "        if col not in metadata:\n",
    "            metadata[col] = []\n",
    "        metadata[col].append(json_format.name)\n",
    "\n",
    "for key, value in metadata.items():\n",
    "    if len(value) < 3:\n",
    "        for _ in range(3 - len(value)):\n",
    "            metadata[key].append(None)\n",
    "metadata = pd.DataFrame(metadata)\n",
    "metadata.to_excel('xref.xlsx', index=False)"
   ],
   "metadata": {
    "collapsed": false,
    "pycharm": {
     "name": "#%%\n"
    }
   }
  },
  {
   "cell_type": "code",
   "execution_count": 44,
   "outputs": [],
   "source": [],
   "metadata": {
    "collapsed": false,
    "pycharm": {
     "name": "#%%\n"
    }
   }
  }
 ],
 "metadata": {
  "kernelspec": {
   "display_name": "Python 3",
   "language": "python",
   "name": "python3"
  },
  "language_info": {
   "codemirror_mode": {
    "name": "ipython",
    "version": 2
   },
   "file_extension": ".py",
   "mimetype": "text/x-python",
   "name": "python",
   "nbconvert_exporter": "python",
   "pygments_lexer": "ipython2",
   "version": "2.7.6"
  }
 },
 "nbformat": 4,
 "nbformat_minor": 0
}