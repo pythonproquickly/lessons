{
 "cells": [
  {
   "cell_type": "code",
   "execution_count": 24,
   "id": "0de4af7a",
   "metadata": {},
   "outputs": [],
   "source": [
    "#1simple list\n",
    "import nltk"
   ]
  },
  {
   "cell_type": "code",
   "execution_count": 25,
   "id": "57442e1f",
   "metadata": {},
   "outputs": [],
   "source": [
    "def get_words(url):\n",
    "    import requests\n",
    "    words = requests.get(url).content.decode('latin-1')\n",
    "    word_list = words.split('\\n')\n",
    "    index = 0\n",
    "    while index < len(word_list):\n",
    "        word = word_list[index]\n",
    "        if ';' in word or not word:\n",
    "            word_list.pop(index)\n",
    "        else:\n",
    "            index+=1\n",
    "    return word_list\n",
    "\n",
    "#Get lists of positive and negative words\n",
    "p_url = 'http://ptrckprry.com/course/ssd/data/positive-words.txt'\n",
    "n_url = 'http://ptrckprry.com/course/ssd/data/negative-words.txt'\n",
    "positive_words = get_words(p_url)\n",
    "negative_words = get_words(n_url)"
   ]
  },
  {
   "cell_type": "code",
   "execution_count": 26,
   "id": "c2bf2398",
   "metadata": {},
   "outputs": [],
   "source": [
    "with open('data/community.txt','r') as f:\n",
    "    community = f.read()\n",
    "with open('data/le_monde.txt','r') as f:\n",
    "    le_monde = f.read()"
   ]
  },
  {
   "cell_type": "code",
   "execution_count": 31,
   "id": "359c0992",
   "metadata": {},
   "outputs": [
    {
     "name": "stdout",
     "output_type": "stream",
     "text": [
      "community 5.65%\t 1.22%\t 4.43%\n",
      "le monde  4.89%\t 2.00%\t 2.89%\n"
     ]
    }
   ],
   "source": [
    "import pandas as pd\n",
    "from nltk import word_tokenize\n",
    "cpos = cneg = lpos = lneg = 0\n",
    "sentiments = dict()\n",
    "sentiments[\"community\"]= dict()\n",
    "sentiments[\"le_monde\"]= dict()\n",
    "sentiments[\"community\"][\"positive\"]= 0\n",
    "sentiments[\"le_monde\"][\"positive\"]= 0\n",
    "sentiments[\"community\"][\"negative\"]= 0\n",
    "sentiments[\"le_monde\"][\"negative\"]= 0\n",
    "for word in word_tokenize(community):\n",
    "    if word in positive_words:\n",
    "        cpos+=1\n",
    " \n",
    "    if word in negative_words:\n",
    "        cneg+=1\n",
    "        \n",
    "for word in word_tokenize(le_monde):\n",
    "    if word in positive_words:\n",
    "        lpos+=1\n",
    "            \n",
    "    if word in negative_words:\n",
    "        lneg+=1\n",
    "             \n",
    "print(\"community {0:1.2f}%\\t {1:1.2f}%\\t {2:1.2f}%\".format(cpos/len(word_tokenize(community))*100,\n",
    "                                                        cneg/len(word_tokenize(community))*100,\n",
    "                                                        (cpos-cneg)/len(word_tokenize(community))*100))\n",
    "print(\"le monde  {0:1.2f}%\\t {1:1.2f}%\\t {2:1.2f}%\".format(lpos/len(word_tokenize(le_monde))*100,\n",
    "                                                        lneg/len(word_tokenize(le_monde))*100,\n",
    "                                                        (lpos-lneg)/len(word_tokenize(le_monde))*100))\n",
    "sentiments[\"community\"][\"positive\"] = cpos\n",
    "sentiments[\"community\"][\"negative\"] = cneg \n",
    "sentiments[\"le_monde\"][\"positive\"] = lpos\n",
    "sentiments[\"le_monde\"][\"negative\"] = lneg"
   ]
  },
  {
   "cell_type": "code",
   "execution_count": 32,
   "id": "1d0306af",
   "metadata": {},
   "outputs": [
    {
     "data": {
      "text/plain": [
       "{'community': {'positive': 209, 'negative': 45},\n",
       " 'le_monde': {'positive': 127, 'negative': 52}}"
      ]
     },
     "execution_count": 32,
     "metadata": {},
     "output_type": "execute_result"
    }
   ],
   "source": [
    "sentiments"
   ]
  },
  {
   "cell_type": "code",
   "execution_count": 38,
   "id": "a4ce2f39",
   "metadata": {},
   "outputs": [],
   "source": [
    "sentiments=pd.DataFrame(sentiments).transpose()"
   ]
  },
  {
   "cell_type": "code",
   "execution_count": 39,
   "id": "33fe245e",
   "metadata": {},
   "outputs": [
    {
     "data": {
      "text/html": [
       "<div>\n",
       "<style scoped>\n",
       "    .dataframe tbody tr th:only-of-type {\n",
       "        vertical-align: middle;\n",
       "    }\n",
       "\n",
       "    .dataframe tbody tr th {\n",
       "        vertical-align: top;\n",
       "    }\n",
       "\n",
       "    .dataframe thead th {\n",
       "        text-align: right;\n",
       "    }\n",
       "</style>\n",
       "<table border=\"1\" class=\"dataframe\">\n",
       "  <thead>\n",
       "    <tr style=\"text-align: right;\">\n",
       "      <th></th>\n",
       "      <th>positive</th>\n",
       "      <th>negative</th>\n",
       "    </tr>\n",
       "  </thead>\n",
       "  <tbody>\n",
       "    <tr>\n",
       "      <th>community</th>\n",
       "      <td>209</td>\n",
       "      <td>45</td>\n",
       "    </tr>\n",
       "    <tr>\n",
       "      <th>le_monde</th>\n",
       "      <td>127</td>\n",
       "      <td>52</td>\n",
       "    </tr>\n",
       "  </tbody>\n",
       "</table>\n",
       "</div>"
      ],
      "text/plain": [
       "           positive  negative\n",
       "community       209        45\n",
       "le_monde        127        52"
      ]
     },
     "execution_count": 39,
     "metadata": {},
     "output_type": "execute_result"
    }
   ],
   "source": [
    "sentiments"
   ]
  },
  {
   "cell_type": "code",
   "execution_count": null,
   "id": "4975d9fa",
   "metadata": {},
   "outputs": [],
   "source": []
  }
 ],
 "metadata": {
  "kernelspec": {
   "display_name": "Python 3 (ipykernel)",
   "language": "python",
   "name": "python3"
  },
  "language_info": {
   "codemirror_mode": {
    "name": "ipython",
    "version": 3
   },
   "file_extension": ".py",
   "mimetype": "text/x-python",
   "name": "python",
   "nbconvert_exporter": "python",
   "pygments_lexer": "ipython3",
   "version": "3.10.3"
  }
 },
 "nbformat": 4,
 "nbformat_minor": 5
}
