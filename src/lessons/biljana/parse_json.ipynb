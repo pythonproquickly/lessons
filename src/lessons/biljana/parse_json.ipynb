{
 "cells": [
  {
   "cell_type": "code",
   "execution_count": null,
   "metadata": {
    "collapsed": true,
    "pycharm": {
     "name": "#%%\n"
    }
   },
   "outputs": [],
   "source": [
    "\n",
    "DASHES = 5\n",
    "\n",
    "with open('statements.txt', 'r') as jf:\n",
    "    content = [line.strip() for line in jf]\n",
    "\n",
    "json_data = []\n",
    "for line in content:\n",
    "    if line in FORMATS:\n",
    "        if line[:DASHES] == \"-\" * DASHES:\n",
    "            json_data.append([])\n",
    "        continue\n",
    "    json_data[-1].append(line)\n"
   ]
  },
  {
   "cell_type": "code",
   "execution_count": 1,
   "outputs": [
    {
     "data": {
      "text/plain": "                                              id                    actor  \\\nobjectType  b8bc1989-0c4e-4b97-bb23-04f90888996b                    Agent   \nname        b8bc1989-0c4e-4b97-bb23-04f90888996b           Henrik Persson   \nmbox        b8bc1989-0c4e-4b97-bb23-04f90888996b  mailto:hpersson@fake.ji   \nid          b8bc1989-0c4e-4b97-bb23-04f90888996b                      NaN   \ndisplay     b8bc1989-0c4e-4b97-bb23-04f90888996b                      NaN   \n\n                                                         verb         object  \\\nobjectType                                                NaN       Activity   \nname                                                      NaN            NaN   \nmbox                                                      NaN            NaN   \nid                 http://adlnet.gov/expapi/verbs/experienced  act:wiki-page   \ndisplay     {'de-DE': 'erlebte', 'en-US': 'experienced', '...            NaN   \n\n           context                        timestamp  \\\nobjectType     NaN 2022-04-12 13:28:10.688600+00:00   \nname           NaN 2022-04-12 13:28:10.688600+00:00   \nmbox           NaN 2022-04-12 13:28:10.688600+00:00   \nid             NaN 2022-04-12 13:28:10.688600+00:00   \ndisplay        NaN 2022-04-12 13:28:10.688600+00:00   \n\n                               stored authority version  \nobjectType  2022-04-12T13:28:10.6886Z     Agent   1.0.0  \nname        2022-04-12T13:28:10.6886Z       NaN   1.0.0  \nmbox        2022-04-12T13:28:10.6886Z       NaN   1.0.0  \nid          2022-04-12T13:28:10.6886Z       NaN   1.0.0  \ndisplay     2022-04-12T13:28:10.6886Z       NaN   1.0.0  ",
      "text/html": "<div>\n<style scoped>\n    .dataframe tbody tr th:only-of-type {\n        vertical-align: middle;\n    }\n\n    .dataframe tbody tr th {\n        vertical-align: top;\n    }\n\n    .dataframe thead th {\n        text-align: right;\n    }\n</style>\n<table border=\"1\" class=\"dataframe\">\n  <thead>\n    <tr style=\"text-align: right;\">\n      <th></th>\n      <th>id</th>\n      <th>actor</th>\n      <th>verb</th>\n      <th>object</th>\n      <th>context</th>\n      <th>timestamp</th>\n      <th>stored</th>\n      <th>authority</th>\n      <th>version</th>\n    </tr>\n  </thead>\n  <tbody>\n    <tr>\n      <th>objectType</th>\n      <td>b8bc1989-0c4e-4b97-bb23-04f90888996b</td>\n      <td>Agent</td>\n      <td>NaN</td>\n      <td>Activity</td>\n      <td>NaN</td>\n      <td>2022-04-12 13:28:10.688600+00:00</td>\n      <td>2022-04-12T13:28:10.6886Z</td>\n      <td>Agent</td>\n      <td>1.0.0</td>\n    </tr>\n    <tr>\n      <th>name</th>\n      <td>b8bc1989-0c4e-4b97-bb23-04f90888996b</td>\n      <td>Henrik Persson</td>\n      <td>NaN</td>\n      <td>NaN</td>\n      <td>NaN</td>\n      <td>2022-04-12 13:28:10.688600+00:00</td>\n      <td>2022-04-12T13:28:10.6886Z</td>\n      <td>NaN</td>\n      <td>1.0.0</td>\n    </tr>\n    <tr>\n      <th>mbox</th>\n      <td>b8bc1989-0c4e-4b97-bb23-04f90888996b</td>\n      <td>mailto:hpersson@fake.ji</td>\n      <td>NaN</td>\n      <td>NaN</td>\n      <td>NaN</td>\n      <td>2022-04-12 13:28:10.688600+00:00</td>\n      <td>2022-04-12T13:28:10.6886Z</td>\n      <td>NaN</td>\n      <td>1.0.0</td>\n    </tr>\n    <tr>\n      <th>id</th>\n      <td>b8bc1989-0c4e-4b97-bb23-04f90888996b</td>\n      <td>NaN</td>\n      <td>http://adlnet.gov/expapi/verbs/experienced</td>\n      <td>act:wiki-page</td>\n      <td>NaN</td>\n      <td>2022-04-12 13:28:10.688600+00:00</td>\n      <td>2022-04-12T13:28:10.6886Z</td>\n      <td>NaN</td>\n      <td>1.0.0</td>\n    </tr>\n    <tr>\n      <th>display</th>\n      <td>b8bc1989-0c4e-4b97-bb23-04f90888996b</td>\n      <td>NaN</td>\n      <td>{'de-DE': 'erlebte', 'en-US': 'experienced', '...</td>\n      <td>NaN</td>\n      <td>NaN</td>\n      <td>2022-04-12 13:28:10.688600+00:00</td>\n      <td>2022-04-12T13:28:10.6886Z</td>\n      <td>NaN</td>\n      <td>1.0.0</td>\n    </tr>\n  </tbody>\n</table>\n</div>"
     },
     "execution_count": 1,
     "metadata": {},
     "output_type": "execute_result"
    }
   ],
   "source": [
    "import pandas as pd\n",
    "wiki = pd.read_json('wiki.txt')\n",
    "wiki.head()\n"
   ],
   "metadata": {
    "collapsed": false,
    "pycharm": {
     "name": "#%%\n"
    }
   }
  },
  {
   "cell_type": "code",
   "execution_count": 2,
   "outputs": [
    {
     "data": {
      "text/plain": "                                              id                    actor  \\\nobjectType  b8bc1989-0c4e-4b97-bb23-04f90888996b                    Agent   \nname        b8bc1989-0c4e-4b97-bb23-04f90888996b           Henrik Persson   \nmbox        b8bc1989-0c4e-4b97-bb23-04f90888996b  mailto:hpersson@fake.ji   \nid          b8bc1989-0c4e-4b97-bb23-04f90888996b                      NaN   \ndisplay     b8bc1989-0c4e-4b97-bb23-04f90888996b                      NaN   \n\n                                                         verb         object  \\\nobjectType                                                NaN       Activity   \nname                                                      NaN            NaN   \nmbox                                                      NaN            NaN   \nid                 http://adlnet.gov/expapi/verbs/experienced  act:wiki-page   \ndisplay     {'de-DE': 'erlebte', 'en-US': 'experienced', '...            NaN   \n\n           context                        timestamp  \\\nobjectType     NaN 2022-04-12 13:28:10.688600+00:00   \nname           NaN 2022-04-12 13:28:10.688600+00:00   \nmbox           NaN 2022-04-12 13:28:10.688600+00:00   \nid             NaN 2022-04-12 13:28:10.688600+00:00   \ndisplay        NaN 2022-04-12 13:28:10.688600+00:00   \n\n                               stored authority version  \nobjectType  2022-04-12T13:28:10.6886Z     Agent   1.0.0  \nname        2022-04-12T13:28:10.6886Z       NaN   1.0.0  \nmbox        2022-04-12T13:28:10.6886Z       NaN   1.0.0  \nid          2022-04-12T13:28:10.6886Z       NaN   1.0.0  \ndisplay     2022-04-12T13:28:10.6886Z       NaN   1.0.0  ",
      "text/html": "<div>\n<style scoped>\n    .dataframe tbody tr th:only-of-type {\n        vertical-align: middle;\n    }\n\n    .dataframe tbody tr th {\n        vertical-align: top;\n    }\n\n    .dataframe thead th {\n        text-align: right;\n    }\n</style>\n<table border=\"1\" class=\"dataframe\">\n  <thead>\n    <tr style=\"text-align: right;\">\n      <th></th>\n      <th>id</th>\n      <th>actor</th>\n      <th>verb</th>\n      <th>object</th>\n      <th>context</th>\n      <th>timestamp</th>\n      <th>stored</th>\n      <th>authority</th>\n      <th>version</th>\n    </tr>\n  </thead>\n  <tbody>\n    <tr>\n      <th>objectType</th>\n      <td>b8bc1989-0c4e-4b97-bb23-04f90888996b</td>\n      <td>Agent</td>\n      <td>NaN</td>\n      <td>Activity</td>\n      <td>NaN</td>\n      <td>2022-04-12 13:28:10.688600+00:00</td>\n      <td>2022-04-12T13:28:10.6886Z</td>\n      <td>Agent</td>\n      <td>1.0.0</td>\n    </tr>\n    <tr>\n      <th>name</th>\n      <td>b8bc1989-0c4e-4b97-bb23-04f90888996b</td>\n      <td>Henrik Persson</td>\n      <td>NaN</td>\n      <td>NaN</td>\n      <td>NaN</td>\n      <td>2022-04-12 13:28:10.688600+00:00</td>\n      <td>2022-04-12T13:28:10.6886Z</td>\n      <td>NaN</td>\n      <td>1.0.0</td>\n    </tr>\n    <tr>\n      <th>mbox</th>\n      <td>b8bc1989-0c4e-4b97-bb23-04f90888996b</td>\n      <td>mailto:hpersson@fake.ji</td>\n      <td>NaN</td>\n      <td>NaN</td>\n      <td>NaN</td>\n      <td>2022-04-12 13:28:10.688600+00:00</td>\n      <td>2022-04-12T13:28:10.6886Z</td>\n      <td>NaN</td>\n      <td>1.0.0</td>\n    </tr>\n    <tr>\n      <th>id</th>\n      <td>b8bc1989-0c4e-4b97-bb23-04f90888996b</td>\n      <td>NaN</td>\n      <td>http://adlnet.gov/expapi/verbs/experienced</td>\n      <td>act:wiki-page</td>\n      <td>NaN</td>\n      <td>2022-04-12 13:28:10.688600+00:00</td>\n      <td>2022-04-12T13:28:10.6886Z</td>\n      <td>NaN</td>\n      <td>1.0.0</td>\n    </tr>\n    <tr>\n      <th>display</th>\n      <td>b8bc1989-0c4e-4b97-bb23-04f90888996b</td>\n      <td>NaN</td>\n      <td>{'de-DE': 'erlebte', 'en-US': 'experienced', '...</td>\n      <td>NaN</td>\n      <td>NaN</td>\n      <td>2022-04-12 13:28:10.688600+00:00</td>\n      <td>2022-04-12T13:28:10.6886Z</td>\n      <td>NaN</td>\n      <td>1.0.0</td>\n    </tr>\n  </tbody>\n</table>\n</div>"
     },
     "execution_count": 2,
     "metadata": {},
     "output_type": "execute_result"
    }
   ],
   "source": [
    "wiki = pd.read_json('wiki.txt', orient=\"records\")\n",
    "wiki.head()\n"
   ],
   "metadata": {
    "collapsed": false,
    "pycharm": {
     "name": "#%%\n"
    }
   }
  },
  {
   "cell_type": "code",
   "execution_count": null,
   "outputs": [],
   "source": [
    "import json\n",
    "infile = open(r'wiki.txt', 'r')\n",
    "    fieldnames = ['name', 'sal', 'dept']\n",
    "    writer = csv.DictWriter(csvfile, fieldnames=fieldnames)\n",
    "    writer.writeheader()\n",
    "    for row in json.loads(infile.read()):\n",
    "        print(row)\n",
    "        writer.writerow(row)\n"
   ],
   "metadata": {
    "collapsed": false,
    "pycharm": {
     "name": "#%%\n"
    }
   }
  },
  {
   "cell_type": "code",
   "execution_count": 3,
   "outputs": [
    {
     "name": "stdout",
     "output_type": "stream",
     "text": [
      "[]\n"
     ]
    }
   ],
   "source": [
    "import ijson\n",
    "filename = \"wiki.txt\"\n",
    "with open(filename, 'r') as f:\n",
    "    objects = ijson.items(f, 'meta.view.columns.item')\n",
    "    columns = list(objects)\n",
    "print(columns)\n"
   ],
   "metadata": {
    "collapsed": false,
    "pycharm": {
     "name": "#%%\n"
    }
   }
  },
  {
   "cell_type": "code",
   "execution_count": 18,
   "outputs": [
    {
     "name": "stdout",
     "output_type": "stream",
     "text": [
      "                                                id                    actor  \\\n",
      "objectType    b8bc1989-0c4e-4b97-bb23-04f90888996b                    Agent   \n",
      "name          b8bc1989-0c4e-4b97-bb23-04f90888996b           Henrik Persson   \n",
      "mbox          b8bc1989-0c4e-4b97-bb23-04f90888996b  mailto:hpersson@fake.ji   \n",
      "id            b8bc1989-0c4e-4b97-bb23-04f90888996b                      NaN   \n",
      "display       b8bc1989-0c4e-4b97-bb23-04f90888996b                      NaN   \n",
      "definition    b8bc1989-0c4e-4b97-bb23-04f90888996b                      NaN   \n",
      "registration  b8bc1989-0c4e-4b97-bb23-04f90888996b                      NaN   \n",
      "account       b8bc1989-0c4e-4b97-bb23-04f90888996b                      NaN   \n",
      "\n",
      "                                                           verb  \\\n",
      "objectType                                                  NaN   \n",
      "name                                                        NaN   \n",
      "mbox                                                        NaN   \n",
      "id                   http://adlnet.gov/expapi/verbs/experienced   \n",
      "display       {'de-DE': 'erlebte', 'en-US': 'experienced', '...   \n",
      "definition                                                  NaN   \n",
      "registration                                                NaN   \n",
      "account                                                     NaN   \n",
      "\n",
      "                                                         object  \\\n",
      "objectType                                             Activity   \n",
      "name                                                        NaN   \n",
      "mbox                                                        NaN   \n",
      "id                                                act:wiki-page   \n",
      "display                                                     NaN   \n",
      "definition    {'name': {'en-US': 'Wiki homepage'}, 'descript...   \n",
      "registration                                                NaN   \n",
      "account                                                     NaN   \n",
      "\n",
      "                                           context  \\\n",
      "objectType                                     NaN   \n",
      "name                                           NaN   \n",
      "mbox                                           NaN   \n",
      "id                                             NaN   \n",
      "display                                        NaN   \n",
      "definition                                     NaN   \n",
      "registration  aee9656b-dbd8-4461-a4ce-c8aaf97cb403   \n",
      "account                                        NaN   \n",
      "\n",
      "                                    timestamp                     stored  \\\n",
      "objectType   2022-04-12 13:28:10.688600+00:00  2022-04-12T13:28:10.6886Z   \n",
      "name         2022-04-12 13:28:10.688600+00:00  2022-04-12T13:28:10.6886Z   \n",
      "mbox         2022-04-12 13:28:10.688600+00:00  2022-04-12T13:28:10.6886Z   \n",
      "id           2022-04-12 13:28:10.688600+00:00  2022-04-12T13:28:10.6886Z   \n",
      "display      2022-04-12 13:28:10.688600+00:00  2022-04-12T13:28:10.6886Z   \n",
      "definition   2022-04-12 13:28:10.688600+00:00  2022-04-12T13:28:10.6886Z   \n",
      "registration 2022-04-12 13:28:10.688600+00:00  2022-04-12T13:28:10.6886Z   \n",
      "account      2022-04-12 13:28:10.688600+00:00  2022-04-12T13:28:10.6886Z   \n",
      "\n",
      "                                                      authority version  \n",
      "objectType                                                Agent   1.0.0  \n",
      "name                                                        NaN   1.0.0  \n",
      "mbox                                                        NaN   1.0.0  \n",
      "id                                                          NaN   1.0.0  \n",
      "display                                                     NaN   1.0.0  \n",
      "definition                                                  NaN   1.0.0  \n",
      "registration                                                NaN   1.0.0  \n",
      "account       {'name': 'Wiki', 'homePage': 'http://wiki.jeff...   1.0.0  \n"
     ]
    }
   ],
   "source": [
    "\n"
   ],
   "metadata": {
    "collapsed": false,
    "pycharm": {
     "name": "#%%\n"
    }
   }
  },
  {
   "cell_type": "code",
   "execution_count": 16,
   "outputs": [],
   "source": [],
   "metadata": {
    "collapsed": false,
    "pycharm": {
     "name": "#%%\n"
    }
   }
  },
  {
   "cell_type": "code",
   "execution_count": null,
   "outputs": [],
   "source": [],
   "metadata": {
    "collapsed": false,
    "pycharm": {
     "name": "#%%\n"
    }
   }
  }
 ],
 "metadata": {
  "kernelspec": {
   "display_name": "Python 3",
   "language": "python",
   "name": "python3"
  },
  "language_info": {
   "codemirror_mode": {
    "name": "ipython",
    "version": 2
   },
   "file_extension": ".py",
   "mimetype": "text/x-python",
   "name": "python",
   "nbconvert_exporter": "python",
   "pygments_lexer": "ipython2",
   "version": "2.7.6"
  }
 },
 "nbformat": 4,
 "nbformat_minor": 0
}