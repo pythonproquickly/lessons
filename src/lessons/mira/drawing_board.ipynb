{
 "cells": [
  {
   "cell_type": "code",
   "execution_count": 7,
   "id": "c91843f1",
   "metadata": {
    "pycharm": {
     "name": "#%%\n"
    }
   },
   "outputs": [
    {
     "name": "stdout",
     "output_type": "stream",
     "text": [
      " --- --- --- \n",
      "|   |   |   |\n",
      " --- --- --- \n",
      "|   |   |   |\n",
      " --- --- --- \n",
      "|   |   |   |\n",
      " --- --- --- \n"
     ]
    },
    {
     "data": {
      "text/plain": "'for row_number, row in enumerate(board):\\n    if row_number != HEADER:\\n        for _ in range(NUMBER_OF_ROWS):\\n            print(row)\\n    else:\\n        print(row)'"
     },
     "execution_count": 7,
     "metadata": {},
     "output_type": "execute_result"
    }
   ],
   "source": [
    "board = []\n",
    "\n",
    "board.append(\" \" + ((\"-\" * 3) + \" \") * 3)\n",
    "board.append(((\"|\"  + (\" \" * 3)) * 3) + \"|\")\n",
    "\n",
    "for _ in range(3):\n",
    "    print(board[0])\n",
    "    print(board[1])\n",
    "\n",
    "print(board[0])\n",
    "\n",
    "\"\"\"for row_number, row in enumerate(board):\n",
    "    if row_number != HEADER:\n",
    "        for _ in range(NUMBER_OF_ROWS):\n",
    "            print(row)\n",
    "    else:\n",
    "        print(row)\"\"\""
   ]
  },
  {
   "cell_type": "code",
   "execution_count": 8,
   "id": "39dae70a",
   "metadata": {
    "pycharm": {
     "name": "#%%\n"
    }
   },
   "outputs": [
    {
     "ename": "NameError",
     "evalue": "name 'check_diagonal' is not defined",
     "output_type": "error",
     "traceback": [
      "\u001B[0;31m---------------------------------------------------------------------------\u001B[0m",
      "\u001B[0;31mNameError\u001B[0m                                 Traceback (most recent call last)",
      "\u001B[0;32m/tmp/ipykernel_9286/1943337931.py\u001B[0m in \u001B[0;36m<module>\u001B[0;34m\u001B[0m\n\u001B[1;32m     14\u001B[0m     \u001B[0;32mreturn\u001B[0m \u001B[0;32mFalse\u001B[0m\u001B[0;34m\u001B[0m\u001B[0;34m\u001B[0m\u001B[0m\n\u001B[1;32m     15\u001B[0m \u001B[0;34m\u001B[0m\u001B[0m\n\u001B[0;32m---> 16\u001B[0;31m \u001B[0mcheck_diagonal\u001B[0m\u001B[0;34m(\u001B[0m\u001B[0mgame_grid\u001B[0m\u001B[0;34m)\u001B[0m\u001B[0;34m\u001B[0m\u001B[0;34m\u001B[0m\u001B[0m\n\u001B[0m\u001B[1;32m     17\u001B[0m \u001B[0;34m\u001B[0m\u001B[0m\n",
      "\u001B[0;31mNameError\u001B[0m: name 'check_diagonal' is not defined"
     ]
    }
   ],
   "source": [
    "def check_diagonal_fixed(game_grid):\n",
    "    column_value = game_grid[0][0] \n",
    "    if column_value != 0:   \n",
    "        if game_grid[1][1] in [column_value,1,2]:\n",
    "            if game_grid[2][2] in [column_value,1,2]:\n",
    "                return True\n",
    "        \n",
    "    column_value = game_grid[0][2]\n",
    "    if column_value == 0:\n",
    "        return False\n",
    "    if game_grid[1][1] in [column_value,1,2]:\n",
    "        if game_grid[2][0] in [column_value,1,2]:\n",
    "            return True\n",
    "    return False\n",
    "\n",
    "check_diagonal(game_grid)"
   ]
  },
  {
   "cell_type": "code",
   "execution_count": null,
   "id": "120fd6bc",
   "metadata": {
    "pycharm": {
     "name": "#%%\n"
    }
   },
   "outputs": [],
   "source": [
    "def check_horizontal(game_grid):\n",
    "    for row in game_grid:\n",
    "        won = True\n",
    "        first_column = row[0]\n",
    "        for column in row:\n",
    "            if column == 0:\n",
    "                won = False\n",
    "                break\n",
    "            if column != first_column:\n",
    "                won = False\n",
    "                break\n",
    "        if not won:\n",
    "            continue\n",
    "        return True\n",
    "    return False"
   ]
  },
  {
   "cell_type": "code",
   "execution_count": null,
   "id": "e38c087b",
   "metadata": {
    "pycharm": {
     "name": "#%%\n"
    }
   },
   "outputs": [],
   "source": [
    "def check_vertical(game_grid):\n",
    "    row = 0\n",
    "    max_row = 3\n",
    "    max_column = 3\n",
    "\n",
    "    for column in range(max_column):  \n",
    "        won = True\n",
    "        column_values = []\n",
    "        for row in game_grid:\n",
    "            if row[column] == 0:\n",
    "                won = False\n",
    "                break\n",
    "            if len(column_values) == 0: \n",
    "                column_values.append(row[column])\n",
    "            else:    \n",
    "                if row[column] not in column_values:\n",
    "                    won = False\n",
    "                    break        \n",
    "        if won:        \n",
    "            return True\n",
    "    return False"
   ]
  },
  {
   "cell_type": "code",
   "execution_count": null,
   "id": "8b30cb77",
   "metadata": {
    "pycharm": {
     "name": "#%%\n"
    }
   },
   "outputs": [],
   "source": [
    "def check_diagonal(game_grid):\n",
    "    won = True\n",
    "    column_value = game_grid[0][0] \n",
    "    if column_value != 0:\n",
    "        for coordinate in range(1,(len(game_grid) - 1)):\n",
    "            if game_grid[coordinate][coordinate] != column_value:\n",
    "                won = False\n",
    "                break\n",
    "        if won:\n",
    "            return True\n",
    "    \n",
    "    column_value = game_grid[len(game_grid)-1][0] \n",
    "    if column_value != 0:\n",
    "        column = 0\n",
    "        for coordinate in range((len(game_grid) - 2),-1,-1):\n",
    "            column += 1\n",
    "            if game_grid[coordinate][column] != column_value:\n",
    "                return False\n",
    "        return True\n",
    "    else:\n",
    "        return False "
   ]
  },
  {
   "cell_type": "code",
   "execution_count": 9,
   "id": "82b17426",
   "metadata": {
    "pycharm": {
     "name": "#%%\n"
    }
   },
   "outputs": [
    {
     "ename": "NameError",
     "evalue": "name 'check_horizontal' is not defined",
     "output_type": "error",
     "traceback": [
      "\u001B[0;31m---------------------------------------------------------------------------\u001B[0m",
      "\u001B[0;31mNameError\u001B[0m                                 Traceback (most recent call last)",
      "\u001B[0;32m/tmp/ipykernel_9286/3242102618.py\u001B[0m in \u001B[0;36m<module>\u001B[0;34m\u001B[0m\n\u001B[1;32m      5\u001B[0m \u001B[0;34m\u001B[0m\u001B[0m\n\u001B[1;32m      6\u001B[0m \u001B[0mresults\u001B[0m \u001B[0;34m=\u001B[0m \u001B[0;34m[\u001B[0m\u001B[0;34m]\u001B[0m\u001B[0;34m\u001B[0m\u001B[0;34m\u001B[0m\u001B[0m\n\u001B[0;32m----> 7\u001B[0;31m \u001B[0mresults\u001B[0m\u001B[0;34m.\u001B[0m\u001B[0mappend\u001B[0m\u001B[0;34m(\u001B[0m\u001B[0mcheck_horizontal\u001B[0m\u001B[0;34m(\u001B[0m\u001B[0mgame_grid\u001B[0m\u001B[0;34m)\u001B[0m\u001B[0;34m)\u001B[0m\u001B[0;34m\u001B[0m\u001B[0;34m\u001B[0m\u001B[0m\n\u001B[0m\u001B[1;32m      8\u001B[0m \u001B[0mresults\u001B[0m\u001B[0;34m.\u001B[0m\u001B[0mappend\u001B[0m\u001B[0;34m(\u001B[0m\u001B[0mcheck_vertical\u001B[0m\u001B[0;34m(\u001B[0m\u001B[0mgame_grid\u001B[0m\u001B[0;34m)\u001B[0m\u001B[0;34m)\u001B[0m\u001B[0;34m\u001B[0m\u001B[0;34m\u001B[0m\u001B[0m\n\u001B[1;32m      9\u001B[0m \u001B[0mresults\u001B[0m\u001B[0;34m.\u001B[0m\u001B[0mappend\u001B[0m\u001B[0;34m(\u001B[0m\u001B[0mcheck_diagonal\u001B[0m\u001B[0;34m(\u001B[0m\u001B[0mgame_grid\u001B[0m\u001B[0;34m)\u001B[0m\u001B[0;34m)\u001B[0m\u001B[0;34m\u001B[0m\u001B[0;34m\u001B[0m\u001B[0m\n",
      "\u001B[0;31mNameError\u001B[0m: name 'check_horizontal' is not defined"
     ]
    }
   ],
   "source": [
    "game_grid = [[0, 1, 0, 0],\n",
    "             [1, 0, 1, 0],\n",
    "             [2, 2, 0, 0],\n",
    "             [1, 0, 1, 0]]\n",
    "\n",
    "results = []\n",
    "results.append(check_horizontal(game_grid))\n",
    "results.append(check_vertical(game_grid))\n",
    "results.append(check_diagonal(game_grid))\n",
    "\n",
    "if True in results:\n",
    "    print (\"You have won.\")\n",
    "else:\n",
    "    print (\"You have lost.\")"
   ]
  },
  {
   "cell_type": "code",
   "execution_count": null,
   "id": "2beb3e72",
   "metadata": {
    "pycharm": {
     "name": "#%%\n"
    }
   },
   "outputs": [],
   "source": []
  }
 ],
 "metadata": {
  "kernelspec": {
   "display_name": "Python 3",
   "language": "python",
   "name": "python3"
  },
  "language_info": {
   "codemirror_mode": {
    "name": "ipython",
    "version": 3
   },
   "file_extension": ".py",
   "mimetype": "text/x-python",
   "name": "python",
   "nbconvert_exporter": "python",
   "pygments_lexer": "ipython3",
   "version": "3.8.8"
  }
 },
 "nbformat": 4,
 "nbformat_minor": 5
}