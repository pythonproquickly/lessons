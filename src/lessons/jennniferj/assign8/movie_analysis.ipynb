{
 "cells": [
  {
   "cell_type": "code",
   "execution_count": 1,
   "metadata": {
    "collapsed": true,
    "pycharm": {
     "name": "#%%\n"
    }
   },
   "outputs": [],
   "source": [
    "import pandas as pd"
   ]
  },
  {
   "cell_type": "code",
   "execution_count": 2,
   "outputs": [
    {
     "data": {
      "text/plain": "                Movie       IMDB\n0            Parasite  tt6751668\n1          Green Book  tt6966692\n2  The Shape of Water  tt5580390\n3           Moonlight  tt4975722\n4           Spotlight  tt1895587\n5             Birdman  tt2562232\n6    12 Years a Slave  tt2024544\n7                Argo  tt1024648\n8          The Artist  tt1655442\n9   The King's Speech  tt1504320",
      "text/html": "<div>\n<style scoped>\n    .dataframe tbody tr th:only-of-type {\n        vertical-align: middle;\n    }\n\n    .dataframe tbody tr th {\n        vertical-align: top;\n    }\n\n    .dataframe thead th {\n        text-align: right;\n    }\n</style>\n<table border=\"1\" class=\"dataframe\">\n  <thead>\n    <tr style=\"text-align: right;\">\n      <th></th>\n      <th>Movie</th>\n      <th>IMDB</th>\n    </tr>\n  </thead>\n  <tbody>\n    <tr>\n      <th>0</th>\n      <td>Parasite</td>\n      <td>tt6751668</td>\n    </tr>\n    <tr>\n      <th>1</th>\n      <td>Green Book</td>\n      <td>tt6966692</td>\n    </tr>\n    <tr>\n      <th>2</th>\n      <td>The Shape of Water</td>\n      <td>tt5580390</td>\n    </tr>\n    <tr>\n      <th>3</th>\n      <td>Moonlight</td>\n      <td>tt4975722</td>\n    </tr>\n    <tr>\n      <th>4</th>\n      <td>Spotlight</td>\n      <td>tt1895587</td>\n    </tr>\n    <tr>\n      <th>5</th>\n      <td>Birdman</td>\n      <td>tt2562232</td>\n    </tr>\n    <tr>\n      <th>6</th>\n      <td>12 Years a Slave</td>\n      <td>tt2024544</td>\n    </tr>\n    <tr>\n      <th>7</th>\n      <td>Argo</td>\n      <td>tt1024648</td>\n    </tr>\n    <tr>\n      <th>8</th>\n      <td>The Artist</td>\n      <td>tt1655442</td>\n    </tr>\n    <tr>\n      <th>9</th>\n      <td>The King's Speech</td>\n      <td>tt1504320</td>\n    </tr>\n  </tbody>\n</table>\n</div>"
     },
     "execution_count": 2,
     "metadata": {},
     "output_type": "execute_result"
    }
   ],
   "source": [
    "movies = pd.read_csv(\"oscar_winners.csv\")\n",
    "movies"
   ],
   "metadata": {
    "collapsed": false,
    "pycharm": {
     "name": "#%%\n"
    }
   }
  },
  {
   "cell_type": "code",
   "execution_count": null,
   "outputs": [],
   "source": [
    "\"\"\"\n",
    "total = df['Age'] + df['Marks']\n",
    "df['Age'].max()\n",
    "#MUST import this\n",
    "import matplotlib.pyplot as plt\n",
    "# plot two columns from dataframe named df (substitute your name)\n",
    "plt.plot(df[\"COL_A\"], df[\"COL_B\"])\n",
    "# set axis labels\n",
    "plt.xlabel(\"COL_A\")\n",
    "plt.ylabel(\"COL_B\")\n",
    "# draw\n",
    "plt.show()\n",
    "\n",
    "# all in one: plot two values on y against one on x on bar chart\n",
    "df.plot(x=\"Name\", y=[\"Rating\", \"Duration\"], kind=\"bar\")\n",
    "\"\"\"\n"
   ],
   "metadata": {
    "collapsed": false,
    "pycharm": {
     "name": "#%%\n"
    }
   }
  }
 ],
 "metadata": {
  "kernelspec": {
   "display_name": "Python 3",
   "language": "python",
   "name": "python3"
  },
  "language_info": {
   "codemirror_mode": {
    "name": "ipython",
    "version": 2
   },
   "file_extension": ".py",
   "mimetype": "text/x-python",
   "name": "python",
   "nbconvert_exporter": "python",
   "pygments_lexer": "ipython2",
   "version": "2.7.6"
  }
 },
 "nbformat": 4,
 "nbformat_minor": 0
}