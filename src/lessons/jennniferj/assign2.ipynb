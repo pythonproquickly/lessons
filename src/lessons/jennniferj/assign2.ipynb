{
 "cells": [
  {
   "cell_type": "code",
   "execution_count": 1,
   "outputs": [],
   "source": [
    "import pandas as pd"
   ],
   "metadata": {
    "collapsed": false,
    "pycharm": {
     "name": "#%%\n"
    }
   }
  },
  {
   "cell_type": "code",
   "execution_count": 2,
   "metadata": {
    "collapsed": true
   },
   "outputs": [],
   "source": [
    "ash = pd.read_csv('/home/andy/data/aac_intakes.csv')"
   ]
  },
  {
   "cell_type": "code",
   "execution_count": 3,
   "outputs": [
    {
     "data": {
      "text/plain": "      age_upon_intake animal_id animal_type  \\\n0             8 years   A706918         Dog   \n1           11 months   A724273         Dog   \n2             4 weeks   A665644         Cat   \n3             4 years   A682524         Dog   \n4             2 years   A743852         Dog   \n...               ...       ...         ...   \n80182        10 years   A769067         Dog   \n80183         5 years   A768934         Dog   \n80184         2 years   A769064       Other   \n80185         3 years   A675680         Dog   \n80186          1 year   A680949         Dog   \n\n                                        breed            color  \\\n0                    English Springer Spaniel      White/Liver   \n1                                 Basenji Mix      Sable/White   \n2                      Domestic Shorthair Mix           Calico   \n3       Doberman Pinsch/Australian Cattle Dog         Tan/Gray   \n4                      Labrador Retriever Mix        Chocolate   \n...                                       ...              ...   \n80182                               Boxer Mix    Brown Brindle   \n80183  Dachshund Wirehair/Chihuahua Shorthair  Chocolate/White   \n80184                                 Bat Mix            Brown   \n80185         German Shepherd/Black/Tan Hound      Black/Brown   \n80186              Chihuahua Shorthair/Beagle              Tan   \n\n                      datetime                datetime2  \\\n0      2015-07-05T12:59:00.000  2015-07-05T12:59:00.000   \n1      2016-04-14T18:43:00.000  2016-04-14T18:43:00.000   \n2      2013-10-21T07:59:00.000  2013-10-21T07:59:00.000   \n3      2014-06-29T10:38:00.000  2014-06-29T10:38:00.000   \n4      2017-02-18T12:46:00.000  2017-02-18T12:46:00.000   \n...                        ...                      ...   \n80182  2018-03-29T18:20:00.000  2018-03-29T18:20:00.000   \n80183  2018-03-27T14:27:00.000  2018-03-27T14:27:00.000   \n80184  2018-03-29T17:13:00.000  2018-03-29T17:13:00.000   \n80185  2014-03-31T18:10:00.000  2014-03-31T18:10:00.000   \n80186  2014-06-10T11:53:00.000  2014-06-10T11:53:00.000   \n\n                               found_location intake_condition  \\\n0            9409 Bluegrass Dr in Austin (TX)           Normal   \n1          2818 Palomino Trail in Austin (TX)           Normal   \n2                                 Austin (TX)             Sick   \n3               800 Grove Blvd in Austin (TX)           Normal   \n4                                 Austin (TX)           Normal   \n...                                       ...              ...   \n80182  11216 Jollyville Rd 216 in Austin (TX)             Aged   \n80183  603 West Johanna Street in Austin (TX)           Normal   \n80184       2519 Scarbrough Dr in Travis (TX)           Normal   \n80185                             Austin (TX)           Normal   \n80186            4605 Lyra Cir in Austin (TX)           Normal   \n\n           intake_type     name sex_upon_intake  \n0                Stray    Belle   Spayed Female  \n1                Stray  Runster     Intact Male  \n2                Stray      NaN   Intact Female  \n3                Stray      Rio   Neutered Male  \n4      Owner Surrender     Odin   Neutered Male  \n...                ...      ...             ...  \n80182            Stray      NaN   Spayed Female  \n80183            Stray      NaN     Intact Male  \n80184         Wildlife      NaN         Unknown  \n80185    Public Assist    Draco   Neutered Male  \n80186            Stray     Lolo     Intact Male  \n\n[80187 rows x 12 columns]",
      "text/html": "<div>\n<style scoped>\n    .dataframe tbody tr th:only-of-type {\n        vertical-align: middle;\n    }\n\n    .dataframe tbody tr th {\n        vertical-align: top;\n    }\n\n    .dataframe thead th {\n        text-align: right;\n    }\n</style>\n<table border=\"1\" class=\"dataframe\">\n  <thead>\n    <tr style=\"text-align: right;\">\n      <th></th>\n      <th>age_upon_intake</th>\n      <th>animal_id</th>\n      <th>animal_type</th>\n      <th>breed</th>\n      <th>color</th>\n      <th>datetime</th>\n      <th>datetime2</th>\n      <th>found_location</th>\n      <th>intake_condition</th>\n      <th>intake_type</th>\n      <th>name</th>\n      <th>sex_upon_intake</th>\n    </tr>\n  </thead>\n  <tbody>\n    <tr>\n      <th>0</th>\n      <td>8 years</td>\n      <td>A706918</td>\n      <td>Dog</td>\n      <td>English Springer Spaniel</td>\n      <td>White/Liver</td>\n      <td>2015-07-05T12:59:00.000</td>\n      <td>2015-07-05T12:59:00.000</td>\n      <td>9409 Bluegrass Dr in Austin (TX)</td>\n      <td>Normal</td>\n      <td>Stray</td>\n      <td>Belle</td>\n      <td>Spayed Female</td>\n    </tr>\n    <tr>\n      <th>1</th>\n      <td>11 months</td>\n      <td>A724273</td>\n      <td>Dog</td>\n      <td>Basenji Mix</td>\n      <td>Sable/White</td>\n      <td>2016-04-14T18:43:00.000</td>\n      <td>2016-04-14T18:43:00.000</td>\n      <td>2818 Palomino Trail in Austin (TX)</td>\n      <td>Normal</td>\n      <td>Stray</td>\n      <td>Runster</td>\n      <td>Intact Male</td>\n    </tr>\n    <tr>\n      <th>2</th>\n      <td>4 weeks</td>\n      <td>A665644</td>\n      <td>Cat</td>\n      <td>Domestic Shorthair Mix</td>\n      <td>Calico</td>\n      <td>2013-10-21T07:59:00.000</td>\n      <td>2013-10-21T07:59:00.000</td>\n      <td>Austin (TX)</td>\n      <td>Sick</td>\n      <td>Stray</td>\n      <td>NaN</td>\n      <td>Intact Female</td>\n    </tr>\n    <tr>\n      <th>3</th>\n      <td>4 years</td>\n      <td>A682524</td>\n      <td>Dog</td>\n      <td>Doberman Pinsch/Australian Cattle Dog</td>\n      <td>Tan/Gray</td>\n      <td>2014-06-29T10:38:00.000</td>\n      <td>2014-06-29T10:38:00.000</td>\n      <td>800 Grove Blvd in Austin (TX)</td>\n      <td>Normal</td>\n      <td>Stray</td>\n      <td>Rio</td>\n      <td>Neutered Male</td>\n    </tr>\n    <tr>\n      <th>4</th>\n      <td>2 years</td>\n      <td>A743852</td>\n      <td>Dog</td>\n      <td>Labrador Retriever Mix</td>\n      <td>Chocolate</td>\n      <td>2017-02-18T12:46:00.000</td>\n      <td>2017-02-18T12:46:00.000</td>\n      <td>Austin (TX)</td>\n      <td>Normal</td>\n      <td>Owner Surrender</td>\n      <td>Odin</td>\n      <td>Neutered Male</td>\n    </tr>\n    <tr>\n      <th>...</th>\n      <td>...</td>\n      <td>...</td>\n      <td>...</td>\n      <td>...</td>\n      <td>...</td>\n      <td>...</td>\n      <td>...</td>\n      <td>...</td>\n      <td>...</td>\n      <td>...</td>\n      <td>...</td>\n      <td>...</td>\n    </tr>\n    <tr>\n      <th>80182</th>\n      <td>10 years</td>\n      <td>A769067</td>\n      <td>Dog</td>\n      <td>Boxer Mix</td>\n      <td>Brown Brindle</td>\n      <td>2018-03-29T18:20:00.000</td>\n      <td>2018-03-29T18:20:00.000</td>\n      <td>11216 Jollyville Rd 216 in Austin (TX)</td>\n      <td>Aged</td>\n      <td>Stray</td>\n      <td>NaN</td>\n      <td>Spayed Female</td>\n    </tr>\n    <tr>\n      <th>80183</th>\n      <td>5 years</td>\n      <td>A768934</td>\n      <td>Dog</td>\n      <td>Dachshund Wirehair/Chihuahua Shorthair</td>\n      <td>Chocolate/White</td>\n      <td>2018-03-27T14:27:00.000</td>\n      <td>2018-03-27T14:27:00.000</td>\n      <td>603 West Johanna Street in Austin (TX)</td>\n      <td>Normal</td>\n      <td>Stray</td>\n      <td>NaN</td>\n      <td>Intact Male</td>\n    </tr>\n    <tr>\n      <th>80184</th>\n      <td>2 years</td>\n      <td>A769064</td>\n      <td>Other</td>\n      <td>Bat Mix</td>\n      <td>Brown</td>\n      <td>2018-03-29T17:13:00.000</td>\n      <td>2018-03-29T17:13:00.000</td>\n      <td>2519 Scarbrough Dr in Travis (TX)</td>\n      <td>Normal</td>\n      <td>Wildlife</td>\n      <td>NaN</td>\n      <td>Unknown</td>\n    </tr>\n    <tr>\n      <th>80185</th>\n      <td>3 years</td>\n      <td>A675680</td>\n      <td>Dog</td>\n      <td>German Shepherd/Black/Tan Hound</td>\n      <td>Black/Brown</td>\n      <td>2014-03-31T18:10:00.000</td>\n      <td>2014-03-31T18:10:00.000</td>\n      <td>Austin (TX)</td>\n      <td>Normal</td>\n      <td>Public Assist</td>\n      <td>Draco</td>\n      <td>Neutered Male</td>\n    </tr>\n    <tr>\n      <th>80186</th>\n      <td>1 year</td>\n      <td>A680949</td>\n      <td>Dog</td>\n      <td>Chihuahua Shorthair/Beagle</td>\n      <td>Tan</td>\n      <td>2014-06-10T11:53:00.000</td>\n      <td>2014-06-10T11:53:00.000</td>\n      <td>4605 Lyra Cir in Austin (TX)</td>\n      <td>Normal</td>\n      <td>Stray</td>\n      <td>Lolo</td>\n      <td>Intact Male</td>\n    </tr>\n  </tbody>\n</table>\n<p>80187 rows × 12 columns</p>\n</div>"
     },
     "execution_count": 3,
     "metadata": {},
     "output_type": "execute_result"
    }
   ],
   "source": [
    "ash"
   ],
   "metadata": {
    "collapsed": false,
    "pycharm": {
     "name": "#%%\n"
    }
   }
  },
  {
   "cell_type": "code",
   "execution_count": 4,
   "outputs": [
    {
     "data": {
      "text/plain": "0         True\n1         True\n2        False\n3         True\n4         True\n         ...  \n80182     True\n80183     True\n80184    False\n80185     True\n80186     True\nName: animal_type, Length: 80187, dtype: bool"
     },
     "execution_count": 4,
     "metadata": {},
     "output_type": "execute_result"
    }
   ],
   "source": [
    "ash['animal_type'] == 'Dog'\n"
   ],
   "metadata": {
    "collapsed": false,
    "pycharm": {
     "name": "#%%\n"
    }
   }
  },
  {
   "cell_type": "code",
   "execution_count": 5,
   "outputs": [
    {
     "data": {
      "text/plain": "      age_upon_intake animal_id animal_type  \\\n0             8 years   A706918         Dog   \n1           11 months   A724273         Dog   \n3             4 years   A682524         Dog   \n4             2 years   A743852         Dog   \n5             2 years   A708452         Dog   \n...               ...       ...         ...   \n80180         2 years   A762805         Dog   \n80182        10 years   A769067         Dog   \n80183         5 years   A768934         Dog   \n80185         3 years   A675680         Dog   \n80186          1 year   A680949         Dog   \n\n                                        breed            color  \\\n0                    English Springer Spaniel      White/Liver   \n1                                 Basenji Mix      Sable/White   \n3       Doberman Pinsch/Australian Cattle Dog         Tan/Gray   \n4                      Labrador Retriever Mix        Chocolate   \n5                      Labrador Retriever Mix      Black/White   \n...                                       ...              ...   \n80180                    American Bulldog Mix      White/Black   \n80182                               Boxer Mix    Brown Brindle   \n80183  Dachshund Wirehair/Chihuahua Shorthair  Chocolate/White   \n80185         German Shepherd/Black/Tan Hound      Black/Brown   \n80186              Chihuahua Shorthair/Beagle              Tan   \n\n                      datetime                datetime2  \\\n0      2015-07-05T12:59:00.000  2015-07-05T12:59:00.000   \n1      2016-04-14T18:43:00.000  2016-04-14T18:43:00.000   \n3      2014-06-29T10:38:00.000  2014-06-29T10:38:00.000   \n4      2017-02-18T12:46:00.000  2017-02-18T12:46:00.000   \n5      2015-07-30T14:37:00.000  2015-07-30T14:37:00.000   \n...                        ...                      ...   \n80180  2018-03-29T17:45:00.000  2018-03-29T17:45:00.000   \n80182  2018-03-29T18:20:00.000  2018-03-29T18:20:00.000   \n80183  2018-03-27T14:27:00.000  2018-03-27T14:27:00.000   \n80185  2014-03-31T18:10:00.000  2014-03-31T18:10:00.000   \n80186  2014-06-10T11:53:00.000  2014-06-10T11:53:00.000   \n\n                               found_location intake_condition  \\\n0            9409 Bluegrass Dr in Austin (TX)           Normal   \n1          2818 Palomino Trail in Austin (TX)           Normal   \n3               800 Grove Blvd in Austin (TX)           Normal   \n4                                 Austin (TX)           Normal   \n5                                 Austin (TX)           Normal   \n...                                       ...              ...   \n80180                              Manor (TX)           Normal   \n80182  11216 Jollyville Rd 216 in Austin (TX)             Aged   \n80183  603 West Johanna Street in Austin (TX)           Normal   \n80185                             Austin (TX)           Normal   \n80186            4605 Lyra Cir in Austin (TX)           Normal   \n\n           intake_type     name sex_upon_intake  \n0                Stray    Belle   Spayed Female  \n1                Stray  Runster     Intact Male  \n3                Stray      Rio   Neutered Male  \n4      Owner Surrender     Odin   Neutered Male  \n5        Public Assist   Mumble     Intact Male  \n...                ...      ...             ...  \n80180  Owner Surrender   Blanco   Neutered Male  \n80182            Stray      NaN   Spayed Female  \n80183            Stray      NaN     Intact Male  \n80185    Public Assist    Draco   Neutered Male  \n80186            Stray     Lolo     Intact Male  \n\n[45743 rows x 12 columns]",
      "text/html": "<div>\n<style scoped>\n    .dataframe tbody tr th:only-of-type {\n        vertical-align: middle;\n    }\n\n    .dataframe tbody tr th {\n        vertical-align: top;\n    }\n\n    .dataframe thead th {\n        text-align: right;\n    }\n</style>\n<table border=\"1\" class=\"dataframe\">\n  <thead>\n    <tr style=\"text-align: right;\">\n      <th></th>\n      <th>age_upon_intake</th>\n      <th>animal_id</th>\n      <th>animal_type</th>\n      <th>breed</th>\n      <th>color</th>\n      <th>datetime</th>\n      <th>datetime2</th>\n      <th>found_location</th>\n      <th>intake_condition</th>\n      <th>intake_type</th>\n      <th>name</th>\n      <th>sex_upon_intake</th>\n    </tr>\n  </thead>\n  <tbody>\n    <tr>\n      <th>0</th>\n      <td>8 years</td>\n      <td>A706918</td>\n      <td>Dog</td>\n      <td>English Springer Spaniel</td>\n      <td>White/Liver</td>\n      <td>2015-07-05T12:59:00.000</td>\n      <td>2015-07-05T12:59:00.000</td>\n      <td>9409 Bluegrass Dr in Austin (TX)</td>\n      <td>Normal</td>\n      <td>Stray</td>\n      <td>Belle</td>\n      <td>Spayed Female</td>\n    </tr>\n    <tr>\n      <th>1</th>\n      <td>11 months</td>\n      <td>A724273</td>\n      <td>Dog</td>\n      <td>Basenji Mix</td>\n      <td>Sable/White</td>\n      <td>2016-04-14T18:43:00.000</td>\n      <td>2016-04-14T18:43:00.000</td>\n      <td>2818 Palomino Trail in Austin (TX)</td>\n      <td>Normal</td>\n      <td>Stray</td>\n      <td>Runster</td>\n      <td>Intact Male</td>\n    </tr>\n    <tr>\n      <th>3</th>\n      <td>4 years</td>\n      <td>A682524</td>\n      <td>Dog</td>\n      <td>Doberman Pinsch/Australian Cattle Dog</td>\n      <td>Tan/Gray</td>\n      <td>2014-06-29T10:38:00.000</td>\n      <td>2014-06-29T10:38:00.000</td>\n      <td>800 Grove Blvd in Austin (TX)</td>\n      <td>Normal</td>\n      <td>Stray</td>\n      <td>Rio</td>\n      <td>Neutered Male</td>\n    </tr>\n    <tr>\n      <th>4</th>\n      <td>2 years</td>\n      <td>A743852</td>\n      <td>Dog</td>\n      <td>Labrador Retriever Mix</td>\n      <td>Chocolate</td>\n      <td>2017-02-18T12:46:00.000</td>\n      <td>2017-02-18T12:46:00.000</td>\n      <td>Austin (TX)</td>\n      <td>Normal</td>\n      <td>Owner Surrender</td>\n      <td>Odin</td>\n      <td>Neutered Male</td>\n    </tr>\n    <tr>\n      <th>5</th>\n      <td>2 years</td>\n      <td>A708452</td>\n      <td>Dog</td>\n      <td>Labrador Retriever Mix</td>\n      <td>Black/White</td>\n      <td>2015-07-30T14:37:00.000</td>\n      <td>2015-07-30T14:37:00.000</td>\n      <td>Austin (TX)</td>\n      <td>Normal</td>\n      <td>Public Assist</td>\n      <td>Mumble</td>\n      <td>Intact Male</td>\n    </tr>\n    <tr>\n      <th>...</th>\n      <td>...</td>\n      <td>...</td>\n      <td>...</td>\n      <td>...</td>\n      <td>...</td>\n      <td>...</td>\n      <td>...</td>\n      <td>...</td>\n      <td>...</td>\n      <td>...</td>\n      <td>...</td>\n      <td>...</td>\n    </tr>\n    <tr>\n      <th>80180</th>\n      <td>2 years</td>\n      <td>A762805</td>\n      <td>Dog</td>\n      <td>American Bulldog Mix</td>\n      <td>White/Black</td>\n      <td>2018-03-29T17:45:00.000</td>\n      <td>2018-03-29T17:45:00.000</td>\n      <td>Manor (TX)</td>\n      <td>Normal</td>\n      <td>Owner Surrender</td>\n      <td>Blanco</td>\n      <td>Neutered Male</td>\n    </tr>\n    <tr>\n      <th>80182</th>\n      <td>10 years</td>\n      <td>A769067</td>\n      <td>Dog</td>\n      <td>Boxer Mix</td>\n      <td>Brown Brindle</td>\n      <td>2018-03-29T18:20:00.000</td>\n      <td>2018-03-29T18:20:00.000</td>\n      <td>11216 Jollyville Rd 216 in Austin (TX)</td>\n      <td>Aged</td>\n      <td>Stray</td>\n      <td>NaN</td>\n      <td>Spayed Female</td>\n    </tr>\n    <tr>\n      <th>80183</th>\n      <td>5 years</td>\n      <td>A768934</td>\n      <td>Dog</td>\n      <td>Dachshund Wirehair/Chihuahua Shorthair</td>\n      <td>Chocolate/White</td>\n      <td>2018-03-27T14:27:00.000</td>\n      <td>2018-03-27T14:27:00.000</td>\n      <td>603 West Johanna Street in Austin (TX)</td>\n      <td>Normal</td>\n      <td>Stray</td>\n      <td>NaN</td>\n      <td>Intact Male</td>\n    </tr>\n    <tr>\n      <th>80185</th>\n      <td>3 years</td>\n      <td>A675680</td>\n      <td>Dog</td>\n      <td>German Shepherd/Black/Tan Hound</td>\n      <td>Black/Brown</td>\n      <td>2014-03-31T18:10:00.000</td>\n      <td>2014-03-31T18:10:00.000</td>\n      <td>Austin (TX)</td>\n      <td>Normal</td>\n      <td>Public Assist</td>\n      <td>Draco</td>\n      <td>Neutered Male</td>\n    </tr>\n    <tr>\n      <th>80186</th>\n      <td>1 year</td>\n      <td>A680949</td>\n      <td>Dog</td>\n      <td>Chihuahua Shorthair/Beagle</td>\n      <td>Tan</td>\n      <td>2014-06-10T11:53:00.000</td>\n      <td>2014-06-10T11:53:00.000</td>\n      <td>4605 Lyra Cir in Austin (TX)</td>\n      <td>Normal</td>\n      <td>Stray</td>\n      <td>Lolo</td>\n      <td>Intact Male</td>\n    </tr>\n  </tbody>\n</table>\n<p>45743 rows × 12 columns</p>\n</div>"
     },
     "execution_count": 5,
     "metadata": {},
     "output_type": "execute_result"
    }
   ],
   "source": [
    "ash[ash['animal_type'] == 'Dog']\n"
   ],
   "metadata": {
    "collapsed": false,
    "pycharm": {
     "name": "#%%\n"
    }
   }
  },
  {
   "cell_type": "code",
   "execution_count": 17,
   "outputs": [
    {
     "data": {
      "text/plain": "animal_type  color          \nBird         Black              22\n             Black/Brown         2\n             Black/Chocolate     5\n             Black/Cream         5\n             Black/Gray          1\n                                ..\nOther        White/Tan           9\n             White/Tricolor      6\n             White/White         2\n             Yellow              1\n             Yellow/Black        2\nName: animal_type, Length: 759, dtype: int64"
     },
     "execution_count": 17,
     "metadata": {},
     "output_type": "execute_result"
    }
   ],
   "source": [
    "ash.groupby(['animal_type', 'color'])['animal_type'].count()"
   ],
   "metadata": {
    "collapsed": false,
    "pycharm": {
     "name": "#%%\n"
    }
   }
  },
  {
   "cell_type": "code",
   "execution_count": null,
   "outputs": [],
   "source": [],
   "metadata": {
    "collapsed": false,
    "pycharm": {
     "name": "#%%\n"
    }
   }
  },
  {
   "cell_type": "code",
   "execution_count": null,
   "outputs": [],
   "source": [],
   "metadata": {
    "collapsed": false,
    "pycharm": {
     "name": "#%%\n"
    }
   }
  }
 ],
 "metadata": {
  "kernelspec": {
   "display_name": "Python 3",
   "language": "python",
   "name": "python3"
  },
  "language_info": {
   "codemirror_mode": {
    "name": "ipython",
    "version": 2
   },
   "file_extension": ".py",
   "mimetype": "text/x-python",
   "name": "python",
   "nbconvert_exporter": "python",
   "pygments_lexer": "ipython2",
   "version": "2.7.6"
  }
 },
 "nbformat": 4,
 "nbformat_minor": 0
}