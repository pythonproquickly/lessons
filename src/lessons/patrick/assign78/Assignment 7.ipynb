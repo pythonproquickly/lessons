{
 "cells": [
  {
   "cell_type": "markdown",
   "metadata": {
    "pycharm": {
     "name": "#%% md\n"
    }
   },
   "source": [
    "# IT309 - Assignment 7, Part (2) starter code"
   ]
  },
  {
   "cell_type": "code",
   "execution_count": 15,
   "outputs": [],
   "source": [],
   "metadata": {
    "collapsed": false,
    "pycharm": {
     "name": "#%%\n"
    }
   }
  },
  {
   "cell_type": "markdown",
   "metadata": {
    "pycharm": {
     "name": "#%% md\n"
    }
   },
   "source": [
    "#### The code below is the Graph class from the textbook and provided by Wiley.  Use it for Assignment 7, part (2).  I've demonstrated below how to create a graph with seven vertices and 12 edges.  The graph is similar to the one presented in class.  View the examples in the cells and create the project schedule graph from the problem using the milestones as nodes and activities as weighted edges.  \n",
    "\n",
    "#### After creating the graph try some of the methods to see how they work.  Assignment A8 involves writing code to find the critical path in the project schedule graph.  Your code will work with the graph you create below.  The A8 specification has addiitonal information.  \n"
   ]
  },
  {
   "cell_type": "markdown",
   "metadata": {
    "pycharm": {
     "name": "#%% md\n"
    }
   },
   "source": [
    "### IT309 - Graph code from Wiley"
   ]
  },
  {
   "cell_type": "code",
   "execution_count": 16,
   "metadata": {
    "pycharm": {
     "name": "#%%\n"
    }
   },
   "outputs": [],
   "source": [
    "# Copyright 2013, Michael H. Goldwasser\n",
    "#\n",
    "# Developed for use with the book:\n",
    "#\n",
    "#    Data Structures and Algorithms in Python\n",
    "#    Michael T. Goodrich, Roberto Tamassia, and Michael H. Goldwasser\n",
    "#    John Wiley & Sons, 2013\n",
    "#\n",
    "# This program is free software: you can redistribute it and/or modify\n",
    "# it under the terms of the GNU General Public License as published by\n",
    "# the Free Software Foundation, either version 3 of the License, or\n",
    "# (at your option) any later version.\n",
    "#\n",
    "# This program is distributed in the hope that it will be useful,\n",
    "# but WITHOUT ANY WARRANTY; without even the implied warranty of\n",
    "# MERCHANTABILITY or FITNESS FOR A PARTICULAR PURPOSE.  See the\n",
    "# GNU General Public License for more details.\n",
    "#\n",
    "# You should have received a copy of the GNU General Public License\n",
    "# along with this program.  If not, see <http://www.gnu.org/licenses/>.\n",
    "\n",
    "class Graph:\n",
    "    \"\"\"Representation of a simple graph using an adjacency map.\"\"\"\n",
    "\n",
    "    #------------------------- nested Vertex class -------------------------\n",
    "    class Vertex:\n",
    "        \"\"\"Lightweight vertex structure for a graph.\"\"\"\n",
    "        __slots__ = '_element'\n",
    "\n",
    "        def __init__(self, x):\n",
    "            \"\"\"Do not call constructor directly. Use Graph's insert_vertex(x).\"\"\"\n",
    "            self._element = x\n",
    "\n",
    "        def element(self):\n",
    "            \"\"\"Return element associated with this vertex.\"\"\"\n",
    "            return self._element\n",
    "\n",
    "        def __hash__(self):  # will allow vertex to be a map/set key\n",
    "            return hash(id(self))\n",
    "\n",
    "        def __str__(self):\n",
    "            return str(self._element)\n",
    "\n",
    "    #------------------------- nested Edge class -------------------------\n",
    "    class Edge:\n",
    "        \"\"\"Lightweight edge structure for a graph.\"\"\"\n",
    "        __slots__ = '_origin', '_destination', '_element'\n",
    "\n",
    "        def __init__(self, u, v, x):\n",
    "            \"\"\"Do not call constructor directly. Use Graph's insert_edge(u,v,x).\"\"\"\n",
    "            self._origin = u\n",
    "            self._destination = v\n",
    "            self._element = x\n",
    "\n",
    "        def endpoints(self):\n",
    "            \"\"\"Return (u,v) tuple for vertices u and v.\"\"\"\n",
    "            return (self._origin, self._destination)\n",
    "\n",
    "        def opposite(self, v):\n",
    "            \"\"\"Return the vertex that is opposite v on this edge.\"\"\"\n",
    "            if not isinstance(v, Graph.Vertex):\n",
    "                raise TypeError('v must be a Vertex')\n",
    "            return self._destination if v is self._origin else self._origin\n",
    "            raise ValueError('v not incident to edge')\n",
    "\n",
    "        def element(self):\n",
    "            \"\"\"Return element associated with this edge.\"\"\"\n",
    "            return self._element\n",
    "\n",
    "        def __hash__(self):  # will allow edge to be a map/set key\n",
    "            return hash((self._origin, self._destination))\n",
    "\n",
    "        def __str__(self):\n",
    "            return '({0},{1},{2})'.format(self._origin, self._destination,\n",
    "                                          self._element)\n",
    "\n",
    "    #------------------------- Graph methods -------------------------\n",
    "    def __init__(self, directed=False):\n",
    "        \"\"\"Create an empty graph (undirected, by default).\n",
    "\n",
    "        Graph is directed if optional paramter is set to True.\n",
    "        \"\"\"\n",
    "        self._outgoing = {}\n",
    "        # only create second map for directed graph; use alias for undirected\n",
    "        self._incoming = {} if directed else self._outgoing\n",
    "\n",
    "    def _validate_vertex(self, v):\n",
    "        \"\"\"Verify that v is a Vertex of this graph.\"\"\"\n",
    "        if not isinstance(v, self.Vertex):\n",
    "            raise TypeError('Vertex expected')\n",
    "        if v not in self._outgoing:\n",
    "            raise ValueError('Vertex does not belong to this graph.')\n",
    "\n",
    "    def is_directed(self):\n",
    "        \"\"\"Return True if this is a directed graph; False if undirected.\n",
    "\n",
    "        Property is based on the original declaration of the graph, not its contents.\n",
    "        \"\"\"\n",
    "        return self._incoming is not self._outgoing  # directed if maps are distinct\n",
    "\n",
    "    def vertex_count(self):\n",
    "        \"\"\"Return the number of vertices in the graph.\"\"\"\n",
    "        return len(self._outgoing)\n",
    "\n",
    "    def vertices(self):\n",
    "        \"\"\"Return an iteration of all vertices of the graph.\"\"\"\n",
    "        return self._outgoing.keys()\n",
    "\n",
    "    def edge_count(self):\n",
    "        \"\"\"Return the number of edges in the graph.\"\"\"\n",
    "        total = sum(len(self._outgoing[v]) for v in self._outgoing)\n",
    "        # for undirected graphs, make sure not to double-count edges\n",
    "        return total if self.is_directed() else total // 2\n",
    "\n",
    "    def edges(self):\n",
    "        \"\"\"Return a set of all edges of the graph.\"\"\"\n",
    "        result = set()  # avoid double-reporting edges of undirected graph\n",
    "        for secondary_map in self._outgoing.values():\n",
    "            result.update(secondary_map.values())  # add edges to resulting set\n",
    "        return result\n",
    "\n",
    "    def get_edge(self, u, v):\n",
    "        \"\"\"Return the edge from u to v, or None if not adjacent.\"\"\"\n",
    "        self._validate_vertex(u)\n",
    "        self._validate_vertex(v)\n",
    "        return self._outgoing[u].get(v)  # returns None if v not adjacent\n",
    "\n",
    "    def degree(self, v, outgoing=True):\n",
    "        \"\"\"Return number of (outgoing) edges incident to vertex v in the graph.\n",
    "\n",
    "        If graph is directed, optional parameter used to count incoming edges.\n",
    "        \"\"\"\n",
    "        self._validate_vertex(v)\n",
    "        adj = self._outgoing if outgoing else self._incoming\n",
    "        return len(adj[v])\n",
    "\n",
    "    def incident_edges(self, v, outgoing=True):\n",
    "        \"\"\"Return all (outgoing) edges incident to vertex v in the graph.\n",
    "\n",
    "        If graph is directed, optional parameter used to request incoming edges.\n",
    "        \"\"\"\n",
    "        self._validate_vertex(v)\n",
    "        adj = self._outgoing if outgoing else self._incoming\n",
    "        for edge in adj[v].values():\n",
    "            yield edge\n",
    "\n",
    "    def insert_vertex(self, x=None):\n",
    "        \"\"\"Insert and return a new Vertex with element x.\"\"\"\n",
    "        v = self.Vertex(x)\n",
    "        self._outgoing[v] = {}\n",
    "        if self.is_directed():\n",
    "            self._incoming[v] = {}  # need distinct map for incoming edges\n",
    "        return v\n",
    "\n",
    "    def insert_edge(self, u, v, x=None):\n",
    "        \"\"\"Insert and return a new Edge from u to v with auxiliary element x.\n",
    "\n",
    "        Raise a ValueError if u and v are not vertices of the graph.\n",
    "        Raise a ValueError if u and v are already adjacent.\n",
    "        \"\"\"\n",
    "        if self.get_edge(u, v) is not None:  # includes error checking\n",
    "            raise ValueError('u and v are already adjacent')\n",
    "        e = self.Edge(u, v, x)\n",
    "        self._outgoing[u][v] = e\n",
    "        self._incoming[v][u] = e\n"
   ]
  },
  {
   "cell_type": "code",
   "execution_count": 17,
   "metadata": {
    "pycharm": {
     "name": "#%%\n"
    }
   },
   "outputs": [],
   "source": [
    "G1 = Graph(directed=True)\n"
   ]
  },
  {
   "cell_type": "code",
   "execution_count": 18,
   "metadata": {
    "pycharm": {
     "name": "#%%\n"
    }
   },
   "outputs": [
    {
     "data": {
      "text/plain": "__main__.Graph"
     },
     "execution_count": 18,
     "metadata": {},
     "output_type": "execute_result"
    }
   ],
   "source": [
    "type(G1)"
   ]
  },
  {
   "cell_type": "code",
   "execution_count": 19,
   "metadata": {
    "pycharm": {
     "name": "#%%\n"
    }
   },
   "outputs": [],
   "source": [
    "# Create 7 vertices - example is from the lecture\n",
    "V0 = G1.insert_vertex('V0')\n",
    "V1 = G1.insert_vertex('V1')\n",
    "V2 = G1.insert_vertex('V2')\n",
    "V3 = G1.insert_vertex('V3')\n",
    "V4 = G1.insert_vertex('V4')\n",
    "V5 = G1.insert_vertex('V5')\n",
    "V6 = G1.insert_vertex('V6')\n",
    "V7 = G1.insert_vertex('V7')\n",
    "V8 = G1.insert_vertex('V8')\n",
    "V9 = G1.insert_vertex('V9')\n",
    "V10 = G1.insert_vertex('V10')\n",
    "V11 = G1.insert_vertex('V11')\n",
    "V12 = G1.insert_vertex('V12')\n",
    "V13 = G1.insert_vertex('V13')\n",
    "V14 = G1.insert_vertex('V14')\n",
    "V15 = G1.insert_vertex('V15')\n",
    "V16 = G1.insert_vertex('V16')"
   ]
  },
  {
   "cell_type": "code",
   "execution_count": 20,
   "metadata": {
    "pycharm": {
     "name": "#%%\n"
    }
   },
   "outputs": [
    {
     "data": {
      "text/plain": "17"
     },
     "execution_count": 20,
     "metadata": {},
     "output_type": "execute_result"
    }
   ],
   "source": [
    "G1.vertex_count()"
   ]
  },
  {
   "cell_type": "code",
   "execution_count": 21,
   "metadata": {
    "pycharm": {
     "name": "#%%\n"
    }
   },
   "outputs": [],
   "source": [
    "# Create 4 edge graph\n",
    "G1.insert_edge(V0, V1, 2)\n",
    "G1.insert_edge(V0, V3, 1)\n",
    "G1.insert_edge(V1, V3, 3)\n",
    "G1.insert_edge(V1, V4, 10)\n",
    "G1.insert_edge(V3, V4, 2)\n",
    "G1.insert_edge(V3, V6, 4)\n",
    "G1.insert_edge(V3, V5, 8)\n",
    "G1.insert_edge(V3, V2, 2)\n",
    "G1.insert_edge(V2, V0, 4)\n",
    "G1.insert_edge(V2, V5, 5)\n",
    "G1.insert_edge(V4, V6, 6)\n",
    "G1.insert_edge(V6, V5, 1)"
   ]
  },
  {
   "cell_type": "code",
   "execution_count": 22,
   "metadata": {
    "pycharm": {
     "name": "#%%\n"
    }
   },
   "outputs": [
    {
     "name": "stdout",
     "output_type": "stream",
     "text": [
      "(V3,V4,2)\n",
      "(V3,V5,8)\n",
      "(V6,V5,1)\n",
      "(V2,V5,5)\n",
      "(V1,V4,10)\n",
      "(V3,V6,4)\n",
      "(V4,V6,6)\n",
      "(V2,V0,4)\n",
      "(V1,V3,3)\n",
      "(V3,V2,2)\n",
      "(V0,V1,2)\n",
      "(V0,V3,1)\n"
     ]
    }
   ],
   "source": [
    "for n in G1.edges():\n",
    "    print(n)"
   ]
  },
  {
   "cell_type": "code",
   "execution_count": 23,
   "metadata": {
    "pycharm": {
     "name": "#%%\n"
    }
   },
   "outputs": [
    {
     "data": {
      "text/plain": "4"
     },
     "execution_count": 23,
     "metadata": {},
     "output_type": "execute_result"
    }
   ],
   "source": [
    "G1.degree(V3)"
   ]
  },
  {
   "cell_type": "code",
   "execution_count": 24,
   "metadata": {
    "pycharm": {
     "name": "#%%\n"
    }
   },
   "outputs": [
    {
     "data": {
      "text/plain": "0"
     },
     "execution_count": 24,
     "metadata": {},
     "output_type": "execute_result"
    }
   ],
   "source": [
    "G1.degree(V5)"
   ]
  },
  {
   "cell_type": "code",
   "execution_count": 25,
   "metadata": {
    "pycharm": {
     "name": "#%%\n"
    }
   },
   "outputs": [
    {
     "name": "stdout",
     "output_type": "stream",
     "text": [
      "\n",
      " For node:  V0 , the incoming edges are: \n",
      "V0 None\n",
      "V0 None\n",
      "V0 (V2,V0,4)\n",
      "V0 None\n",
      "V0 None\n",
      "V0 None\n",
      "V0 None\n",
      "\n",
      " For node:  V1 , the incoming edges are: \n",
      "V1 (V0,V1,2)\n",
      "V1 None\n",
      "V1 None\n",
      "V1 None\n",
      "V1 None\n",
      "V1 None\n",
      "V1 None\n",
      "\n",
      " For node:  V2 , the incoming edges are: \n",
      "V2 None\n",
      "V2 None\n",
      "V2 None\n",
      "V2 (V3,V2,2)\n",
      "V2 None\n",
      "V2 None\n",
      "V2 None\n",
      "\n",
      " For node:  V3 , the incoming edges are: \n",
      "V3 (V0,V3,1)\n",
      "V3 (V1,V3,3)\n",
      "V3 None\n",
      "V3 None\n",
      "V3 None\n",
      "V3 None\n",
      "V3 None\n",
      "\n",
      " For node:  V4 , the incoming edges are: \n",
      "V4 None\n",
      "V4 (V1,V4,10)\n",
      "V4 None\n",
      "V4 (V3,V4,2)\n",
      "V4 None\n",
      "V4 None\n",
      "V4 None\n",
      "\n",
      " For node:  V5 , the incoming edges are: \n",
      "V5 None\n",
      "V5 None\n",
      "V5 (V2,V5,5)\n",
      "V5 (V3,V5,8)\n",
      "V5 None\n",
      "V5 None\n",
      "V5 (V6,V5,1)\n",
      "\n",
      " For node:  V6 , the incoming edges are: \n",
      "V6 None\n",
      "V6 None\n",
      "V6 None\n",
      "V6 (V3,V6,4)\n",
      "V6 (V4,V6,6)\n",
      "V6 None\n",
      "V6 None\n",
      "\n",
      " For node:  V7 , the incoming edges are: \n",
      "V7 None\n",
      "V7 None\n",
      "V7 None\n",
      "V7 None\n",
      "V7 None\n",
      "V7 None\n",
      "V7 None\n",
      "\n",
      " For node:  V8 , the incoming edges are: \n",
      "V8 None\n",
      "V8 None\n",
      "V8 None\n",
      "V8 None\n",
      "V8 None\n",
      "V8 None\n",
      "V8 None\n",
      "\n",
      " For node:  V9 , the incoming edges are: \n",
      "V9 None\n",
      "V9 None\n",
      "V9 None\n",
      "V9 None\n",
      "V9 None\n",
      "V9 None\n",
      "V9 None\n",
      "\n",
      " For node:  V10 , the incoming edges are: \n",
      "V10 None\n",
      "V10 None\n",
      "V10 None\n",
      "V10 None\n",
      "V10 None\n",
      "V10 None\n",
      "V10 None\n",
      "\n",
      " For node:  V11 , the incoming edges are: \n",
      "V11 None\n",
      "V11 None\n",
      "V11 None\n",
      "V11 None\n",
      "V11 None\n",
      "V11 None\n",
      "V11 None\n",
      "\n",
      " For node:  V12 , the incoming edges are: \n",
      "V12 None\n",
      "V12 None\n",
      "V12 None\n",
      "V12 None\n",
      "V12 None\n",
      "V12 None\n",
      "V12 None\n",
      "\n",
      " For node:  V13 , the incoming edges are: \n",
      "V13 None\n",
      "V13 None\n",
      "V13 None\n",
      "V13 None\n",
      "V13 None\n",
      "V13 None\n",
      "V13 None\n",
      "\n",
      " For node:  V14 , the incoming edges are: \n",
      "V14 None\n",
      "V14 None\n",
      "V14 None\n",
      "V14 None\n",
      "V14 None\n",
      "V14 None\n",
      "V14 None\n",
      "\n",
      " For node:  V15 , the incoming edges are: \n",
      "V15 None\n",
      "V15 None\n",
      "V15 None\n",
      "V15 None\n",
      "V15 None\n",
      "V15 None\n",
      "V15 None\n",
      "\n",
      " For node:  V16 , the incoming edges are: \n",
      "V16 None\n",
      "V16 None\n",
      "V16 None\n",
      "V16 None\n",
      "V16 None\n",
      "V16 None\n",
      "V16 None\n"
     ]
    }
   ],
   "source": [
    "for n in G1._outgoing:  # iterate through the outoging nodes (should be all of them)\n",
    "    print('\\n For node: ', n, ', the incoming edges are: ')\n",
    "    print(n, G1._incoming[n].get(V0))\n",
    "    print(n, G1._incoming[n].get(V1))\n",
    "    print(n, G1._incoming[n].get(V2))\n",
    "    print(n, G1._incoming[n].get(V3))\n",
    "    print(n, G1._incoming[n].get(V4))\n",
    "    print(n, G1._incoming[n].get(V5))\n",
    "    print(n, G1._incoming[n].get(V6))\n"
   ]
  },
  {
   "cell_type": "code",
   "execution_count": 26,
   "outputs": [
    {
     "name": "stdout",
     "output_type": "stream",
     "text": [
      "(6,9,1)\n",
      "(12,15,3)\n",
      "(9,11,5)\n",
      "(14,16,2)\n",
      "(15,16,3)\n",
      "(7,13,12)\n",
      "(16,17,2)\n",
      "(13,15,8)\n",
      "(11,14,4)\n",
      "(2,5,2)\n",
      "(7,9,3)\n",
      "(10,14,6)\n",
      "(9,12,3)\n",
      "(1,4,5)\n",
      "(8,10,4)\n",
      "(4,7,8)\n",
      "(6,8,7)\n",
      "(3,6,4)\n",
      "(1,2,3)\n",
      "(1,3,6)\n",
      "(5,8,4)\n"
     ]
    }
   ],
   "source": [
    "P1 = Graph(directed=True)\n",
    "\n",
    "V1 = P1.insert_vertex('1')\n",
    "V2 = P1.insert_vertex('2')\n",
    "V3 = P1.insert_vertex('3')\n",
    "V4 = P1.insert_vertex('4')\n",
    "V5 = P1.insert_vertex('5')\n",
    "V6 = P1.insert_vertex('6')\n",
    "V7 = P1.insert_vertex('7')\n",
    "V8 = P1.insert_vertex('8')\n",
    "V9 = P1.insert_vertex('9')\n",
    "V10 = P1.insert_vertex('10')\n",
    "V11 = P1.insert_vertex('11')\n",
    "V12 = P1.insert_vertex('12')\n",
    "V13 = P1.insert_vertex('13')\n",
    "V14 = P1.insert_vertex('14')\n",
    "V15 = P1.insert_vertex('15')\n",
    "V16 = P1.insert_vertex('16')\n",
    "V17 = P1.insert_vertex('17')\n",
    "\n",
    "P1.insert_edge(V1, V2, 3)\n",
    "P1.insert_edge(V1, V3, 6)\n",
    "P1.insert_edge(V1, V4, 5)\n",
    "P1.insert_edge(V2, V5, 2)\n",
    "P1.insert_edge(V5, V8, 4)\n",
    "P1.insert_edge(V8, V10, 4)\n",
    "P1.insert_edge(V10, V14, 6)\n",
    "P1.insert_edge(V14, V16, 2)\n",
    "P1.insert_edge(V16, V17, 2)\n",
    "P1.insert_edge(V3, V6, 4)\n",
    "P1.insert_edge(V6, V8, 7)\n",
    "P1.insert_edge(V6, V9, 1)\n",
    "P1.insert_edge(V9, V11, 5)\n",
    "P1.insert_edge(V11, V14, 4)\n",
    "P1.insert_edge(V9, V12, 3)\n",
    "P1.insert_edge(V12, V15, 3)\n",
    "P1.insert_edge(V15, V16, 3)\n",
    "P1.insert_edge(V4, V7, 8)\n",
    "P1.insert_edge(V7, V9, 3)\n",
    "P1.insert_edge(V7, V13, 12)\n",
    "P1.insert_edge(V13, V15, 8)\n",
    "\n",
    "for n in P1.edges():\n",
    "    print(n)"
   ],
   "metadata": {
    "collapsed": false,
    "pycharm": {
     "name": "#%%\n"
    }
   }
  },
  {
   "cell_type": "code",
   "execution_count": 27,
   "outputs": [],
   "source": [
    "import sys"
   ],
   "metadata": {
    "collapsed": false,
    "pycharm": {
     "name": "#%%\n"
    }
   }
  },
  {
   "cell_type": "code",
   "execution_count": 28,
   "outputs": [],
   "source": [
    "class Graph:\n",
    "    def __init__(self, edges, n):\n",
    "        self.adjList = [[] for _ in range(n)]\n",
    "        for (source, dest, weight) in edges:\n",
    "            self.adjList[source].append((dest, weight))\n",
    "\n",
    "\n",
    "def DFS(graph, v, discovered, departure, time):\n",
    "    discovered[v] = True\n",
    "\n",
    "    for (u, w) in graph.adjList[v]:\n",
    "        if not discovered[u]:\n",
    "            time = DFS(graph, u, discovered, departure, time)\n",
    "\n",
    "    departure[time] = v\n",
    "    time = time + 1\n",
    "\n",
    "    return time\n"
   ],
   "metadata": {
    "collapsed": false,
    "pycharm": {
     "name": "#%%\n"
    }
   }
  },
  {
   "cell_type": "code",
   "execution_count": 29,
   "outputs": [],
   "source": [
    "def findLongestDistance(graph, source, n):\n",
    "    departure = [-1] * n\n",
    "    discovered = [False] * n\n",
    "    time = 0\n",
    "    for i in range(n):\n",
    "        if not discovered[i]:\n",
    "            time = DFS(graph, i, discovered, departure, time)\n",
    "\n",
    "    cost = [sys.maxsize] * n\n",
    "    cost[source] = 0\n",
    "\n",
    "    for i in reversed(range(n)):\n",
    "\n",
    "        v = departure[i]\n",
    "        for u, w in graph.adjList[v]:\n",
    "            w = -w\n",
    "\n",
    "            if cost[v] != sys.maxsize and cost[v] + w < cost[u]:\n",
    "                cost[u] = cost[v] + w\n",
    "    for i in range(n):\n",
    "        print(f'dist ({source}, {i}) = {-cost[i]}')\n"
   ],
   "metadata": {
    "collapsed": false,
    "pycharm": {
     "name": "#%%\n"
    }
   }
  },
  {
   "cell_type": "code",
   "execution_count": 30,
   "outputs": [
    {
     "ename": "TypeError",
     "evalue": "Graph.__init__() takes from 1 to 2 positional arguments but 3 were given",
     "output_type": "error",
     "traceback": [
      "\u001B[0;31m---------------------------------------------------------------------------\u001B[0m",
      "\u001B[0;31mTypeError\u001B[0m                                 Traceback (most recent call last)",
      "Input \u001B[0;32mIn [30]\u001B[0m, in \u001B[0;36m<cell line: 3>\u001B[0;34m()\u001B[0m\n\u001B[1;32m      1\u001B[0m edges \u001B[38;5;241m=\u001B[39m P1\u001B[38;5;241m.\u001B[39medges()\n\u001B[1;32m      2\u001B[0m n \u001B[38;5;241m=\u001B[39m \u001B[38;5;28mlen\u001B[39m(edges)\n\u001B[0;32m----> 3\u001B[0m graph \u001B[38;5;241m=\u001B[39m \u001B[43mGraph\u001B[49m\u001B[43m(\u001B[49m\u001B[43medges\u001B[49m\u001B[43m,\u001B[49m\u001B[43m \u001B[49m\u001B[43mn\u001B[49m\u001B[43m)\u001B[49m\n\u001B[1;32m      4\u001B[0m source \u001B[38;5;241m=\u001B[39m \u001B[38;5;241m0\u001B[39m\n\u001B[1;32m      5\u001B[0m findLongestDistance(graph, source, n)\n",
      "\u001B[0;31mTypeError\u001B[0m: Graph.__init__() takes from 1 to 2 positional arguments but 3 were given"
     ]
    }
   ],
   "source": [
    "\n",
    "edges = P1.edges()\n",
    "n = len(edges)\n",
    "graph = Graph(edges, n)\n",
    "source = 0\n",
    "findLongestDistance(graph, source, n)\n"
   ],
   "metadata": {
    "collapsed": false,
    "pycharm": {
     "name": "#%%\n"
    }
   }
  }
 ],
 "metadata": {
  "kernelspec": {
   "display_name": "Python 3 (ipykernel)",
   "language": "python",
   "name": "python3"
  },
  "language_info": {
   "codemirror_mode": {
    "name": "ipython",
    "version": 3
   },
   "file_extension": ".py",
   "mimetype": "text/x-python",
   "name": "python",
   "nbconvert_exporter": "python",
   "pygments_lexer": "ipython3",
   "version": "3.9.7"
  }
 },
 "nbformat": 4,
 "nbformat_minor": 2
}