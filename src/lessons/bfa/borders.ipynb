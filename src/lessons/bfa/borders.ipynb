{
 "cells": [
  {
   "cell_type": "code",
   "execution_count": 43,
   "metadata": {
    "collapsed": true
   },
   "outputs": [],
   "source": [
    "import pandas as pd\n",
    "\n",
    "pd.set_option('mode.chained_assignment', None)"
   ]
  },
  {
   "cell_type": "code",
   "execution_count": 44,
   "outputs": [],
   "source": [
    "border_states = pd.read_csv(\n",
    "    '/Users/andy/ws/ctpsws-clients/lessons/src/lessons/bfa/Border_Regions.csv')"
   ],
   "metadata": {
    "collapsed": false
   }
  },
  {
   "cell_type": "code",
   "execution_count": 45,
   "outputs": [],
   "source": [
    "border_states.rename(columns={'Unnamed: 0': 'State'}, inplace=True)\n",
    "border_states['is_border'] = border_states['State']\n",
    "border_states = border_states[\n",
    "    ['is_border'] + [col for col in border_states.columns if\n",
    "                     col != 'is_border']]\n",
    "no_totals = border_states[\n",
    "    ['Total' not in each for each in border_states['State']]]\n",
    "no_totals['State'] = no_totals['State'].apply(\n",
    "    lambda x: x.replace(\"Border Region\", \"\"))\n",
    "no_totals['State'] = no_totals['State'].apply(lambda x: x.replace(\"Non-\", \"\"))\n",
    "for border_state in ['Arizona', 'California', 'New Mexico', 'Texas']:\n",
    "    no_totals['is_border'] = no_totals['is_border'].apply(\n",
    "        lambda x: x.replace(border_state, \"\"))"
   ],
   "metadata": {
    "collapsed": false
   }
  },
  {
   "cell_type": "code",
   "execution_count": null,
   "outputs": [],
   "source": [
    "no_totals"
   ],
   "metadata": {
    "collapsed": false,
    "pycharm": {
     "is_executing": true
    }
   }
  },
  {
   "cell_type": "code",
   "execution_count": null,
   "outputs": [],
   "source": [
    "pd.pivot_table(no_totals.reset_index(),\n",
    "               index='State', columns='is_border',\n",
    "               values='Mean cost per stay, $'\n",
    "               ).plot.bar()"
   ],
   "metadata": {
    "collapsed": false,
    "pycharm": {
     "is_executing": true
    }
   }
  },
  {
   "cell_type": "code",
   "execution_count": null,
   "outputs": [],
   "source": [
    "pd.pivot_table(no_totals.reset_index(),\n",
    "               index='is_border', columns='State',\n",
    "               values='Mean cost per stay, $'\n",
    "               ).plot.bar()\n"
   ],
   "metadata": {
    "collapsed": false,
    "pycharm": {
     "is_executing": true
    }
   }
  },
  {
   "cell_type": "code",
   "execution_count": 48,
   "outputs": [],
   "source": [],
   "metadata": {
    "collapsed": false
   }
  }
 ],
 "metadata": {
  "kernelspec": {
   "display_name": "Python 3",
   "language": "python",
   "name": "python3"
  },
  "language_info": {
   "codemirror_mode": {
    "name": "ipython",
    "version": 2
   },
   "file_extension": ".py",
   "mimetype": "text/x-python",
   "name": "python",
   "nbconvert_exporter": "python",
   "pygments_lexer": "ipython2",
   "version": "2.7.6"
  }
 },
 "nbformat": 4,
 "nbformat_minor": 0
}
