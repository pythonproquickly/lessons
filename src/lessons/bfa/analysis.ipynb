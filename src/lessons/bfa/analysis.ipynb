{
 "cells": [
  {
   "cell_type": "markdown",
   "id": "471217ca",
   "metadata": {
    "pycharm": {
     "name": "#%% md\n"
    }
   },
   "source": []
  },
  {
   "cell_type": "code",
   "execution_count": 5,
   "id": "3cf4a281",
   "metadata": {
    "pycharm": {
     "name": "#%%\n"
    }
   },
   "outputs": [],
   "source": [
    "import pandas as pd \n",
    "import numpy as np \n",
    "import matplotlib.pyplot as plt\n",
    "import seaborn as sns\n",
    "from sklearn.preprocessing import LabelEncoder\n",
    "from sklearn.preprocessing import OneHotEncoder\n",
    "from sklearn import preprocessing\n",
    "from sklearn.datasets import load_digits\n",
    "from sklearn.model_selection import train_test_split\n",
    "from sklearn.naive_bayes import GaussianNB\n",
    "\n",
    "from sklearn.linear_model import LogisticRegression\n",
    "from sklearn.model_selection import train_test_split   #For K-fold cross validation\n",
    "from sklearn.model_selection import cross_val_score\n",
    "from sklearn.ensemble import RandomForestClassifier\n",
    "from sklearn.tree import DecisionTreeClassifier, export_graphviz\n",
    "from sklearn import metrics\n",
    "from sklearn.metrics import classification_report\n",
    "from sklearn.discriminant_analysis import LinearDiscriminantAnalysis\n",
    "from sklearn.neighbors import KNeighborsClassifier\n",
    "from sklearn.model_selection import StratifiedKFold\n",
    "from sklearn.linear_model import LinearRegression, RidgeCV, LassoCV\n",
    "from sklearn.ensemble import RandomForestClassifier\n",
    "from sklearn.naive_bayes import GaussianNB\n",
    "from sklearn.svm import SVC\n",
    "svc = SVC()"
   ]
  },
  {
   "cell_type": "code",
   "execution_count": 6,
   "id": "c6d281ad",
   "metadata": {
    "pycharm": {
     "name": "#%%\n"
    }
   },
   "outputs": [],
   "source": [
    "df = pd.read_csv('Border_Regions.csv')"
   ]
  },
  {
   "cell_type": "code",
   "execution_count": 7,
   "id": "0b082203",
   "metadata": {
    "scrolled": false,
    "pycharm": {
     "name": "#%%\n"
    }
   },
   "outputs": [
    {
     "data": {
      "text/html": [
       "<div>\n",
       "<style scoped>\n",
       "    .dataframe tbody tr th:only-of-type {\n",
       "        vertical-align: middle;\n",
       "    }\n",
       "\n",
       "    .dataframe tbody tr th {\n",
       "        vertical-align: top;\n",
       "    }\n",
       "\n",
       "    .dataframe thead th {\n",
       "        text-align: right;\n",
       "    }\n",
       "</style>\n",
       "<table border=\"1\" class=\"dataframe\">\n",
       "  <thead>\n",
       "    <tr style=\"text-align: right;\">\n",
       "      <th></th>\n",
       "      <th>Unnamed: 0</th>\n",
       "      <th>Total number of discharges</th>\n",
       "      <th>Rate of discharges per 100,000 population</th>\n",
       "      <th>Age/sex adjusted rate of discharges per 100,000 population</th>\n",
       "      <th>Mean length of stay, days</th>\n",
       "      <th>Aggregate number of days in the hospital</th>\n",
       "      <th>Number of inpatient days per 100,000 population</th>\n",
       "      <th>Age/sex adjusted number of inpatient days per 100,000 population</th>\n",
       "      <th>Mean cost per stay, $</th>\n",
       "      <th>Aggregate costs for all hospital stays, $</th>\n",
       "      <th>Costs for inpatient stays per capita, $</th>\n",
       "      <th>Age/sex adjusted costs for inpatient stays per capita, $</th>\n",
       "    </tr>\n",
       "  </thead>\n",
       "  <tbody>\n",
       "    <tr>\n",
       "      <th>0</th>\n",
       "      <td>US Total</td>\n",
       "      <td>373814.9291</td>\n",
       "      <td>114.970710</td>\n",
       "      <td>114.970710</td>\n",
       "      <td>4.524200</td>\n",
       "      <td>1.691214e+06</td>\n",
       "      <td>520.150500</td>\n",
       "      <td>520.150500</td>\n",
       "      <td>23486.15467</td>\n",
       "      <td>8.779475e+09</td>\n",
       "      <td>27.002199</td>\n",
       "      <td>27.002199</td>\n",
       "    </tr>\n",
       "    <tr>\n",
       "      <th>1</th>\n",
       "      <td>Total for All Four Border States</td>\n",
       "      <td>68333.0000</td>\n",
       "      <td>88.838305</td>\n",
       "      <td>87.593836</td>\n",
       "      <td>4.417629</td>\n",
       "      <td>3.018698e+05</td>\n",
       "      <td>392.454663</td>\n",
       "      <td>383.785789</td>\n",
       "      <td>26452.82654</td>\n",
       "      <td>1.807601e+09</td>\n",
       "      <td>23.500243</td>\n",
       "      <td>22.894279</td>\n",
       "    </tr>\n",
       "    <tr>\n",
       "      <th>2</th>\n",
       "      <td>Arizona Total</td>\n",
       "      <td>5639.0000</td>\n",
       "      <td>86.573679</td>\n",
       "      <td>75.032602</td>\n",
       "      <td>4.482517</td>\n",
       "      <td>2.703964e+04</td>\n",
       "      <td>388.067986</td>\n",
       "      <td>330.010506</td>\n",
       "      <td>25394.86421</td>\n",
       "      <td>1.531880e+08</td>\n",
       "      <td>21.985268</td>\n",
       "      <td>18.705482</td>\n",
       "    </tr>\n",
       "    <tr>\n",
       "      <th>3</th>\n",
       "      <td>California Total</td>\n",
       "      <td>32696.0000</td>\n",
       "      <td>82.727365</td>\n",
       "      <td>80.517477</td>\n",
       "      <td>4.005296</td>\n",
       "      <td>1.315158e+05</td>\n",
       "      <td>331.347595</td>\n",
       "      <td>320.704169</td>\n",
       "      <td>29781.35299</td>\n",
       "      <td>9.778850e+08</td>\n",
       "      <td>24.637329</td>\n",
       "      <td>23.721724</td>\n",
       "    </tr>\n",
       "    <tr>\n",
       "      <th>4</th>\n",
       "      <td>New Mexico Total</td>\n",
       "      <td>1760.0000</td>\n",
       "      <td>85.858810</td>\n",
       "      <td>75.014326</td>\n",
       "      <td>4.546116</td>\n",
       "      <td>8.146290e+03</td>\n",
       "      <td>390.324083</td>\n",
       "      <td>332.868395</td>\n",
       "      <td>23309.46073</td>\n",
       "      <td>4.176876e+07</td>\n",
       "      <td>20.013226</td>\n",
       "      <td>17.053768</td>\n",
       "    </tr>\n",
       "    <tr>\n",
       "      <th>5</th>\n",
       "      <td>Texas Total</td>\n",
       "      <td>28238.0000</td>\n",
       "      <td>105.047767</td>\n",
       "      <td>110.199025</td>\n",
       "      <td>4.856187</td>\n",
       "      <td>1.437162e+05</td>\n",
       "      <td>510.131553</td>\n",
       "      <td>531.137647</td>\n",
       "      <td>22977.05334</td>\n",
       "      <td>6.799936e+08</td>\n",
       "      <td>24.136881</td>\n",
       "      <td>25.039538</td>\n",
       "    </tr>\n",
       "    <tr>\n",
       "      <th>6</th>\n",
       "      <td>Border Region Total for All Four Border States</td>\n",
       "      <td>7413.0000</td>\n",
       "      <td>92.065387</td>\n",
       "      <td>92.332697</td>\n",
       "      <td>4.690274</td>\n",
       "      <td>3.476900e+04</td>\n",
       "      <td>431.811876</td>\n",
       "      <td>429.431963</td>\n",
       "      <td>24595.09513</td>\n",
       "      <td>1.823234e+08</td>\n",
       "      <td>22.643569</td>\n",
       "      <td>22.452097</td>\n",
       "    </tr>\n",
       "    <tr>\n",
       "      <th>7</th>\n",
       "      <td>Arizona Border Region</td>\n",
       "      <td>1252.0000</td>\n",
       "      <td>90.047714</td>\n",
       "      <td>74.961396</td>\n",
       "      <td>4.662141</td>\n",
       "      <td>5.837000e+03</td>\n",
       "      <td>419.815100</td>\n",
       "      <td>342.624291</td>\n",
       "      <td>24651.58359</td>\n",
       "      <td>3.086378e+07</td>\n",
       "      <td>22.198187</td>\n",
       "      <td>18.145457</td>\n",
       "    </tr>\n",
       "    <tr>\n",
       "      <th>8</th>\n",
       "      <td>California Border Region</td>\n",
       "      <td>2437.0000</td>\n",
       "      <td>69.333685</td>\n",
       "      <td>68.973674</td>\n",
       "      <td>4.260156</td>\n",
       "      <td>1.038200e+04</td>\n",
       "      <td>295.372311</td>\n",
       "      <td>293.190796</td>\n",
       "      <td>31180.62332</td>\n",
       "      <td>7.598718e+07</td>\n",
       "      <td>21.618675</td>\n",
       "      <td>21.378930</td>\n",
       "    </tr>\n",
       "    <tr>\n",
       "      <th>9</th>\n",
       "      <td>New Mexico Border Region</td>\n",
       "      <td>426.0000</td>\n",
       "      <td>122.977795</td>\n",
       "      <td>105.504872</td>\n",
       "      <td>5.035211</td>\n",
       "      <td>2.145000e+03</td>\n",
       "      <td>619.219178</td>\n",
       "      <td>512.681639</td>\n",
       "      <td>26289.94718</td>\n",
       "      <td>1.119952e+07</td>\n",
       "      <td>32.330797</td>\n",
       "      <td>26.671282</td>\n",
       "    </tr>\n",
       "    <tr>\n",
       "      <th>10</th>\n",
       "      <td>Texas Border Region</td>\n",
       "      <td>3298.0000</td>\n",
       "      <td>117.776376</td>\n",
       "      <td>137.829240</td>\n",
       "      <td>4.974227</td>\n",
       "      <td>1.640500e+04</td>\n",
       "      <td>585.846408</td>\n",
       "      <td>682.644694</td>\n",
       "      <td>19488.46604</td>\n",
       "      <td>6.427296e+07</td>\n",
       "      <td>22.952809</td>\n",
       "      <td>26.682367</td>\n",
       "    </tr>\n",
       "    <tr>\n",
       "      <th>11</th>\n",
       "      <td>Non-Border Region Total for All Four Border St...</td>\n",
       "      <td>60920.0000</td>\n",
       "      <td>88.460994</td>\n",
       "      <td>87.045809</td>\n",
       "      <td>4.384452</td>\n",
       "      <td>2.671008e+05</td>\n",
       "      <td>387.853010</td>\n",
       "      <td>378.532462</td>\n",
       "      <td>26678.88305</td>\n",
       "      <td>1.625278e+09</td>\n",
       "      <td>23.600405</td>\n",
       "      <td>22.944547</td>\n",
       "    </tr>\n",
       "    <tr>\n",
       "      <th>12</th>\n",
       "      <td>Arizona Non-Border Region</td>\n",
       "      <td>4387.0000</td>\n",
       "      <td>78.656947</td>\n",
       "      <td>68.937655</td>\n",
       "      <td>4.452017</td>\n",
       "      <td>1.953100e+04</td>\n",
       "      <td>350.182093</td>\n",
       "      <td>301.148243</td>\n",
       "      <td>25642.61381</td>\n",
       "      <td>1.124941e+08</td>\n",
       "      <td>20.169697</td>\n",
       "      <td>17.354124</td>\n",
       "    </tr>\n",
       "    <tr>\n",
       "      <th>13</th>\n",
       "      <td>California Non-Border Region</td>\n",
       "      <td>30259.0000</td>\n",
       "      <td>83.643140</td>\n",
       "      <td>81.231942</td>\n",
       "      <td>3.989865</td>\n",
       "      <td>1.207293e+05</td>\n",
       "      <td>333.724855</td>\n",
       "      <td>322.233193</td>\n",
       "      <td>29718.08437</td>\n",
       "      <td>8.992395e+08</td>\n",
       "      <td>24.857139</td>\n",
       "      <td>23.872248</td>\n",
       "    </tr>\n",
       "    <tr>\n",
       "      <th>14</th>\n",
       "      <td>New Mexico Non-Border Region</td>\n",
       "      <td>1334.0000</td>\n",
       "      <td>76.637861</td>\n",
       "      <td>67.200964</td>\n",
       "      <td>4.344078</td>\n",
       "      <td>5.795000e+03</td>\n",
       "      <td>332.920845</td>\n",
       "      <td>284.985042</td>\n",
       "      <td>22235.54782</td>\n",
       "      <td>2.966222e+07</td>\n",
       "      <td>17.040848</td>\n",
       "      <td>14.591456</td>\n",
       "    </tr>\n",
       "    <tr>\n",
       "      <th>15</th>\n",
       "      <td>Texas Non-Border Region</td>\n",
       "      <td>24940.0000</td>\n",
       "      <td>98.296696</td>\n",
       "      <td>101.943718</td>\n",
       "      <td>4.853468</td>\n",
       "      <td>1.210455e+05</td>\n",
       "      <td>477.079918</td>\n",
       "      <td>490.837047</td>\n",
       "      <td>23411.45442</td>\n",
       "      <td>5.838817e+08</td>\n",
       "      <td>23.012686</td>\n",
       "      <td>23.597964</td>\n",
       "    </tr>\n",
       "  </tbody>\n",
       "</table>\n",
       "</div>"
      ],
      "text/plain": [
       "                                           Unnamed: 0  \\\n",
       "0                                            US Total   \n",
       "1                    Total for All Four Border States   \n",
       "2                                       Arizona Total   \n",
       "3                                    California Total   \n",
       "4                                    New Mexico Total   \n",
       "5                                         Texas Total   \n",
       "6      Border Region Total for All Four Border States   \n",
       "7                               Arizona Border Region   \n",
       "8                            California Border Region   \n",
       "9                            New Mexico Border Region   \n",
       "10                                Texas Border Region   \n",
       "11  Non-Border Region Total for All Four Border St...   \n",
       "12                          Arizona Non-Border Region   \n",
       "13                       California Non-Border Region   \n",
       "14                       New Mexico Non-Border Region   \n",
       "15                            Texas Non-Border Region   \n",
       "\n",
       "    Total number of discharges  Rate of discharges per 100,000 population  \\\n",
       "0                  373814.9291                                 114.970710   \n",
       "1                   68333.0000                                  88.838305   \n",
       "2                    5639.0000                                  86.573679   \n",
       "3                   32696.0000                                  82.727365   \n",
       "4                    1760.0000                                  85.858810   \n",
       "5                   28238.0000                                 105.047767   \n",
       "6                    7413.0000                                  92.065387   \n",
       "7                    1252.0000                                  90.047714   \n",
       "8                    2437.0000                                  69.333685   \n",
       "9                     426.0000                                 122.977795   \n",
       "10                   3298.0000                                 117.776376   \n",
       "11                  60920.0000                                  88.460994   \n",
       "12                   4387.0000                                  78.656947   \n",
       "13                  30259.0000                                  83.643140   \n",
       "14                   1334.0000                                  76.637861   \n",
       "15                  24940.0000                                  98.296696   \n",
       "\n",
       "    Age/sex adjusted rate of discharges per 100,000 population  \\\n",
       "0                                          114.970710            \n",
       "1                                           87.593836            \n",
       "2                                           75.032602            \n",
       "3                                           80.517477            \n",
       "4                                           75.014326            \n",
       "5                                          110.199025            \n",
       "6                                           92.332697            \n",
       "7                                           74.961396            \n",
       "8                                           68.973674            \n",
       "9                                          105.504872            \n",
       "10                                         137.829240            \n",
       "11                                          87.045809            \n",
       "12                                          68.937655            \n",
       "13                                          81.231942            \n",
       "14                                          67.200964            \n",
       "15                                         101.943718            \n",
       "\n",
       "    Mean length of stay, days  Aggregate number of days in the hospital  \\\n",
       "0                    4.524200                              1.691214e+06   \n",
       "1                    4.417629                              3.018698e+05   \n",
       "2                    4.482517                              2.703964e+04   \n",
       "3                    4.005296                              1.315158e+05   \n",
       "4                    4.546116                              8.146290e+03   \n",
       "5                    4.856187                              1.437162e+05   \n",
       "6                    4.690274                              3.476900e+04   \n",
       "7                    4.662141                              5.837000e+03   \n",
       "8                    4.260156                              1.038200e+04   \n",
       "9                    5.035211                              2.145000e+03   \n",
       "10                   4.974227                              1.640500e+04   \n",
       "11                   4.384452                              2.671008e+05   \n",
       "12                   4.452017                              1.953100e+04   \n",
       "13                   3.989865                              1.207293e+05   \n",
       "14                   4.344078                              5.795000e+03   \n",
       "15                   4.853468                              1.210455e+05   \n",
       "\n",
       "    Number of inpatient days per 100,000 population  \\\n",
       "0                                        520.150500   \n",
       "1                                        392.454663   \n",
       "2                                        388.067986   \n",
       "3                                        331.347595   \n",
       "4                                        390.324083   \n",
       "5                                        510.131553   \n",
       "6                                        431.811876   \n",
       "7                                        419.815100   \n",
       "8                                        295.372311   \n",
       "9                                        619.219178   \n",
       "10                                       585.846408   \n",
       "11                                       387.853010   \n",
       "12                                       350.182093   \n",
       "13                                       333.724855   \n",
       "14                                       332.920845   \n",
       "15                                       477.079918   \n",
       "\n",
       "    Age/sex adjusted number of inpatient days per 100,000 population  \\\n",
       "0                                          520.150500                  \n",
       "1                                          383.785789                  \n",
       "2                                          330.010506                  \n",
       "3                                          320.704169                  \n",
       "4                                          332.868395                  \n",
       "5                                          531.137647                  \n",
       "6                                          429.431963                  \n",
       "7                                          342.624291                  \n",
       "8                                          293.190796                  \n",
       "9                                          512.681639                  \n",
       "10                                         682.644694                  \n",
       "11                                         378.532462                  \n",
       "12                                         301.148243                  \n",
       "13                                         322.233193                  \n",
       "14                                         284.985042                  \n",
       "15                                         490.837047                  \n",
       "\n",
       "    Mean cost per stay, $  Aggregate costs for all hospital stays, $  \\\n",
       "0             23486.15467                               8.779475e+09   \n",
       "1             26452.82654                               1.807601e+09   \n",
       "2             25394.86421                               1.531880e+08   \n",
       "3             29781.35299                               9.778850e+08   \n",
       "4             23309.46073                               4.176876e+07   \n",
       "5             22977.05334                               6.799936e+08   \n",
       "6             24595.09513                               1.823234e+08   \n",
       "7             24651.58359                               3.086378e+07   \n",
       "8             31180.62332                               7.598718e+07   \n",
       "9             26289.94718                               1.119952e+07   \n",
       "10            19488.46604                               6.427296e+07   \n",
       "11            26678.88305                               1.625278e+09   \n",
       "12            25642.61381                               1.124941e+08   \n",
       "13            29718.08437                               8.992395e+08   \n",
       "14            22235.54782                               2.966222e+07   \n",
       "15            23411.45442                               5.838817e+08   \n",
       "\n",
       "    Costs for inpatient stays per capita, $  \\\n",
       "0                                 27.002199   \n",
       "1                                 23.500243   \n",
       "2                                 21.985268   \n",
       "3                                 24.637329   \n",
       "4                                 20.013226   \n",
       "5                                 24.136881   \n",
       "6                                 22.643569   \n",
       "7                                 22.198187   \n",
       "8                                 21.618675   \n",
       "9                                 32.330797   \n",
       "10                                22.952809   \n",
       "11                                23.600405   \n",
       "12                                20.169697   \n",
       "13                                24.857139   \n",
       "14                                17.040848   \n",
       "15                                23.012686   \n",
       "\n",
       "    Age/sex adjusted costs for inpatient stays per capita, $  \n",
       "0                                           27.002199         \n",
       "1                                           22.894279         \n",
       "2                                           18.705482         \n",
       "3                                           23.721724         \n",
       "4                                           17.053768         \n",
       "5                                           25.039538         \n",
       "6                                           22.452097         \n",
       "7                                           18.145457         \n",
       "8                                           21.378930         \n",
       "9                                           26.671282         \n",
       "10                                          26.682367         \n",
       "11                                          22.944547         \n",
       "12                                          17.354124         \n",
       "13                                          23.872248         \n",
       "14                                          14.591456         \n",
       "15                                          23.597964         "
      ]
     },
     "execution_count": 7,
     "metadata": {},
     "output_type": "execute_result"
    }
   ],
   "source": [
    "#Viewing all rows; \n",
    "df.head(16)\n",
    "\n",
    "#nsight:#Based on the output, New Mexico Border Region has the highest \"Mean length of stay, days=5.03\", While California Non-Border Region had the least \"Mean length of stay, days\".\n",
    "#Texas Border region had the lowest Mean cost per stay=$19488.46604, while California Border Region had the highest Mean cost per stay=31180.62332\n",
    "#New Mexico Border Region had the highest Rate of discharges per 100,000 population=117.776376, While california Border Region had the lowest Rate of discharges per 100,000 population=69.333685"
   ]
  },
  {
   "cell_type": "code",
   "execution_count": 8,
   "id": "1a1b65b6",
   "metadata": {
    "pycharm": {
     "name": "#%%\n"
    }
   },
   "outputs": [],
   "source": [
    "###dropping the top two rows\n",
    "df = df.drop([0, 1])"
   ]
  },
  {
   "cell_type": "code",
   "execution_count": 9,
   "id": "913fd0f8",
   "metadata": {
    "pycharm": {
     "name": "#%%\n"
    }
   },
   "outputs": [
    {
     "data": {
      "text/plain": [
       "(14, 12)"
      ]
     },
     "execution_count": 9,
     "metadata": {},
     "output_type": "execute_result"
    }
   ],
   "source": [
    "df.shape"
   ]
  },
  {
   "cell_type": "code",
   "execution_count": 10,
   "id": "443f2596",
   "metadata": {
    "pycharm": {
     "name": "#%%\n"
    }
   },
   "outputs": [
    {
     "data": {
      "text/html": [
       "<div>\n",
       "<style scoped>\n",
       "    .dataframe tbody tr th:only-of-type {\n",
       "        vertical-align: middle;\n",
       "    }\n",
       "\n",
       "    .dataframe tbody tr th {\n",
       "        vertical-align: top;\n",
       "    }\n",
       "\n",
       "    .dataframe thead th {\n",
       "        text-align: right;\n",
       "    }\n",
       "</style>\n",
       "<table border=\"1\" class=\"dataframe\">\n",
       "  <thead>\n",
       "    <tr style=\"text-align: right;\">\n",
       "      <th></th>\n",
       "      <th>Total number of discharges</th>\n",
       "      <th>Rate of discharges per 100,000 population</th>\n",
       "      <th>Age/sex adjusted rate of discharges per 100,000 population</th>\n",
       "      <th>Mean length of stay, days</th>\n",
       "      <th>Aggregate number of days in the hospital</th>\n",
       "      <th>Number of inpatient days per 100,000 population</th>\n",
       "      <th>Age/sex adjusted number of inpatient days per 100,000 population</th>\n",
       "      <th>Mean cost per stay, $</th>\n",
       "      <th>Aggregate costs for all hospital stays, $</th>\n",
       "      <th>Costs for inpatient stays per capita, $</th>\n",
       "      <th>Age/sex adjusted costs for inpatient stays per capita, $</th>\n",
       "    </tr>\n",
       "  </thead>\n",
       "  <tbody>\n",
       "    <tr>\n",
       "      <th>count</th>\n",
       "      <td>14.000000</td>\n",
       "      <td>14.000000</td>\n",
       "      <td>14.000000</td>\n",
       "      <td>14.000000</td>\n",
       "      <td>14.000000</td>\n",
       "      <td>14.000000</td>\n",
       "      <td>14.000000</td>\n",
       "      <td>14.000000</td>\n",
       "      <td>1.400000e+01</td>\n",
       "      <td>14.000000</td>\n",
       "      <td>14.000000</td>\n",
       "    </tr>\n",
       "    <tr>\n",
       "      <th>mean</th>\n",
       "      <td>14642.785714</td>\n",
       "      <td>91.293158</td>\n",
       "      <td>87.623243</td>\n",
       "      <td>4.538286</td>\n",
       "      <td>65296.975095</td>\n",
       "      <td>418.121201</td>\n",
       "      <td>396.645006</td>\n",
       "      <td>25382.502143</td>\n",
       "      <td>3.905741e+08</td>\n",
       "      <td>22.942680</td>\n",
       "      <td>21.586499</td>\n",
       "    </tr>\n",
       "    <tr>\n",
       "      <th>std</th>\n",
       "      <td>18066.016291</td>\n",
       "      <td>15.176033</td>\n",
       "      <td>20.116675</td>\n",
       "      <td>0.329337</td>\n",
       "      <td>79259.306579</td>\n",
       "      <td>98.015318</td>\n",
       "      <td>117.225658</td>\n",
       "      <td>3211.795456</td>\n",
       "      <td>4.927961e+08</td>\n",
       "      <td>3.407611</td>\n",
       "      <td>3.800234</td>\n",
       "    </tr>\n",
       "    <tr>\n",
       "      <th>min</th>\n",
       "      <td>426.000000</td>\n",
       "      <td>69.333685</td>\n",
       "      <td>67.200964</td>\n",
       "      <td>3.989865</td>\n",
       "      <td>2145.000000</td>\n",
       "      <td>295.372311</td>\n",
       "      <td>284.985042</td>\n",
       "      <td>19488.466040</td>\n",
       "      <td>1.119952e+07</td>\n",
       "      <td>17.040848</td>\n",
       "      <td>14.591456</td>\n",
       "    </tr>\n",
       "    <tr>\n",
       "      <th>25%</th>\n",
       "      <td>1929.250000</td>\n",
       "      <td>82.956309</td>\n",
       "      <td>74.974628</td>\n",
       "      <td>4.354172</td>\n",
       "      <td>8705.217501</td>\n",
       "      <td>337.839165</td>\n",
       "      <td>321.086425</td>\n",
       "      <td>23334.959152</td>\n",
       "      <td>4.739481e+07</td>\n",
       "      <td>21.710324</td>\n",
       "      <td>18.285463</td>\n",
       "    </tr>\n",
       "    <tr>\n",
       "      <th>50%</th>\n",
       "      <td>5013.000000</td>\n",
       "      <td>87.517337</td>\n",
       "      <td>80.874710</td>\n",
       "      <td>4.514316</td>\n",
       "      <td>23285.319065</td>\n",
       "      <td>389.196034</td>\n",
       "      <td>337.746343</td>\n",
       "      <td>25023.223900</td>\n",
       "      <td>1.328411e+08</td>\n",
       "      <td>22.798189</td>\n",
       "      <td>22.698322</td>\n",
       "    </tr>\n",
       "    <tr>\n",
       "      <th>75%</th>\n",
       "      <td>27413.500000</td>\n",
       "      <td>96.738869</td>\n",
       "      <td>99.540963</td>\n",
       "      <td>4.812670</td>\n",
       "      <td>120966.460875</td>\n",
       "      <td>465.762908</td>\n",
       "      <td>475.485776</td>\n",
       "      <td>26581.649083</td>\n",
       "      <td>6.559656e+08</td>\n",
       "      <td>24.002762</td>\n",
       "      <td>23.834617</td>\n",
       "    </tr>\n",
       "    <tr>\n",
       "      <th>max</th>\n",
       "      <td>60920.000000</td>\n",
       "      <td>122.977795</td>\n",
       "      <td>137.829240</td>\n",
       "      <td>5.035211</td>\n",
       "      <td>267100.835600</td>\n",
       "      <td>619.219178</td>\n",
       "      <td>682.644694</td>\n",
       "      <td>31180.623320</td>\n",
       "      <td>1.625278e+09</td>\n",
       "      <td>32.330797</td>\n",
       "      <td>26.682367</td>\n",
       "    </tr>\n",
       "  </tbody>\n",
       "</table>\n",
       "</div>"
      ],
      "text/plain": [
       "       Total number of discharges  Rate of discharges per 100,000 population  \\\n",
       "count                   14.000000                                  14.000000   \n",
       "mean                 14642.785714                                  91.293158   \n",
       "std                  18066.016291                                  15.176033   \n",
       "min                    426.000000                                  69.333685   \n",
       "25%                   1929.250000                                  82.956309   \n",
       "50%                   5013.000000                                  87.517337   \n",
       "75%                  27413.500000                                  96.738869   \n",
       "max                  60920.000000                                 122.977795   \n",
       "\n",
       "       Age/sex adjusted rate of discharges per 100,000 population  \\\n",
       "count                                          14.000000            \n",
       "mean                                           87.623243            \n",
       "std                                            20.116675            \n",
       "min                                            67.200964            \n",
       "25%                                            74.974628            \n",
       "50%                                            80.874710            \n",
       "75%                                            99.540963            \n",
       "max                                           137.829240            \n",
       "\n",
       "       Mean length of stay, days  Aggregate number of days in the hospital  \\\n",
       "count                  14.000000                                 14.000000   \n",
       "mean                    4.538286                              65296.975095   \n",
       "std                     0.329337                              79259.306579   \n",
       "min                     3.989865                               2145.000000   \n",
       "25%                     4.354172                               8705.217501   \n",
       "50%                     4.514316                              23285.319065   \n",
       "75%                     4.812670                             120966.460875   \n",
       "max                     5.035211                             267100.835600   \n",
       "\n",
       "       Number of inpatient days per 100,000 population  \\\n",
       "count                                        14.000000   \n",
       "mean                                        418.121201   \n",
       "std                                          98.015318   \n",
       "min                                         295.372311   \n",
       "25%                                         337.839165   \n",
       "50%                                         389.196034   \n",
       "75%                                         465.762908   \n",
       "max                                         619.219178   \n",
       "\n",
       "       Age/sex adjusted number of inpatient days per 100,000 population  \\\n",
       "count                                          14.000000                  \n",
       "mean                                          396.645006                  \n",
       "std                                           117.225658                  \n",
       "min                                           284.985042                  \n",
       "25%                                           321.086425                  \n",
       "50%                                           337.746343                  \n",
       "75%                                           475.485776                  \n",
       "max                                           682.644694                  \n",
       "\n",
       "       Mean cost per stay, $  Aggregate costs for all hospital stays, $  \\\n",
       "count              14.000000                               1.400000e+01   \n",
       "mean            25382.502143                               3.905741e+08   \n",
       "std              3211.795456                               4.927961e+08   \n",
       "min             19488.466040                               1.119952e+07   \n",
       "25%             23334.959152                               4.739481e+07   \n",
       "50%             25023.223900                               1.328411e+08   \n",
       "75%             26581.649083                               6.559656e+08   \n",
       "max             31180.623320                               1.625278e+09   \n",
       "\n",
       "       Costs for inpatient stays per capita, $  \\\n",
       "count                                14.000000   \n",
       "mean                                 22.942680   \n",
       "std                                   3.407611   \n",
       "min                                  17.040848   \n",
       "25%                                  21.710324   \n",
       "50%                                  22.798189   \n",
       "75%                                  24.002762   \n",
       "max                                  32.330797   \n",
       "\n",
       "       Age/sex adjusted costs for inpatient stays per capita, $  \n",
       "count                                          14.000000         \n",
       "mean                                           21.586499         \n",
       "std                                             3.800234         \n",
       "min                                            14.591456         \n",
       "25%                                            18.285463         \n",
       "50%                                            22.698322         \n",
       "75%                                            23.834617         \n",
       "max                                            26.682367         "
      ]
     },
     "execution_count": 10,
     "metadata": {},
     "output_type": "execute_result"
    }
   ],
   "source": [
    "df.describe()\n",
    "\n",
    "#Insight: The average Rate of discharges per 100,000 population= 92.619577, and the maximum Rate of discharges per 100,000 population =122.977795\n",
    "#the average cost per stay= $25330.875701, while the maximum cost per stay= 31180.623320 \n",
    "#The average length of stay in days= 4.529865, while the maximum length of stay in days = 5.035211\n",
    "\n",
    "\n",
    "#Insight for dataset distribution: Noticeably, the mean values for some of the colums are less than the median values. \n",
    "#This means that the distribution for those columns are negatively skewed, because most of the values lie at the lower tail of the distribution."
   ]
  },
  {
   "cell_type": "code",
   "execution_count": 11,
   "id": "067ddc16",
   "metadata": {
    "pycharm": {
     "name": "#%%\n"
    }
   },
   "outputs": [
    {
     "name": "stdout",
     "output_type": "stream",
     "text": [
      "<class 'pandas.core.frame.DataFrame'>\n",
      "RangeIndex: 14 entries, 2 to 15\n",
      "Data columns (total 12 columns):\n",
      " #   Column                                                            Non-Null Count  Dtype  \n",
      "---  ------                                                            --------------  -----  \n",
      " 0   Unnamed: 0                                                        14 non-null     object \n",
      " 1   Total number of discharges                                        14 non-null     float64\n",
      " 2   Rate of discharges per 100,000 population                         14 non-null     float64\n",
      " 3   Age/sex adjusted rate of discharges per 100,000 population        14 non-null     float64\n",
      " 4   Mean length of stay, days                                         14 non-null     float64\n",
      " 5   Aggregate number of days in the hospital                          14 non-null     float64\n",
      " 6   Number of inpatient days per 100,000 population                   14 non-null     float64\n",
      " 7   Age/sex adjusted number of inpatient days per 100,000 population  14 non-null     float64\n",
      " 8   Mean cost per stay, $                                             14 non-null     float64\n",
      " 9   Aggregate costs for all hospital stays, $                         14 non-null     float64\n",
      " 10  Costs for inpatient stays per capita, $                           14 non-null     float64\n",
      " 11  Age/sex adjusted costs for inpatient stays per capita, $          14 non-null     float64\n",
      "dtypes: float64(11), object(1)\n",
      "memory usage: 1.3+ KB\n"
     ]
    }
   ],
   "source": [
    "df.info()"
   ]
  },
  {
   "cell_type": "code",
   "execution_count": 12,
   "id": "3597b1e0",
   "metadata": {
    "pycharm": {
     "name": "#%%\n"
    }
   },
   "outputs": [
    {
     "data": {
      "text/plain": [
       "Unnamed: 0                                                          0\n",
       "Total number of discharges                                          0\n",
       "Rate of discharges per 100,000 population                           0\n",
       "Age/sex adjusted rate of discharges per 100,000 population          0\n",
       "Mean length of stay, days                                           0\n",
       "Aggregate number of days in the hospital                            0\n",
       "Number of inpatient days per 100,000 population                     0\n",
       "Age/sex adjusted number of inpatient days per 100,000 population    0\n",
       "Mean cost per stay, $                                               0\n",
       "Aggregate costs for all hospital stays, $                           0\n",
       "Costs for inpatient stays per capita, $                             0\n",
       "Age/sex adjusted costs for inpatient stays per capita, $            0\n",
       "dtype: int64"
      ]
     },
     "execution_count": 12,
     "metadata": {},
     "output_type": "execute_result"
    }
   ],
   "source": [
    "#Viewing missing values in the dataset: this dataset has no null value for all columns\n",
    "df.isnull().sum()"
   ]
  },
  {
   "cell_type": "code",
   "execution_count": 13,
   "id": "e696871a",
   "metadata": {
    "pycharm": {
     "name": "#%%\n"
    }
   },
   "outputs": [
    {
     "data": {
      "text/plain": [
       "<AxesSubplot:>"
      ]
     },
     "execution_count": 13,
     "metadata": {},
     "output_type": "execute_result"
    },
    {
     "data": {
      "image/png": "[encoded data removed]",
      "text/plain": [
       "<Figure size 432x288 with 1 Axes>"
      ]
     },
     "metadata": {
      "needs_background": "light"
     },
     "output_type": "display_data"
    }
   ],
   "source": [
    "#Using heatmap too view the amount of data that is missing from the attributes\n",
    "sns.heatmap(df.isnull(),cbar=False,cmap='viridis')"
   ]
  },
  {
   "cell_type": "code",
   "execution_count": 14,
   "id": "e129c93d",
   "metadata": {
    "pycharm": {
     "name": "#%%\n"
    }
   },
   "outputs": [],
   "source": [
    "df.rename(columns = {'Unnamed: 0':'States', 'Total number of discharges':'Total_Discharges', 'Rate of discharges per 100,000 population':'Discharge Rate_Per_100K', 'Age/sex adjusted rate of discharges per 100,000 population': 'Discharge_Rate_Age_Sex_Per_100K', \n",
    "                        'Mean length of stay, days':'Mean_Length_Stay_Days', 'Aggregate number of days in the hospital':'Aggregate_Days_In_Hospital', 'Number of inpatient days per 100,000 population':'Inpatient_Days_Per_100K_Population', 'Age/sex adjusted number of inpatient days per 100,000 population':'Age_Sex_Adjusted_Inpatient_Days_Per_100K', \n",
    "                        'Mean cost per stay, $':'Mean_Cost_Per_Stay', 'Aggregate costs for all hospital stays, $':'Aggregate_Costs_All_Hospital_Stays', 'Costs for inpatient stays per capita, $':'Inpatient_Cost_Per_Capita', 'Age/sex adjusted costs for inpatient stays per capita, $':'Age_Sex_Adjusted_Costs_Inpatient_Per_Capita'}, inplace = True)"
   ]
  },
  {
   "cell_type": "code",
   "execution_count": 81,
   "id": "babefbd5",
   "metadata": {
    "pycharm": {
     "name": "#%%\n"
    }
   },
   "outputs": [
    {
     "data": {
      "text/html": [
       "<div>\n",
       "<style scoped>\n",
       "    .dataframe tbody tr th:only-of-type {\n",
       "        vertical-align: middle;\n",
       "    }\n",
       "\n",
       "    .dataframe tbody tr th {\n",
       "        vertical-align: top;\n",
       "    }\n",
       "\n",
       "    .dataframe thead th {\n",
       "        text-align: right;\n",
       "    }\n",
       "</style>\n",
       "<table border=\"1\" class=\"dataframe\">\n",
       "  <thead>\n",
       "    <tr style=\"text-align: right;\">\n",
       "      <th></th>\n",
       "      <th>States</th>\n",
       "      <th>Total_Discharges</th>\n",
       "      <th>Discharge Rate_Per_100K</th>\n",
       "      <th>Discharge_Rate_Age_Sex_Per_100K</th>\n",
       "      <th>Mean_Length_Stay_Days</th>\n",
       "      <th>Aggregate_Days_In_Hospital</th>\n",
       "      <th>Inpatient_Days_Per_100K_Population</th>\n",
       "      <th>Age_Sex_Adjusted_Inpatient_Days_Per_100K</th>\n",
       "      <th>Mean_Cost_Per_Stay</th>\n",
       "      <th>Aggregate_Costs_All_Hospital_Stays</th>\n",
       "      <th>Inpatient_Cost_Per_Capita</th>\n",
       "      <th>Age_Sex_Adjusted_Costs_Inpatient_Per_Capita</th>\n",
       "    </tr>\n",
       "  </thead>\n",
       "  <tbody>\n",
       "    <tr>\n",
       "      <th>2</th>\n",
       "      <td>2</td>\n",
       "      <td>5639.0</td>\n",
       "      <td>86.573679</td>\n",
       "      <td>75.032602</td>\n",
       "      <td>4.482517</td>\n",
       "      <td>27039.638130</td>\n",
       "      <td>388.067986</td>\n",
       "      <td>330.010506</td>\n",
       "      <td>25394.86421</td>\n",
       "      <td>1.531880e+08</td>\n",
       "      <td>21.985268</td>\n",
       "      <td>18.705482</td>\n",
       "    </tr>\n",
       "    <tr>\n",
       "      <th>3</th>\n",
       "      <td>6</td>\n",
       "      <td>32696.0</td>\n",
       "      <td>82.727365</td>\n",
       "      <td>80.517477</td>\n",
       "      <td>4.005296</td>\n",
       "      <td>131515.816600</td>\n",
       "      <td>331.347595</td>\n",
       "      <td>320.704169</td>\n",
       "      <td>29781.35299</td>\n",
       "      <td>9.778850e+08</td>\n",
       "      <td>24.637329</td>\n",
       "      <td>23.721724</td>\n",
       "    </tr>\n",
       "    <tr>\n",
       "      <th>4</th>\n",
       "      <td>9</td>\n",
       "      <td>1760.0</td>\n",
       "      <td>85.858810</td>\n",
       "      <td>75.014326</td>\n",
       "      <td>4.546116</td>\n",
       "      <td>8146.290002</td>\n",
       "      <td>390.324083</td>\n",
       "      <td>332.868395</td>\n",
       "      <td>23309.46073</td>\n",
       "      <td>4.176876e+07</td>\n",
       "      <td>20.013226</td>\n",
       "      <td>17.053768</td>\n",
       "    </tr>\n",
       "    <tr>\n",
       "      <th>5</th>\n",
       "      <td>13</td>\n",
       "      <td>28238.0</td>\n",
       "      <td>105.047767</td>\n",
       "      <td>110.199025</td>\n",
       "      <td>4.856187</td>\n",
       "      <td>143716.235500</td>\n",
       "      <td>510.131553</td>\n",
       "      <td>531.137647</td>\n",
       "      <td>22977.05334</td>\n",
       "      <td>6.799936e+08</td>\n",
       "      <td>24.136881</td>\n",
       "      <td>25.039538</td>\n",
       "    </tr>\n",
       "    <tr>\n",
       "      <th>6</th>\n",
       "      <td>3</td>\n",
       "      <td>7413.0</td>\n",
       "      <td>92.065387</td>\n",
       "      <td>92.332697</td>\n",
       "      <td>4.690274</td>\n",
       "      <td>34769.000000</td>\n",
       "      <td>431.811876</td>\n",
       "      <td>429.431963</td>\n",
       "      <td>24595.09513</td>\n",
       "      <td>1.823234e+08</td>\n",
       "      <td>22.643569</td>\n",
       "      <td>22.452097</td>\n",
       "    </tr>\n",
       "    <tr>\n",
       "      <th>7</th>\n",
       "      <td>0</td>\n",
       "      <td>1252.0</td>\n",
       "      <td>90.047714</td>\n",
       "      <td>74.961396</td>\n",
       "      <td>4.662141</td>\n",
       "      <td>5837.000000</td>\n",
       "      <td>419.815100</td>\n",
       "      <td>342.624291</td>\n",
       "      <td>24651.58359</td>\n",
       "      <td>3.086378e+07</td>\n",
       "      <td>22.198187</td>\n",
       "      <td>18.145457</td>\n",
       "    </tr>\n",
       "    <tr>\n",
       "      <th>8</th>\n",
       "      <td>4</td>\n",
       "      <td>2437.0</td>\n",
       "      <td>69.333685</td>\n",
       "      <td>68.973674</td>\n",
       "      <td>4.260156</td>\n",
       "      <td>10382.000000</td>\n",
       "      <td>295.372311</td>\n",
       "      <td>293.190796</td>\n",
       "      <td>31180.62332</td>\n",
       "      <td>7.598718e+07</td>\n",
       "      <td>21.618675</td>\n",
       "      <td>21.378930</td>\n",
       "    </tr>\n",
       "    <tr>\n",
       "      <th>9</th>\n",
       "      <td>7</td>\n",
       "      <td>426.0</td>\n",
       "      <td>122.977795</td>\n",
       "      <td>105.504872</td>\n",
       "      <td>5.035211</td>\n",
       "      <td>2145.000000</td>\n",
       "      <td>619.219178</td>\n",
       "      <td>512.681639</td>\n",
       "      <td>26289.94718</td>\n",
       "      <td>1.119952e+07</td>\n",
       "      <td>32.330797</td>\n",
       "      <td>26.671282</td>\n",
       "    </tr>\n",
       "    <tr>\n",
       "      <th>10</th>\n",
       "      <td>11</td>\n",
       "      <td>3298.0</td>\n",
       "      <td>117.776376</td>\n",
       "      <td>137.829240</td>\n",
       "      <td>4.974227</td>\n",
       "      <td>16405.000000</td>\n",
       "      <td>585.846408</td>\n",
       "      <td>682.644694</td>\n",
       "      <td>19488.46604</td>\n",
       "      <td>6.427296e+07</td>\n",
       "      <td>22.952809</td>\n",
       "      <td>26.682367</td>\n",
       "    </tr>\n",
       "    <tr>\n",
       "      <th>11</th>\n",
       "      <td>10</td>\n",
       "      <td>60920.0</td>\n",
       "      <td>88.460994</td>\n",
       "      <td>87.045809</td>\n",
       "      <td>4.384452</td>\n",
       "      <td>267100.835600</td>\n",
       "      <td>387.853010</td>\n",
       "      <td>378.532462</td>\n",
       "      <td>26678.88305</td>\n",
       "      <td>1.625278e+09</td>\n",
       "      <td>23.600405</td>\n",
       "      <td>22.944547</td>\n",
       "    </tr>\n",
       "    <tr>\n",
       "      <th>12</th>\n",
       "      <td>1</td>\n",
       "      <td>4387.0</td>\n",
       "      <td>78.656947</td>\n",
       "      <td>68.937655</td>\n",
       "      <td>4.452017</td>\n",
       "      <td>19531.000000</td>\n",
       "      <td>350.182093</td>\n",
       "      <td>301.148243</td>\n",
       "      <td>25642.61381</td>\n",
       "      <td>1.124941e+08</td>\n",
       "      <td>20.169697</td>\n",
       "      <td>17.354124</td>\n",
       "    </tr>\n",
       "    <tr>\n",
       "      <th>13</th>\n",
       "      <td>5</td>\n",
       "      <td>30259.0</td>\n",
       "      <td>83.643140</td>\n",
       "      <td>81.231942</td>\n",
       "      <td>3.989865</td>\n",
       "      <td>120729.331500</td>\n",
       "      <td>333.724855</td>\n",
       "      <td>322.233193</td>\n",
       "      <td>29718.08437</td>\n",
       "      <td>8.992395e+08</td>\n",
       "      <td>24.857139</td>\n",
       "      <td>23.872248</td>\n",
       "    </tr>\n",
       "    <tr>\n",
       "      <th>14</th>\n",
       "      <td>8</td>\n",
       "      <td>1334.0</td>\n",
       "      <td>76.637861</td>\n",
       "      <td>67.200964</td>\n",
       "      <td>4.344078</td>\n",
       "      <td>5795.000000</td>\n",
       "      <td>332.920845</td>\n",
       "      <td>284.985042</td>\n",
       "      <td>22235.54782</td>\n",
       "      <td>2.966222e+07</td>\n",
       "      <td>17.040848</td>\n",
       "      <td>14.591456</td>\n",
       "    </tr>\n",
       "    <tr>\n",
       "      <th>15</th>\n",
       "      <td>12</td>\n",
       "      <td>24940.0</td>\n",
       "      <td>98.296696</td>\n",
       "      <td>101.943718</td>\n",
       "      <td>4.853468</td>\n",
       "      <td>121045.504000</td>\n",
       "      <td>477.079918</td>\n",
       "      <td>490.837047</td>\n",
       "      <td>23411.45442</td>\n",
       "      <td>5.838817e+08</td>\n",
       "      <td>23.012686</td>\n",
       "      <td>23.597964</td>\n",
       "    </tr>\n",
       "  </tbody>\n",
       "</table>\n",
       "</div>"
      ],
      "text/plain": [
       "    States  Total_Discharges  Discharge Rate_Per_100K  \\\n",
       "2        2            5639.0                86.573679   \n",
       "3        6           32696.0                82.727365   \n",
       "4        9            1760.0                85.858810   \n",
       "5       13           28238.0               105.047767   \n",
       "6        3            7413.0                92.065387   \n",
       "7        0            1252.0                90.047714   \n",
       "8        4            2437.0                69.333685   \n",
       "9        7             426.0               122.977795   \n",
       "10      11            3298.0               117.776376   \n",
       "11      10           60920.0                88.460994   \n",
       "12       1            4387.0                78.656947   \n",
       "13       5           30259.0                83.643140   \n",
       "14       8            1334.0                76.637861   \n",
       "15      12           24940.0                98.296696   \n",
       "\n",
       "    Discharge_Rate_Age_Sex_Per_100K  Mean_Length_Stay_Days  \\\n",
       "2                         75.032602               4.482517   \n",
       "3                         80.517477               4.005296   \n",
       "4                         75.014326               4.546116   \n",
       "5                        110.199025               4.856187   \n",
       "6                         92.332697               4.690274   \n",
       "7                         74.961396               4.662141   \n",
       "8                         68.973674               4.260156   \n",
       "9                        105.504872               5.035211   \n",
       "10                       137.829240               4.974227   \n",
       "11                        87.045809               4.384452   \n",
       "12                        68.937655               4.452017   \n",
       "13                        81.231942               3.989865   \n",
       "14                        67.200964               4.344078   \n",
       "15                       101.943718               4.853468   \n",
       "\n",
       "    Aggregate_Days_In_Hospital  Inpatient_Days_Per_100K_Population  \\\n",
       "2                 27039.638130                          388.067986   \n",
       "3                131515.816600                          331.347595   \n",
       "4                  8146.290002                          390.324083   \n",
       "5                143716.235500                          510.131553   \n",
       "6                 34769.000000                          431.811876   \n",
       "7                  5837.000000                          419.815100   \n",
       "8                 10382.000000                          295.372311   \n",
       "9                  2145.000000                          619.219178   \n",
       "10                16405.000000                          585.846408   \n",
       "11               267100.835600                          387.853010   \n",
       "12                19531.000000                          350.182093   \n",
       "13               120729.331500                          333.724855   \n",
       "14                 5795.000000                          332.920845   \n",
       "15               121045.504000                          477.079918   \n",
       "\n",
       "    Age_Sex_Adjusted_Inpatient_Days_Per_100K  Mean_Cost_Per_Stay  \\\n",
       "2                                 330.010506         25394.86421   \n",
       "3                                 320.704169         29781.35299   \n",
       "4                                 332.868395         23309.46073   \n",
       "5                                 531.137647         22977.05334   \n",
       "6                                 429.431963         24595.09513   \n",
       "7                                 342.624291         24651.58359   \n",
       "8                                 293.190796         31180.62332   \n",
       "9                                 512.681639         26289.94718   \n",
       "10                                682.644694         19488.46604   \n",
       "11                                378.532462         26678.88305   \n",
       "12                                301.148243         25642.61381   \n",
       "13                                322.233193         29718.08437   \n",
       "14                                284.985042         22235.54782   \n",
       "15                                490.837047         23411.45442   \n",
       "\n",
       "    Aggregate_Costs_All_Hospital_Stays  Inpatient_Cost_Per_Capita  \\\n",
       "2                         1.531880e+08                  21.985268   \n",
       "3                         9.778850e+08                  24.637329   \n",
       "4                         4.176876e+07                  20.013226   \n",
       "5                         6.799936e+08                  24.136881   \n",
       "6                         1.823234e+08                  22.643569   \n",
       "7                         3.086378e+07                  22.198187   \n",
       "8                         7.598718e+07                  21.618675   \n",
       "9                         1.119952e+07                  32.330797   \n",
       "10                        6.427296e+07                  22.952809   \n",
       "11                        1.625278e+09                  23.600405   \n",
       "12                        1.124941e+08                  20.169697   \n",
       "13                        8.992395e+08                  24.857139   \n",
       "14                        2.966222e+07                  17.040848   \n",
       "15                        5.838817e+08                  23.012686   \n",
       "\n",
       "    Age_Sex_Adjusted_Costs_Inpatient_Per_Capita  \n",
       "2                                     18.705482  \n",
       "3                                     23.721724  \n",
       "4                                     17.053768  \n",
       "5                                     25.039538  \n",
       "6                                     22.452097  \n",
       "7                                     18.145457  \n",
       "8                                     21.378930  \n",
       "9                                     26.671282  \n",
       "10                                    26.682367  \n",
       "11                                    22.944547  \n",
       "12                                    17.354124  \n",
       "13                                    23.872248  \n",
       "14                                    14.591456  \n",
       "15                                    23.597964  "
      ]
     },
     "execution_count": 81,
     "metadata": {},
     "output_type": "execute_result"
    }
   ],
   "source": [
    "df.head(20)"
   ]
  },
  {
   "cell_type": "code",
   "execution_count": 16,
   "id": "bb1b41f8",
   "metadata": {
    "pycharm": {
     "name": "#%%\n"
    }
   },
   "outputs": [
    {
     "data": {
      "text/plain": [
       "<AxesSubplot:>"
      ]
     },
     "execution_count": 16,
     "metadata": {},
     "output_type": "execute_result"
    },
    {
     "data": {
      "image/png": "[encoded data removed]",
      "text/plain": [
       "<Figure size 720x720 with 2 Axes>"
      ]
     },
     "metadata": {
      "needs_background": "light"
     },
     "output_type": "display_data"
    }
   ],
   "source": [
    "#viewing the correlation between different features\n",
    "plt.figure(figsize=(10,10))\n",
    "sns.heatmap(df.corr(),cbar=True,annot=True,cmap='Blues')"
   ]
  },
  {
   "cell_type": "code",
   "execution_count": 17,
   "id": "9028454a",
   "metadata": {
    "pycharm": {
     "name": "#%%\n"
    }
   },
   "outputs": [],
   "source": [
    "#Insight: #Dark shades represents positive correlation while lighter shades represents negative correlation.  \n",
    "#Stronger correlation pops out in darker, weaker correlation in lighter shades.\n",
    "\n",
    "#Positive Correlation: Age_Sex_Adjusted_Costs_Inpatient_Per_Capita,Inpatient_Cost_Per_Capita, Age_Sex_Adjusted_Inpatient_Days_Per 100K, Inpatient_Days_Per_100K_Population, Discharge_Rate_Age_Sex_Per_100K, Discharge Rate_Per_100K\n",
    "#Negative Correlation:States, Total_Discharges, Mean_Length_Stay_Days, Mean_Cost_Per_Stay, Aggregate_Costs_All Hospital_Stays, Aggregate_Days_In_Hospital"
   ]
  },
  {
   "cell_type": "code",
   "execution_count": 18,
   "id": "81c01811",
   "metadata": {
    "pycharm": {
     "name": "#%%\n"
    }
   },
   "outputs": [],
   "source": [
    "#Insight: The average Rate of discharges per 100,000 population= 92.619577, and the maximum Rate of discharges per 100,000 population =122.977795\n",
    "#the average cost per stay= $25330.875701, while the maximum cost per stay= 31180.623320 \n",
    "#The average length of stay in days= 4.529865, while the maximum length of stay in days = 5.035211\n",
    "\n",
    "#nsight:#Based on the output, New Mexico Border Region has the highest \"Mean length of stay, days=5.03\", While California Non-Border Region had the least \"Mean length of stay, days\".\n",
    "#Texas Border region had the lowest Mean cost per stay=$19488.46604, while California Border Region had the highest Mean cost per stay=31180.62332\n",
    "#New Mexico Border Region had the highest Rate of discharges per 100,000 population=117.776376, While california Border Region had the lowest Rate of discharges per 100,000 population=69.333685\n",
    "\n",
    "\n",
    "#How does the \"Age And Sex Adjusted Number Of Inpatient Days_Per 100000 Population\" vary with each State?\n",
    "\n",
    "#– How does the \"Costs For Inpatient Stays_Per Capita\" vary with the \"Total Number_Discharges\"\"?\n",
    "\n",
    "#– Based on insight, New Mexico Border Region had the highest \"Mean length of stay\" and the highest \"Rate of discharges per 100,000 population\"?\n",
    "\n",
    "#– How does \"Age And Sex Adjusted Number Of Inpatient Days_Per 100000 Population\" vary with the \"Discharge Rate Per 100000 Population_Age And Sex\"?"
   ]
  },
  {
   "cell_type": "code",
   "execution_count": 19,
   "id": "7c97bc52",
   "metadata": {
    "pycharm": {
     "name": "#%%\n"
    }
   },
   "outputs": [
    {
     "data": {
      "text/plain": [
       "Arizona Total                                         1\n",
       "California Total                                      1\n",
       "New Mexico Total                                      1\n",
       "Texas Total                                           1\n",
       "Border Region Total for All Four Border States        1\n",
       "Arizona Border Region                                 1\n",
       "California Border Region                              1\n",
       "New Mexico Border Region                              1\n",
       "Texas Border Region                                   1\n",
       "Non-Border Region Total for All Four Border States    1\n",
       "Arizona Non-Border Region                             1\n",
       "California Non-Border Region                          1\n",
       "New Mexico Non-Border Region                          1\n",
       "Texas Non-Border Region                               1\n",
       "Name: States, dtype: int64"
      ]
     },
     "execution_count": 19,
     "metadata": {},
     "output_type": "execute_result"
    }
   ],
   "source": [
    "#Finding the unique value of the catgorical feature \"States\"\n",
    "df['States'].value_counts()"
   ]
  },
  {
   "cell_type": "code",
   "execution_count": 20,
   "id": "5374eb79",
   "metadata": {
    "pycharm": {
     "name": "#%%\n"
    }
   },
   "outputs": [],
   "source": [
    "#Coverting the data type from object to category\n",
    "df['States'] = df['States'].astype('category').cat.codes"
   ]
  },
  {
   "cell_type": "code",
   "execution_count": 21,
   "id": "68a5b524",
   "metadata": {
    "pycharm": {
     "name": "#%%\n"
    }
   },
   "outputs": [
    {
     "data": {
      "text/plain": [
       "2     2\n",
       "3     6\n",
       "4     9\n",
       "5    13\n",
       "6     3\n",
       "Name: States, dtype: int8"
      ]
     },
     "execution_count": 21,
     "metadata": {},
     "output_type": "execute_result"
    }
   ],
   "source": [
    "from sklearn.preprocessing import LabelEncoder\n",
    "df['States'].head()"
   ]
  },
  {
   "cell_type": "code",
   "execution_count": 22,
   "id": "b4653cd9",
   "metadata": {
    "pycharm": {
     "name": "#%%\n"
    }
   },
   "outputs": [],
   "source": [
    "le = LabelEncoder()\n",
    "df['States'] = le.fit_transform(df['States'])"
   ]
  },
  {
   "cell_type": "code",
   "execution_count": 23,
   "id": "86a10479",
   "metadata": {
    "pycharm": {
     "name": "#%%\n"
    }
   },
   "outputs": [
    {
     "data": {
      "text/plain": [
       "array([ 0,  1,  2,  3,  4,  5,  6,  7,  8,  9, 10, 11, 12, 13], dtype=int8)"
      ]
     },
     "execution_count": 23,
     "metadata": {},
     "output_type": "execute_result"
    }
   ],
   "source": [
    "le.classes_"
   ]
  },
  {
   "cell_type": "code",
   "execution_count": 24,
   "id": "8d7db687",
   "metadata": {
    "pycharm": {
     "name": "#%%\n"
    }
   },
   "outputs": [
    {
     "data": {
      "text/html": [
       "<div>\n",
       "<style scoped>\n",
       "    .dataframe tbody tr th:only-of-type {\n",
       "        vertical-align: middle;\n",
       "    }\n",
       "\n",
       "    .dataframe tbody tr th {\n",
       "        vertical-align: top;\n",
       "    }\n",
       "\n",
       "    .dataframe thead th {\n",
       "        text-align: right;\n",
       "    }\n",
       "</style>\n",
       "<table border=\"1\" class=\"dataframe\">\n",
       "  <thead>\n",
       "    <tr style=\"text-align: right;\">\n",
       "      <th></th>\n",
       "      <th>States</th>\n",
       "      <th>Total_Discharges</th>\n",
       "      <th>Discharge Rate_Per_100K</th>\n",
       "      <th>Discharge_Rate_Age_Sex_Per_100K</th>\n",
       "      <th>Mean_Length_Stay_Days</th>\n",
       "      <th>Aggregate_Days_In_Hospital</th>\n",
       "      <th>Inpatient_Days_Per_100K_Population</th>\n",
       "      <th>Age_Sex_Adjusted_Inpatient_Days_Per_100K</th>\n",
       "      <th>Mean_Cost_Per_Stay</th>\n",
       "      <th>Aggregate_Costs_All_Hospital_Stays</th>\n",
       "      <th>Inpatient_Cost_Per_Capita</th>\n",
       "      <th>Age_Sex_Adjusted_Costs_Inpatient_Per_Capita</th>\n",
       "    </tr>\n",
       "  </thead>\n",
       "  <tbody>\n",
       "    <tr>\n",
       "      <th>2</th>\n",
       "      <td>2</td>\n",
       "      <td>5639.0</td>\n",
       "      <td>86.573679</td>\n",
       "      <td>75.032602</td>\n",
       "      <td>4.482517</td>\n",
       "      <td>27039.638130</td>\n",
       "      <td>388.067986</td>\n",
       "      <td>330.010506</td>\n",
       "      <td>25394.86421</td>\n",
       "      <td>153188029.1</td>\n",
       "      <td>21.985268</td>\n",
       "      <td>18.705482</td>\n",
       "    </tr>\n",
       "    <tr>\n",
       "      <th>3</th>\n",
       "      <td>6</td>\n",
       "      <td>32696.0</td>\n",
       "      <td>82.727365</td>\n",
       "      <td>80.517477</td>\n",
       "      <td>4.005296</td>\n",
       "      <td>131515.816600</td>\n",
       "      <td>331.347595</td>\n",
       "      <td>320.704169</td>\n",
       "      <td>29781.35299</td>\n",
       "      <td>977884985.7</td>\n",
       "      <td>24.637329</td>\n",
       "      <td>23.721724</td>\n",
       "    </tr>\n",
       "    <tr>\n",
       "      <th>4</th>\n",
       "      <td>9</td>\n",
       "      <td>1760.0</td>\n",
       "      <td>85.858810</td>\n",
       "      <td>75.014326</td>\n",
       "      <td>4.546116</td>\n",
       "      <td>8146.290002</td>\n",
       "      <td>390.324083</td>\n",
       "      <td>332.868395</td>\n",
       "      <td>23309.46073</td>\n",
       "      <td>41768762.6</td>\n",
       "      <td>20.013226</td>\n",
       "      <td>17.053768</td>\n",
       "    </tr>\n",
       "    <tr>\n",
       "      <th>5</th>\n",
       "      <td>13</td>\n",
       "      <td>28238.0</td>\n",
       "      <td>105.047767</td>\n",
       "      <td>110.199025</td>\n",
       "      <td>4.856187</td>\n",
       "      <td>143716.235500</td>\n",
       "      <td>510.131553</td>\n",
       "      <td>531.137647</td>\n",
       "      <td>22977.05334</td>\n",
       "      <td>679993564.1</td>\n",
       "      <td>24.136881</td>\n",
       "      <td>25.039538</td>\n",
       "    </tr>\n",
       "    <tr>\n",
       "      <th>6</th>\n",
       "      <td>3</td>\n",
       "      <td>7413.0</td>\n",
       "      <td>92.065387</td>\n",
       "      <td>92.332697</td>\n",
       "      <td>4.690274</td>\n",
       "      <td>34769.000000</td>\n",
       "      <td>431.811876</td>\n",
       "      <td>429.431963</td>\n",
       "      <td>24595.09513</td>\n",
       "      <td>182323440.2</td>\n",
       "      <td>22.643569</td>\n",
       "      <td>22.452097</td>\n",
       "    </tr>\n",
       "  </tbody>\n",
       "</table>\n",
       "</div>"
      ],
      "text/plain": [
       "   States  Total_Discharges  Discharge Rate_Per_100K  \\\n",
       "2       2            5639.0                86.573679   \n",
       "3       6           32696.0                82.727365   \n",
       "4       9            1760.0                85.858810   \n",
       "5      13           28238.0               105.047767   \n",
       "6       3            7413.0                92.065387   \n",
       "\n",
       "   Discharge_Rate_Age_Sex_Per_100K  Mean_Length_Stay_Days  \\\n",
       "2                        75.032602               4.482517   \n",
       "3                        80.517477               4.005296   \n",
       "4                        75.014326               4.546116   \n",
       "5                       110.199025               4.856187   \n",
       "6                        92.332697               4.690274   \n",
       "\n",
       "   Aggregate_Days_In_Hospital  Inpatient_Days_Per_100K_Population  \\\n",
       "2                27039.638130                          388.067986   \n",
       "3               131515.816600                          331.347595   \n",
       "4                 8146.290002                          390.324083   \n",
       "5               143716.235500                          510.131553   \n",
       "6                34769.000000                          431.811876   \n",
       "\n",
       "   Age_Sex_Adjusted_Inpatient_Days_Per_100K  Mean_Cost_Per_Stay  \\\n",
       "2                                330.010506         25394.86421   \n",
       "3                                320.704169         29781.35299   \n",
       "4                                332.868395         23309.46073   \n",
       "5                                531.137647         22977.05334   \n",
       "6                                429.431963         24595.09513   \n",
       "\n",
       "   Aggregate_Costs_All_Hospital_Stays  Inpatient_Cost_Per_Capita  \\\n",
       "2                         153188029.1                  21.985268   \n",
       "3                         977884985.7                  24.637329   \n",
       "4                          41768762.6                  20.013226   \n",
       "5                         679993564.1                  24.136881   \n",
       "6                         182323440.2                  22.643569   \n",
       "\n",
       "   Age_Sex_Adjusted_Costs_Inpatient_Per_Capita  \n",
       "2                                    18.705482  \n",
       "3                                    23.721724  \n",
       "4                                    17.053768  \n",
       "5                                    25.039538  \n",
       "6                                    22.452097  "
      ]
     },
     "execution_count": 24,
     "metadata": {},
     "output_type": "execute_result"
    }
   ],
   "source": [
    "df.head()"
   ]
  },
  {
   "cell_type": "code",
   "execution_count": 25,
   "id": "766d7c8a",
   "metadata": {
    "pycharm": {
     "name": "#%%\n"
    }
   },
   "outputs": [
    {
     "data": {
      "text/plain": [
       "array([ 2,  6,  9, 13,  3,  0,  4,  7, 11, 10,  1,  5,  8, 12], dtype=int8)"
      ]
     },
     "execution_count": 25,
     "metadata": {},
     "output_type": "execute_result"
    }
   ],
   "source": [
    "le.inverse_transform(df['States'])"
   ]
  },
  {
   "cell_type": "code",
   "execution_count": 26,
   "id": "7691f7fc",
   "metadata": {
    "pycharm": {
     "name": "#%%\n"
    }
   },
   "outputs": [
    {
     "data": {
      "image/png": "[encoded data removed]",
      "text/plain": [
       "<Figure size 360x360 with 1 Axes>"
      ]
     },
     "metadata": {
      "needs_background": "light"
     },
     "output_type": "display_data"
    },
    {
     "data": {
      "text/plain": [
       "<AxesSubplot:xlabel='Mean_Cost_Per_Stay', ylabel='Count'>"
      ]
     },
     "execution_count": 26,
     "metadata": {},
     "output_type": "execute_result"
    },
    {
     "data": {
      "image/png": "[encoded data removed]",
      "text/plain": [
       "<Figure size 432x288 with 1 Axes>"
      ]
     },
     "metadata": {
      "needs_background": "light"
     },
     "output_type": "display_data"
    }
   ],
   "source": [
    "#ask questions related to independent variables and the target variable. \n",
    "#For example – how does the \"Age And Sex Adjusted Costs For Inpatient Stays_Per Capita\" affects the \"Costs For Inpatient Stays_Per Capita\"?\n",
    "\n",
    "#making a histogram of 'Mean_Cost_Per_Stay' column: From the above graph, you can say that the graph deviates from the normal and is negatively skewed.  \n",
    "import matplotlib.pyplot as plt\n",
    "import seaborn as sns\n",
    "sns.displot(df['Mean_Cost_Per_Stay'])\n",
    "plt.show()\n",
    "\n",
    "\n",
    "\n",
    "#Viewing the univariate analysis of Mean_Cost_Per_Stay. The histograms below shows the distribution and frequency of the \"Mean_Cost_Per_Stay\". \n",
    "#As you can see, the cost per stay ranges from $20000 to $30000. The data is not evenly distibuted due to left skeweness. Based on insight, \n",
    "#more people spent below the Mean_Cost_Per_Stay.\n",
    "sns.histplot(df.Mean_Cost_Per_Stay,bins=10)"
   ]
  },
  {
   "cell_type": "code",
   "execution_count": 27,
   "id": "79b13ca5",
   "metadata": {
    "pycharm": {
     "name": "#%%\n"
    }
   },
   "outputs": [
    {
     "name": "stdout",
     "output_type": "stream",
     "text": [
      "skewness:0.263271\n",
      "skewness:-0.121611\n"
     ]
    }
   ],
   "source": [
    "#finding the Skewness and Kurtosis of the above graph \n",
    "print(\"skewness:%f\" %df['Mean_Cost_Per_Stay'].skew())\n",
    "print(\"skewness:%f\" %df['Mean_Cost_Per_Stay'].kurt())"
   ]
  },
  {
   "cell_type": "code",
   "execution_count": 51,
   "id": "7c5a6353",
   "metadata": {
    "pycharm": {
     "name": "#%%\n"
    }
   },
   "outputs": [
    {
     "data": {
      "text/plain": [
       "Text(0, 0.5, 'Inpatient_Cost_Per Capita')"
      ]
     },
     "execution_count": 51,
     "metadata": {},
     "output_type": "execute_result"
    },
    {
     "data": {
      "image/png": "[encoded data removed]",
      "text/plain": [
       "<Figure size 720x720 with 1 Axes>"
      ]
     },
     "metadata": {
      "needs_background": "light"
     },
     "output_type": "display_data"
    }
   ],
   "source": [
    "#How does the Age_Sex_Adjusted_Costs_Inpatient_Per Capita affect the Inpatient_Cost_Per Capita: \n",
    "#We can see that most of the Age_Sex_Adjusted_Costs_Inpatient_Per Capita value lies between 14.5-26.5, with highest cost of $32.5.  \n",
    "#There are outliers also(between 23-25, after 26) and the trend is inconsistent\n",
    "\n",
    "plt.figure(figsize=(10,10))\n",
    "plt.scatter(x='Age_Sex_Adjusted_Costs_Inpatient_Per Capita',y='Inpatient_Cost_Per Capita',data=df)\n",
    "plt.xlabel('Age_Sex_Adjusted_Costs_Inpatient_Per Capita')\n",
    "plt.ylabel('Inpatient_Cost_Per Capita')"
   ]
  },
  {
   "cell_type": "code",
   "execution_count": 80,
   "id": "484fb539",
   "metadata": {
    "pycharm": {
     "name": "#%%\n"
    }
   },
   "outputs": [
    {
     "data": {
      "image/png": "[encoded data removed]",
      "text/plain": [
       "<Figure size 432x288 with 1 Axes>"
      ]
     },
     "metadata": {
      "needs_background": "light"
     },
     "output_type": "display_data"
    }
   ],
   "source": [
    "#Positive Correlation: Age_Sex_Adjusted_Costs_Inpatient_Per Capita, Inpatient_Cost_Per Capita, Age_Sex_Adjusted_Inpatient_Days_Per 100K, Inpatient_Days_Per_100K_Population, Discharge_Rate_Age_Sex_Per_100K, Discharge Rate_Per 10K Population\n",
    "#Negative Correlation:States, Total_Discharges, Mean_Length_Stay_Days, Mean_Cost_Per_Stay, Aggregate_Costs_All Hospital_Stays, Aggregate_Days_In_Hospital\n",
    "\n",
    "#Insight: Observe the positive correlation from these variables. \"Inpatient_Cost_Per Capita increases\" as the \"Age_Sex_Adjusted_Costs_Inpatient_Per Capita\"\n",
    "#The plot below is indicating a positive correlation between the two variables. As the Age_Sex_Adjusted_Costs_Inpatient_Per Capita increases, Inpatient_Cost_Per Capita also increases.\n",
    "\n",
    "plt.scatter(x='Age_Sex_Adjusted_Costs_Inpatient_Per Capita', y='Inpatient_Cost_Per Capita', data=df) \n",
    "plt.show()"
   ]
  },
  {
   "cell_type": "code",
   "execution_count": 130,
   "id": "585f00e2",
   "metadata": {
    "pycharm": {
     "name": "#%%\n"
    }
   },
   "outputs": [
    {
     "data": {
      "image/png": "[encoded data removed]",
      "text/plain": [
       "<Figure size 432x288 with 1 Axes>"
      ]
     },
     "metadata": {
      "needs_background": "light"
     },
     "output_type": "display_data"
    },
    {
     "name": "stderr",
     "output_type": "stream",
     "text": [
      "No artists with labels found to put in legend.  Note that artists whose label start with an underscore are ignored when legend() is called with no argument.\n"
     ]
    },
    {
     "data": {
      "image/png": "[encoded data removed]",
      "text/plain": [
       "<Figure size 432x288 with 1 Axes>"
      ]
     },
     "metadata": {
      "needs_background": "light"
     },
     "output_type": "display_data"
    },
    {
     "data": {
      "text/plain": [
       "Text(0, 0.5, 'Discharge Rate_Per_100K')"
      ]
     },
     "execution_count": 130,
     "metadata": {},
     "output_type": "execute_result"
    },
    {
     "data": {
      "image/png": "[encoded data removed]",
      "text/plain": [
       "<Figure size 432x288 with 1 Axes>"
      ]
     },
     "metadata": {
      "needs_background": "light"
     },
     "output_type": "display_data"
    }
   ],
   "source": [
    "#– Based on insight, New Mexico Border Region had the highest \"Mean length of stay\" and the highest \"Discharge Rate_Per_100K\"\n",
    "\n",
    "#visualization based on scatter plot\n",
    "sns.scatterplot( x='Mean_Length_Stay_Days', y='Discharge Rate_Per_100K', alpha = .7, hue='States', data=df,)\n",
    "plt.title('Mean_Length_Stay_Days Versus Discharge Rate_Per_100K')\n",
    "plt.legend(['abc'],loc='upper right')\n",
    "\n",
    "\n",
    "# Placing Legend outside the Figure\n",
    "plt.legend(bbox_to_anchor=(1, 1), loc=2)\n",
    "plt.show()\n",
    "\n",
    "\n",
    "#Plots used are: bar plot and count plot\n",
    "sns.barplot(x='Mean_Length_Stay_Days', y='Discharge Rate_Per_100K', data=df)\n",
    "sns.countplot(x='States', data=df)\n",
    "plt.legend(bbox_to_anchor=(1, 1), loc=2)\n",
    "plt.show()\n",
    "plt.xticks(rotation=90)\n",
    "        \n",
    "\n",
    "sns.histplot(x='Mean_Length_Stay_Days', y='Discharge Rate_Per_100K', alpha = .7, hue='States', data=df)\n",
    "sns.countplot(x='States', data=df)\n",
    "\n",
    "   \n",
    "        \n",
    "import matplotlib\n",
    "import matplotlib.pyplot as plt\n",
    "plt.title('Mean_Length_Stay_Days Versus Discharge Rate_Per_100K')\n",
    "plt.xlabel('Mean_Length_Stay_Days')\n",
    "plt.ylabel('Discharge Rate_Per_100K')"
   ]
  },
  {
   "cell_type": "code",
   "execution_count": 56,
   "id": "4f8284cf",
   "metadata": {
    "pycharm": {
     "name": "#%%\n"
    }
   },
   "outputs": [
    {
     "data": {
      "image/png": "[encoded data removed]",
      "text/plain": [
       "<Figure size 432x288 with 1 Axes>"
      ]
     },
     "metadata": {
      "needs_background": "light"
     },
     "output_type": "display_data"
    },
    {
     "data": {
      "text/plain": [
       "Text(0, 0.5, 'Inpatient_Cost_Per_Capita')"
      ]
     },
     "execution_count": 56,
     "metadata": {},
     "output_type": "execute_result"
    },
    {
     "data": {
      "image/png": "[encoded data removed]",
      "text/plain": [
       "<Figure size 432x288 with 1 Axes>"
      ]
     },
     "metadata": {
      "needs_background": "light"
     },
     "output_type": "display_data"
    }
   ],
   "source": [
    "#How does the \"Costs For Inpatient Stays_Per Capita\" vary with the \"Total Number_Discharges\"?\n",
    "\n",
    "#visualization based on scatter plot\n",
    "sns.scatterplot( x=\"Total_Discharges\", y='Inpatient_Cost_Per_Capita', data=df, hue='States')\n",
    "\n",
    "# Placing Legend outside the Figure\n",
    "plt.legend(bbox_to_anchor=(1, 1), loc=2)\n",
    "plt.show()\n",
    "\n",
    "#Plots used are: bar plot and count plot\n",
    "sns.barplot(x='Total_Discharges', y='Inpatient_Cost_Per_Capita', data=df)\n",
    "sns.countplot(x='States', data=df)\n",
    "\n",
    "plt.title('Total_Discharges Versus Inpatient_Cost_Per_Capita')\n",
    "plt.xlabel('Total_Discharges')\n",
    "plt.ylabel('Inpatient_Cost_Per_Capita')"
   ]
  },
  {
   "cell_type": "code",
   "execution_count": 131,
   "id": "fdeb0eca",
   "metadata": {
    "pycharm": {
     "name": "#%%\n"
    }
   },
   "outputs": [
    {
     "data": {
      "image/png": "[encoded data removed]",
      "text/plain": [
       "<Figure size 432x288 with 1 Axes>"
      ]
     },
     "metadata": {
      "needs_background": "light"
     },
     "output_type": "display_data"
    },
    {
     "data": {
      "image/png": "[encoded data removed]",
      "text/plain": [
       "<Figure size 432x288 with 1 Axes>"
      ]
     },
     "metadata": {
      "needs_background": "light"
     },
     "output_type": "display_data"
    },
    {
     "name": "stderr",
     "output_type": "stream",
     "text": [
      "No artists with labels found to put in legend.  Note that artists whose label start with an underscore are ignored when legend() is called with no argument.\n"
     ]
    },
    {
     "data": {
      "text/plain": [
       "Text(0, 0.5, 'Age_Sex_Adjusted_Inpatient_Days_Per_100K')"
      ]
     },
     "execution_count": 131,
     "metadata": {},
     "output_type": "execute_result"
    },
    {
     "data": {
      "image/png": "[encoded data removed]",
      "text/plain": [
       "<Figure size 432x288 with 1 Axes>"
      ]
     },
     "metadata": {
      "needs_background": "light"
     },
     "output_type": "display_data"
    }
   ],
   "source": [
    "#– How does \"Age And Sex Adjusted Number Of Inpatient Days_Per 100000 Population\" vary with the \"Discharge Rate Per 100000 Population_Age And Sex\"?\n",
    "\n",
    "sns.histplot(x=\"Discharge_Rate_Age_Sex_Per_100K\", y='Age_Sex_Adjusted_Inpatient_Days_Per_100K', alpha = .7, hue='States', data=df)\n",
    "plt.title('Discharge_Rate_Age_Sex_Per_100K Versus Age_Sex_Adjusted_Inpatient_Days_Per_100K')\n",
    "plt.show()\n",
    "\n",
    "#visualization based on scatter plot\n",
    "sns.scatterplot( x='Discharge_Rate_Age_Sex_Per_100K', y='Age_Sex_Adjusted_Inpatient_Days_Per_100K', alpha = .7, hue='States', data=df,)\n",
    "plt.title('Discharge_Rate_Age_Sex_Per_100K Versus Age_Sex_Adjusted_Inpatient_Days_Per_100K')\n",
    "plt.show()\n",
    "        \n",
    "# Placing Legend outside the Figure\n",
    "plt.legend(bbox_to_anchor=(1, 1), loc=2)\n",
    "        \n",
    "#Plots used are: bar plot and count plot\n",
    "       \n",
    "plt.title('Discharge_Rate_Age_Sex_Per_100K Versus Age_Sex_Adjusted_Inpatient_Days_Per_100K')\n",
    "sns.barplot(x='Discharge_Rate_Age_Sex_Per_100K', y='Age_Sex_Adjusted_Inpatient_Days_Per_100K', data=df)\n",
    "sns.countplot(x='States', data=df)\n",
    "\n",
    "plt.xlabel('Discharge_Rate_Age_Sex_Per_100K')\n",
    "plt.ylabel('Age_Sex_Adjusted_Inpatient_Days_Per_100K')"
   ]
  },
  {
   "cell_type": "code",
   "execution_count": 74,
   "id": "c609abb5",
   "metadata": {
    "pycharm": {
     "name": "#%%\n"
    }
   },
   "outputs": [
    {
     "data": {
      "image/png": "[encoded data removed]",
      "text/plain": [
       "<Figure size 432x288 with 1 Axes>"
      ]
     },
     "metadata": {
      "needs_background": "light"
     },
     "output_type": "display_data"
    }
   ],
   "source": [
    "#Viewing the relationship between Mean_Length_Stay_Days and Mean_Cost_Per_Stay\n",
    "sns.boxplot(x='Mean_Length_Stay_Days',y='Mean_Cost_Per_Stay', data=df)\n",
    "plt.xticks(rotation=90)\n",
    "plt.show()"
   ]
  },
  {
   "cell_type": "code",
   "execution_count": 64,
   "id": "722d798e",
   "metadata": {
    "pycharm": {
     "name": "#%%\n"
    }
   },
   "outputs": [
    {
     "data": {
      "text/plain": [
       "Text(0, 0.5, 'States')"
      ]
     },
     "execution_count": 64,
     "metadata": {},
     "output_type": "execute_result"
    },
    {
     "data": {
      "image/png": "[encoded data removed]",
      "text/plain": [
       "<Figure size 432x288 with 1 Axes>"
      ]
     },
     "metadata": {
      "needs_background": "light"
     },
     "output_type": "display_data"
    }
   ],
   "source": [
    "#How does the \"Age And Sex Adjusted Number Of Inpatient Days_Per 100000 Population\" vary with each State?\n",
    "\n",
    "\n",
    "#Plots used are: bar plot and count plot\n",
    "sns.barplot(x='States', y='Age_Sex_Adjusted_Inpatient_Days_Per_100K', data=df)\n",
    "sns.countplot(x='States', data=df)\n",
    "\n",
    "plt.title('Age_Sex_Adjusted_Inpatient_Days_Per_100K Per States')\n",
    "plt.xlabel('Age_Sex_Adjusted_Inpatient_Days_Per_100K')\n",
    "plt.ylabel('States')"
   ]
  },
  {
   "cell_type": "code",
   "execution_count": 48,
   "id": "61f94ba6",
   "metadata": {
    "pycharm": {
     "name": "#%%\n"
    }
   },
   "outputs": [
    {
     "data": {
      "text/plain": [
       "<function matplotlib.pyplot.show(close=None, block=None)>"
      ]
     },
     "execution_count": 48,
     "metadata": {},
     "output_type": "execute_result"
    },
    {
     "data": {
      "image/png": "[encoded data removed]",
      "text/plain": [
       "<Figure size 432x288 with 1 Axes>"
      ]
     },
     "metadata": {
      "needs_background": "light"
     },
     "output_type": "display_data"
    }
   ],
   "source": [
    "#calculating the percentage of Total_Discharge category\n",
    "df.Total_Discharges.value_counts(normalize=True)\n",
    "\n",
    "\n",
    "#Plotting bar graph of percentage of Total_Discharge category\n",
    "df.Total_Discharges.value_counts(normalize=True).plot.barh()\n",
    "plt.show"
   ]
  },
  {
   "cell_type": "code",
   "execution_count": 246,
   "id": "d501fbe0",
   "metadata": {
    "pycharm": {
     "name": "#%%\n"
    }
   },
   "outputs": [
    {
     "name": "stderr",
     "output_type": "stream",
     "text": [
      "C:\\Users\\DOROTHY\\anaconda3\\lib\\site-packages\\seaborn\\_decorators.py:36: FutureWarning: Pass the following variables as keyword args: x, y. From version 0.12, the only valid positional argument will be `data`, and passing other arguments without an explicit keyword will result in an error or misinterpretation.\n",
      "  warnings.warn(\n"
     ]
    },
    {
     "data": {
      "image/png": "[encoded data removed]",
      "text/plain": [
       "<Figure size 432x288 with 1 Axes>"
      ]
     },
     "metadata": {
      "needs_background": "light"
     },
     "output_type": "display_data"
    }
   ],
   "source": [
    "sns.boxplot(df.States, df.Mean_Length_Stay_Days)\n",
    "plt.show()"
   ]
  },
  {
   "cell_type": "code",
   "execution_count": 66,
   "id": "1e9380f0",
   "metadata": {
    "pycharm": {
     "name": "#%%\n"
    }
   },
   "outputs": [
    {
     "data": {
      "text/plain": [
       "<AxesSubplot:xlabel='States', ylabel='count'>"
      ]
     },
     "execution_count": 66,
     "metadata": {},
     "output_type": "execute_result"
    },
    {
     "data": {
      "image/png": "[encoded data removed]",
      "text/plain": [
       "<Figure size 432x288 with 1 Axes>"
      ]
     },
     "metadata": {
      "needs_background": "light"
     },
     "output_type": "display_data"
    }
   ],
   "source": [
    "#Plots used are: bar plot and count plot\n",
    "sns.barplot(x='Age_Sex_Adjusted_Costs_Inpatient_Per_Capita', y='Inpatient_Cost_Per_Capita', palette=\"hls\", data=df)\n",
    "sns.countplot(x='States', data=df)"
   ]
  },
  {
   "cell_type": "code",
   "execution_count": 132,
   "id": "ba6902df",
   "metadata": {
    "pycharm": {
     "name": "#%%\n"
    }
   },
   "outputs": [
    {
     "data": {
      "text/plain": [
       "States                                         4.000000e+00\n",
       "Total_Discharges                               2.437000e+03\n",
       "Discharge Rate_Per_100K                        6.933369e+01\n",
       "Discharge_Rate_Age_Sex_Per_100K                6.897367e+01\n",
       "Mean_Length_Stay_Days                          4.260156e+00\n",
       "Aggregate_Days_In_Hospital                     1.038200e+04\n",
       "Inpatient_Days_Per_100K_Population             2.953723e+02\n",
       "Age_Sex_Adjusted_Inpatient_Days_Per_100K       2.931908e+02\n",
       "Mean_Cost_Per_Stay                             3.118062e+04\n",
       "Aggregate_Costs_All_Hospital_Stays             7.598718e+07\n",
       "Inpatient_Cost_Per_Capita                      2.161868e+01\n",
       "Age_Sex_Adjusted_Costs_Inpatient_Per_Capita    2.137893e+01\n",
       "Name: 8, dtype: float64"
      ]
     },
     "execution_count": 132,
     "metadata": {},
     "output_type": "execute_result"
    }
   ],
   "source": [
    "#Using df.loc to display all data contained in \"Texas Border Region\"\n",
    "df.loc[8]"
   ]
  },
  {
   "cell_type": "code",
   "execution_count": 133,
   "id": "d3f94b64",
   "metadata": {
    "pycharm": {
     "name": "#%%\n"
    }
   },
   "outputs": [
    {
     "data": {
      "text/plain": [
       "Mean_Length_Stay_Days        4.260156\n",
       "Mean_Cost_Per_Stay       31180.623320\n",
       "Total_Discharges          2437.000000\n",
       "Name: 8, dtype: float64"
      ]
     },
     "execution_count": 133,
     "metadata": {},
     "output_type": "execute_result"
    }
   ],
   "source": [
    "#Extracting Texas Border Region column for visualizualization.\n",
    "df.loc[8, ['Mean_Length_Stay_Days', 'Mean_Cost_Per_Stay', 'Total_Discharges']]"
   ]
  },
  {
   "cell_type": "code",
   "execution_count": 135,
   "id": "a9968c4d",
   "metadata": {
    "pycharm": {
     "name": "#%%\n"
    }
   },
   "outputs": [
    {
     "data": {
      "image/png": "[encoded data removed]",
      "text/plain": [
       "<Figure size 432x288 with 1 Axes>"
      ]
     },
     "metadata": {
      "needs_background": "light"
     },
     "output_type": "display_data"
    }
   ],
   "source": [
    "import plotly.express as px\n",
    "import seaborn as sb\n",
    "\n",
    "plt.xticks(rotation=90)\n",
    "sb.barplot(x=\"States\", y=\"Mean_Cost_Per_Stay\", hue=\"States\", data=df)\n",
    "\n",
    "# Placing Legend outside the Figure\n",
    "plt.legend(bbox_to_anchor=(1, 1), loc=2)\n",
    "plt.show()"
   ]
  },
  {
   "cell_type": "code",
   "execution_count": 140,
   "id": "6c8a1a4f",
   "metadata": {
    "pycharm": {
     "name": "#%%\n"
    }
   },
   "outputs": [],
   "source": [
    "x1=TexasBorderRegion\n",
    "x2=TexasNonBorderRegion\n",
    "x3=NewMexicoBorderRegion\n",
    "x4=NewMexicoNonBorderRegion"
   ]
  },
  {
   "cell_type": "code",
   "execution_count": 154,
   "id": "e94fa217",
   "metadata": {
    "pycharm": {
     "name": "#%%\n"
    }
   },
   "outputs": [],
   "source": [
    "X = df.iloc[:, 0:4].values\n",
    "y = df.iloc[:, 4].values"
   ]
  },
  {
   "cell_type": "code",
   "execution_count": 176,
   "id": "291d579e",
   "metadata": {
    "pycharm": {
     "name": "#%%\n"
    }
   },
   "outputs": [],
   "source": [
    "#Splitting data into training and testing sets:\n",
    "from sklearn.model_selection import train_test_split\n",
    "X_train, X_test, y_train, y_test = train_test_split(X, y, test_size=0.2, random_state=5)"
   ]
  },
  {
   "cell_type": "code",
   "execution_count": 177,
   "id": "edc06bfd",
   "metadata": {
    "pycharm": {
     "name": "#%%\n"
    }
   },
   "outputs": [],
   "source": [
    "#Feature Scaling\n",
    "\n",
    "from sklearn.preprocessing import StandardScaler\n",
    "sc = StandardScaler()\n",
    "X_train = sc.fit_transform(X_train)\n",
    "X_test = sc.transform(X_test)"
   ]
  },
  {
   "cell_type": "code",
   "execution_count": 178,
   "id": "ad8b1572",
   "metadata": {
    "pycharm": {
     "name": "#%%\n"
    }
   },
   "outputs": [],
   "source": [
    "#Training with random forest algorithm to solve this regression problem\n",
    "#Using the Exploratory Data Analysis, to build and fit with a regression Model  \n",
    "\n",
    "from sklearn.ensemble import RandomForestRegressor\n",
    "regressor = RandomForestRegressor(n_estimators=200, random_state=5)\n",
    "regressor.fit(X_train, y_train)\n",
    "y_pred = regressor.predict(X_test)"
   ]
  },
  {
   "cell_type": "code",
   "execution_count": 179,
   "id": "c45639ae",
   "metadata": {
    "pycharm": {
     "name": "#%%\n"
    }
   },
   "outputs": [
    {
     "name": "stdout",
     "output_type": "stream",
     "text": [
      "Mean Absolute Error: 0.1789562485966704\n",
      "Mean Squared Error: 0.033452109999084954\n",
      "Root Mean Squared Error: 0.1828991798753755\n"
     ]
    }
   ],
   "source": [
    "#Evaluating the Algorithm: For regression problems the metrics used to evaluate an algorithm are mean absolute error, mean squared error, and root mean squared error\n",
    "# With 20 trees, the root mean squared error is 0.18289\n",
    "\n",
    "from sklearn import metrics\n",
    "print('Mean Absolute Error:', metrics.mean_absolute_error(y_test, y_pred))\n",
    "print('Mean Squared Error:', metrics.mean_squared_error(y_test, y_pred))\n",
    "print('Root Mean Squared Error:', np.sqrt(metrics.mean_squared_error(y_test, y_pred)))"
   ]
  },
  {
   "cell_type": "code",
   "execution_count": 213,
   "id": "2d98bc20",
   "metadata": {
    "pycharm": {
     "name": "#%%\n"
    }
   },
   "outputs": [],
   "source": [
    "from sklearn.ensemble import RandomForestRegressor\n",
    "\n",
    "regressor = RandomForestRegressor(n_estimators=200, random_state=5)\n",
    "regressor.fit(X_train, y_train)\n",
    "y_pred = regressor.predict(X_test)"
   ]
  },
  {
   "cell_type": "code",
   "execution_count": 211,
   "id": "94040f10",
   "metadata": {
    "pycharm": {
     "name": "#%%\n"
    }
   },
   "outputs": [],
   "source": [
    "#Using Random Forest for Classification\n",
    "\n",
    "from sklearn.ensemble import RandomForestClassifier\n",
    "regressor = RandomForestClassifier(n_estimators=200, random_state=5)"
   ]
  },
  {
   "cell_type": "code",
   "execution_count": 215,
   "id": "e7f87a36",
   "metadata": {
    "pycharm": {
     "name": "#%%\n"
    }
   },
   "outputs": [
    {
     "ename": "ValueError",
     "evalue": "Unknown label type: 'continuous'",
     "output_type": "error",
     "traceback": [
      "\u001B[1;31m---------------------------------------------------------------------------\u001B[0m",
      "\u001B[1;31mValueError\u001B[0m                                Traceback (most recent call last)",
      "Input \u001B[1;32mIn [215]\u001B[0m, in \u001B[0;36m<cell line: 7>\u001B[1;34m()\u001B[0m\n\u001B[0;32m      2\u001B[0m dtree \u001B[38;5;241m=\u001B[39m DecisionTreeClassifier()\n\u001B[0;32m      3\u001B[0m clf \u001B[38;5;241m=\u001B[39m tree\u001B[38;5;241m.\u001B[39mDecisionTreeClassifier()\n\u001B[1;32m----> 7\u001B[0m \u001B[43mclf\u001B[49m\u001B[38;5;241;43m.\u001B[39;49m\u001B[43mfit\u001B[49m\u001B[43m(\u001B[49m\u001B[43mX_train\u001B[49m\u001B[43m,\u001B[49m\u001B[43m \u001B[49m\u001B[43my_train\u001B[49m\u001B[43m)\u001B[49m\n\u001B[0;32m      8\u001B[0m y_pred \u001B[38;5;241m=\u001B[39m clf\u001B[38;5;241m.\u001B[39mpredict(x_test)\n",
      "File \u001B[1;32m~\\anaconda3\\lib\\site-packages\\sklearn\\tree\\_classes.py:937\u001B[0m, in \u001B[0;36mDecisionTreeClassifier.fit\u001B[1;34m(self, X, y, sample_weight, check_input, X_idx_sorted)\u001B[0m\n\u001B[0;32m    899\u001B[0m \u001B[38;5;28;01mdef\u001B[39;00m \u001B[38;5;21mfit\u001B[39m(\n\u001B[0;32m    900\u001B[0m     \u001B[38;5;28mself\u001B[39m, X, y, sample_weight\u001B[38;5;241m=\u001B[39m\u001B[38;5;28;01mNone\u001B[39;00m, check_input\u001B[38;5;241m=\u001B[39m\u001B[38;5;28;01mTrue\u001B[39;00m, X_idx_sorted\u001B[38;5;241m=\u001B[39m\u001B[38;5;124m\"\u001B[39m\u001B[38;5;124mdeprecated\u001B[39m\u001B[38;5;124m\"\u001B[39m\n\u001B[0;32m    901\u001B[0m ):\n\u001B[0;32m    902\u001B[0m     \u001B[38;5;124;03m\"\"\"Build a decision tree classifier from the training set (X, y).\u001B[39;00m\n\u001B[0;32m    903\u001B[0m \n\u001B[0;32m    904\u001B[0m \u001B[38;5;124;03m    Parameters\u001B[39;00m\n\u001B[1;32m   (...)\u001B[0m\n\u001B[0;32m    934\u001B[0m \u001B[38;5;124;03m        Fitted estimator.\u001B[39;00m\n\u001B[0;32m    935\u001B[0m \u001B[38;5;124;03m    \"\"\"\u001B[39;00m\n\u001B[1;32m--> 937\u001B[0m     \u001B[38;5;28;43msuper\u001B[39;49m\u001B[43m(\u001B[49m\u001B[43m)\u001B[49m\u001B[38;5;241;43m.\u001B[39;49m\u001B[43mfit\u001B[49m\u001B[43m(\u001B[49m\n\u001B[0;32m    938\u001B[0m \u001B[43m        \u001B[49m\u001B[43mX\u001B[49m\u001B[43m,\u001B[49m\n\u001B[0;32m    939\u001B[0m \u001B[43m        \u001B[49m\u001B[43my\u001B[49m\u001B[43m,\u001B[49m\n\u001B[0;32m    940\u001B[0m \u001B[43m        \u001B[49m\u001B[43msample_weight\u001B[49m\u001B[38;5;241;43m=\u001B[39;49m\u001B[43msample_weight\u001B[49m\u001B[43m,\u001B[49m\n\u001B[0;32m    941\u001B[0m \u001B[43m        \u001B[49m\u001B[43mcheck_input\u001B[49m\u001B[38;5;241;43m=\u001B[39;49m\u001B[43mcheck_input\u001B[49m\u001B[43m,\u001B[49m\n\u001B[0;32m    942\u001B[0m \u001B[43m        \u001B[49m\u001B[43mX_idx_sorted\u001B[49m\u001B[38;5;241;43m=\u001B[39;49m\u001B[43mX_idx_sorted\u001B[49m\u001B[43m,\u001B[49m\n\u001B[0;32m    943\u001B[0m \u001B[43m    \u001B[49m\u001B[43m)\u001B[49m\n\u001B[0;32m    944\u001B[0m     \u001B[38;5;28;01mreturn\u001B[39;00m \u001B[38;5;28mself\u001B[39m\n",
      "File \u001B[1;32m~\\anaconda3\\lib\\site-packages\\sklearn\\tree\\_classes.py:203\u001B[0m, in \u001B[0;36mBaseDecisionTree.fit\u001B[1;34m(self, X, y, sample_weight, check_input, X_idx_sorted)\u001B[0m\n\u001B[0;32m    200\u001B[0m \u001B[38;5;28mself\u001B[39m\u001B[38;5;241m.\u001B[39mn_outputs_ \u001B[38;5;241m=\u001B[39m y\u001B[38;5;241m.\u001B[39mshape[\u001B[38;5;241m1\u001B[39m]\n\u001B[0;32m    202\u001B[0m \u001B[38;5;28;01mif\u001B[39;00m is_classification:\n\u001B[1;32m--> 203\u001B[0m     \u001B[43mcheck_classification_targets\u001B[49m\u001B[43m(\u001B[49m\u001B[43my\u001B[49m\u001B[43m)\u001B[49m\n\u001B[0;32m    204\u001B[0m     y \u001B[38;5;241m=\u001B[39m np\u001B[38;5;241m.\u001B[39mcopy(y)\n\u001B[0;32m    206\u001B[0m     \u001B[38;5;28mself\u001B[39m\u001B[38;5;241m.\u001B[39mclasses_ \u001B[38;5;241m=\u001B[39m []\n",
      "File \u001B[1;32m~\\anaconda3\\lib\\site-packages\\sklearn\\utils\\multiclass.py:197\u001B[0m, in \u001B[0;36mcheck_classification_targets\u001B[1;34m(y)\u001B[0m\n\u001B[0;32m    189\u001B[0m y_type \u001B[38;5;241m=\u001B[39m type_of_target(y)\n\u001B[0;32m    190\u001B[0m \u001B[38;5;28;01mif\u001B[39;00m y_type \u001B[38;5;129;01mnot\u001B[39;00m \u001B[38;5;129;01min\u001B[39;00m [\n\u001B[0;32m    191\u001B[0m     \u001B[38;5;124m\"\u001B[39m\u001B[38;5;124mbinary\u001B[39m\u001B[38;5;124m\"\u001B[39m,\n\u001B[0;32m    192\u001B[0m     \u001B[38;5;124m\"\u001B[39m\u001B[38;5;124mmulticlass\u001B[39m\u001B[38;5;124m\"\u001B[39m,\n\u001B[1;32m   (...)\u001B[0m\n\u001B[0;32m    195\u001B[0m     \u001B[38;5;124m\"\u001B[39m\u001B[38;5;124mmultilabel-sequences\u001B[39m\u001B[38;5;124m\"\u001B[39m,\n\u001B[0;32m    196\u001B[0m ]:\n\u001B[1;32m--> 197\u001B[0m     \u001B[38;5;28;01mraise\u001B[39;00m \u001B[38;5;167;01mValueError\u001B[39;00m(\u001B[38;5;124m\"\u001B[39m\u001B[38;5;124mUnknown label type: \u001B[39m\u001B[38;5;132;01m%r\u001B[39;00m\u001B[38;5;124m\"\u001B[39m \u001B[38;5;241m%\u001B[39m y_type)\n",
      "\u001B[1;31mValueError\u001B[0m: Unknown label type: 'continuous'"
     ]
    }
   ],
   "source": [
    "from sklearn.tree import DecisionTreeClassifier\n",
    "dtree = DecisionTreeClassifier()\n",
    "clf = tree.DecisionTreeClassifier()\n",
    "\n",
    "\n",
    "\n",
    "clf.fit(X_train, y_train)\n",
    "y_pred = clf.predict(x_test)"
   ]
  },
  {
   "cell_type": "code",
   "execution_count": 222,
   "id": "53f3c587",
   "metadata": {
    "pycharm": {
     "name": "#%%\n"
    }
   },
   "outputs": [],
   "source": [
    "#We are interested in checking how Age_Sex_Adjusted_Inpatient_Days_Per_100K is affecting the Mean_Cost_Per_Stay\n",
    "\n",
    "y = df.Mean_Cost_Per_Stay\n",
    "\n",
    "X = part_df[[\"Age_Sex_Adjusted_Inpatient_Days_Per_100K\"]]"
   ]
  },
  {
   "cell_type": "code",
   "execution_count": 221,
   "id": "80bc0ef0",
   "metadata": {
    "pycharm": {
     "name": "#%%\n"
    }
   },
   "outputs": [
    {
     "data": {
      "text/html": [
       "<div>\n",
       "<style scoped>\n",
       "    .dataframe tbody tr th:only-of-type {\n",
       "        vertical-align: middle;\n",
       "    }\n",
       "\n",
       "    .dataframe tbody tr th {\n",
       "        vertical-align: top;\n",
       "    }\n",
       "\n",
       "    .dataframe thead th {\n",
       "        text-align: right;\n",
       "    }\n",
       "</style>\n",
       "<table border=\"1\" class=\"dataframe\">\n",
       "  <thead>\n",
       "    <tr style=\"text-align: right;\">\n",
       "      <th></th>\n",
       "      <th>Mean_Cost_Per_Stay</th>\n",
       "      <th>Age_Sex_Adjusted_Inpatient_Days_Per_100K</th>\n",
       "    </tr>\n",
       "  </thead>\n",
       "  <tbody>\n",
       "    <tr>\n",
       "      <th>2</th>\n",
       "      <td>25394.86421</td>\n",
       "      <td>330.010506</td>\n",
       "    </tr>\n",
       "    <tr>\n",
       "      <th>3</th>\n",
       "      <td>29781.35299</td>\n",
       "      <td>320.704169</td>\n",
       "    </tr>\n",
       "    <tr>\n",
       "      <th>4</th>\n",
       "      <td>23309.46073</td>\n",
       "      <td>332.868395</td>\n",
       "    </tr>\n",
       "    <tr>\n",
       "      <th>5</th>\n",
       "      <td>22977.05334</td>\n",
       "      <td>531.137647</td>\n",
       "    </tr>\n",
       "    <tr>\n",
       "      <th>6</th>\n",
       "      <td>24595.09513</td>\n",
       "      <td>429.431963</td>\n",
       "    </tr>\n",
       "    <tr>\n",
       "      <th>7</th>\n",
       "      <td>24651.58359</td>\n",
       "      <td>342.624291</td>\n",
       "    </tr>\n",
       "    <tr>\n",
       "      <th>8</th>\n",
       "      <td>31180.62332</td>\n",
       "      <td>293.190796</td>\n",
       "    </tr>\n",
       "    <tr>\n",
       "      <th>9</th>\n",
       "      <td>26289.94718</td>\n",
       "      <td>512.681639</td>\n",
       "    </tr>\n",
       "    <tr>\n",
       "      <th>10</th>\n",
       "      <td>19488.46604</td>\n",
       "      <td>682.644694</td>\n",
       "    </tr>\n",
       "    <tr>\n",
       "      <th>11</th>\n",
       "      <td>26678.88305</td>\n",
       "      <td>378.532462</td>\n",
       "    </tr>\n",
       "    <tr>\n",
       "      <th>12</th>\n",
       "      <td>25642.61381</td>\n",
       "      <td>301.148243</td>\n",
       "    </tr>\n",
       "    <tr>\n",
       "      <th>13</th>\n",
       "      <td>29718.08437</td>\n",
       "      <td>322.233193</td>\n",
       "    </tr>\n",
       "    <tr>\n",
       "      <th>14</th>\n",
       "      <td>22235.54782</td>\n",
       "      <td>284.985042</td>\n",
       "    </tr>\n",
       "    <tr>\n",
       "      <th>15</th>\n",
       "      <td>23411.45442</td>\n",
       "      <td>490.837047</td>\n",
       "    </tr>\n",
       "  </tbody>\n",
       "</table>\n",
       "</div>"
      ],
      "text/plain": [
       "    Mean_Cost_Per_Stay  Age_Sex_Adjusted_Inpatient_Days_Per_100K\n",
       "2          25394.86421                                330.010506\n",
       "3          29781.35299                                320.704169\n",
       "4          23309.46073                                332.868395\n",
       "5          22977.05334                                531.137647\n",
       "6          24595.09513                                429.431963\n",
       "7          24651.58359                                342.624291\n",
       "8          31180.62332                                293.190796\n",
       "9          26289.94718                                512.681639\n",
       "10         19488.46604                                682.644694\n",
       "11         26678.88305                                378.532462\n",
       "12         25642.61381                                301.148243\n",
       "13         29718.08437                                322.233193\n",
       "14         22235.54782                                284.985042\n",
       "15         23411.45442                                490.837047"
      ]
     },
     "execution_count": 221,
     "metadata": {},
     "output_type": "execute_result"
    }
   ],
   "source": [
    "#Setting target and regressor variables separate from dataframe\n",
    "\n",
    "part_df = df[[\"Mean_Cost_Per_Stay\", \"Age_Sex_Adjusted_Inpatient_Days_Per_100K\"]]\n",
    "part_df"
   ]
  },
  {
   "cell_type": "code",
   "execution_count": 224,
   "id": "d1910c74",
   "metadata": {
    "pycharm": {
     "name": "#%%\n"
    }
   },
   "outputs": [
    {
     "data": {
      "text/plain": [
       "LinearRegression()"
      ]
     },
     "execution_count": 224,
     "metadata": {},
     "output_type": "execute_result"
    }
   ],
   "source": [
    "#Fitting simple Linear Regression Model\n",
    "linr_model = LinearRegression().fit(X, y)\n",
    "\n",
    "linr_model"
   ]
  },
  {
   "cell_type": "code",
   "execution_count": 226,
   "id": "a2896feb",
   "metadata": {
    "pycharm": {
     "name": "#%%\n"
    }
   },
   "outputs": [
    {
     "data": {
      "text/plain": [
       "array([-16.22194325])"
      ]
     },
     "execution_count": 226,
     "metadata": {},
     "output_type": "execute_result"
    }
   ],
   "source": [
    "#generating coefficient\n",
    "\n",
    "linr_model.coef_"
   ]
  },
  {
   "cell_type": "code",
   "execution_count": 227,
   "id": "9c081b90",
   "metadata": {
    "pycharm": {
     "name": "#%%\n"
    }
   },
   "outputs": [
    {
     "data": {
      "text/plain": [
       "31816.854924833024"
      ]
     },
     "execution_count": 227,
     "metadata": {},
     "output_type": "execute_result"
    }
   ],
   "source": [
    "#generating Intercept\n",
    "linr_model.intercept_"
   ]
  },
  {
   "cell_type": "code",
   "execution_count": 229,
   "id": "2480d6a2",
   "metadata": {
    "pycharm": {
     "name": "#%%\n"
    }
   },
   "outputs": [
    {
     "data": {
      "text/plain": [
       "array([26463.44322453, 26614.4100871 , 26417.08271623, 23200.77015554,\n",
       "       24850.63399285, 26258.82311523, 27060.73047389, 23500.16246669,\n",
       "       20743.03143548, 25676.3228144 , 26931.64521861, 26589.60634817,\n",
       "       27193.84375447, 23854.52419682])"
      ]
     },
     "execution_count": 229,
     "metadata": {},
     "output_type": "execute_result"
    }
   ],
   "source": [
    "#Making Predictions based on the coefficient and intercept: The result below is an array of Mean_Cost_Per_Stay for the corresponding Age_Sex_Adjusted_Inpatient_Days_Per_100K values\n",
    "\n",
    "linr_model.predict(part_df[[\"Age_Sex_Adjusted_Inpatient_Days_Per_100K\"]])"
   ]
  },
  {
   "cell_type": "code",
   "execution_count": 232,
   "id": "ae0f0bc5",
   "metadata": {
    "pycharm": {
     "name": "#%%\n"
    }
   },
   "outputs": [
    {
     "data": {
      "text/plain": [
       "0.3505543459974838"
      ]
     },
     "execution_count": 232,
     "metadata": {},
     "output_type": "execute_result"
    }
   ],
   "source": [
    "#variation explained: Here, the r2_score() is a function that gives the coefficient of determination value. \n",
    "#The actual and predicted values are set under the y_true and y_pred  arguments\n",
    "\n",
    "from sklearn.metrics import r2_score\n",
    "\n",
    "r2_score(\n",
    "\n",
    "    y_true = part_df.Mean_Cost_Per_Stay, \n",
    "\n",
    "    y_pred = linr_model.predict(part_df[[\"Age_Sex_Adjusted_Inpatient_Days_Per_100K\"]])\n",
    "\n",
    ")"
   ]
  },
  {
   "cell_type": "code",
   "execution_count": null,
   "id": "120ee5ce",
   "metadata": {
    "pycharm": {
     "name": "#%%\n"
    }
   },
   "outputs": [],
   "source": []
  }
 ],
 "metadata": {
  "kernelspec": {
   "display_name": "Python 3 (ipykernel)",
   "language": "python",
   "name": "python3"
  },
  "language_info": {
   "codemirror_mode": {
    "name": "ipython",
    "version": 3
   },
   "file_extension": ".py",
   "mimetype": "text/x-python",
   "name": "python",
   "nbconvert_exporter": "python",
   "pygments_lexer": "ipython3",
   "version": "3.9.12"
  }
 },
 "nbformat": 4,
 "nbformat_minor": 5
}