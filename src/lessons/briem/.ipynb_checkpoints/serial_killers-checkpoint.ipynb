{
 "cells": [
  {
   "cell_type": "markdown",
   "id": "4d498fe6",
   "metadata": {},
   "source": [
    "# Serial Killers\n",
    "\n",
    "## Introduction-\n",
    "In recent years, serial killers have grown in popularity in mainstream media. Documentaries on killers such as John Wayne Gacy and Ted Bundy are currently featured on Netflix. Hundreds of thousands of people tune in to watch the disturbing, yet fascinating stories of the men and the terrible crimes they commit. Some speculate that the interest in such horrific and terrible people comes from the inability to grasp what these offenders are even remotely capable. \n",
    "\n",
    "Serial killers have been present since before any of us were even around to learn anything about, let alone catch them. In the past 20 years the number of killers have dropped significantly due to advancements in science and technology but there was a time, before science caught up, that serial killers were running \"rampant\" and I will be expanding on that information and demonstrate the drop in serial kills. Overall the statistics point to serial killing being a male dominated past time but there is proof that it is not just men, but women as well though in much smaller numbers. \n",
    "\n",
    "I will be comparing numbers from the height of killing to today as well as the comparison of male serial killers to women serial killers. Noting the difference between both and the suspected reasons why one group is larger than the other. "
   ]
  },
  {
   "cell_type": "markdown",
   "id": "30f8b99d",
   "metadata": {},
   "source": [
    "## Hypothysis \n",
    "\n",
    "There has been a steady decline in serial killings since the '70's and '80's."
   ]
  },
  {
   "cell_type": "markdown",
   "id": "fcc430fb",
   "metadata": {},
   "source": [
    "## Definitions\n",
    "\n",
    "A serial killer is defined as having three of more killings over time. "
   ]
  },
  {
   "cell_type": "code",
   "execution_count": 1,
   "id": "2c0d1d39",
   "metadata": {},
   "outputs": [],
   "source": [
    "import pandas as pd"
   ]
  },
  {
   "cell_type": "code",
   "execution_count": 2,
   "id": "31f12919",
   "metadata": {},
   "outputs": [],
   "source": [
    "import matplotlib.pyplot as plt\n"
   ]
  },
  {
   "cell_type": "code",
   "execution_count": 3,
   "id": "045cef04",
   "metadata": {},
   "outputs": [],
   "source": [
    "serial_killers = [\n",
    "    [\"Jack the Ripper\", 1887, 1888, 5, \"Knife Wound, Multilation\"],\n",
    "    [\"Jeffrey Dahmer\", 1974, 1991, 17, \"Strangulation\"],\n",
    "    [\"Harold Shipman\", 1972, 1998, 250, \"Morphine Overdose\"],\n",
    "    [\"John Wayne Gacy\", 1978, 1994, 33, \"Asphyxiation with garrot\"],\n",
    "    [\"H.H. Holmes\", 1983, 1986, 30, \"Hanged\"],\n",
    "    ['Luis Garavito', 1992, 1999, 147, \"Stabbing, Mutilation\"],\n",
    "    ['Henry Lee Lucas', 1946, 1983, 41, \"Stabbing\"],\n",
    "\n",
    "]\n",
    "headers = [\n",
    "    \"Name\",\n",
    "    \"From\",\n",
    "    \"To\",\n",
    "    \"Victim Count\",\n",
    "    \"Modus Operandi\"\n",
    "    \"Gender\"\n",
    "\n",
    "]"
   ]
  },
  {
   "cell_type": "code",
   "execution_count": 4,
   "id": "2751f0ab",
   "metadata": {},
   "outputs": [],
   "source": [
    "sk = pd.DataFrame(serial_killers, columns=headers)"
   ]
  },
  {
   "cell_type": "code",
   "execution_count": 5,
   "id": "348d2814",
   "metadata": {},
   "outputs": [],
   "source": [
    "serial_killer_ladies = [\n",
    "    ['Aileen Wuornos', 1989, 1990, 7, \"Gun Shot\"],\n",
    "    ['Judias Buenoano', 1971, 1980, 3, \"Arsenic Poisoning\"],\n",
    "    ['Juana Barraza', 2002, 2006, 40, \"Strangulation\"],\n",
    "    [\"Jane Toppan or Jolly Jane\", 1895, 1901, 31, \"Poisoning\"],\n",
    "    ['Gesche Gottfried', 1813, 1827, 15, \"Poisoning\"],\n",
    "    ['Amelia Dyer', 1869, 1896, 400, \"Poison, Starvation, Strangulation\"],\n",
    "    ['kristen Gilbert', 1995, 1996, 4, \"Stimulant Injections\"],\n",
    "    ['Nannie Doss', 1920, 1954, 11, \"Rat Poison\"],\n",
    "    ['Dorotha Puente', 1982, 1988, 9, \"Drug Overdose\"],\n",
    "    ['Miyuki Ishikawa', 1944, 1948, 169, 'Neglect']\n",
    "\n",
    "]\n",
    "\n",
    "headers2 = [\n",
    "    \"Name\",\n",
    "    \"From\",\n",
    "    \"To\",\n",
    "    \"Victim Count\",\n",
    "    \"Modus Operandi\"\n",
    "\n",
    "]"
   ]
  },
  {
   "cell_type": "code",
   "execution_count": 6,
   "id": "73bb4185",
   "metadata": {},
   "outputs": [],
   "source": [
    "skw = pd.DataFrame(serial_killer_ladies, columns=headers2)"
   ]
  },
  {
   "cell_type": "code",
   "execution_count": 7,
   "id": "52daeb63",
   "metadata": {},
   "outputs": [
    {
     "data": {
      "text/html": [
       "<div>\n",
       "<style scoped>\n",
       "    .dataframe tbody tr th:only-of-type {\n",
       "        vertical-align: middle;\n",
       "    }\n",
       "\n",
       "    .dataframe tbody tr th {\n",
       "        vertical-align: top;\n",
       "    }\n",
       "\n",
       "    .dataframe thead th {\n",
       "        text-align: right;\n",
       "    }\n",
       "</style>\n",
       "<table border=\"1\" class=\"dataframe\">\n",
       "  <thead>\n",
       "    <tr style=\"text-align: right;\">\n",
       "      <th></th>\n",
       "      <th>Name</th>\n",
       "      <th>From</th>\n",
       "      <th>To</th>\n",
       "      <th>Victim Count</th>\n",
       "      <th>Modus Operandi</th>\n",
       "    </tr>\n",
       "  </thead>\n",
       "  <tbody>\n",
       "    <tr>\n",
       "      <th>0</th>\n",
       "      <td>Aileen Wuornos</td>\n",
       "      <td>1989</td>\n",
       "      <td>1990</td>\n",
       "      <td>7</td>\n",
       "      <td>Gun Shot</td>\n",
       "    </tr>\n",
       "    <tr>\n",
       "      <th>1</th>\n",
       "      <td>Judias Buenoano</td>\n",
       "      <td>1971</td>\n",
       "      <td>1980</td>\n",
       "      <td>3</td>\n",
       "      <td>Arsenic Poisoning</td>\n",
       "    </tr>\n",
       "    <tr>\n",
       "      <th>2</th>\n",
       "      <td>Juana Barraza</td>\n",
       "      <td>2002</td>\n",
       "      <td>2006</td>\n",
       "      <td>40</td>\n",
       "      <td>Strangulation</td>\n",
       "    </tr>\n",
       "    <tr>\n",
       "      <th>3</th>\n",
       "      <td>Jane Toppan or Jolly Jane</td>\n",
       "      <td>1895</td>\n",
       "      <td>1901</td>\n",
       "      <td>31</td>\n",
       "      <td>Poisoning</td>\n",
       "    </tr>\n",
       "    <tr>\n",
       "      <th>4</th>\n",
       "      <td>Gesche Gottfried</td>\n",
       "      <td>1813</td>\n",
       "      <td>1827</td>\n",
       "      <td>15</td>\n",
       "      <td>Poisoning</td>\n",
       "    </tr>\n",
       "    <tr>\n",
       "      <th>5</th>\n",
       "      <td>Amelia Dyer</td>\n",
       "      <td>1869</td>\n",
       "      <td>1896</td>\n",
       "      <td>400</td>\n",
       "      <td>Poison, Starvation, Strangulation</td>\n",
       "    </tr>\n",
       "    <tr>\n",
       "      <th>6</th>\n",
       "      <td>kristen Gilbert</td>\n",
       "      <td>1995</td>\n",
       "      <td>1996</td>\n",
       "      <td>4</td>\n",
       "      <td>Stimulant Injections</td>\n",
       "    </tr>\n",
       "    <tr>\n",
       "      <th>7</th>\n",
       "      <td>Nannie Doss</td>\n",
       "      <td>1920</td>\n",
       "      <td>1954</td>\n",
       "      <td>11</td>\n",
       "      <td>Rat Poison</td>\n",
       "    </tr>\n",
       "    <tr>\n",
       "      <th>8</th>\n",
       "      <td>Dorotha Puente</td>\n",
       "      <td>1982</td>\n",
       "      <td>1988</td>\n",
       "      <td>9</td>\n",
       "      <td>Drug Overdose</td>\n",
       "    </tr>\n",
       "    <tr>\n",
       "      <th>9</th>\n",
       "      <td>Miyuki Ishikawa</td>\n",
       "      <td>1944</td>\n",
       "      <td>1948</td>\n",
       "      <td>169</td>\n",
       "      <td>Neglect</td>\n",
       "    </tr>\n",
       "  </tbody>\n",
       "</table>\n",
       "</div>"
      ],
      "text/plain": [
       "                        Name  From    To  Victim Count  \\\n",
       "0             Aileen Wuornos  1989  1990             7   \n",
       "1            Judias Buenoano  1971  1980             3   \n",
       "2              Juana Barraza  2002  2006            40   \n",
       "3  Jane Toppan or Jolly Jane  1895  1901            31   \n",
       "4           Gesche Gottfried  1813  1827            15   \n",
       "5                Amelia Dyer  1869  1896           400   \n",
       "6            kristen Gilbert  1995  1996             4   \n",
       "7                Nannie Doss  1920  1954            11   \n",
       "8             Dorotha Puente  1982  1988             9   \n",
       "9            Miyuki Ishikawa  1944  1948           169   \n",
       "\n",
       "                      Modus Operandi  \n",
       "0                           Gun Shot  \n",
       "1                  Arsenic Poisoning  \n",
       "2                      Strangulation  \n",
       "3                          Poisoning  \n",
       "4                          Poisoning  \n",
       "5  Poison, Starvation, Strangulation  \n",
       "6               Stimulant Injections  \n",
       "7                         Rat Poison  \n",
       "8                      Drug Overdose  \n",
       "9                            Neglect  "
      ]
     },
     "execution_count": 7,
     "metadata": {},
     "output_type": "execute_result"
    }
   ],
   "source": [
    "skw"
   ]
  },
  {
   "cell_type": "markdown",
   "id": "f987016f",
   "metadata": {},
   "source": [
    "## Oberservations \n",
    "To address the hypothysis we need number of killings per year. We dont have that data, all we have is killings across a \n",
    "time period so we are going to: \n",
    "    1. Calculate a duration using the from and to date.\n",
    "    1. Use duration and victim count to calculate an estimate of killings per year. \n",
    "    \n",
    "    \n",
    "We should draw a chart to show the trends from this data. "
   ]
  },
  {
   "cell_type": "code",
   "execution_count": 8,
   "id": "d3d1d081",
   "metadata": {},
   "outputs": [
    {
     "data": {
      "text/html": [
       "<div>\n",
       "<style scoped>\n",
       "    .dataframe tbody tr th:only-of-type {\n",
       "        vertical-align: middle;\n",
       "    }\n",
       "\n",
       "    .dataframe tbody tr th {\n",
       "        vertical-align: top;\n",
       "    }\n",
       "\n",
       "    .dataframe thead th {\n",
       "        text-align: right;\n",
       "    }\n",
       "</style>\n",
       "<table border=\"1\" class=\"dataframe\">\n",
       "  <thead>\n",
       "    <tr style=\"text-align: right;\">\n",
       "      <th></th>\n",
       "      <th>Name</th>\n",
       "      <th>From</th>\n",
       "      <th>To</th>\n",
       "      <th>Victim Count</th>\n",
       "      <th>Modus OperandiGender</th>\n",
       "    </tr>\n",
       "  </thead>\n",
       "  <tbody>\n",
       "    <tr>\n",
       "      <th>0</th>\n",
       "      <td>Jack the Ripper</td>\n",
       "      <td>1887</td>\n",
       "      <td>1888</td>\n",
       "      <td>5</td>\n",
       "      <td>Knife Wound, Multilation</td>\n",
       "    </tr>\n",
       "    <tr>\n",
       "      <th>1</th>\n",
       "      <td>Jeffrey Dahmer</td>\n",
       "      <td>1974</td>\n",
       "      <td>1991</td>\n",
       "      <td>17</td>\n",
       "      <td>Strangulation</td>\n",
       "    </tr>\n",
       "    <tr>\n",
       "      <th>2</th>\n",
       "      <td>Harold Shipman</td>\n",
       "      <td>1972</td>\n",
       "      <td>1998</td>\n",
       "      <td>250</td>\n",
       "      <td>Morphine Overdose</td>\n",
       "    </tr>\n",
       "    <tr>\n",
       "      <th>3</th>\n",
       "      <td>John Wayne Gacy</td>\n",
       "      <td>1978</td>\n",
       "      <td>1994</td>\n",
       "      <td>33</td>\n",
       "      <td>Asphyxiation with garrot</td>\n",
       "    </tr>\n",
       "    <tr>\n",
       "      <th>4</th>\n",
       "      <td>H.H. Holmes</td>\n",
       "      <td>1983</td>\n",
       "      <td>1986</td>\n",
       "      <td>30</td>\n",
       "      <td>Hanged</td>\n",
       "    </tr>\n",
       "    <tr>\n",
       "      <th>5</th>\n",
       "      <td>Luis Garavito</td>\n",
       "      <td>1992</td>\n",
       "      <td>1999</td>\n",
       "      <td>147</td>\n",
       "      <td>Stabbing, Mutilation</td>\n",
       "    </tr>\n",
       "    <tr>\n",
       "      <th>6</th>\n",
       "      <td>Henry Lee Lucas</td>\n",
       "      <td>1946</td>\n",
       "      <td>1983</td>\n",
       "      <td>41</td>\n",
       "      <td>Stabbing</td>\n",
       "    </tr>\n",
       "  </tbody>\n",
       "</table>\n",
       "</div>"
      ],
      "text/plain": [
       "              Name  From    To  Victim Count      Modus OperandiGender\n",
       "0  Jack the Ripper  1887  1888             5  Knife Wound, Multilation\n",
       "1   Jeffrey Dahmer  1974  1991            17             Strangulation\n",
       "2   Harold Shipman  1972  1998           250         Morphine Overdose\n",
       "3  John Wayne Gacy  1978  1994            33  Asphyxiation with garrot\n",
       "4      H.H. Holmes  1983  1986            30                    Hanged\n",
       "5    Luis Garavito  1992  1999           147      Stabbing, Mutilation\n",
       "6  Henry Lee Lucas  1946  1983            41                  Stabbing"
      ]
     },
     "execution_count": 8,
     "metadata": {},
     "output_type": "execute_result"
    }
   ],
   "source": [
    "sk"
   ]
  },
  {
   "cell_type": "code",
   "execution_count": 19,
   "id": "334c3bf1",
   "metadata": {},
   "outputs": [],
   "source": [
    "sk['duration'] = 1 + sk['To'].astype(int) - sk['From'].astype(int)\n"
   ]
  },
  {
   "cell_type": "code",
   "execution_count": 22,
   "id": "0d149f82",
   "metadata": {},
   "outputs": [],
   "source": [
    "sk['rate'] = sk['Victim Count'] /  sk['duration']"
   ]
  },
  {
   "cell_type": "code",
   "execution_count": 23,
   "id": "48c2ddd6",
   "metadata": {},
   "outputs": [
    {
     "data": {
      "text/html": [
       "<div>\n",
       "<style scoped>\n",
       "    .dataframe tbody tr th:only-of-type {\n",
       "        vertical-align: middle;\n",
       "    }\n",
       "\n",
       "    .dataframe tbody tr th {\n",
       "        vertical-align: top;\n",
       "    }\n",
       "\n",
       "    .dataframe thead th {\n",
       "        text-align: right;\n",
       "    }\n",
       "</style>\n",
       "<table border=\"1\" class=\"dataframe\">\n",
       "  <thead>\n",
       "    <tr style=\"text-align: right;\">\n",
       "      <th></th>\n",
       "      <th>Name</th>\n",
       "      <th>From</th>\n",
       "      <th>To</th>\n",
       "      <th>Victim Count</th>\n",
       "      <th>Modus OperandiGender</th>\n",
       "      <th>duration</th>\n",
       "      <th>rate</th>\n",
       "    </tr>\n",
       "  </thead>\n",
       "  <tbody>\n",
       "    <tr>\n",
       "      <th>0</th>\n",
       "      <td>Jack the Ripper</td>\n",
       "      <td>1887</td>\n",
       "      <td>1888</td>\n",
       "      <td>5</td>\n",
       "      <td>Knife Wound, Multilation</td>\n",
       "      <td>2</td>\n",
       "      <td>2.500000</td>\n",
       "    </tr>\n",
       "    <tr>\n",
       "      <th>1</th>\n",
       "      <td>Jeffrey Dahmer</td>\n",
       "      <td>1974</td>\n",
       "      <td>1991</td>\n",
       "      <td>17</td>\n",
       "      <td>Strangulation</td>\n",
       "      <td>18</td>\n",
       "      <td>0.944444</td>\n",
       "    </tr>\n",
       "    <tr>\n",
       "      <th>2</th>\n",
       "      <td>Harold Shipman</td>\n",
       "      <td>1972</td>\n",
       "      <td>1998</td>\n",
       "      <td>250</td>\n",
       "      <td>Morphine Overdose</td>\n",
       "      <td>27</td>\n",
       "      <td>9.259259</td>\n",
       "    </tr>\n",
       "    <tr>\n",
       "      <th>3</th>\n",
       "      <td>John Wayne Gacy</td>\n",
       "      <td>1978</td>\n",
       "      <td>1994</td>\n",
       "      <td>33</td>\n",
       "      <td>Asphyxiation with garrot</td>\n",
       "      <td>17</td>\n",
       "      <td>1.941176</td>\n",
       "    </tr>\n",
       "    <tr>\n",
       "      <th>4</th>\n",
       "      <td>H.H. Holmes</td>\n",
       "      <td>1983</td>\n",
       "      <td>1986</td>\n",
       "      <td>30</td>\n",
       "      <td>Hanged</td>\n",
       "      <td>4</td>\n",
       "      <td>7.500000</td>\n",
       "    </tr>\n",
       "    <tr>\n",
       "      <th>5</th>\n",
       "      <td>Luis Garavito</td>\n",
       "      <td>1992</td>\n",
       "      <td>1999</td>\n",
       "      <td>147</td>\n",
       "      <td>Stabbing, Mutilation</td>\n",
       "      <td>8</td>\n",
       "      <td>18.375000</td>\n",
       "    </tr>\n",
       "    <tr>\n",
       "      <th>6</th>\n",
       "      <td>Henry Lee Lucas</td>\n",
       "      <td>1946</td>\n",
       "      <td>1983</td>\n",
       "      <td>41</td>\n",
       "      <td>Stabbing</td>\n",
       "      <td>38</td>\n",
       "      <td>1.078947</td>\n",
       "    </tr>\n",
       "  </tbody>\n",
       "</table>\n",
       "</div>"
      ],
      "text/plain": [
       "              Name  From    To  Victim Count      Modus OperandiGender  \\\n",
       "0  Jack the Ripper  1887  1888             5  Knife Wound, Multilation   \n",
       "1   Jeffrey Dahmer  1974  1991            17             Strangulation   \n",
       "2   Harold Shipman  1972  1998           250         Morphine Overdose   \n",
       "3  John Wayne Gacy  1978  1994            33  Asphyxiation with garrot   \n",
       "4      H.H. Holmes  1983  1986            30                    Hanged   \n",
       "5    Luis Garavito  1992  1999           147      Stabbing, Mutilation   \n",
       "6  Henry Lee Lucas  1946  1983            41                  Stabbing   \n",
       "\n",
       "   duration       rate  \n",
       "0         2   2.500000  \n",
       "1        18   0.944444  \n",
       "2        27   9.259259  \n",
       "3        17   1.941176  \n",
       "4         4   7.500000  \n",
       "5         8  18.375000  \n",
       "6        38   1.078947  "
      ]
     },
     "execution_count": 23,
     "metadata": {},
     "output_type": "execute_result"
    }
   ],
   "source": [
    "sk"
   ]
  },
  {
   "cell_type": "code",
   "execution_count": null,
   "id": "e080e0e7",
   "metadata": {},
   "outputs": [],
   "source": [
    "# plot rates by killer (simple for example)"
   ]
  },
  {
   "cell_type": "code",
   "execution_count": 17,
   "id": "5f7c5f01",
   "metadata": {},
   "outputs": [
    {
     "data": {
      "text/plain": [
       "<AxesSubplot:>"
      ]
     },
     "execution_count": 17,
     "metadata": {},
     "output_type": "execute_result"
    },
    {
     "data": {
      "image/png": "[encoded data removed]",
      "text/plain": [
       "<Figure size 640x480 with 1 Axes>"
      ]
     },
     "metadata": {},
     "output_type": "display_data"
    }
   ],
   "source": [
    "sk['rate'].plot(kind=\"bar\")"
   ]
  },
  {
   "cell_type": "code",
   "execution_count": null,
   "id": "07358cbf",
   "metadata": {},
   "outputs": [],
   "source": []
  }
 ],
 "metadata": {
  "kernelspec": {
   "display_name": "Python 3 (ipykernel)",
   "language": "python",
   "name": "python3"
  },
  "language_info": {
   "codemirror_mode": {
    "name": "ipython",
    "version": 3
   },
   "file_extension": ".py",
   "mimetype": "text/x-python",
   "name": "python",
   "nbconvert_exporter": "python",
   "pygments_lexer": "ipython3",
   "version": "3.10.6"
  },
  "vscode": {
   "interpreter": {
    "hash": "292f72af7e1a92681235b604649826b5952aea0d008254ca6f13fd3aa447e887"
   }
  }
 },
 "nbformat": 4,
 "nbformat_minor": 5
}
