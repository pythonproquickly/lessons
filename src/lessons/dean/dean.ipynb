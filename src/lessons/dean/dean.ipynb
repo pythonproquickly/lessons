{
 "cells": [
  {
   "cell_type": "code",
   "execution_count": 1,
   "id": "1e7bd870",
   "metadata": {},
   "outputs": [
    {
     "name": "stdout",
     "output_type": "stream",
     "text": [
      "hello\n",
      "hello again\n"
     ]
    }
   ],
   "source": [
    "print(\"hello\")\n",
    "print(\"hello again\")"
   ]
  },
  {
   "cell_type": "code",
   "execution_count": 2,
   "id": "acc22403",
   "metadata": {},
   "outputs": [
    {
     "name": "stdout",
     "output_type": "stream",
     "text": [
      "what is your namelll\n",
      "lll\n"
     ]
    }
   ],
   "source": [
    "name = input(\"what is your name\")\n",
    "print(name)"
   ]
  },
  {
   "cell_type": "code",
   "execution_count": 5,
   "id": "006d09b6",
   "metadata": {},
   "outputs": [],
   "source": [
    "def addup(x,y):\n",
    "    return x + y"
   ]
  },
  {
   "cell_type": "code",
   "execution_count": 3,
   "id": "bb41a806",
   "metadata": {},
   "outputs": [
    {
     "name": "stdout",
     "output_type": "stream",
     "text": [
      "your name is  lll\n"
     ]
    }
   ],
   "source": [
    "print(\"your name is \", name)"
   ]
  },
  {
   "cell_type": "code",
   "execution_count": 6,
   "id": "0662d453",
   "metadata": {},
   "outputs": [
    {
     "name": "stdout",
     "output_type": "stream",
     "text": [
      "13\n"
     ]
    }
   ],
   "source": [
    "print(addup(6,7))"
   ]
  },
  {
   "cell_type": "code",
   "execution_count": null,
   "id": "fe231610",
   "metadata": {},
   "outputs": [],
   "source": []
  }
 ],
 "metadata": {
  "kernelspec": {
   "display_name": "Python 3 (ipykernel)",
   "language": "python",
   "name": "python3"
  },
  "language_info": {
   "codemirror_mode": {
    "name": "ipython",
    "version": 3
   },
   "file_extension": ".py",
   "mimetype": "text/x-python",
   "name": "python",
   "nbconvert_exporter": "python",
   "pygments_lexer": "ipython3",
   "version": "3.10.6"
  }
 },
 "nbformat": 4,
 "nbformat_minor": 5
}
