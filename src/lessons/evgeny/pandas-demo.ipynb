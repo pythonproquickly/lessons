{
 "cells": [
  {
   "cell_type": "markdown",
   "metadata": {},
   "source": [
    "# Racing analysis\n",
    "Formula 1 data summaries"
   ]
  },
  {
   "cell_type": "code",
   "execution_count": 5,
   "metadata": {},
   "outputs": [],
   "source": [
    "import pandas as pd"
   ]
  },
  {
   "cell_type": "code",
   "execution_count": 6,
   "metadata": {
    "tags": []
   },
   "outputs": [],
   "source": [
    "pd.set_option(\"display.max_columns\", None)\n",
    "pd.options.display.width = 0"
   ]
  },
  {
   "cell_type": "markdown",
   "metadata": {},
   "source": [
    "## Step one: discover"
   ]
  },
  {
   "cell_type": "code",
   "execution_count": 9,
   "metadata": {},
   "outputs": [],
   "source": [
    "drivers = pd.read_csv(\"/home/andy/ws/ctpsws/lessons/src/lessons/evgeny/drivers.csv\", engine='python')"
   ]
  },
  {
   "cell_type": "code",
   "execution_count": 13,
   "metadata": {},
   "outputs": [
    {
     "data": {
      "text/plain": "     driverId   driverRef  number code    forename     surname         dob  \\\n0           1    hamilton    44.0  HAM       Lewis    Hamilton  07/01/1985   \n1           2    heidfeld     NaN  HEI        Nick    Heidfeld  10/05/1977   \n2           3     rosberg     6.0  ROS        Nico     Rosberg  27/06/1985   \n3           4      alonso    14.0  ALO    Fernando      Alonso  29/07/1981   \n4           5  kovalainen     NaN  KOV      Heikki  Kovalainen  19/10/1981   \n..        ...         ...     ...  ...         ...         ...         ...   \n139       141      bailey     NaN  NaN      Julian      Bailey  09/10/1961   \n140       142      chaves     NaN  NaN       Pedro      Chaves  27/02/1965   \n141       143     bartels     NaN  NaN     Michael     Bartels  08/03/1968   \n142       144     hattori     NaN  NaN       Naoki     Hattori  13/06/1966   \n143       145     nannini     NaN  NaN  Alessandro     Nannini  07/07/1959   \n\n    nationality                                              url  \n0       British      http://en.wikipedia.org/wiki/Lewis_Hamilton  \n1        German       http://en.wikipedia.org/wiki/Nick_Heidfeld  \n2        German        http://en.wikipedia.org/wiki/Nico_Rosberg  \n3       Spanish     http://en.wikipedia.org/wiki/Fernando_Alonso  \n4       Finnish   http://en.wikipedia.org/wiki/Heikki_Kovalainen  \n..          ...                                              ...  \n139     British       http://en.wikipedia.org/wiki/Julian_Bailey  \n140  Portuguese        http://en.wikipedia.org/wiki/Pedro_Chaves  \n141      German     http://en.wikipedia.org/wiki/Michael_Bartels  \n142    Japanese       http://en.wikipedia.org/wiki/Naoki_Hattori  \n143     Italian  http://en.wikipedia.org/wiki/Alessandro_Nannini  \n\n[144 rows x 9 columns]",
      "text/html": "<div>\n<style scoped>\n    .dataframe tbody tr th:only-of-type {\n        vertical-align: middle;\n    }\n\n    .dataframe tbody tr th {\n        vertical-align: top;\n    }\n\n    .dataframe thead th {\n        text-align: right;\n    }\n</style>\n<table border=\"1\" class=\"dataframe\">\n  <thead>\n    <tr style=\"text-align: right;\">\n      <th></th>\n      <th>driverId</th>\n      <th>driverRef</th>\n      <th>number</th>\n      <th>code</th>\n      <th>forename</th>\n      <th>surname</th>\n      <th>dob</th>\n      <th>nationality</th>\n      <th>url</th>\n    </tr>\n  </thead>\n  <tbody>\n    <tr>\n      <th>0</th>\n      <td>1</td>\n      <td>hamilton</td>\n      <td>44.0</td>\n      <td>HAM</td>\n      <td>Lewis</td>\n      <td>Hamilton</td>\n      <td>07/01/1985</td>\n      <td>British</td>\n      <td>http://en.wikipedia.org/wiki/Lewis_Hamilton</td>\n    </tr>\n    <tr>\n      <th>1</th>\n      <td>2</td>\n      <td>heidfeld</td>\n      <td>NaN</td>\n      <td>HEI</td>\n      <td>Nick</td>\n      <td>Heidfeld</td>\n      <td>10/05/1977</td>\n      <td>German</td>\n      <td>http://en.wikipedia.org/wiki/Nick_Heidfeld</td>\n    </tr>\n    <tr>\n      <th>2</th>\n      <td>3</td>\n      <td>rosberg</td>\n      <td>6.0</td>\n      <td>ROS</td>\n      <td>Nico</td>\n      <td>Rosberg</td>\n      <td>27/06/1985</td>\n      <td>German</td>\n      <td>http://en.wikipedia.org/wiki/Nico_Rosberg</td>\n    </tr>\n    <tr>\n      <th>3</th>\n      <td>4</td>\n      <td>alonso</td>\n      <td>14.0</td>\n      <td>ALO</td>\n      <td>Fernando</td>\n      <td>Alonso</td>\n      <td>29/07/1981</td>\n      <td>Spanish</td>\n      <td>http://en.wikipedia.org/wiki/Fernando_Alonso</td>\n    </tr>\n    <tr>\n      <th>4</th>\n      <td>5</td>\n      <td>kovalainen</td>\n      <td>NaN</td>\n      <td>KOV</td>\n      <td>Heikki</td>\n      <td>Kovalainen</td>\n      <td>19/10/1981</td>\n      <td>Finnish</td>\n      <td>http://en.wikipedia.org/wiki/Heikki_Kovalainen</td>\n    </tr>\n    <tr>\n      <th>...</th>\n      <td>...</td>\n      <td>...</td>\n      <td>...</td>\n      <td>...</td>\n      <td>...</td>\n      <td>...</td>\n      <td>...</td>\n      <td>...</td>\n      <td>...</td>\n    </tr>\n    <tr>\n      <th>139</th>\n      <td>141</td>\n      <td>bailey</td>\n      <td>NaN</td>\n      <td>NaN</td>\n      <td>Julian</td>\n      <td>Bailey</td>\n      <td>09/10/1961</td>\n      <td>British</td>\n      <td>http://en.wikipedia.org/wiki/Julian_Bailey</td>\n    </tr>\n    <tr>\n      <th>140</th>\n      <td>142</td>\n      <td>chaves</td>\n      <td>NaN</td>\n      <td>NaN</td>\n      <td>Pedro</td>\n      <td>Chaves</td>\n      <td>27/02/1965</td>\n      <td>Portuguese</td>\n      <td>http://en.wikipedia.org/wiki/Pedro_Chaves</td>\n    </tr>\n    <tr>\n      <th>141</th>\n      <td>143</td>\n      <td>bartels</td>\n      <td>NaN</td>\n      <td>NaN</td>\n      <td>Michael</td>\n      <td>Bartels</td>\n      <td>08/03/1968</td>\n      <td>German</td>\n      <td>http://en.wikipedia.org/wiki/Michael_Bartels</td>\n    </tr>\n    <tr>\n      <th>142</th>\n      <td>144</td>\n      <td>hattori</td>\n      <td>NaN</td>\n      <td>NaN</td>\n      <td>Naoki</td>\n      <td>Hattori</td>\n      <td>13/06/1966</td>\n      <td>Japanese</td>\n      <td>http://en.wikipedia.org/wiki/Naoki_Hattori</td>\n    </tr>\n    <tr>\n      <th>143</th>\n      <td>145</td>\n      <td>nannini</td>\n      <td>NaN</td>\n      <td>NaN</td>\n      <td>Alessandro</td>\n      <td>Nannini</td>\n      <td>07/07/1959</td>\n      <td>Italian</td>\n      <td>http://en.wikipedia.org/wiki/Alessandro_Nannini</td>\n    </tr>\n  </tbody>\n</table>\n<p>144 rows × 9 columns</p>\n</div>"
     },
     "execution_count": 13,
     "metadata": {},
     "output_type": "execute_result"
    }
   ],
   "source": [
    "drivers"
   ]
  },
  {
   "cell_type": "code",
   "execution_count": null,
   "metadata": {},
   "outputs": [],
   "source": [
    "drivers.info()"
   ]
  },
  {
   "cell_type": "code",
   "execution_count": null,
   "metadata": {},
   "outputs": [],
   "source": [
    "drivers.describe()"
   ]
  },
  {
   "cell_type": "markdown",
   "metadata": {},
   "source": [
    "## Step two: cleanse"
   ]
  },
  {
   "cell_type": "code",
   "execution_count": null,
   "metadata": {},
   "outputs": [],
   "source": [
    "print(\"Columns with missing values\\n\")\n",
    "\n",
    "for column in drivers:\n",
    "    print(column, ' : ', drivers[column].isnull().sum())"
   ]
  },
  {
   "cell_type": "code",
   "execution_count": null,
   "metadata": {},
   "outputs": [],
   "source": [
    "drivers.columns[drivers.isnull().any()]"
   ]
  },
  {
   "cell_type": "code",
   "execution_count": null,
   "metadata": {},
   "outputs": [],
   "source": [
    "blanks = pd.DataFrame(drivers, columns=['number', 'code', 'dob', 'url'])"
   ]
  },
  {
   "cell_type": "code",
   "execution_count": null,
   "metadata": {},
   "outputs": [],
   "source": [
    "blanks"
   ]
  },
  {
   "cell_type": "code",
   "execution_count": null,
   "metadata": {},
   "outputs": [],
   "source": [
    "print(\"% blank\\n\")\n",
    "print(round((drivers.isnull().sum() * 100 / len(drivers)), 2).sort_values(\n",
    "    ascending=False))"
   ]
  },
  {
   "cell_type": "markdown",
   "metadata": {},
   "source": [
    "hmmm... This tells me that code is not a good field on which to id a driver"
   ]
  },
  {
   "cell_type": "code",
   "execution_count": null,
   "metadata": {},
   "outputs": [],
   "source": [
    "drivers['number'] = drivers['number'].astype(str)"
   ]
  },
  {
   "cell_type": "code",
   "execution_count": null,
   "metadata": {},
   "outputs": [],
   "source": [
    "drivers"
   ]
  },
  {
   "cell_type": "code",
   "execution_count": null,
   "metadata": {},
   "outputs": [],
   "source": [
    "nationality = drivers.groupby(['nationality'])['driverRef'].count()"
   ]
  },
  {
   "cell_type": "code",
   "execution_count": null,
   "metadata": {},
   "outputs": [],
   "source": [
    "nationality"
   ]
  },
  {
   "cell_type": "code",
   "execution_count": null,
   "metadata": {},
   "outputs": [],
   "source": [
    "drivers.info()"
   ]
  },
  {
   "cell_type": "code",
   "execution_count": null,
   "metadata": {},
   "outputs": [],
   "source": [
    "drivers['full_name'] = drivers['surname'] + \", \" + drivers['forename']"
   ]
  },
  {
   "cell_type": "code",
   "execution_count": null,
   "metadata": {},
   "outputs": [],
   "source": [
    "drivers"
   ]
  },
  {
   "cell_type": "markdown",
   "metadata": {},
   "source": [
    "## Step three: analyze"
   ]
  },
  {
   "cell_type": "code",
   "execution_count": null,
   "metadata": {},
   "outputs": [],
   "source": [
    "nationality = pd.DataFrame(\n",
    "    drivers.groupby(['nationality'])[['driverRef']].count())"
   ]
  },
  {
   "cell_type": "code",
   "execution_count": null,
   "metadata": {},
   "outputs": [],
   "source": [
    "nationality"
   ]
  },
  {
   "cell_type": "markdown",
   "metadata": {},
   "source": [
    "## Step four: report"
   ]
  },
  {
   "cell_type": "code",
   "execution_count": null,
   "metadata": {},
   "outputs": [],
   "source": [
    "drivers.groupby(\"nationality\")[\n",
    "    [\"nationality\", \"driverRef\", \"full_name\"]].apply(print)"
   ]
  },
  {
   "cell_type": "raw",
   "metadata": {},
   "source": [
    "Look at some of the names above: there are characterset issues! Need to go back and fix encoding from source csv file"
   ]
  },
  {
   "cell_type": "code",
   "execution_count": null,
   "metadata": {},
   "outputs": [],
   "source": [
    "nationality.plot.bar()"
   ]
  },
  {
   "cell_type": "code",
   "execution_count": 14,
   "metadata": {},
   "outputs": [
    {
     "data": {
      "text/plain": "     driverId   driverRef  number code forename    surname         dob  \\\n0           1    hamilton    44.0  HAM    Lewis   Hamilton  07/01/1985   \n13         14   coulthard     NaN  COU    David  Coulthard  27/03/1971   \n17         18      button    22.0  BUT   Jenson     Button  19/01/1980   \n18         19    davidson     NaN  DAV  Anthony   Davidson  18/04/1979   \n49         51      wilson     NaN  NaN   Justin     Wilson  31/07/1978   \n54         56      irvine     NaN  NaN    Eddie     Irvine  10/11/1965   \n63         65     herbert     NaN  NaN   Johnny    Herbert  25/06/1964   \n64         66      mcnish     NaN  NaN    Allan     McNish  29/12/1969   \n69         71  damon_hill     NaN  NaN    Damon       Hill  17/09/1960   \n82         84     brundle     NaN  NaN   Martin    Brundle  01/06/1959   \n85         87    blundell     NaN  NaN     Mark   Blundell  08/04/1966   \n93         95     mansell     NaN  NaN    Nigel    Mansell  08/08/1953   \n116       118     warwick     NaN  NaN    Derek    Warwick  27/08/1954   \n133       135    mccarthy     NaN  NaN    Perry   McCarthy  03/03/1961   \n139       141      bailey     NaN  NaN   Julian     Bailey  09/10/1961   \n\n    nationality                                                url  \n0       British        http://en.wikipedia.org/wiki/Lewis_Hamilton  \n13      British       http://en.wikipedia.org/wiki/David_Coulthard  \n17      British         http://en.wikipedia.org/wiki/Jenson_Button  \n18      British      http://en.wikipedia.org/wiki/Anthony_Davidson  \n49      British  http://en.wikipedia.org/wiki/Justin_Wilson_(ra...  \n54      British          http://en.wikipedia.org/wiki/Eddie_Irvine  \n63      British        http://en.wikipedia.org/wiki/Johnny_Herbert  \n64      British          http://en.wikipedia.org/wiki/Allan_McNish  \n69      British            http://en.wikipedia.org/wiki/Damon_Hill  \n82      British        http://en.wikipedia.org/wiki/Martin_Brundle  \n85      British         http://en.wikipedia.org/wiki/Mark_Blundell  \n93      British         http://en.wikipedia.org/wiki/Nigel_Mansell  \n116     British         http://en.wikipedia.org/wiki/Derek_Warwick  \n133     British        http://en.wikipedia.org/wiki/Perry_McCarthy  \n139     British         http://en.wikipedia.org/wiki/Julian_Bailey  ",
      "text/html": "<div>\n<style scoped>\n    .dataframe tbody tr th:only-of-type {\n        vertical-align: middle;\n    }\n\n    .dataframe tbody tr th {\n        vertical-align: top;\n    }\n\n    .dataframe thead th {\n        text-align: right;\n    }\n</style>\n<table border=\"1\" class=\"dataframe\">\n  <thead>\n    <tr style=\"text-align: right;\">\n      <th></th>\n      <th>driverId</th>\n      <th>driverRef</th>\n      <th>number</th>\n      <th>code</th>\n      <th>forename</th>\n      <th>surname</th>\n      <th>dob</th>\n      <th>nationality</th>\n      <th>url</th>\n    </tr>\n  </thead>\n  <tbody>\n    <tr>\n      <th>0</th>\n      <td>1</td>\n      <td>hamilton</td>\n      <td>44.0</td>\n      <td>HAM</td>\n      <td>Lewis</td>\n      <td>Hamilton</td>\n      <td>07/01/1985</td>\n      <td>British</td>\n      <td>http://en.wikipedia.org/wiki/Lewis_Hamilton</td>\n    </tr>\n    <tr>\n      <th>13</th>\n      <td>14</td>\n      <td>coulthard</td>\n      <td>NaN</td>\n      <td>COU</td>\n      <td>David</td>\n      <td>Coulthard</td>\n      <td>27/03/1971</td>\n      <td>British</td>\n      <td>http://en.wikipedia.org/wiki/David_Coulthard</td>\n    </tr>\n    <tr>\n      <th>17</th>\n      <td>18</td>\n      <td>button</td>\n      <td>22.0</td>\n      <td>BUT</td>\n      <td>Jenson</td>\n      <td>Button</td>\n      <td>19/01/1980</td>\n      <td>British</td>\n      <td>http://en.wikipedia.org/wiki/Jenson_Button</td>\n    </tr>\n    <tr>\n      <th>18</th>\n      <td>19</td>\n      <td>davidson</td>\n      <td>NaN</td>\n      <td>DAV</td>\n      <td>Anthony</td>\n      <td>Davidson</td>\n      <td>18/04/1979</td>\n      <td>British</td>\n      <td>http://en.wikipedia.org/wiki/Anthony_Davidson</td>\n    </tr>\n    <tr>\n      <th>49</th>\n      <td>51</td>\n      <td>wilson</td>\n      <td>NaN</td>\n      <td>NaN</td>\n      <td>Justin</td>\n      <td>Wilson</td>\n      <td>31/07/1978</td>\n      <td>British</td>\n      <td>http://en.wikipedia.org/wiki/Justin_Wilson_(ra...</td>\n    </tr>\n    <tr>\n      <th>54</th>\n      <td>56</td>\n      <td>irvine</td>\n      <td>NaN</td>\n      <td>NaN</td>\n      <td>Eddie</td>\n      <td>Irvine</td>\n      <td>10/11/1965</td>\n      <td>British</td>\n      <td>http://en.wikipedia.org/wiki/Eddie_Irvine</td>\n    </tr>\n    <tr>\n      <th>63</th>\n      <td>65</td>\n      <td>herbert</td>\n      <td>NaN</td>\n      <td>NaN</td>\n      <td>Johnny</td>\n      <td>Herbert</td>\n      <td>25/06/1964</td>\n      <td>British</td>\n      <td>http://en.wikipedia.org/wiki/Johnny_Herbert</td>\n    </tr>\n    <tr>\n      <th>64</th>\n      <td>66</td>\n      <td>mcnish</td>\n      <td>NaN</td>\n      <td>NaN</td>\n      <td>Allan</td>\n      <td>McNish</td>\n      <td>29/12/1969</td>\n      <td>British</td>\n      <td>http://en.wikipedia.org/wiki/Allan_McNish</td>\n    </tr>\n    <tr>\n      <th>69</th>\n      <td>71</td>\n      <td>damon_hill</td>\n      <td>NaN</td>\n      <td>NaN</td>\n      <td>Damon</td>\n      <td>Hill</td>\n      <td>17/09/1960</td>\n      <td>British</td>\n      <td>http://en.wikipedia.org/wiki/Damon_Hill</td>\n    </tr>\n    <tr>\n      <th>82</th>\n      <td>84</td>\n      <td>brundle</td>\n      <td>NaN</td>\n      <td>NaN</td>\n      <td>Martin</td>\n      <td>Brundle</td>\n      <td>01/06/1959</td>\n      <td>British</td>\n      <td>http://en.wikipedia.org/wiki/Martin_Brundle</td>\n    </tr>\n    <tr>\n      <th>85</th>\n      <td>87</td>\n      <td>blundell</td>\n      <td>NaN</td>\n      <td>NaN</td>\n      <td>Mark</td>\n      <td>Blundell</td>\n      <td>08/04/1966</td>\n      <td>British</td>\n      <td>http://en.wikipedia.org/wiki/Mark_Blundell</td>\n    </tr>\n    <tr>\n      <th>93</th>\n      <td>95</td>\n      <td>mansell</td>\n      <td>NaN</td>\n      <td>NaN</td>\n      <td>Nigel</td>\n      <td>Mansell</td>\n      <td>08/08/1953</td>\n      <td>British</td>\n      <td>http://en.wikipedia.org/wiki/Nigel_Mansell</td>\n    </tr>\n    <tr>\n      <th>116</th>\n      <td>118</td>\n      <td>warwick</td>\n      <td>NaN</td>\n      <td>NaN</td>\n      <td>Derek</td>\n      <td>Warwick</td>\n      <td>27/08/1954</td>\n      <td>British</td>\n      <td>http://en.wikipedia.org/wiki/Derek_Warwick</td>\n    </tr>\n    <tr>\n      <th>133</th>\n      <td>135</td>\n      <td>mccarthy</td>\n      <td>NaN</td>\n      <td>NaN</td>\n      <td>Perry</td>\n      <td>McCarthy</td>\n      <td>03/03/1961</td>\n      <td>British</td>\n      <td>http://en.wikipedia.org/wiki/Perry_McCarthy</td>\n    </tr>\n    <tr>\n      <th>139</th>\n      <td>141</td>\n      <td>bailey</td>\n      <td>NaN</td>\n      <td>NaN</td>\n      <td>Julian</td>\n      <td>Bailey</td>\n      <td>09/10/1961</td>\n      <td>British</td>\n      <td>http://en.wikipedia.org/wiki/Julian_Bailey</td>\n    </tr>\n  </tbody>\n</table>\n</div>"
     },
     "execution_count": 14,
     "metadata": {},
     "output_type": "execute_result"
    }
   ],
   "source": [
    "brits = drivers.loc[drivers['nationality'] == \"British\"]\n",
    "brits"
   ]
  },
  {
   "cell_type": "code",
   "execution_count": 16,
   "outputs": [
    {
     "data": {
      "text/plain": "True"
     },
     "execution_count": 16,
     "metadata": {},
     "output_type": "execute_result"
    }
   ],
   "source": [
    "name = \"andy\"\n",
    "name == \"andy\""
   ],
   "metadata": {
    "collapsed": false,
    "pycharm": {
     "name": "#%%\n"
    }
   }
  },
  {
   "cell_type": "code",
   "execution_count": 17,
   "outputs": [
    {
     "data": {
      "text/plain": "     driverId   driverRef  number code    forename     surname         dob  \\\n0           1    hamilton    44.0  HAM       Lewis    Hamilton  07/01/1985   \n1           2    heidfeld     NaN  HEI        Nick    Heidfeld  10/05/1977   \n2           3     rosberg     6.0  ROS        Nico     Rosberg  27/06/1985   \n3           4      alonso    14.0  ALO    Fernando      Alonso  29/07/1981   \n4           5  kovalainen     NaN  KOV      Heikki  Kovalainen  19/10/1981   \n..        ...         ...     ...  ...         ...         ...         ...   \n139       141      bailey     NaN  NaN      Julian      Bailey  09/10/1961   \n140       142      chaves     NaN  NaN       Pedro      Chaves  27/02/1965   \n141       143     bartels     NaN  NaN     Michael     Bartels  08/03/1968   \n142       144     hattori     NaN  NaN       Naoki     Hattori  13/06/1966   \n143       145     nannini     NaN  NaN  Alessandro     Nannini  07/07/1959   \n\n    nationality                                              url  \n0       British      http://en.wikipedia.org/wiki/Lewis_Hamilton  \n1        German       http://en.wikipedia.org/wiki/Nick_Heidfeld  \n2        German        http://en.wikipedia.org/wiki/Nico_Rosberg  \n3       Spanish     http://en.wikipedia.org/wiki/Fernando_Alonso  \n4       Finnish   http://en.wikipedia.org/wiki/Heikki_Kovalainen  \n..          ...                                              ...  \n139     British       http://en.wikipedia.org/wiki/Julian_Bailey  \n140  Portuguese        http://en.wikipedia.org/wiki/Pedro_Chaves  \n141      German     http://en.wikipedia.org/wiki/Michael_Bartels  \n142    Japanese       http://en.wikipedia.org/wiki/Naoki_Hattori  \n143     Italian  http://en.wikipedia.org/wiki/Alessandro_Nannini  \n\n[144 rows x 9 columns]",
      "text/html": "<div>\n<style scoped>\n    .dataframe tbody tr th:only-of-type {\n        vertical-align: middle;\n    }\n\n    .dataframe tbody tr th {\n        vertical-align: top;\n    }\n\n    .dataframe thead th {\n        text-align: right;\n    }\n</style>\n<table border=\"1\" class=\"dataframe\">\n  <thead>\n    <tr style=\"text-align: right;\">\n      <th></th>\n      <th>driverId</th>\n      <th>driverRef</th>\n      <th>number</th>\n      <th>code</th>\n      <th>forename</th>\n      <th>surname</th>\n      <th>dob</th>\n      <th>nationality</th>\n      <th>url</th>\n    </tr>\n  </thead>\n  <tbody>\n    <tr>\n      <th>0</th>\n      <td>1</td>\n      <td>hamilton</td>\n      <td>44.0</td>\n      <td>HAM</td>\n      <td>Lewis</td>\n      <td>Hamilton</td>\n      <td>07/01/1985</td>\n      <td>British</td>\n      <td>http://en.wikipedia.org/wiki/Lewis_Hamilton</td>\n    </tr>\n    <tr>\n      <th>1</th>\n      <td>2</td>\n      <td>heidfeld</td>\n      <td>NaN</td>\n      <td>HEI</td>\n      <td>Nick</td>\n      <td>Heidfeld</td>\n      <td>10/05/1977</td>\n      <td>German</td>\n      <td>http://en.wikipedia.org/wiki/Nick_Heidfeld</td>\n    </tr>\n    <tr>\n      <th>2</th>\n      <td>3</td>\n      <td>rosberg</td>\n      <td>6.0</td>\n      <td>ROS</td>\n      <td>Nico</td>\n      <td>Rosberg</td>\n      <td>27/06/1985</td>\n      <td>German</td>\n      <td>http://en.wikipedia.org/wiki/Nico_Rosberg</td>\n    </tr>\n    <tr>\n      <th>3</th>\n      <td>4</td>\n      <td>alonso</td>\n      <td>14.0</td>\n      <td>ALO</td>\n      <td>Fernando</td>\n      <td>Alonso</td>\n      <td>29/07/1981</td>\n      <td>Spanish</td>\n      <td>http://en.wikipedia.org/wiki/Fernando_Alonso</td>\n    </tr>\n    <tr>\n      <th>4</th>\n      <td>5</td>\n      <td>kovalainen</td>\n      <td>NaN</td>\n      <td>KOV</td>\n      <td>Heikki</td>\n      <td>Kovalainen</td>\n      <td>19/10/1981</td>\n      <td>Finnish</td>\n      <td>http://en.wikipedia.org/wiki/Heikki_Kovalainen</td>\n    </tr>\n    <tr>\n      <th>...</th>\n      <td>...</td>\n      <td>...</td>\n      <td>...</td>\n      <td>...</td>\n      <td>...</td>\n      <td>...</td>\n      <td>...</td>\n      <td>...</td>\n      <td>...</td>\n    </tr>\n    <tr>\n      <th>139</th>\n      <td>141</td>\n      <td>bailey</td>\n      <td>NaN</td>\n      <td>NaN</td>\n      <td>Julian</td>\n      <td>Bailey</td>\n      <td>09/10/1961</td>\n      <td>British</td>\n      <td>http://en.wikipedia.org/wiki/Julian_Bailey</td>\n    </tr>\n    <tr>\n      <th>140</th>\n      <td>142</td>\n      <td>chaves</td>\n      <td>NaN</td>\n      <td>NaN</td>\n      <td>Pedro</td>\n      <td>Chaves</td>\n      <td>27/02/1965</td>\n      <td>Portuguese</td>\n      <td>http://en.wikipedia.org/wiki/Pedro_Chaves</td>\n    </tr>\n    <tr>\n      <th>141</th>\n      <td>143</td>\n      <td>bartels</td>\n      <td>NaN</td>\n      <td>NaN</td>\n      <td>Michael</td>\n      <td>Bartels</td>\n      <td>08/03/1968</td>\n      <td>German</td>\n      <td>http://en.wikipedia.org/wiki/Michael_Bartels</td>\n    </tr>\n    <tr>\n      <th>142</th>\n      <td>144</td>\n      <td>hattori</td>\n      <td>NaN</td>\n      <td>NaN</td>\n      <td>Naoki</td>\n      <td>Hattori</td>\n      <td>13/06/1966</td>\n      <td>Japanese</td>\n      <td>http://en.wikipedia.org/wiki/Naoki_Hattori</td>\n    </tr>\n    <tr>\n      <th>143</th>\n      <td>145</td>\n      <td>nannini</td>\n      <td>NaN</td>\n      <td>NaN</td>\n      <td>Alessandro</td>\n      <td>Nannini</td>\n      <td>07/07/1959</td>\n      <td>Italian</td>\n      <td>http://en.wikipedia.org/wiki/Alessandro_Nannini</td>\n    </tr>\n  </tbody>\n</table>\n<p>144 rows × 9 columns</p>\n</div>"
     },
     "execution_count": 17,
     "metadata": {},
     "output_type": "execute_result"
    }
   ],
   "source": [
    "drivers"
   ],
   "metadata": {
    "collapsed": false,
    "pycharm": {
     "name": "#%%\n"
    }
   }
  },
  {
   "cell_type": "code",
   "execution_count": 18,
   "outputs": [
    {
     "name": "stdout",
     "output_type": "stream",
     "text": [
      "driverId\n",
      "driverRef\n",
      "number\n",
      "code\n",
      "forename\n",
      "surname\n",
      "dob\n",
      "nationality\n",
      "url\n"
     ]
    }
   ],
   "source": [
    "for driver in drivers:\n",
    "    print(driver)\n"
   ],
   "metadata": {
    "collapsed": false,
    "pycharm": {
     "name": "#%%\n"
    }
   }
  },
  {
   "cell_type": "code",
   "execution_count": null,
   "outputs": [],
   "source": [],
   "metadata": {
    "collapsed": false,
    "pycharm": {
     "name": "#%%\n"
    }
   }
  }
 ],
 "metadata": {
  "kernelspec": {
   "display_name": "Python 3 (ipykernel)",
   "language": "python",
   "name": "python3"
  },
  "language_info": {
   "codemirror_mode": {
    "name": "ipython",
    "version": 3
   },
   "file_extension": ".py",
   "mimetype": "text/x-python",
   "name": "python",
   "nbconvert_exporter": "python",
   "pygments_lexer": "ipython3",
   "version": "3.9.7"
  }
 },
 "nbformat": 4,
 "nbformat_minor": 4
}