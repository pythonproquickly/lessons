{
 "cells": [
  {
   "cell_type": "markdown",
   "metadata": {},
   "source": [
    "### Why we need to use HTTP request?\n",
    "\n",
    "The Hypertext Transfer Protocol (HTTP) is designed to enable communications between clients and servers. The HTTP request abstracts the complexities of making requests behind a beautiful, simple API so that you can focus on interacting with services and consuming data in your application."
   ]
  },
  {
   "attachments": {
    "image.png": {
     "image/png": "[encoded data removed]"
    }
   },
   "cell_type": "markdown",
   "metadata": {},
   "source": [
    " ![image.png](attachment:image.png)"
   ]
  },
  {
   "cell_type": "markdown",
   "metadata": {},
   "source": [
    "\n",
    "The most common HTTP method for information extraction is GET. The response of a GET request often has some valuable information in the message body.\n",
    "\n",
    "    response = requests.get(url)\n",
    "\n",
    "The first bit of information that you can gather from Response is the status code. A status code informs you of the status of the request.\n",
    "\n",
    "    response.status_code\n",
    "    200\n",
    "    \n",
    "As a result, a 200 status means that your request was successful, whereas a 404 status means that the resource you were looking for was not found.\n",
    "\n",
    "\n",
    "if the request goes successful, you can now examine the content by running the following code:\n",
    "    \n",
    "    response.content"
   ]
  },
  {
   "cell_type": "code",
   "execution_count": 1,
   "metadata": {},
   "outputs": [],
   "source": [
    "import requests\n",
    "from bs4 import BeautifulSoup\n",
    "from datetime import date\n",
    "import csv\n",
    "import os\n",
    "import json\n",
    "import urllib.request\n",
    "import pandas as pd\n",
    "from datetime import date"
   ]
  },
  {
   "cell_type": "markdown",
   "metadata": {},
   "source": [
    "Check your browser headers here: http://myhttpheader.com/"
   ]
  },
  {
   "cell_type": "code",
   "execution_count": 2,
   "metadata": {},
   "outputs": [],
   "source": [
    "# pass headers in a dict to the headers parameter to mimic a real human doing the request using a web browser\n",
    "headers = {\n",
    "    'accept': '*/*',\n",
    "    'content-type': 'text/html;charset=UTF-8',\n",
    "    'content-encoding': 'gzip',\n",
    "    'origin': 'www.zillow.com',\n",
    "    'User-Agent': 'Mozilla/5.0 (Macintosh; Intel Mac OS X 10_15_7) AppleWebKit/537.36 (KHTML, like Gecko) Chrome/104.0.0.0 Safari/537.36'\n",
    "}"
   ]
  },
  {
   "cell_type": "markdown",
   "metadata": {},
   "source": [
    "**Try for one listing page**"
   ]
  },
  {
   "cell_type": "code",
   "execution_count": 3,
   "metadata": {},
   "outputs": [
    {
     "name": "stdout",
     "output_type": "stream",
     "text": [
      "200\n"
     ]
    }
   ],
   "source": [
    "url = \"https://www.zillow.com/new-york-ny/?searchQueryState=%7B%22pagination%22%3A%7B%7D%2C%22usersSearchTerm%22%3A%22New%20York%2C%20NY%22%2C%22mapBounds%22%3A%7B%22west%22%3A-74.40402792382811%2C%22east%22%3A-73.55533407617186%2C%22south%22%3A40.41614210676251%2C%22north%22%3A40.9783747514048%7D%2C%22regionSelection%22%3A%5B%7B%22regionId%22%3A6181%2C%22regionType%22%3A6%7D%5D%2C%22isMapVisible%22%3Atrue%2C%22filterState%22%3A%7B%22ah%22%3A%7B%22value%22%3Atrue%7D%2C%22sort%22%3A%7B%22value%22%3A%22globalrelevanceex%22%7D%7D%2C%22isListVisible%22%3Atrue%7D\"\n",
    "r = requests.get(url, headers=headers)\n",
    "print(r.status_code)"
   ]
  },
  {
   "cell_type": "code",
   "execution_count": 4,
   "metadata": {},
   "outputs": [
    {
     "name": "stdout",
     "output_type": "stream",
     "text": [
      "<html>\n",
      " <head>\n",
      "  <meta content=\"noindex, nofollow\" name=\"robots\"/>\n",
      "  <link href=\"https://www.zillowstatic.com/vstatic/80d5e73/static/css/z-pages/captcha.css\" media=\"screen\" rel=\"stylesheet\" type=\"text/css\"/>\n",
      "  <script>\n",
      "   window._pxAppId = 'PXHYx10rg3';\n",
      "        window._pxJsClientSrc = '/HYx10rg3/init.js';\n",
      "        window._pxHostUrl = '/HYx10rg3/xhr';\n",
      "        window._pxFirstPartyEnabled = true;\n",
      "        window._pxreCaptchaTheme='light';\n",
      "  </script>\n",
      "  <script src=\"https://captcha.px-cdn.net/PXHYx10rg3/captcha.js?a=c&amp;m=0\" type=\"text/javascript\">\n",
      "  </script>\n",
      "  <script>\n",
      "   function getQueryString(name, url) {\n",
      "            if (!url) url = window.location.href;\n",
      "            name = name.replace(/[\\[\\]]/g, \"\\\\$&\");\n",
      "            var regex = new RegExp(\"[?&]\" + name + \"(=([^&#]*)|&|#|$)\"),\n",
      "                results = regex.exec(url);\n",
      "            if (!results) return null;\n",
      "            if (!results[2]) return '';\n",
      "            return decodeURIComponent(results[2].replace(/\\+/g, \" \"));\n",
      "        }\n",
      "        document.addEventListener(\"DOMContentLoaded\", function(e) {\n",
      "            var uuidVerifyRegExp = /^\\{?[0-9a-fA-F]{8}-[0-9a-fA-F]{4}-[0-9a-fA-F]{4}-[0-9a-fA-F]{4}-[0-9a-fA-F]{12}\\}?$/i;\n",
      "            document.getElementById(\"uuid\").innerText = \"UUID: \" + uuidVerifyRegExp.exec(getQueryString(\"uuid\"));\n",
      "        });\n",
      "\n",
      "        function handleCaptcha(response) {\n",
      "            var vid = getQueryString(\"vid\"); // getQueryString is implemented below\n",
      "            var uuid = getQueryString(\"uuid\");\n",
      "            var name = '_pxCaptcha';\n",
      "            var cookieValue =  btoa(JSON.stringify({r:response,v:vid,u:uuid}));\n",
      "            var cookieParts = [name, '=', cookieValue, '; path=/'];\n",
      "            cookieParts.push('; domain=' + window.location.hostname);\n",
      "            cookieParts.push('; max-age=10');//expire after 10 seconds\n",
      "            document.cookie = cookieParts.join('');\n",
      "            var originalURL = getOriginalUrl(\"url\");\n",
      "            var originalHost = window.location.host;\n",
      "            var newHref = window.location.protocol + \"//\" + originalHost;\n",
      "            originalURL = originalURL || '/';\n",
      "            newHref = newHref + originalURL;\n",
      "            window.location.href = newHref;\n",
      "        }\n",
      "\n",
      "        function getOriginalUrl(name) {\n",
      "            var url = getQueryString(name);\n",
      "            if (!url) return null;\n",
      "            var regExMatcher = new RegExp(\"(([^&#@]*)|&|#|$)\");\n",
      "            var matches = regExMatcher.exec(url);\n",
      "            if (!matches) return null;\n",
      "            return matches[0];\n",
      "        }\n",
      "  </script>\n",
      " </head>\n",
      " <body>\n",
      "  <main class=\"zsg-layout-content\">\n",
      "   <div class=\"error-content-block\">\n",
      "    <div class=\"error-text-content\">\n",
      "     <!-- <h1>Captcha</h1> -->\n",
      "     <h5>\n",
      "      Please verify you're a human to continue.\n",
      "     </h5>\n",
      "     <div class=\"captcha-container\" id=\"content\">\n",
      "      <div data-callback=\"handleCaptcha\" id=\"px-captcha\">\n",
      "      </div>\n",
      "      <img alt=\"Zillow\" height=\"14\" src=\"https://www.zillowstatic.com/static/logos/logo-65x14.png\" width=\"65\"/>\n",
      "     </div>\n",
      "    </div>\n",
      "   </div>\n",
      "  </main>\n",
      "  <h4 class=\"uuid-string zsg-fineprint\" id=\"uuid\">\n",
      "  </h4>\n",
      " </body>\n",
      "</html>\n",
      "<!-- H:026  T:0ms  S:2605  R:Sat Nov 12 11:16:01 PST 2022  B:5.0.69777-master.cda98d6~qa,spring_4_pre.df8e47eb -->\n",
      "\n"
     ]
    }
   ],
   "source": [
    "# read the response content with soup\n",
    "soup = BeautifulSoup(r.content, 'html.parser')\n",
    "\n",
    "print(soup.prettify())"
   ]
  },
  {
   "cell_type": "markdown",
   "metadata": {},
   "source": [
    "**navigate on the page, try to get the price and address for individual listings**"
   ]
  },
  {
   "cell_type": "code",
   "execution_count": 8,
   "metadata": {},
   "outputs": [
    {
     "name": "stdout",
     "output_type": "stream",
     "text": [
      "[]\n"
     ]
    }
   ],
   "source": [
    "price_tags = soup.find_all(\"span\", attrs={\"data-test\": \"property-card-price\"})\n",
    "print(price_tags)"
   ]
  },
  {
   "cell_type": "code",
   "execution_count": 9,
   "metadata": {},
   "outputs": [
    {
     "ename": "IndexError",
     "evalue": "list index out of range",
     "output_type": "error",
     "traceback": [
      "\u001b[0;31m---------------------------------------------------------------------------\u001b[0m",
      "\u001b[0;31mIndexError\u001b[0m                                Traceback (most recent call last)",
      "Input \u001b[0;32mIn [9]\u001b[0m, in \u001b[0;36m<cell line: 1>\u001b[0;34m()\u001b[0m\n\u001b[0;32m----> 1\u001b[0m \u001b[43mprice_tags\u001b[49m\u001b[43m[\u001b[49m\u001b[38;5;241;43m0\u001b[39;49m\u001b[43m]\u001b[49m\u001b[38;5;241m.\u001b[39mget_text()\n",
      "\u001b[0;31mIndexError\u001b[0m: list index out of range"
     ]
    }
   ],
   "source": [
    "price_tags[0].get_text()"
   ]
  },
  {
   "cell_type": "code",
   "execution_count": 10,
   "metadata": {},
   "outputs": [
    {
     "name": "stdout",
     "output_type": "stream",
     "text": [
      "[]\n"
     ]
    }
   ],
   "source": [
    "address_tags = soup.find_all(\"address\", attrs={\"data-test\": \"property-card-addr\"})\n",
    "print(address_tags)"
   ]
  },
  {
   "cell_type": "code",
   "execution_count": 11,
   "metadata": {},
   "outputs": [
    {
     "ename": "IndexError",
     "evalue": "list index out of range",
     "output_type": "error",
     "traceback": [
      "\u001b[0;31m---------------------------------------------------------------------------\u001b[0m",
      "\u001b[0;31mIndexError\u001b[0m                                Traceback (most recent call last)",
      "Input \u001b[0;32mIn [11]\u001b[0m, in \u001b[0;36m<cell line: 1>\u001b[0;34m()\u001b[0m\n\u001b[0;32m----> 1\u001b[0m \u001b[43maddress_tags\u001b[49m\u001b[43m[\u001b[49m\u001b[38;5;241;43m0\u001b[39;49m\u001b[43m]\u001b[49m\u001b[38;5;241m.\u001b[39mget_text()\n",
      "\u001b[0;31mIndexError\u001b[0m: list index out of range"
     ]
    }
   ],
   "source": [
    "address_tags[0].get_text()"
   ]
  },
  {
   "cell_type": "markdown",
   "metadata": {},
   "source": [
    "**navigate on the page, try to get the links for individual listings**"
   ]
  },
  {
   "cell_type": "code",
   "execution_count": 21,
   "metadata": {},
   "outputs": [],
   "source": [
    "a_tags = soup.find_all(\"a\", attrs={\"data-test\": \"property-card-link\"})"
   ]
  },
  {
   "cell_type": "code",
   "execution_count": 22,
   "metadata": {},
   "outputs": [
    {
     "ename": "IndexError",
     "evalue": "list index out of range",
     "output_type": "error",
     "traceback": [
      "\u001b[0;31m---------------------------------------------------------------------------\u001b[0m",
      "\u001b[0;31mIndexError\u001b[0m                                Traceback (most recent call last)",
      "Input \u001b[0;32mIn [22]\u001b[0m, in \u001b[0;36m<cell line: 1>\u001b[0;34m()\u001b[0m\n\u001b[0;32m----> 1\u001b[0m \u001b[43ma_tags\u001b[49m\u001b[43m[\u001b[49m\u001b[38;5;241;43m0\u001b[39;49m\u001b[43m]\u001b[49m\n",
      "\u001b[0;31mIndexError\u001b[0m: list index out of range"
     ]
    }
   ],
   "source": [
    "a_tags[0]"
   ]
  },
  {
   "cell_type": "code",
   "execution_count": 14,
   "metadata": {},
   "outputs": [
    {
     "ename": "IndexError",
     "evalue": "list index out of range",
     "output_type": "error",
     "traceback": [
      "\u001b[0;31m---------------------------------------------------------------------------\u001b[0m",
      "\u001b[0;31mIndexError\u001b[0m                                Traceback (most recent call last)",
      "Input \u001b[0;32mIn [14]\u001b[0m, in \u001b[0;36m<cell line: 1>\u001b[0;34m()\u001b[0m\n\u001b[0;32m----> 1\u001b[0m page_link \u001b[38;5;241m=\u001b[39m \u001b[43ma_tags\u001b[49m\u001b[43m[\u001b[49m\u001b[38;5;241;43m0\u001b[39;49m\u001b[43m]\u001b[49m\u001b[38;5;241m.\u001b[39mget(\u001b[38;5;124m\"\u001b[39m\u001b[38;5;124mhref\u001b[39m\u001b[38;5;124m\"\u001b[39m)\n\u001b[1;32m      2\u001b[0m page_link\n",
      "\u001b[0;31mIndexError\u001b[0m: list index out of range"
     ]
    }
   ],
   "source": [
    "page_link = a_tags[0].get(\"href\")\n",
    "page_link"
   ]
  },
  {
   "cell_type": "code",
   "execution_count": 15,
   "metadata": {
    "scrolled": true
   },
   "outputs": [
    {
     "ename": "NameError",
     "evalue": "name 'page_link' is not defined",
     "output_type": "error",
     "traceback": [
      "\u001b[0;31m---------------------------------------------------------------------------\u001b[0m",
      "\u001b[0;31mNameError\u001b[0m                                 Traceback (most recent call last)",
      "Input \u001b[0;32mIn [15]\u001b[0m, in \u001b[0;36m<cell line: 1>\u001b[0;34m()\u001b[0m\n\u001b[0;32m----> 1\u001b[0m page_response \u001b[38;5;241m=\u001b[39m requests\u001b[38;5;241m.\u001b[39mget(\u001b[43mpage_link\u001b[49m, headers\u001b[38;5;241m=\u001b[39mheaders)\n\u001b[1;32m      2\u001b[0m page_soup \u001b[38;5;241m=\u001b[39m BeautifulSoup(page_response\u001b[38;5;241m.\u001b[39mcontent, \u001b[38;5;124m'\u001b[39m\u001b[38;5;124mhtml.parser\u001b[39m\u001b[38;5;124m'\u001b[39m)\n\u001b[1;32m      3\u001b[0m \u001b[38;5;28mprint\u001b[39m(page_soup\u001b[38;5;241m.\u001b[39mprettify())\n",
      "\u001b[0;31mNameError\u001b[0m: name 'page_link' is not defined"
     ]
    }
   ],
   "source": [
    "page_response = requests.get(page_link, headers=headers)\n",
    "page_soup = BeautifulSoup(page_response.content, 'html.parser')\n",
    "print(page_soup.prettify())"
   ]
  },
  {
   "cell_type": "markdown",
   "metadata": {},
   "source": [
    "**handle when page link is incomplete**"
   ]
  },
  {
   "cell_type": "code",
   "execution_count": 16,
   "metadata": {},
   "outputs": [
    {
     "ename": "IndexError",
     "evalue": "list index out of range",
     "output_type": "error",
     "traceback": [
      "\u001b[0;31m---------------------------------------------------------------------------\u001b[0m",
      "\u001b[0;31mIndexError\u001b[0m                                Traceback (most recent call last)",
      "Input \u001b[0;32mIn [16]\u001b[0m, in \u001b[0;36m<cell line: 1>\u001b[0;34m()\u001b[0m\n\u001b[0;32m----> 1\u001b[0m page_link \u001b[38;5;241m=\u001b[39m \u001b[43ma_tags\u001b[49m\u001b[43m[\u001b[49m\u001b[38;5;241;43m10\u001b[39;49m\u001b[43m]\u001b[49m\u001b[38;5;241m.\u001b[39mget(\u001b[38;5;124m\"\u001b[39m\u001b[38;5;124mhref\u001b[39m\u001b[38;5;124m\"\u001b[39m)\n\u001b[1;32m      2\u001b[0m page_link\n",
      "\u001b[0;31mIndexError\u001b[0m: list index out of range"
     ]
    }
   ],
   "source": [
    "page_link = a_tags[10].get(\"href\")\n",
    "page_link"
   ]
  },
  {
   "cell_type": "code",
   "execution_count": 17,
   "metadata": {},
   "outputs": [
    {
     "ename": "NameError",
     "evalue": "name 'page_link' is not defined",
     "output_type": "error",
     "traceback": [
      "\u001b[0;31m---------------------------------------------------------------------------\u001b[0m",
      "\u001b[0;31mNameError\u001b[0m                                 Traceback (most recent call last)",
      "Input \u001b[0;32mIn [17]\u001b[0m, in \u001b[0;36m<cell line: 1>\u001b[0;34m()\u001b[0m\n\u001b[0;32m----> 1\u001b[0m \u001b[38;5;28;01mif\u001b[39;00m \u001b[38;5;124m\"\u001b[39m\u001b[38;5;124mzillow\u001b[39m\u001b[38;5;124m\"\u001b[39m \u001b[38;5;129;01mnot\u001b[39;00m \u001b[38;5;129;01min\u001b[39;00m \u001b[43mpage_link\u001b[49m:\n\u001b[1;32m      2\u001b[0m     page_link \u001b[38;5;241m=\u001b[39m \u001b[38;5;124m\"\u001b[39m\u001b[38;5;124mhttps://www.zillow.com/\u001b[39m\u001b[38;5;124m\"\u001b[39m \u001b[38;5;241m+\u001b[39m page_link\n\u001b[1;32m      4\u001b[0m page_response \u001b[38;5;241m=\u001b[39m requests\u001b[38;5;241m.\u001b[39mget(page_link, headers\u001b[38;5;241m=\u001b[39mheaders)\n",
      "\u001b[0;31mNameError\u001b[0m: name 'page_link' is not defined"
     ]
    }
   ],
   "source": [
    "if \"zillow\" not in page_link:\n",
    "    page_link = \"https://www.zillow.com/\" + page_link\n",
    "    \n",
    "page_response = requests.get(page_link, headers=headers)\n",
    "page_soup = BeautifulSoup(page_response.content, 'html.parser')\n",
    "print(page_soup.prettify())"
   ]
  },
  {
   "cell_type": "markdown",
   "metadata": {},
   "source": [
    "**try to get information from the individual page** "
   ]
  },
  {
   "cell_type": "code",
   "execution_count": 18,
   "metadata": {},
   "outputs": [
    {
     "ename": "NameError",
     "evalue": "name 'page_soup' is not defined",
     "output_type": "error",
     "traceback": [
      "\u001b[0;31m---------------------------------------------------------------------------\u001b[0m",
      "\u001b[0;31mNameError\u001b[0m                                 Traceback (most recent call last)",
      "Input \u001b[0;32mIn [18]\u001b[0m, in \u001b[0;36m<cell line: 2>\u001b[0;34m()\u001b[0m\n\u001b[1;32m      1\u001b[0m \u001b[38;5;66;03m# description \u001b[39;00m\n\u001b[0;32m----> 2\u001b[0m \u001b[43mpage_soup\u001b[49m\u001b[38;5;241m.\u001b[39mfind(\u001b[38;5;124m'\u001b[39m\u001b[38;5;124mdiv\u001b[39m\u001b[38;5;124m'\u001b[39m, class_\u001b[38;5;241m=\u001b[39m\u001b[38;5;124m\"\u001b[39m\u001b[38;5;124mhdp__sc-1j01zad-1 hmkpQE\u001b[39m\u001b[38;5;124m\"\u001b[39m)\u001b[38;5;241m.\u001b[39mget_text()\n",
      "\u001b[0;31mNameError\u001b[0m: name 'page_soup' is not defined"
     ]
    }
   ],
   "source": [
    "# description \n",
    "page_soup.find('div', class_=\"hdp__sc-1j01zad-1 hmkpQE\").get_text()"
   ]
  },
  {
   "cell_type": "code",
   "execution_count": 19,
   "metadata": {
    "scrolled": true
   },
   "outputs": [
    {
     "ename": "NameError",
     "evalue": "name 'page_soup' is not defined",
     "output_type": "error",
     "traceback": [
      "\u001b[0;31m---------------------------------------------------------------------------\u001b[0m",
      "\u001b[0;31mNameError\u001b[0m                                 Traceback (most recent call last)",
      "Input \u001b[0;32mIn [19]\u001b[0m, in \u001b[0;36m<cell line: 2>\u001b[0;34m()\u001b[0m\n\u001b[1;32m      1\u001b[0m \u001b[38;5;66;03m# number of beds and baths\u001b[39;00m\n\u001b[0;32m----> 2\u001b[0m \u001b[43mpage_soup\u001b[49m\u001b[38;5;241m.\u001b[39mfind(\u001b[38;5;124m\"\u001b[39m\u001b[38;5;124mspan\u001b[39m\u001b[38;5;124m\"\u001b[39m,{\u001b[38;5;124m'\u001b[39m\u001b[38;5;124mdata-testid\u001b[39m\u001b[38;5;124m'\u001b[39m:\u001b[38;5;124m'\u001b[39m\u001b[38;5;124mbed-bath-beyond\u001b[39m\u001b[38;5;124m'\u001b[39m})\u001b[38;5;241m.\u001b[39mtext\n",
      "\u001b[0;31mNameError\u001b[0m: name 'page_soup' is not defined"
     ]
    }
   ],
   "source": [
    "# number of beds and baths\n",
    "page_soup.find(\"span\",{'data-testid':'bed-bath-beyond'}).text"
   ]
  },
  {
   "cell_type": "code",
   "execution_count": 20,
   "metadata": {},
   "outputs": [
    {
     "ename": "NameError",
     "evalue": "name 'page_soup' is not defined",
     "output_type": "error",
     "traceback": [
      "\u001b[0;31m---------------------------------------------------------------------------\u001b[0m",
      "\u001b[0;31mNameError\u001b[0m                                 Traceback (most recent call last)",
      "Input \u001b[0;32mIn [20]\u001b[0m, in \u001b[0;36m<cell line: 2>\u001b[0;34m()\u001b[0m\n\u001b[1;32m      1\u001b[0m \u001b[38;5;66;03m# highlights\u001b[39;00m\n\u001b[0;32m----> 2\u001b[0m [tag\u001b[38;5;241m.\u001b[39mtext \u001b[38;5;28;01mfor\u001b[39;00m tag \u001b[38;5;129;01min\u001b[39;00m \u001b[43mpage_soup\u001b[49m\u001b[38;5;241m.\u001b[39mfind_all(\u001b[38;5;124m\"\u001b[39m\u001b[38;5;124mli\u001b[39m\u001b[38;5;124m\"\u001b[39m,{\u001b[38;5;124m'\u001b[39m\u001b[38;5;124mclass\u001b[39m\u001b[38;5;124m'\u001b[39m:\u001b[38;5;124m'\u001b[39m\u001b[38;5;124mdpf__sc-2arhs5-0 ecJCxh\u001b[39m\u001b[38;5;124m'\u001b[39m})]\n",
      "\u001b[0;31mNameError\u001b[0m: name 'page_soup' is not defined"
     ]
    }
   ],
   "source": [
    "# highlights\n",
    "[tag.text for tag in page_soup.find_all(\"li\",{'class':'dpf__sc-2arhs5-0 ecJCxh'})]"
   ]
  },
  {
   "cell_type": "markdown",
   "metadata": {},
   "source": [
    "**finding information in script tag** "
   ]
  },
  {
   "cell_type": "code",
   "execution_count": null,
   "metadata": {},
   "outputs": [],
   "source": [
    "script_str = str(page_soup.find('script', {\"type\":\"application/json\",\"id\":\"hdpApolloPreloadedData\"}))\n",
    "print(script_str)"
   ]
  },
  {
   "cell_type": "code",
   "execution_count": null,
   "metadata": {},
   "outputs": [],
   "source": [
    "def parse_script(script_str):\n",
    "    script_str = script_str.replace(\"\\\\\",\"\")\n",
    "    script_str = script_str.replace('<script id=\"hdpApolloPreloadedData\" type=\"application/json\">','') \n",
    "    script_str = script_str.replace('</script>','') \n",
    "    \n",
    "    splited = script_str.split(',')\n",
    "    \n",
    "    script_dict = {}\n",
    "    for item in splited: \n",
    "        item = item.replace(\"\\\"\",\"\")\n",
    "        \n",
    "        key = item.split(\":\")[0]\n",
    "        value = \"\".join(item.split(\":\")[1:])\n",
    "        \n",
    "        script_dict[key] = value \n",
    "        \n",
    "    return script_dict\n"
   ]
  },
  {
   "cell_type": "code",
   "execution_count": null,
   "metadata": {},
   "outputs": [],
   "source": [
    "script_dict = parse_script(script_str)\n",
    "script_dict"
   ]
  },
  {
   "cell_type": "code",
   "execution_count": null,
   "metadata": {},
   "outputs": [],
   "source": [
    "script_dict[\"zestimate\"]"
   ]
  },
  {
   "cell_type": "code",
   "execution_count": null,
   "metadata": {},
   "outputs": [],
   "source": [
    "script_dict[\"daysOnZillow\"]"
   ]
  },
  {
   "cell_type": "code",
   "execution_count": null,
   "metadata": {},
   "outputs": [],
   "source": [
    "script_dict[\"yearBuilt\"]"
   ]
  },
  {
   "cell_type": "code",
   "execution_count": null,
   "metadata": {},
   "outputs": [],
   "source": [
    "script_dict[\"streetAddress\"]"
   ]
  },
  {
   "cell_type": "code",
   "execution_count": null,
   "metadata": {},
   "outputs": [],
   "source": [
    "script_dict[\"city\"]"
   ]
  },
  {
   "cell_type": "code",
   "execution_count": null,
   "metadata": {},
   "outputs": [],
   "source": [
    "script_dict[\"state\"]"
   ]
  },
  {
   "cell_type": "code",
   "execution_count": null,
   "metadata": {},
   "outputs": [],
   "source": [
    "script_dict[\"zipcode\"]"
   ]
  },
  {
   "cell_type": "code",
   "execution_count": null,
   "metadata": {},
   "outputs": [],
   "source": [
    "script_dict[\"homeType\"]"
   ]
  },
  {
   "cell_type": "markdown",
   "metadata": {},
   "source": [
    "### Put it all together! "
   ]
  },
  {
   "cell_type": "code",
   "execution_count": null,
   "metadata": {},
   "outputs": [],
   "source": [
    "# specify how many listings you want to crawl  \n",
    "num_listings = 20"
   ]
  },
  {
   "cell_type": "code",
   "execution_count": null,
   "metadata": {},
   "outputs": [],
   "source": [
    "# initiate lists here\n",
    "address = []\n",
    "num_rooms = []\n",
    "price = []\n",
    "h_link = []\n",
    "\n",
    "description = []\n",
    "highlight = []\n",
    "\n",
    "zestimate = []\n",
    "days_on_zillow = []\n",
    "year_built = []\n",
    "street_address = []\n",
    "city = []\n",
    "state = []\n",
    "zipcode = []\n",
    "home_type = []\n",
    "\n",
    "timestamp = []\n",
    "\n",
    "# record when the data is crawled\n",
    "date_today = date.today()\n",
    "\n",
    "# number of listing crawled\n",
    "crawled_listing = 0\n",
    "\n",
    "page_count = 1"
   ]
  },
  {
   "cell_type": "code",
   "execution_count": null,
   "metadata": {
    "code_folding": []
   },
   "outputs": [],
   "source": [
    "# Making soup \n",
    "url = \"https://www.zillow.com/new-york-ny/?searchQueryState=%7B%22pagination%22%3A%7B%22currentPage%22%3A2%7D%2C%22usersSearchTerm%22%3A%22New%20York%2C%20NY%22%2C%22mapBounds%22%3A%7B%22west%22%3A-74.4088344423828%2C%22east%22%3A-73.55052755761717%2C%22south%22%3A40.41614210676251%2C%22north%22%3A40.9783747514048%7D%2C%22regionSelection%22%3A%5B%7B%22regionId%22%3A6181%2C%22regionType%22%3A6%7D%5D%2C%22isMapVisible%22%3Atrue%2C%22filterState%22%3A%7B%22ah%22%3A%7B%22value%22%3Atrue%7D%2C%22sort%22%3A%7B%22value%22%3A%22globalrelevanceex%22%7D%7D%2C%22isListVisible%22%3Atrue%7D\"\n",
    "r = requests.get(url, headers=headers)\n",
    "soup = BeautifulSoup(r.content, 'html.parser')\n",
    "\n",
    "# Parsing soup  \n",
    "while num_listings > crawled_listing:\n",
    "    \n",
    "    # Meta Page \n",
    "    articles = soup.find_all(\"article\", attrs={\"data-test\": \"property-card\"})\n",
    "    \n",
    "    for article in articles:\n",
    "        # address\n",
    "        try:\n",
    "            address.append(article.find(\"address\", attrs={\"data-test\": \"property-card-addr\"}).text)\n",
    "        except Exception:\n",
    "            address.append('N/A')\n",
    "            \n",
    "        # price\n",
    "        try:\n",
    "            price.append(article.find(\"span\", attrs={\"data-test\": \"property-card-price\"}).text)\n",
    "        except Exception:\n",
    "            price.append('N/A')\n",
    "        \n",
    "        # h_link\n",
    "        try:\n",
    "            page_link = article.find(\"a\", attrs={\"data-test\": \"property-card-link\"}).get(\"href\")\n",
    "            if \"zillow\" not in page_link:\n",
    "                page_link = \"https://www.zillow.com/\" + page_link\n",
    "            h_link.append(page_link)\n",
    "        except Exception:\n",
    "            h_link.append('N/A')\n",
    "        \n",
    "        # Go inside each page \n",
    "        if h_link[-1] != 'N/A':\n",
    "            try:\n",
    "                page_response = requests.get(page_link, headers=headers)\n",
    "            except Exception:\n",
    "                description.append(\"N/A\") \n",
    "                highlight.append(\"N/A\") \n",
    "                zestimate.append(\"N/A\") \n",
    "                days_on_zillow.append(\"N/A\") \n",
    "                year_built.append(\"N/A\") \n",
    "                street_address.append(\"N/A\") \n",
    "                city.append(\"N/A\") \n",
    "                state.append(\"N/A\") \n",
    "                zipcode.append(\"N/A\") \n",
    "                home_type.append(\"N/A\")\n",
    "                \n",
    "                continue\n",
    "        \n",
    "            page_soup = BeautifulSoup(page_response.content, 'html.parser')\n",
    "            \n",
    "            # description \n",
    "            try:\n",
    "                description.append(page_soup.find('div',class_=\"hdp__sc-1j01zad-1 hmkpQE\").get_text())\n",
    "            except Exception:\n",
    "                description.append('N/A')\n",
    "\n",
    "            # highlight\n",
    "            try:\n",
    "                highlight_text = \";\".join([tag.text for tag in page_soup.find_all(\"li\",{'class':'dpf__sc-2arhs5-0 ecJCxh'})])\n",
    "                highlight.append(highlight_text)\n",
    "            except Exception:\n",
    "                highlight.append('N/A')\n",
    "                \n",
    "            #num_rooms\n",
    "            try:\n",
    "                num_rooms.append(page_soup.find(\"span\",{'data-testid':'bed-bath-beyond'}).text)\n",
    "            except Exception:\n",
    "                num_rooms.append('N/A')\n",
    "                \n",
    "            # Get script data    \n",
    "            script_str = str(page_soup.find('script', {\"type\":\"application/json\",\"id\":\"hdpApolloPreloadedData\"}))\n",
    "            script_dict = parse_script(script_str)\n",
    "                \n",
    "            # zestimate \n",
    "            try:\n",
    "                zestimate.append(script_dict[\"zestimate\"])\n",
    "            except Exception:\n",
    "                zestimate.append('N/A')\n",
    "                \n",
    "            # days_on_zillow \n",
    "            try:\n",
    "                days_on_zillow.append(script_dict[\"daysOnZillow\"])\n",
    "            except Exception:\n",
    "                days_on_zillow.append('N/A')\n",
    "            \n",
    "            # year_built \n",
    "            try:\n",
    "                year_built.append(script_dict[\"yearBuilt\"])\n",
    "            except Exception:\n",
    "                year_built.append('N/A')\n",
    "                \n",
    "            # street_address\n",
    "            try:\n",
    "                street_address.append(script_dict[\"streetAddress\"])\n",
    "            except Exception:\n",
    "                street_address.append('N/A')\n",
    "            \n",
    "            # city \n",
    "            try:\n",
    "                city.append(script_dict[\"city\"])\n",
    "            except Exception:\n",
    "                city.append('N/A')\n",
    "                \n",
    "            # state \n",
    "            try:\n",
    "                state.append(script_dict[\"state\"])\n",
    "            except Exception:\n",
    "                state.append('N/A')\n",
    "                \n",
    "            # zipcode \n",
    "            try:\n",
    "                zipcode.append(script_dict[\"zipcode\"])\n",
    "            except Exception:\n",
    "                zipcode.append('N/A')\n",
    "            \n",
    "            # home_type \n",
    "            try:\n",
    "                home_type.append(script_dict[\"homeType\"])\n",
    "            except Exception:\n",
    "                home_type.append('N/A')\n",
    "        \n",
    "        else:\n",
    "            description.append(\"N/A\") \n",
    "            highlight.append(\"N/A\") \n",
    "            zestimate.append(\"N/A\") \n",
    "            days_on_zillow.append(\"N/A\") \n",
    "            year_built.append(\"N/A\") \n",
    "            street_address.append(\"N/A\") \n",
    "            city.append(\"N/A\") \n",
    "            state.append(\"N/A\") \n",
    "            zipcode.append(\"N/A\") \n",
    "            home_type.append(\"N/A\")\n",
    "        \n",
    "        # timestamp\n",
    "        timestamp.append(date_today)\n",
    "                                 \n",
    "        # increment cralwed_listing                        \n",
    "        crawled_listing += 1\n",
    "\n",
    "        # if reached number of listings, break out of loop\n",
    "        if num_listings == crawled_listing:\n",
    "            break\n",
    "    \n",
    "    \n",
    "    # End of for loop of one page  # \n",
    "                                 \n",
    "    # updating request link \n",
    "    page_count += 1\n",
    "    \n",
    "    url = \"https://www.zillow.com/new-york-ny/{}_p/?searchQueryState=%7B%22pagination%22%3A%7B%22currentPage%22%3A2%7D%2C%22usersSearchTerm%22%3A%22New%20York%2C%20NY%22%2C%22mapBounds%22%3A%7B%22west%22%3A-74.40402792382811%2C%22east%22%3A-73.55533407617186%2C%22south%22%3A40.41614210676251%2C%22north%22%3A40.9783747514048%7D%2C%22regionSelection%22%3A%5B%7B%22regionId%22%3A6181%2C%22regionType%22%3A6%7D%5D%2C%22isMapVisible%22%3Atrue%2C%22filterState%22%3A%7B%22ah%22%3A%7B%22value%22%3Atrue%7D%2C%22sort%22%3A%7B%22value%22%3A%22globalrelevanceex%22%7D%7D%2C%22isListVisible%22%3Atrue%7D\".format(page_count)  \n",
    "    r = requests.get(url, headers=headers)\n",
    "    soup = BeautifulSoup(r.content, 'html.parser')"
   ]
  },
  {
   "cell_type": "code",
   "execution_count": null,
   "metadata": {},
   "outputs": [],
   "source": [
    "# create a dataframe based on the lists created above\n",
    "df = pd.DataFrame(list(zip(address, price, h_link, timestamp,\n",
    "                           description, highlight, num_rooms,\n",
    "                           zestimate, days_on_zillow, year_built,street_address, \n",
    "                           city, state, zipcode, home_type)),\n",
    "                  columns = [\"address\",  \"price\", \"h_link\", \"timestamp\",\n",
    "                           \"description\", \"highlight\", \"num_rooms\",\n",
    "                           \"zestimate\", \"days_on_zillow\", \"year_built\",\"street_address\", \n",
    "                           \"city\", \"state\", \"zipcode\", \"home_type\"])"
   ]
  },
  {
   "cell_type": "code",
   "execution_count": null,
   "metadata": {},
   "outputs": [],
   "source": [
    "df"
   ]
  },
  {
   "cell_type": "code",
   "execution_count": null,
   "metadata": {},
   "outputs": [],
   "source": [
    "df.to_csv(\"zillow_listings.csv\")"
   ]
  },
  {
   "cell_type": "code",
   "execution_count": null,
   "metadata": {},
   "outputs": [],
   "source": []
  }
 ],
 "metadata": {
  "kernelspec": {
   "display_name": "Python 3 (ipykernel)",
   "language": "python",
   "name": "python3"
  },
  "language_info": {
   "codemirror_mode": {
    "name": "ipython",
    "version": 3
   },
   "file_extension": ".py",
   "mimetype": "text/x-python",
   "name": "python",
   "nbconvert_exporter": "python",
   "pygments_lexer": "ipython3",
   "version": "3.10.6"
  },
  "toc": {
   "base_numbering": 1,
   "nav_menu": {},
   "number_sections": false,
   "sideBar": true,
   "skip_h1_title": false,
   "title_cell": "Table of Contents",
   "title_sidebar": "Contents",
   "toc_cell": false,
   "toc_position": {
    "height": "calc(100% - 180px)",
    "left": "10px",
    "top": "150px",
    "width": "226.364px"
   },
   "toc_section_display": true,
   "toc_window_display": false
  }
 },
 "nbformat": 4,
 "nbformat_minor": 4
}
