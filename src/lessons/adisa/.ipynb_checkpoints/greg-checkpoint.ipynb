{
 "cells": [
  {
   "cell_type": "code",
   "execution_count": 1,
   "id": "e27c1503",
   "metadata": {},
   "outputs": [],
   "source": [
    "import tweepy"
   ]
  },
  {
   "cell_type": "code",
   "execution_count": 2,
   "id": "3fb1376d",
   "metadata": {},
   "outputs": [],
   "source": [
    "consumer_key = 'xxx'\n",
    "consumer_secret = 'xxx'\n",
    "access_token = 'xxxxx'\n",
    "access_token_secret = 'xxxx'\n",
    "\n",
    "# instantiating the api\n",
    "auth = tweepy.OAuthHandler(consumer_key, consumer_secret)\n",
    "auth.set_access_token(access_token, access_token_secret)\n"
   ]
  },
  {
   "cell_type": "code",
   "execution_count": 3,
   "id": "b8268738",
   "metadata": {},
   "outputs": [],
   "source": [
    "api = tweepy.API(auth)"
   ]
  },
  {
   "cell_type": "code",
   "execution_count": 4,
   "id": "0fc6c796",
   "metadata": {},
   "outputs": [],
   "source": [
    "keywords = ['#iphone14max','#iphone14apple','#appleiphone14','#appleiphone14max','#newappleiphone14','#iphone14']\n",
    "tweets = []\n",
    "\n",
    "num_of_tweets = 10\n",
    "for key in keywords: \n",
    "    new_search = key + \" -filter:retweets\"\n",
    "    search_results = tweepy.Cursor(api.search_tweets,\n",
    "                       q=new_search,\n",
    "                       lang=\"en\", count=100).items(num_of_tweets)\n",
    "    tweets = tweets + list(search_results)\n",
    "  "
   ]
  },
  {
   "cell_type": "code",
   "execution_count": 5,
   "id": "a1db8195",
   "metadata": {},
   "outputs": [],
   "source": [
    "import csv\n",
    "with open(\"tweets.csv\",\"w\") as csvfile:\n",
    "    csvwriter = csv.writer(csvfile) \n",
    "    csvwriter.writerow([\"screen_name\",\"followers\",\"location\",\"text\"])\n",
    "    for tweet_line in tweets:\n",
    "        line=tweet_line._json\n",
    "        csvwriter.writerow([line['user']['screen_name'],line['user']['followers_count'],line['user']['location'], line['text']])"
   ]
  },
  {
   "cell_type": "code",
   "execution_count": null,
   "id": "08a70ba1",
   "metadata": {},
   "outputs": [],
   "source": []
  }
 ],
 "metadata": {
  "kernelspec": {
   "display_name": "Python 3 (ipykernel)",
   "language": "python",
   "name": "python3"
  },
  "language_info": {
   "codemirror_mode": {
    "name": "ipython",
    "version": 3
   },
   "file_extension": ".py",
   "mimetype": "text/x-python",
   "name": "python",
   "nbconvert_exporter": "python",
   "pygments_lexer": "ipython3",
   "version": "3.10.6"
  }
 },
 "nbformat": 4,
 "nbformat_minor": 5
}
