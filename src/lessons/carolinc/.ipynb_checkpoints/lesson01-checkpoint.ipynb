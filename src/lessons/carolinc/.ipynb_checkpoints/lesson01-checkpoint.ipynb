{
 "cells": [
  {
   "cell_type": "code",
   "execution_count": null,
   "id": "ed54b930",
   "metadata": {},
   "outputs": [],
   "source": [
    "L = [\"a\", \"a\", \"b\", \"c\"]\n",
    "\n",
    "d = {}\n",
    "\n",
    "for key in L:\n",
    "    d[key] = L.count(key)\n",
    "\n",
    "print(d)"
   ]
  },
  {
   "cell_type": "code",
   "execution_count": null,
   "id": "6c3209d5",
   "metadata": {},
   "outputs": [],
   "source": [
    "numbers = []\n",
    "while True:\n",
    "    x = input(\"Please input a number.\")\n",
    "    x = int(x)\n",
    "    numbers.append(x)\n",
    "    if x % 2 == 0:\n",
    "        continue\n",
    "    break\n",
    "print(numbers)"
   ]
  },
  {
   "cell_type": "markdown",
   "id": "433d8091",
   "metadata": {},
   "source": [
    "#### "
   ]
  },
  {
   "cell_type": "code",
   "execution_count": null,
   "id": "3e4ad084",
   "metadata": {},
   "outputs": [],
   "source": [
    "[sum(range(i+1)) for i in range(1, 11)]"
   ]
  },
  {
   "cell_type": "code",
   "execution_count": null,
   "id": "3d8bbff2",
   "metadata": {},
   "outputs": [],
   "source": [
    "s = \"make it so, number one\"\n",
    "[letter for letter in s if letter not in \"aeiou \"]"
   ]
  },
  {
   "cell_type": "code",
   "execution_count": null,
   "id": "a89fc399",
   "metadata": {},
   "outputs": [],
   "source": [
    "X = [5, 6, 7]\n",
    "k = 8\n",
    "\n",
    "[[n**m for m in range(k+1) if m % 2 == 0] for n in X]"
   ]
  },
  {
   "cell_type": "code",
   "execution_count": null,
   "id": "66197180",
   "metadata": {},
   "outputs": [],
   "source": [
    "import random\n",
    "upper_bound = 3\n",
    "lower_bound = -3\n",
    "\n",
    "position = 0\n",
    "positions = [0]\n",
    "flips = []\n",
    "while True:\n",
    "    flip = random.choice((0, 1))\n",
    "    if flip == 1:\n",
    "        position += 1\n",
    "    elif flip == 0:\n",
    "        position -= 1\n",
    "    positions.append(position)\n",
    "    flips.append(flip)\n",
    "    if position in (3, -3):\n",
    "        break\n",
    "\n",
    "print(positions)\n",
    "print(flips)\n",
    "    \n",
    "    "
   ]
  }
 ],
 "metadata": {
  "kernelspec": {
   "display_name": "Python 3 (ipykernel)",
   "language": "python",
   "name": "python3"
  },
  "language_info": {
   "codemirror_mode": {
    "name": "ipython",
    "version": 3
   },
   "file_extension": ".py",
   "mimetype": "text/x-python",
   "name": "python",
   "nbconvert_exporter": "python",
   "pygments_lexer": "ipython3",
   "version": "3.9.7"
  }
 },
 "nbformat": 4,
 "nbformat_minor": 5
}
