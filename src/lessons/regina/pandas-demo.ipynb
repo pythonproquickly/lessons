{
 "cells": [
  {
   "cell_type": "markdown",
   "metadata": {},
   "source": [
    "# Racing analysis\n",
    "Formula 1 data summaries"
   ]
  },
  {
   "cell_type": "code",
   "execution_count": 1,
   "metadata": {},
   "outputs": [],
   "source": [
    "import pandas as pd"
   ]
  },
  {
   "cell_type": "code",
   "execution_count": 2,
   "metadata": {
    "tags": []
   },
   "outputs": [],
   "source": [
    "pd.set_option(\"display.max_columns\", None)\n",
    "pd.options.display.width = 0"
   ]
  },
  {
   "cell_type": "markdown",
   "metadata": {},
   "source": [
    "## Step one: discover"
   ]
  },
  {
   "cell_type": "code",
   "execution_count": 4,
   "metadata": {},
   "outputs": [],
   "source": [
    "drivers = pd.read_csv(\"/home/andy/data/drivers.csv\", engine='python')"
   ]
  },
  {
   "cell_type": "code",
   "execution_count": 5,
   "metadata": {},
   "outputs": [
    {
     "data": {
      "text/plain": "     driverId   driverRef  number code    forename     surname         dob  \\\n0           1    hamilton    44.0  HAM       Lewis    Hamilton  07/01/1985   \n1           2    heidfeld     NaN  HEI        Nick    Heidfeld  10/05/1977   \n2           3     rosberg     6.0  ROS        Nico     Rosberg  27/06/1985   \n3           4      alonso    14.0  ALO    Fernando      Alonso  29/07/1981   \n4           5  kovalainen     NaN  KOV      Heikki  Kovalainen  19/10/1981   \n..        ...         ...     ...  ...         ...         ...         ...   \n139       141      bailey     NaN  NaN      Julian      Bailey  09/10/1961   \n140       142      chaves     NaN  NaN       Pedro      Chaves  27/02/1965   \n141       143     bartels     NaN  NaN     Michael     Bartels  08/03/1968   \n142       144     hattori     NaN  NaN       Naoki     Hattori  13/06/1966   \n143       145     nannini     NaN  NaN  Alessandro     Nannini  07/07/1959   \n\n    nationality                                              url  \n0       British      http://en.wikipedia.org/wiki/Lewis_Hamilton  \n1        German       http://en.wikipedia.org/wiki/Nick_Heidfeld  \n2        German        http://en.wikipedia.org/wiki/Nico_Rosberg  \n3       Spanish     http://en.wikipedia.org/wiki/Fernando_Alonso  \n4       Finnish   http://en.wikipedia.org/wiki/Heikki_Kovalainen  \n..          ...                                              ...  \n139     British       http://en.wikipedia.org/wiki/Julian_Bailey  \n140  Portuguese        http://en.wikipedia.org/wiki/Pedro_Chaves  \n141      German     http://en.wikipedia.org/wiki/Michael_Bartels  \n142    Japanese       http://en.wikipedia.org/wiki/Naoki_Hattori  \n143     Italian  http://en.wikipedia.org/wiki/Alessandro_Nannini  \n\n[144 rows x 9 columns]",
      "text/html": "<div>\n<style scoped>\n    .dataframe tbody tr th:only-of-type {\n        vertical-align: middle;\n    }\n\n    .dataframe tbody tr th {\n        vertical-align: top;\n    }\n\n    .dataframe thead th {\n        text-align: right;\n    }\n</style>\n<table border=\"1\" class=\"dataframe\">\n  <thead>\n    <tr style=\"text-align: right;\">\n      <th></th>\n      <th>driverId</th>\n      <th>driverRef</th>\n      <th>number</th>\n      <th>code</th>\n      <th>forename</th>\n      <th>surname</th>\n      <th>dob</th>\n      <th>nationality</th>\n      <th>url</th>\n    </tr>\n  </thead>\n  <tbody>\n    <tr>\n      <th>0</th>\n      <td>1</td>\n      <td>hamilton</td>\n      <td>44.0</td>\n      <td>HAM</td>\n      <td>Lewis</td>\n      <td>Hamilton</td>\n      <td>07/01/1985</td>\n      <td>British</td>\n      <td>http://en.wikipedia.org/wiki/Lewis_Hamilton</td>\n    </tr>\n    <tr>\n      <th>1</th>\n      <td>2</td>\n      <td>heidfeld</td>\n      <td>NaN</td>\n      <td>HEI</td>\n      <td>Nick</td>\n      <td>Heidfeld</td>\n      <td>10/05/1977</td>\n      <td>German</td>\n      <td>http://en.wikipedia.org/wiki/Nick_Heidfeld</td>\n    </tr>\n    <tr>\n      <th>2</th>\n      <td>3</td>\n      <td>rosberg</td>\n      <td>6.0</td>\n      <td>ROS</td>\n      <td>Nico</td>\n      <td>Rosberg</td>\n      <td>27/06/1985</td>\n      <td>German</td>\n      <td>http://en.wikipedia.org/wiki/Nico_Rosberg</td>\n    </tr>\n    <tr>\n      <th>3</th>\n      <td>4</td>\n      <td>alonso</td>\n      <td>14.0</td>\n      <td>ALO</td>\n      <td>Fernando</td>\n      <td>Alonso</td>\n      <td>29/07/1981</td>\n      <td>Spanish</td>\n      <td>http://en.wikipedia.org/wiki/Fernando_Alonso</td>\n    </tr>\n    <tr>\n      <th>4</th>\n      <td>5</td>\n      <td>kovalainen</td>\n      <td>NaN</td>\n      <td>KOV</td>\n      <td>Heikki</td>\n      <td>Kovalainen</td>\n      <td>19/10/1981</td>\n      <td>Finnish</td>\n      <td>http://en.wikipedia.org/wiki/Heikki_Kovalainen</td>\n    </tr>\n    <tr>\n      <th>...</th>\n      <td>...</td>\n      <td>...</td>\n      <td>...</td>\n      <td>...</td>\n      <td>...</td>\n      <td>...</td>\n      <td>...</td>\n      <td>...</td>\n      <td>...</td>\n    </tr>\n    <tr>\n      <th>139</th>\n      <td>141</td>\n      <td>bailey</td>\n      <td>NaN</td>\n      <td>NaN</td>\n      <td>Julian</td>\n      <td>Bailey</td>\n      <td>09/10/1961</td>\n      <td>British</td>\n      <td>http://en.wikipedia.org/wiki/Julian_Bailey</td>\n    </tr>\n    <tr>\n      <th>140</th>\n      <td>142</td>\n      <td>chaves</td>\n      <td>NaN</td>\n      <td>NaN</td>\n      <td>Pedro</td>\n      <td>Chaves</td>\n      <td>27/02/1965</td>\n      <td>Portuguese</td>\n      <td>http://en.wikipedia.org/wiki/Pedro_Chaves</td>\n    </tr>\n    <tr>\n      <th>141</th>\n      <td>143</td>\n      <td>bartels</td>\n      <td>NaN</td>\n      <td>NaN</td>\n      <td>Michael</td>\n      <td>Bartels</td>\n      <td>08/03/1968</td>\n      <td>German</td>\n      <td>http://en.wikipedia.org/wiki/Michael_Bartels</td>\n    </tr>\n    <tr>\n      <th>142</th>\n      <td>144</td>\n      <td>hattori</td>\n      <td>NaN</td>\n      <td>NaN</td>\n      <td>Naoki</td>\n      <td>Hattori</td>\n      <td>13/06/1966</td>\n      <td>Japanese</td>\n      <td>http://en.wikipedia.org/wiki/Naoki_Hattori</td>\n    </tr>\n    <tr>\n      <th>143</th>\n      <td>145</td>\n      <td>nannini</td>\n      <td>NaN</td>\n      <td>NaN</td>\n      <td>Alessandro</td>\n      <td>Nannini</td>\n      <td>07/07/1959</td>\n      <td>Italian</td>\n      <td>http://en.wikipedia.org/wiki/Alessandro_Nannini</td>\n    </tr>\n  </tbody>\n</table>\n<p>144 rows × 9 columns</p>\n</div>"
     },
     "execution_count": 5,
     "metadata": {},
     "output_type": "execute_result"
    }
   ],
   "source": [
    "drivers"
   ]
  },
  {
   "cell_type": "code",
   "execution_count": 6,
   "metadata": {},
   "outputs": [
    {
     "name": "stdout",
     "output_type": "stream",
     "text": [
      "<class 'pandas.core.frame.DataFrame'>\n",
      "RangeIndex: 144 entries, 0 to 143\n",
      "Data columns (total 9 columns):\n",
      " #   Column       Non-Null Count  Dtype  \n",
      "---  ------       --------------  -----  \n",
      " 0   driverId     144 non-null    int64  \n",
      " 1   driverRef    144 non-null    object \n",
      " 2   number       8 non-null      float64\n",
      " 3   code         44 non-null     object \n",
      " 4   forename     144 non-null    object \n",
      " 5   surname      144 non-null    object \n",
      " 6   dob          144 non-null    object \n",
      " 7   nationality  144 non-null    object \n",
      " 8   url          144 non-null    object \n",
      "dtypes: float64(1), int64(1), object(7)\n",
      "memory usage: 10.2+ KB\n"
     ]
    }
   ],
   "source": [
    "drivers.info()"
   ]
  },
  {
   "cell_type": "code",
   "execution_count": 7,
   "metadata": {},
   "outputs": [
    {
     "data": {
      "text/plain": "         driverId     number\ncount  144.000000   8.000000\nmean    73.298611  27.000000\nstd     41.993852  31.749016\nmin      1.000000   5.000000\n25%     37.750000   6.750000\n50%     73.500000  16.500000\n75%    109.250000  27.500000\nmax    145.000000  99.000000",
      "text/html": "<div>\n<style scoped>\n    .dataframe tbody tr th:only-of-type {\n        vertical-align: middle;\n    }\n\n    .dataframe tbody tr th {\n        vertical-align: top;\n    }\n\n    .dataframe thead th {\n        text-align: right;\n    }\n</style>\n<table border=\"1\" class=\"dataframe\">\n  <thead>\n    <tr style=\"text-align: right;\">\n      <th></th>\n      <th>driverId</th>\n      <th>number</th>\n    </tr>\n  </thead>\n  <tbody>\n    <tr>\n      <th>count</th>\n      <td>144.000000</td>\n      <td>8.000000</td>\n    </tr>\n    <tr>\n      <th>mean</th>\n      <td>73.298611</td>\n      <td>27.000000</td>\n    </tr>\n    <tr>\n      <th>std</th>\n      <td>41.993852</td>\n      <td>31.749016</td>\n    </tr>\n    <tr>\n      <th>min</th>\n      <td>1.000000</td>\n      <td>5.000000</td>\n    </tr>\n    <tr>\n      <th>25%</th>\n      <td>37.750000</td>\n      <td>6.750000</td>\n    </tr>\n    <tr>\n      <th>50%</th>\n      <td>73.500000</td>\n      <td>16.500000</td>\n    </tr>\n    <tr>\n      <th>75%</th>\n      <td>109.250000</td>\n      <td>27.500000</td>\n    </tr>\n    <tr>\n      <th>max</th>\n      <td>145.000000</td>\n      <td>99.000000</td>\n    </tr>\n  </tbody>\n</table>\n</div>"
     },
     "execution_count": 7,
     "metadata": {},
     "output_type": "execute_result"
    }
   ],
   "source": [
    "drivers.describe()"
   ]
  },
  {
   "cell_type": "markdown",
   "metadata": {},
   "source": [
    "## Step two: cleanse"
   ]
  },
  {
   "cell_type": "code",
   "execution_count": 8,
   "metadata": {},
   "outputs": [
    {
     "name": "stdout",
     "output_type": "stream",
     "text": [
      "Columns with missing values\n",
      "\n",
      "driverId  :  0\n",
      "driverRef  :  0\n",
      "number  :  136\n",
      "code  :  100\n",
      "forename  :  0\n",
      "surname  :  0\n",
      "dob  :  0\n",
      "nationality  :  0\n",
      "url  :  0\n"
     ]
    }
   ],
   "source": [
    "print(\"Columns with missing values\\n\")\n",
    "\n",
    "for column in drivers:\n",
    "    print(column, ' : ', drivers[column].isnull().sum())"
   ]
  },
  {
   "cell_type": "code",
   "execution_count": 9,
   "metadata": {},
   "outputs": [
    {
     "data": {
      "text/plain": "Index(['number', 'code'], dtype='object')"
     },
     "execution_count": 9,
     "metadata": {},
     "output_type": "execute_result"
    }
   ],
   "source": [
    "drivers.columns[drivers.isnull().any()]"
   ]
  },
  {
   "cell_type": "code",
   "execution_count": 10,
   "metadata": {},
   "outputs": [],
   "source": [
    "blanks = pd.DataFrame(drivers, columns=['number', 'code', 'dob', 'url'])"
   ]
  },
  {
   "cell_type": "code",
   "execution_count": 11,
   "metadata": {},
   "outputs": [
    {
     "data": {
      "text/plain": "     number code         dob                                              url\n0      44.0  HAM  07/01/1985      http://en.wikipedia.org/wiki/Lewis_Hamilton\n1       NaN  HEI  10/05/1977       http://en.wikipedia.org/wiki/Nick_Heidfeld\n2       6.0  ROS  27/06/1985        http://en.wikipedia.org/wiki/Nico_Rosberg\n3      14.0  ALO  29/07/1981     http://en.wikipedia.org/wiki/Fernando_Alonso\n4       NaN  KOV  19/10/1981   http://en.wikipedia.org/wiki/Heikki_Kovalainen\n..      ...  ...         ...                                              ...\n139     NaN  NaN  09/10/1961       http://en.wikipedia.org/wiki/Julian_Bailey\n140     NaN  NaN  27/02/1965        http://en.wikipedia.org/wiki/Pedro_Chaves\n141     NaN  NaN  08/03/1968     http://en.wikipedia.org/wiki/Michael_Bartels\n142     NaN  NaN  13/06/1966       http://en.wikipedia.org/wiki/Naoki_Hattori\n143     NaN  NaN  07/07/1959  http://en.wikipedia.org/wiki/Alessandro_Nannini\n\n[144 rows x 4 columns]",
      "text/html": "<div>\n<style scoped>\n    .dataframe tbody tr th:only-of-type {\n        vertical-align: middle;\n    }\n\n    .dataframe tbody tr th {\n        vertical-align: top;\n    }\n\n    .dataframe thead th {\n        text-align: right;\n    }\n</style>\n<table border=\"1\" class=\"dataframe\">\n  <thead>\n    <tr style=\"text-align: right;\">\n      <th></th>\n      <th>number</th>\n      <th>code</th>\n      <th>dob</th>\n      <th>url</th>\n    </tr>\n  </thead>\n  <tbody>\n    <tr>\n      <th>0</th>\n      <td>44.0</td>\n      <td>HAM</td>\n      <td>07/01/1985</td>\n      <td>http://en.wikipedia.org/wiki/Lewis_Hamilton</td>\n    </tr>\n    <tr>\n      <th>1</th>\n      <td>NaN</td>\n      <td>HEI</td>\n      <td>10/05/1977</td>\n      <td>http://en.wikipedia.org/wiki/Nick_Heidfeld</td>\n    </tr>\n    <tr>\n      <th>2</th>\n      <td>6.0</td>\n      <td>ROS</td>\n      <td>27/06/1985</td>\n      <td>http://en.wikipedia.org/wiki/Nico_Rosberg</td>\n    </tr>\n    <tr>\n      <th>3</th>\n      <td>14.0</td>\n      <td>ALO</td>\n      <td>29/07/1981</td>\n      <td>http://en.wikipedia.org/wiki/Fernando_Alonso</td>\n    </tr>\n    <tr>\n      <th>4</th>\n      <td>NaN</td>\n      <td>KOV</td>\n      <td>19/10/1981</td>\n      <td>http://en.wikipedia.org/wiki/Heikki_Kovalainen</td>\n    </tr>\n    <tr>\n      <th>...</th>\n      <td>...</td>\n      <td>...</td>\n      <td>...</td>\n      <td>...</td>\n    </tr>\n    <tr>\n      <th>139</th>\n      <td>NaN</td>\n      <td>NaN</td>\n      <td>09/10/1961</td>\n      <td>http://en.wikipedia.org/wiki/Julian_Bailey</td>\n    </tr>\n    <tr>\n      <th>140</th>\n      <td>NaN</td>\n      <td>NaN</td>\n      <td>27/02/1965</td>\n      <td>http://en.wikipedia.org/wiki/Pedro_Chaves</td>\n    </tr>\n    <tr>\n      <th>141</th>\n      <td>NaN</td>\n      <td>NaN</td>\n      <td>08/03/1968</td>\n      <td>http://en.wikipedia.org/wiki/Michael_Bartels</td>\n    </tr>\n    <tr>\n      <th>142</th>\n      <td>NaN</td>\n      <td>NaN</td>\n      <td>13/06/1966</td>\n      <td>http://en.wikipedia.org/wiki/Naoki_Hattori</td>\n    </tr>\n    <tr>\n      <th>143</th>\n      <td>NaN</td>\n      <td>NaN</td>\n      <td>07/07/1959</td>\n      <td>http://en.wikipedia.org/wiki/Alessandro_Nannini</td>\n    </tr>\n  </tbody>\n</table>\n<p>144 rows × 4 columns</p>\n</div>"
     },
     "execution_count": 11,
     "metadata": {},
     "output_type": "execute_result"
    }
   ],
   "source": [
    "blanks"
   ]
  },
  {
   "cell_type": "code",
   "execution_count": 12,
   "metadata": {},
   "outputs": [
    {
     "name": "stdout",
     "output_type": "stream",
     "text": [
      "% blank\n",
      "\n",
      "number         94.44\n",
      "code           69.44\n",
      "driverId        0.00\n",
      "driverRef       0.00\n",
      "forename        0.00\n",
      "surname         0.00\n",
      "dob             0.00\n",
      "nationality     0.00\n",
      "url             0.00\n",
      "dtype: float64\n"
     ]
    }
   ],
   "source": [
    "print(\"% blank\\n\")\n",
    "print(round((drivers.isnull().sum() * 100 / len(drivers)), 2).sort_values(\n",
    "    ascending=False))"
   ]
  },
  {
   "cell_type": "markdown",
   "metadata": {},
   "source": [
    "hmmm... This tells me that code is not a good field on which to id a driver"
   ]
  },
  {
   "cell_type": "code",
   "execution_count": 13,
   "metadata": {},
   "outputs": [],
   "source": [
    "drivers['number'] = drivers['number'].astype(str)"
   ]
  },
  {
   "cell_type": "code",
   "execution_count": 14,
   "metadata": {},
   "outputs": [
    {
     "data": {
      "text/plain": "     driverId   driverRef number code    forename     surname         dob  \\\n0           1    hamilton   44.0  HAM       Lewis    Hamilton  07/01/1985   \n1           2    heidfeld    nan  HEI        Nick    Heidfeld  10/05/1977   \n2           3     rosberg    6.0  ROS        Nico     Rosberg  27/06/1985   \n3           4      alonso   14.0  ALO    Fernando      Alonso  29/07/1981   \n4           5  kovalainen    nan  KOV      Heikki  Kovalainen  19/10/1981   \n..        ...         ...    ...  ...         ...         ...         ...   \n139       141      bailey    nan  NaN      Julian      Bailey  09/10/1961   \n140       142      chaves    nan  NaN       Pedro      Chaves  27/02/1965   \n141       143     bartels    nan  NaN     Michael     Bartels  08/03/1968   \n142       144     hattori    nan  NaN       Naoki     Hattori  13/06/1966   \n143       145     nannini    nan  NaN  Alessandro     Nannini  07/07/1959   \n\n    nationality                                              url  \n0       British      http://en.wikipedia.org/wiki/Lewis_Hamilton  \n1        German       http://en.wikipedia.org/wiki/Nick_Heidfeld  \n2        German        http://en.wikipedia.org/wiki/Nico_Rosberg  \n3       Spanish     http://en.wikipedia.org/wiki/Fernando_Alonso  \n4       Finnish   http://en.wikipedia.org/wiki/Heikki_Kovalainen  \n..          ...                                              ...  \n139     British       http://en.wikipedia.org/wiki/Julian_Bailey  \n140  Portuguese        http://en.wikipedia.org/wiki/Pedro_Chaves  \n141      German     http://en.wikipedia.org/wiki/Michael_Bartels  \n142    Japanese       http://en.wikipedia.org/wiki/Naoki_Hattori  \n143     Italian  http://en.wikipedia.org/wiki/Alessandro_Nannini  \n\n[144 rows x 9 columns]",
      "text/html": "<div>\n<style scoped>\n    .dataframe tbody tr th:only-of-type {\n        vertical-align: middle;\n    }\n\n    .dataframe tbody tr th {\n        vertical-align: top;\n    }\n\n    .dataframe thead th {\n        text-align: right;\n    }\n</style>\n<table border=\"1\" class=\"dataframe\">\n  <thead>\n    <tr style=\"text-align: right;\">\n      <th></th>\n      <th>driverId</th>\n      <th>driverRef</th>\n      <th>number</th>\n      <th>code</th>\n      <th>forename</th>\n      <th>surname</th>\n      <th>dob</th>\n      <th>nationality</th>\n      <th>url</th>\n    </tr>\n  </thead>\n  <tbody>\n    <tr>\n      <th>0</th>\n      <td>1</td>\n      <td>hamilton</td>\n      <td>44.0</td>\n      <td>HAM</td>\n      <td>Lewis</td>\n      <td>Hamilton</td>\n      <td>07/01/1985</td>\n      <td>British</td>\n      <td>http://en.wikipedia.org/wiki/Lewis_Hamilton</td>\n    </tr>\n    <tr>\n      <th>1</th>\n      <td>2</td>\n      <td>heidfeld</td>\n      <td>nan</td>\n      <td>HEI</td>\n      <td>Nick</td>\n      <td>Heidfeld</td>\n      <td>10/05/1977</td>\n      <td>German</td>\n      <td>http://en.wikipedia.org/wiki/Nick_Heidfeld</td>\n    </tr>\n    <tr>\n      <th>2</th>\n      <td>3</td>\n      <td>rosberg</td>\n      <td>6.0</td>\n      <td>ROS</td>\n      <td>Nico</td>\n      <td>Rosberg</td>\n      <td>27/06/1985</td>\n      <td>German</td>\n      <td>http://en.wikipedia.org/wiki/Nico_Rosberg</td>\n    </tr>\n    <tr>\n      <th>3</th>\n      <td>4</td>\n      <td>alonso</td>\n      <td>14.0</td>\n      <td>ALO</td>\n      <td>Fernando</td>\n      <td>Alonso</td>\n      <td>29/07/1981</td>\n      <td>Spanish</td>\n      <td>http://en.wikipedia.org/wiki/Fernando_Alonso</td>\n    </tr>\n    <tr>\n      <th>4</th>\n      <td>5</td>\n      <td>kovalainen</td>\n      <td>nan</td>\n      <td>KOV</td>\n      <td>Heikki</td>\n      <td>Kovalainen</td>\n      <td>19/10/1981</td>\n      <td>Finnish</td>\n      <td>http://en.wikipedia.org/wiki/Heikki_Kovalainen</td>\n    </tr>\n    <tr>\n      <th>...</th>\n      <td>...</td>\n      <td>...</td>\n      <td>...</td>\n      <td>...</td>\n      <td>...</td>\n      <td>...</td>\n      <td>...</td>\n      <td>...</td>\n      <td>...</td>\n    </tr>\n    <tr>\n      <th>139</th>\n      <td>141</td>\n      <td>bailey</td>\n      <td>nan</td>\n      <td>NaN</td>\n      <td>Julian</td>\n      <td>Bailey</td>\n      <td>09/10/1961</td>\n      <td>British</td>\n      <td>http://en.wikipedia.org/wiki/Julian_Bailey</td>\n    </tr>\n    <tr>\n      <th>140</th>\n      <td>142</td>\n      <td>chaves</td>\n      <td>nan</td>\n      <td>NaN</td>\n      <td>Pedro</td>\n      <td>Chaves</td>\n      <td>27/02/1965</td>\n      <td>Portuguese</td>\n      <td>http://en.wikipedia.org/wiki/Pedro_Chaves</td>\n    </tr>\n    <tr>\n      <th>141</th>\n      <td>143</td>\n      <td>bartels</td>\n      <td>nan</td>\n      <td>NaN</td>\n      <td>Michael</td>\n      <td>Bartels</td>\n      <td>08/03/1968</td>\n      <td>German</td>\n      <td>http://en.wikipedia.org/wiki/Michael_Bartels</td>\n    </tr>\n    <tr>\n      <th>142</th>\n      <td>144</td>\n      <td>hattori</td>\n      <td>nan</td>\n      <td>NaN</td>\n      <td>Naoki</td>\n      <td>Hattori</td>\n      <td>13/06/1966</td>\n      <td>Japanese</td>\n      <td>http://en.wikipedia.org/wiki/Naoki_Hattori</td>\n    </tr>\n    <tr>\n      <th>143</th>\n      <td>145</td>\n      <td>nannini</td>\n      <td>nan</td>\n      <td>NaN</td>\n      <td>Alessandro</td>\n      <td>Nannini</td>\n      <td>07/07/1959</td>\n      <td>Italian</td>\n      <td>http://en.wikipedia.org/wiki/Alessandro_Nannini</td>\n    </tr>\n  </tbody>\n</table>\n<p>144 rows × 9 columns</p>\n</div>"
     },
     "execution_count": 14,
     "metadata": {},
     "output_type": "execute_result"
    }
   ],
   "source": [
    "drivers"
   ]
  },
  {
   "cell_type": "code",
   "execution_count": 15,
   "metadata": {},
   "outputs": [],
   "source": [
    "nationality = drivers.groupby(['nationality'])['driverRef'].count()"
   ]
  },
  {
   "cell_type": "code",
   "execution_count": 16,
   "metadata": {},
   "outputs": [
    {
     "data": {
      "text/plain": "nationality\nAmerican       2\nArgentine      3\nAustralian     2\nAustrian       6\nBelgian        4\nBrazilian     16\nBritish       15\nCanadian       1\nColombian      1\nCzech          1\nDanish         2\nDutch          4\nFinnish        5\nFrench        15\nGerman         9\nHungarian      1\nIndian         1\nIrish          1\nItalian       29\nJapanese      13\nMalaysian      1\nMonegasque     1\nPolish         1\nPortuguese     3\nSpanish        3\nSwedish        1\nSwiss          3\nName: driverRef, dtype: int64"
     },
     "execution_count": 16,
     "metadata": {},
     "output_type": "execute_result"
    }
   ],
   "source": [
    "nationality"
   ]
  },
  {
   "cell_type": "code",
   "execution_count": 17,
   "metadata": {},
   "outputs": [
    {
     "name": "stdout",
     "output_type": "stream",
     "text": [
      "<class 'pandas.core.frame.DataFrame'>\n",
      "RangeIndex: 144 entries, 0 to 143\n",
      "Data columns (total 9 columns):\n",
      " #   Column       Non-Null Count  Dtype \n",
      "---  ------       --------------  ----- \n",
      " 0   driverId     144 non-null    int64 \n",
      " 1   driverRef    144 non-null    object\n",
      " 2   number       144 non-null    object\n",
      " 3   code         44 non-null     object\n",
      " 4   forename     144 non-null    object\n",
      " 5   surname      144 non-null    object\n",
      " 6   dob          144 non-null    object\n",
      " 7   nationality  144 non-null    object\n",
      " 8   url          144 non-null    object\n",
      "dtypes: int64(1), object(8)\n",
      "memory usage: 10.2+ KB\n"
     ]
    }
   ],
   "source": [
    "drivers.info()"
   ]
  },
  {
   "cell_type": "code",
   "execution_count": 18,
   "metadata": {},
   "outputs": [],
   "source": [
    "drivers['full_name'] = drivers['surname'] + \", \" + drivers['forename']"
   ]
  },
  {
   "cell_type": "code",
   "execution_count": 19,
   "metadata": {},
   "outputs": [
    {
     "data": {
      "text/plain": "     driverId   driverRef number code    forename     surname         dob  \\\n0           1    hamilton   44.0  HAM       Lewis    Hamilton  07/01/1985   \n1           2    heidfeld    nan  HEI        Nick    Heidfeld  10/05/1977   \n2           3     rosberg    6.0  ROS        Nico     Rosberg  27/06/1985   \n3           4      alonso   14.0  ALO    Fernando      Alonso  29/07/1981   \n4           5  kovalainen    nan  KOV      Heikki  Kovalainen  19/10/1981   \n..        ...         ...    ...  ...         ...         ...         ...   \n139       141      bailey    nan  NaN      Julian      Bailey  09/10/1961   \n140       142      chaves    nan  NaN       Pedro      Chaves  27/02/1965   \n141       143     bartels    nan  NaN     Michael     Bartels  08/03/1968   \n142       144     hattori    nan  NaN       Naoki     Hattori  13/06/1966   \n143       145     nannini    nan  NaN  Alessandro     Nannini  07/07/1959   \n\n    nationality                                              url  \\\n0       British      http://en.wikipedia.org/wiki/Lewis_Hamilton   \n1        German       http://en.wikipedia.org/wiki/Nick_Heidfeld   \n2        German        http://en.wikipedia.org/wiki/Nico_Rosberg   \n3       Spanish     http://en.wikipedia.org/wiki/Fernando_Alonso   \n4       Finnish   http://en.wikipedia.org/wiki/Heikki_Kovalainen   \n..          ...                                              ...   \n139     British       http://en.wikipedia.org/wiki/Julian_Bailey   \n140  Portuguese        http://en.wikipedia.org/wiki/Pedro_Chaves   \n141      German     http://en.wikipedia.org/wiki/Michael_Bartels   \n142    Japanese       http://en.wikipedia.org/wiki/Naoki_Hattori   \n143     Italian  http://en.wikipedia.org/wiki/Alessandro_Nannini   \n\n               full_name  \n0        Hamilton, Lewis  \n1         Heidfeld, Nick  \n2          Rosberg, Nico  \n3       Alonso, Fernando  \n4     Kovalainen, Heikki  \n..                   ...  \n139       Bailey, Julian  \n140        Chaves, Pedro  \n141     Bartels, Michael  \n142       Hattori, Naoki  \n143  Nannini, Alessandro  \n\n[144 rows x 10 columns]",
      "text/html": "<div>\n<style scoped>\n    .dataframe tbody tr th:only-of-type {\n        vertical-align: middle;\n    }\n\n    .dataframe tbody tr th {\n        vertical-align: top;\n    }\n\n    .dataframe thead th {\n        text-align: right;\n    }\n</style>\n<table border=\"1\" class=\"dataframe\">\n  <thead>\n    <tr style=\"text-align: right;\">\n      <th></th>\n      <th>driverId</th>\n      <th>driverRef</th>\n      <th>number</th>\n      <th>code</th>\n      <th>forename</th>\n      <th>surname</th>\n      <th>dob</th>\n      <th>nationality</th>\n      <th>url</th>\n      <th>full_name</th>\n    </tr>\n  </thead>\n  <tbody>\n    <tr>\n      <th>0</th>\n      <td>1</td>\n      <td>hamilton</td>\n      <td>44.0</td>\n      <td>HAM</td>\n      <td>Lewis</td>\n      <td>Hamilton</td>\n      <td>07/01/1985</td>\n      <td>British</td>\n      <td>http://en.wikipedia.org/wiki/Lewis_Hamilton</td>\n      <td>Hamilton, Lewis</td>\n    </tr>\n    <tr>\n      <th>1</th>\n      <td>2</td>\n      <td>heidfeld</td>\n      <td>nan</td>\n      <td>HEI</td>\n      <td>Nick</td>\n      <td>Heidfeld</td>\n      <td>10/05/1977</td>\n      <td>German</td>\n      <td>http://en.wikipedia.org/wiki/Nick_Heidfeld</td>\n      <td>Heidfeld, Nick</td>\n    </tr>\n    <tr>\n      <th>2</th>\n      <td>3</td>\n      <td>rosberg</td>\n      <td>6.0</td>\n      <td>ROS</td>\n      <td>Nico</td>\n      <td>Rosberg</td>\n      <td>27/06/1985</td>\n      <td>German</td>\n      <td>http://en.wikipedia.org/wiki/Nico_Rosberg</td>\n      <td>Rosberg, Nico</td>\n    </tr>\n    <tr>\n      <th>3</th>\n      <td>4</td>\n      <td>alonso</td>\n      <td>14.0</td>\n      <td>ALO</td>\n      <td>Fernando</td>\n      <td>Alonso</td>\n      <td>29/07/1981</td>\n      <td>Spanish</td>\n      <td>http://en.wikipedia.org/wiki/Fernando_Alonso</td>\n      <td>Alonso, Fernando</td>\n    </tr>\n    <tr>\n      <th>4</th>\n      <td>5</td>\n      <td>kovalainen</td>\n      <td>nan</td>\n      <td>KOV</td>\n      <td>Heikki</td>\n      <td>Kovalainen</td>\n      <td>19/10/1981</td>\n      <td>Finnish</td>\n      <td>http://en.wikipedia.org/wiki/Heikki_Kovalainen</td>\n      <td>Kovalainen, Heikki</td>\n    </tr>\n    <tr>\n      <th>...</th>\n      <td>...</td>\n      <td>...</td>\n      <td>...</td>\n      <td>...</td>\n      <td>...</td>\n      <td>...</td>\n      <td>...</td>\n      <td>...</td>\n      <td>...</td>\n      <td>...</td>\n    </tr>\n    <tr>\n      <th>139</th>\n      <td>141</td>\n      <td>bailey</td>\n      <td>nan</td>\n      <td>NaN</td>\n      <td>Julian</td>\n      <td>Bailey</td>\n      <td>09/10/1961</td>\n      <td>British</td>\n      <td>http://en.wikipedia.org/wiki/Julian_Bailey</td>\n      <td>Bailey, Julian</td>\n    </tr>\n    <tr>\n      <th>140</th>\n      <td>142</td>\n      <td>chaves</td>\n      <td>nan</td>\n      <td>NaN</td>\n      <td>Pedro</td>\n      <td>Chaves</td>\n      <td>27/02/1965</td>\n      <td>Portuguese</td>\n      <td>http://en.wikipedia.org/wiki/Pedro_Chaves</td>\n      <td>Chaves, Pedro</td>\n    </tr>\n    <tr>\n      <th>141</th>\n      <td>143</td>\n      <td>bartels</td>\n      <td>nan</td>\n      <td>NaN</td>\n      <td>Michael</td>\n      <td>Bartels</td>\n      <td>08/03/1968</td>\n      <td>German</td>\n      <td>http://en.wikipedia.org/wiki/Michael_Bartels</td>\n      <td>Bartels, Michael</td>\n    </tr>\n    <tr>\n      <th>142</th>\n      <td>144</td>\n      <td>hattori</td>\n      <td>nan</td>\n      <td>NaN</td>\n      <td>Naoki</td>\n      <td>Hattori</td>\n      <td>13/06/1966</td>\n      <td>Japanese</td>\n      <td>http://en.wikipedia.org/wiki/Naoki_Hattori</td>\n      <td>Hattori, Naoki</td>\n    </tr>\n    <tr>\n      <th>143</th>\n      <td>145</td>\n      <td>nannini</td>\n      <td>nan</td>\n      <td>NaN</td>\n      <td>Alessandro</td>\n      <td>Nannini</td>\n      <td>07/07/1959</td>\n      <td>Italian</td>\n      <td>http://en.wikipedia.org/wiki/Alessandro_Nannini</td>\n      <td>Nannini, Alessandro</td>\n    </tr>\n  </tbody>\n</table>\n<p>144 rows × 10 columns</p>\n</div>"
     },
     "execution_count": 19,
     "metadata": {},
     "output_type": "execute_result"
    }
   ],
   "source": [
    "drivers"
   ]
  },
  {
   "cell_type": "markdown",
   "metadata": {},
   "source": [
    "## Step three: analyze"
   ]
  },
  {
   "cell_type": "code",
   "execution_count": 20,
   "metadata": {},
   "outputs": [],
   "source": [
    "nationality = pd.DataFrame(\n",
    "    drivers.groupby(['nationality'])[['driverRef']].count())"
   ]
  },
  {
   "cell_type": "code",
   "execution_count": 21,
   "metadata": {},
   "outputs": [
    {
     "data": {
      "text/plain": "             driverRef\nnationality           \nAmerican             2\nArgentine            3\nAustralian           2\nAustrian             6\nBelgian              4\nBrazilian           16\nBritish             15\nCanadian             1\nColombian            1\nCzech                1\nDanish               2\nDutch                4\nFinnish              5\nFrench              15\nGerman               9\nHungarian            1\nIndian               1\nIrish                1\nItalian             29\nJapanese            13\nMalaysian            1\nMonegasque           1\nPolish               1\nPortuguese           3\nSpanish              3\nSwedish              1\nSwiss                3",
      "text/html": "<div>\n<style scoped>\n    .dataframe tbody tr th:only-of-type {\n        vertical-align: middle;\n    }\n\n    .dataframe tbody tr th {\n        vertical-align: top;\n    }\n\n    .dataframe thead th {\n        text-align: right;\n    }\n</style>\n<table border=\"1\" class=\"dataframe\">\n  <thead>\n    <tr style=\"text-align: right;\">\n      <th></th>\n      <th>driverRef</th>\n    </tr>\n    <tr>\n      <th>nationality</th>\n      <th></th>\n    </tr>\n  </thead>\n  <tbody>\n    <tr>\n      <th>American</th>\n      <td>2</td>\n    </tr>\n    <tr>\n      <th>Argentine</th>\n      <td>3</td>\n    </tr>\n    <tr>\n      <th>Australian</th>\n      <td>2</td>\n    </tr>\n    <tr>\n      <th>Austrian</th>\n      <td>6</td>\n    </tr>\n    <tr>\n      <th>Belgian</th>\n      <td>4</td>\n    </tr>\n    <tr>\n      <th>Brazilian</th>\n      <td>16</td>\n    </tr>\n    <tr>\n      <th>British</th>\n      <td>15</td>\n    </tr>\n    <tr>\n      <th>Canadian</th>\n      <td>1</td>\n    </tr>\n    <tr>\n      <th>Colombian</th>\n      <td>1</td>\n    </tr>\n    <tr>\n      <th>Czech</th>\n      <td>1</td>\n    </tr>\n    <tr>\n      <th>Danish</th>\n      <td>2</td>\n    </tr>\n    <tr>\n      <th>Dutch</th>\n      <td>4</td>\n    </tr>\n    <tr>\n      <th>Finnish</th>\n      <td>5</td>\n    </tr>\n    <tr>\n      <th>French</th>\n      <td>15</td>\n    </tr>\n    <tr>\n      <th>German</th>\n      <td>9</td>\n    </tr>\n    <tr>\n      <th>Hungarian</th>\n      <td>1</td>\n    </tr>\n    <tr>\n      <th>Indian</th>\n      <td>1</td>\n    </tr>\n    <tr>\n      <th>Irish</th>\n      <td>1</td>\n    </tr>\n    <tr>\n      <th>Italian</th>\n      <td>29</td>\n    </tr>\n    <tr>\n      <th>Japanese</th>\n      <td>13</td>\n    </tr>\n    <tr>\n      <th>Malaysian</th>\n      <td>1</td>\n    </tr>\n    <tr>\n      <th>Monegasque</th>\n      <td>1</td>\n    </tr>\n    <tr>\n      <th>Polish</th>\n      <td>1</td>\n    </tr>\n    <tr>\n      <th>Portuguese</th>\n      <td>3</td>\n    </tr>\n    <tr>\n      <th>Spanish</th>\n      <td>3</td>\n    </tr>\n    <tr>\n      <th>Swedish</th>\n      <td>1</td>\n    </tr>\n    <tr>\n      <th>Swiss</th>\n      <td>3</td>\n    </tr>\n  </tbody>\n</table>\n</div>"
     },
     "execution_count": 21,
     "metadata": {},
     "output_type": "execute_result"
    }
   ],
   "source": [
    "nationality"
   ]
  },
  {
   "cell_type": "markdown",
   "metadata": {},
   "source": [
    "## Step four: report"
   ]
  },
  {
   "cell_type": "code",
   "execution_count": 67,
   "metadata": {},
   "outputs": [
    {
     "name": "stdout",
     "output_type": "stream",
     "text": [
      "    nationality driverRef          full_name\n",
      "25     American     speed       Speed, Scott\n",
      "119    American  andretti  Andretti, Michael\n",
      "   nationality  driverRef           full_name\n",
      "58   Argentine  mazzacane   Mazzacane, Gastin\n",
      "72   Argentine      tuero      Tuero, Esteban\n",
      "80   Argentine    fontana   Fontana, Norberto\n",
      "   nationality driverRef       full_name\n",
      "16  Australian    webber    Webber, Mark\n",
      "99  Australian   brabham  Brabham, David\n",
      "    nationality     driverRef             full_name\n",
      "24     Austrian          wurz       Wurz, Alexander\n",
      "30     Austrian         klien      Klien, Christian\n",
      "38     Austrian    friesacher   Friesacher, Patrick\n",
      "75     Austrian        berger       Berger, Gerhard\n",
      "89     Austrian    wendlinger      Wendlinger, Karl\n",
      "105    Austrian  ratzenberger  Ratzenberger, Roland\n",
      "    nationality driverRef           full_name\n",
      "90      Belgian    gachot    Gachot, Bertrand\n",
      "111     Belgian     adams     Adams, Philippe\n",
      "121     Belgian   boutsen    Boutsen, Thierry\n",
      "126     Belgian     poele  van de Poele, Eric\n",
      "    nationality    driverRef              full_name\n",
      "11    Brazilian    piquet_jr     Piquet Jr., Nelson\n",
      "12    Brazilian        massa          Massa, Felipe\n",
      "21    Brazilian  barrichello    Barrichello, Rubens\n",
      "39    Brazilian        zonta         Zonta, Ricardo\n",
      "40    Brazilian     pizzonia      Pizzonia, Antonio\n",
      "41    Brazilian        matta    da Matta, Cristiano\n",
      "52    Brazilian        burti         Burti, Luciano\n",
      "56    Brazilian      marques         Marques, Tarso\n",
      "57    Brazilian     bernoldi      Bernoldi, Enrique\n",
      "62    Brazilian        diniz           Diniz, Pedro\n",
      "71    Brazilian       rosset        Rosset, Ricardo\n",
      "88    Brazilian       moreno        Moreno, Roberto\n",
      "100   Brazilian        senna          Senna, Ayrton\n",
      "102   Brazilian   fittipaldi  Fittipaldi, Christian\n",
      "125   Brazilian     gugelmin     Gugelmin, Mauricio\n",
      "135   Brazilian       piquet         Piquet, Nelson\n",
      "    nationality   driverRef          full_name\n",
      "0       British    hamilton    Hamilton, Lewis\n",
      "13      British   coulthard   Coulthard, David\n",
      "17      British      button     Button, Jenson\n",
      "18      British    davidson  Davidson, Anthony\n",
      "49      British      wilson     Wilson, Justin\n",
      "54      British      irvine      Irvine, Eddie\n",
      "63      British     herbert    Herbert, Johnny\n",
      "64      British      mcnish      McNish, Allan\n",
      "69      British  damon_hill        Hill, Damon\n",
      "82      British     brundle    Brundle, Martin\n",
      "85      British    blundell     Blundell, Mark\n",
      "93      British     mansell     Mansell, Nigel\n",
      "116     British     warwick     Warwick, Derek\n",
      "133     British    mccarthy    McCarthy, Perry\n",
      "139     British      bailey     Bailey, Julian\n",
      "   nationality   driverRef            full_name\n",
      "33    Canadian  villeneuve  Villeneuve, Jacques\n",
      "   nationality driverRef            full_name\n",
      "29   Colombian   montoya  Pablo Montoya, Juan\n",
      "   nationality driverRef  full_name\n",
      "59       Czech      enge  Enge, Tom\n",
      "   nationality  driverRef       full_name\n",
      "51      Danish      kiesa  Kiesa, Nicolas\n",
      "74      Danish  magnussen  Magnussen, Jan\n",
      "    nationality   driverRef           full_name\n",
      "26        Dutch      albers  Albers, Christijan\n",
      "36        Dutch    doornbos    Doornbos, Robert\n",
      "48        Dutch  verstappen     Verstappen, Jos\n",
      "134       Dutch     lammers        Lammers, Jan\n",
      "    nationality   driverRef           full_name\n",
      "4       Finnish  kovalainen  Kovalainen, Heikki\n",
      "7       Finnish   raikkonen     Raikonnen, Kimi\n",
      "55      Finnish    hakkinen      Hakinnen, Mika\n",
      "61      Finnish        salo          Salo, Mika\n",
      "107     Finnish       lehto   Jirvilehto, Jyrki\n",
      "    nationality   driverRef                  full_name\n",
      "6        French    bourdais        Bourdais, Sebastien\n",
      "34       French    montagny           Montagny, Franck\n",
      "42       French       panis             Panis, Olivier\n",
      "53       French       alesi                Alesi, Jean\n",
      "70       French    sarrazin         Sarrazin, Stephane\n",
      "94       French    boullion  Boullion, Jean-Christophe\n",
      "98       French       comas               Comas, Iarik\n",
      "101      French     bernard             Bernard, Iaric\n",
      "106      French    belmondo             Belmondo, Paul\n",
      "109      French      gounon          Gounon, Jean-Marc\n",
      "110      French      alliot           Alliot, Philippe\n",
      "112      French      dalmas            Dalmas, Yannick\n",
      "114      French     lagorce            Lagorce, Franck\n",
      "115      French       prost               Prost, Alain\n",
      "127      French  grouillard        Grouillard, Olivier\n",
      "    nationality          driverRef               full_name\n",
      "1        German           heidfeld          Heidfeld, Nick\n",
      "2        German            rosberg           Rosberg, Nico\n",
      "9        German              glock             Glock, Timo\n",
      "15       German              sutil           Sutil, Adrian\n",
      "19       German             vettel       Vettel, Sebastian\n",
      "22       German    ralf_schumacher        Schumacher, Ralf\n",
      "27       German  markus_winkelhock      Winkelhock, Markus\n",
      "47       German           frentzen  Frentzen, Heinz-Harald\n",
      "141      German            bartels        Bartels, Michael\n",
      "   nationality    driverRef           full_name\n",
      "45   Hungarian  baumgartner  Baumgartner, Zsolt\n",
      "   nationality    driverRef            full_name\n",
      "37      Indian  karthikeyan  Karthikeyan, Narain\n",
      "   nationality driverRef      full_name\n",
      "50       Irish    firman  Firman, Ralph\n",
      "    nationality      driverRef                full_name\n",
      "14      Italian         trulli            Trulli, Jarno\n",
      "20      Italian     fisichella    Fisichella, Giancarlo\n",
      "23      Italian         liuzzi       Liuzzi, Vitantonio\n",
      "43      Italian        pantano         Pantano, Giorgio\n",
      "44      Italian          bruni         Bruni, Gianmaria\n",
      "67      Italian         badoer             Badoer, Luca\n",
      "68      Italian        zanardi      Zanardi, Alessandro\n",
      "76      Italian         larini           Larini, Nicola\n",
      "78      Italian        sospiri        Sospiri, Vincenzo\n",
      "79      Italian     morbidelli       Morbidelli, Gianni\n",
      "83      Italian     montermini       Montermini, Andrea\n",
      "84      Italian        lavaggi        Lavaggi, Giovanni\n",
      "91      Italian  schiattarella  Schiattarella, Domenico\n",
      "92      Italian        martini       Martini, Pierluigi\n",
      "95      Italian          papis      Papis, Massimiliano\n",
      "97      Italian       tarquini       Tarquini, Gabriele\n",
      "103     Italian       alboreto        Alboreto, Michele\n",
      "108     Italian        cesaris       de Cesaris, Andrea\n",
      "117     Italian        patrese        Patrese, Riccardo\n",
      "118     Italian       barbazza       Barbazza, Fabrizio\n",
      "120     Italian        capelli            Capelli, Ivan\n",
      "122     Italian       apicella          Apicella, Marco\n",
      "123     Italian       naspetti       Naspetti, Emanuele\n",
      "129     Italian         modena          Modena, Stefano\n",
      "130     Italian          amati          Amati, Giovanna\n",
      "131     Italian          caffi              Caffi, Alex\n",
      "132     Italian      bertaggia        Bertaggia, Enrico\n",
      "137     Italian          pirro          Pirro, Emanuele\n",
      "143     Italian        nannini      Nannini, Alessandro\n",
      "    nationality        driverRef           full_name\n",
      "5      Japanese         nakajima    Nakajima, Kazuki\n",
      "10     Japanese             sato        Sato, Takuma\n",
      "28     Japanese         yamamoto     Yamamoto, Sakon\n",
      "32     Japanese              ide           Ide, Yuji\n",
      "66     Japanese           takagi  Takagi, Toranosuke\n",
      "73     Japanese           nakano      Nakano, Shinji\n",
      "77     Japanese         katayama      Katayama, Ukyo\n",
      "86     Japanese           suzuki       Suzuki, Aguri\n",
      "87     Japanese            inoue         Inoue, Taki\n",
      "113    Japanese             noda        Noda, Hideki\n",
      "124    Japanese    toshio_suzuki      Suzuki, Toshio\n",
      "136    Japanese  satoru_nakajima    Nakajima, Satoru\n",
      "142    Japanese          hattori      Hattori, Naoki\n",
      "   nationality driverRef    full_name\n",
      "60   Malaysian     yoong  Yoong, Alex\n",
      "    nationality driverRef         full_name\n",
      "104  Monegasque   beretta  Beretta, Olivier\n",
      "  nationality driverRef       full_name\n",
      "8      Polish    kubica  Kubica, Robert\n",
      "    nationality driverRef        full_name\n",
      "31   Portuguese  monteiro  Monteiro, Tiago\n",
      "81   Portuguese      lamy      Lamy, Pedro\n",
      "140  Portuguese    chaves    Chaves, Pedro\n",
      "   nationality driverRef          full_name\n",
      "3      Spanish    alonso   Alonso, Fernando\n",
      "35     Spanish      rosa  de la Rosa, Pedro\n",
      "46     Spanish      gene         Gene, Marc\n",
      "    nationality  driverRef          full_name\n",
      "138     Swedish  johansson  Johansson, Stefan\n",
      "    nationality driverRef           full_name\n",
      "65        Swiss     buemi    Buemi, Sebastien\n",
      "96        Swiss  deletraz  Ditraz, Jean-Denis\n",
      "128       Swiss    chiesa      Chiesa, Andrea\n"
     ]
    },
    {
     "data": {
      "text/html": [
       "<div>\n",
       "<style scoped>\n",
       "    .dataframe tbody tr th:only-of-type {\n",
       "        vertical-align: middle;\n",
       "    }\n",
       "\n",
       "    .dataframe tbody tr th {\n",
       "        vertical-align: top;\n",
       "    }\n",
       "\n",
       "    .dataframe thead th {\n",
       "        text-align: right;\n",
       "    }\n",
       "</style>\n",
       "<table border=\"1\" class=\"dataframe\">\n",
       "  <thead>\n",
       "    <tr style=\"text-align: right;\">\n",
       "      <th></th>\n",
       "    </tr>\n",
       "  </thead>\n",
       "  <tbody>\n",
       "  </tbody>\n",
       "</table>\n",
       "</div>"
      ],
      "text/plain": [
       "Empty DataFrame\n",
       "Columns: []\n",
       "Index: []"
      ]
     },
     "execution_count": 67,
     "metadata": {},
     "output_type": "execute_result"
    }
   ],
   "source": [
    "drivers.groupby(\"nationality\")[\n",
    "    [\"nationality\", \"driverRef\", \"full_name\"]].apply(print)"
   ]
  },
  {
   "cell_type": "raw",
   "metadata": {},
   "source": [
    "Look at some of the names above: there are characterset issues! Need to go back and fix encoding from source csv file"
   ]
  },
  {
   "cell_type": "code",
   "execution_count": 68,
   "metadata": {},
   "outputs": [
    {
     "data": {
      "text/plain": [
       "<AxesSubplot:xlabel='nationality'>"
      ]
     },
     "execution_count": 68,
     "metadata": {},
     "output_type": "execute_result"
    },
    {
     "data": {
      "image/png": "[encoded data removed]",
      "text/plain": [
       "<Figure size 432x288 with 1 Axes>"
      ]
     },
     "metadata": {
      "needs_background": "light"
     },
     "output_type": "display_data"
    }
   ],
   "source": [
    "nationality.plot.bar()"
   ]
  },
  {
   "cell_type": "code",
   "execution_count": null,
   "metadata": {},
   "outputs": [],
   "source": []
  }
 ],
 "metadata": {
  "kernelspec": {
   "display_name": "Python 3 (ipykernel)",
   "language": "python",
   "name": "python3"
  },
  "language_info": {
   "codemirror_mode": {
    "name": "ipython",
    "version": 3
   },
   "file_extension": ".py",
   "mimetype": "text/x-python",
   "name": "python",
   "nbconvert_exporter": "python",
   "pygments_lexer": "ipython3",
   "version": "3.9.7"
  }
 },
 "nbformat": 4,
 "nbformat_minor": 4
}