{
 "cells": [
  {
   "cell_type": "code",
   "execution_count": 1,
   "metadata": {
    "collapsed": true
   },
   "outputs": [],
   "source": [
    "import numpy as np"
   ]
  },
  {
   "cell_type": "code",
   "execution_count": 4,
   "outputs": [
    {
     "data": {
      "text/plain": "array([3, 5, 5, 5, 2, 4, 5, 5, 2, 2, 5, 2])"
     },
     "execution_count": 4,
     "metadata": {},
     "output_type": "execute_result"
    }
   ],
   "source": [
    "x = np.array([3, 17, 14, 23, 2, 4, 6, 8, 1, 2, 16, 0])\n",
    "np.clip(x, 2, 5)"
   ],
   "metadata": {
    "collapsed": false,
    "pycharm": {
     "name": "#%%\n"
    }
   }
  },
  {
   "cell_type": "markdown",
   "source": [],
   "metadata": {
    "collapsed": false
   }
  },
  {
   "cell_type": "code",
   "execution_count": 5,
   "outputs": [],
   "source": [
    "# Random integers\n",
    "array = np.random.randint(20, size=12)"
   ],
   "metadata": {
    "collapsed": false,
    "pycharm": {
     "name": "#%%\n"
    }
   }
  },
  {
   "cell_type": "code",
   "execution_count": null,
   "outputs": [],
   "source": [],
   "metadata": {
    "collapsed": false,
    "pycharm": {
     "name": "#%%\n"
    }
   }
  },
  {
   "cell_type": "code",
   "execution_count": 6,
   "outputs": [],
   "source": [
    "#  Divide by 2 and check if remainder is 1\n",
    "cond = np.mod(array, 2) == 1"
   ],
   "metadata": {
    "collapsed": false,
    "pycharm": {
     "name": "#%%\n"
    }
   }
  },
  {
   "cell_type": "code",
   "execution_count": 7,
   "outputs": [
    {
     "data": {
      "text/plain": "array([15, 17,  1,  5, 15,  5,  5,  5])"
     },
     "execution_count": 7,
     "metadata": {},
     "output_type": "execute_result"
    }
   ],
   "source": [
    "# Use extract to get the values\n",
    "np.extract(cond, array)"
   ],
   "metadata": {
    "collapsed": false,
    "pycharm": {
     "name": "#%%\n"
    }
   }
  },
  {
   "cell_type": "code",
   "execution_count": 8,
   "outputs": [
    {
     "data": {
      "text/plain": "array([17,  0,  1,  2])"
     },
     "execution_count": 8,
     "metadata": {},
     "output_type": "execute_result"
    }
   ],
   "source": [
    "# Apply condition on extract directly\n",
    "np.extract(((array < 3) | (array > 15)), array)"
   ],
   "metadata": {
    "collapsed": false,
    "pycharm": {
     "name": "#%%\n"
    }
   }
  },
  {
   "cell_type": "code",
   "execution_count": 9,
   "outputs": [
    {
     "name": "stdout",
     "output_type": "stream",
     "text": [
      "50th Percentile of a, axis = 0 :  6.0\n",
      "30th Percentile of b, axis = 0 :  [5.1 3.5 1.9]\n"
     ]
    }
   ],
   "source": [
    "a = np.array([1, 5, 6, 8, 1, 7, 3, 6, 9])\n",
    "print(\"50th Percentile of a, axis = 0 : \",\n",
    "      np.percentile(a, 50, axis=0))\n",
    "\n",
    "b = np.array([[10, 7, 4], [3, 2, 1]])\n",
    "print(\"30th Percentile of b, axis = 0 : \", np.percentile(b, 30, axis=0))"
   ],
   "metadata": {
    "collapsed": false,
    "pycharm": {
     "name": "#%%\n"
    }
   }
  },
  {
   "cell_type": "code",
   "execution_count": 18,
   "outputs": [],
   "source": [
    "import pandas as pd"
   ],
   "metadata": {
    "collapsed": false,
    "pycharm": {
     "name": "#%%\n"
    }
   }
  },
  {
   "cell_type": "code",
   "execution_count": 10,
   "outputs": [],
   "source": [
    "# create a dataframe\n",
    "dframe = pd.DataFrame(np.random.randn(4, 3), columns=list('bde'),\n",
    "                      index=['India', 'USA', 'China', 'Russia'])\n"
   ],
   "metadata": {
    "collapsed": false,
    "pycharm": {
     "name": "#%%\n"
    }
   }
  },
  {
   "cell_type": "code",
   "execution_count": 11,
   "outputs": [
    {
     "data": {
      "text/plain": "               b         d         e\nIndia   0.632033 -1.604109  0.080530\nUSA    -0.138018 -0.401056  1.001444\nChina   0.004199  1.278782 -0.348938\nRussia -1.889652  1.378532 -0.752071",
      "text/html": "<div>\n<style scoped>\n    .dataframe tbody tr th:only-of-type {\n        vertical-align: middle;\n    }\n\n    .dataframe tbody tr th {\n        vertical-align: top;\n    }\n\n    .dataframe thead th {\n        text-align: right;\n    }\n</style>\n<table border=\"1\" class=\"dataframe\">\n  <thead>\n    <tr style=\"text-align: right;\">\n      <th></th>\n      <th>b</th>\n      <th>d</th>\n      <th>e</th>\n    </tr>\n  </thead>\n  <tbody>\n    <tr>\n      <th>India</th>\n      <td>0.632033</td>\n      <td>-1.604109</td>\n      <td>0.080530</td>\n    </tr>\n    <tr>\n      <th>USA</th>\n      <td>-0.138018</td>\n      <td>-0.401056</td>\n      <td>1.001444</td>\n    </tr>\n    <tr>\n      <th>China</th>\n      <td>0.004199</td>\n      <td>1.278782</td>\n      <td>-0.348938</td>\n    </tr>\n    <tr>\n      <th>Russia</th>\n      <td>-1.889652</td>\n      <td>1.378532</td>\n      <td>-0.752071</td>\n    </tr>\n  </tbody>\n</table>\n</div>"
     },
     "execution_count": 11,
     "metadata": {},
     "output_type": "execute_result"
    }
   ],
   "source": [
    "dframe"
   ],
   "metadata": {
    "collapsed": false,
    "pycharm": {
     "name": "#%%\n"
    }
   }
  },
  {
   "cell_type": "code",
   "execution_count": 12,
   "outputs": [
    {
     "data": {
      "text/plain": "India     -1.60\nUSA       -0.40\nChina      1.28\nRussia     1.38\nName: d, dtype: object"
     },
     "execution_count": 12,
     "metadata": {},
     "output_type": "execute_result"
    }
   ],
   "source": [
    "#compute a formatted string from each floating point value in frame\n",
    "changefn = lambda x: '%.2f' % x\n",
    "# Make changes element-wise\n",
    "dframe['d'].map(changefn)"
   ],
   "metadata": {
    "collapsed": false,
    "pycharm": {
     "name": "#%%\n"
    }
   }
  },
  {
   "cell_type": "code",
   "execution_count": 13,
   "outputs": [
    {
     "data": {
      "text/plain": "b    2.521685\nd    2.982640\ne    1.753515\ndtype: float64"
     },
     "execution_count": 13,
     "metadata": {},
     "output_type": "execute_result"
    }
   ],
   "source": [
    "# max minus mix lambda fn\n",
    "fn = lambda x: x.max() - x.min()\n",
    "# Apply this on dframe that we've just created above\n",
    "dframe.apply(fn)"
   ],
   "metadata": {
    "collapsed": false,
    "pycharm": {
     "name": "#%%\n"
    }
   }
  },
  {
   "cell_type": "code",
   "execution_count": 14,
   "outputs": [],
   "source": [
    "# creating sample series\n",
    "data = pd.Series(['India', 'Pakistan', 'China', 'Mongolia'])"
   ],
   "metadata": {
    "collapsed": false,
    "pycharm": {
     "name": "#%%\n"
    }
   }
  },
  {
   "cell_type": "code",
   "execution_count": 15,
   "outputs": [
    {
     "data": {
      "text/plain": "0         USA\n1    Pakistan\n2       China\n3    Mongolia\ndtype: object"
     },
     "execution_count": 15,
     "metadata": {},
     "output_type": "execute_result"
    }
   ],
   "source": [
    "# Assigning issue that we face\n",
    "data1 = data\n",
    "# Change a value\n",
    "data1[0] = 'USA'\n",
    "# Also changes value in old dataframe\n",
    "data"
   ],
   "metadata": {
    "collapsed": false,
    "pycharm": {
     "name": "#%%\n"
    }
   }
  },
  {
   "cell_type": "code",
   "execution_count": 16,
   "outputs": [
    {
     "name": "stdout",
     "output_type": "stream",
     "text": [
      "0              USA\n",
      "1    Changed value\n",
      "2            China\n",
      "3         Mongolia\n",
      "dtype: object\n",
      "0         USA\n",
      "1    Pakistan\n",
      "2       China\n",
      "3    Mongolia\n",
      "dtype: object\n"
     ]
    }
   ],
   "source": [
    "# To prevent that, we use\n",
    "# creating copy of series\n",
    "new = data.copy()\n",
    "# assigning new values\n",
    "new[1] = 'Changed value'\n",
    "# printing data\n",
    "print(new)\n",
    "print(data)"
   ],
   "metadata": {
    "collapsed": false,
    "pycharm": {
     "name": "#%%\n"
    }
   }
  },
  {
   "cell_type": "code",
   "execution_count": 17,
   "outputs": [
    {
     "data": {
      "text/plain": "        A         B   C\n0     Jay   Masters  26\n1   Usher  Graduate  22\n2   Nicky  Graduate  20\n3  Romero   Masters  23\n4    Will  Graduate  24",
      "text/html": "<div>\n<style scoped>\n    .dataframe tbody tr th:only-of-type {\n        vertical-align: middle;\n    }\n\n    .dataframe tbody tr th {\n        vertical-align: top;\n    }\n\n    .dataframe thead th {\n        text-align: right;\n    }\n</style>\n<table border=\"1\" class=\"dataframe\">\n  <thead>\n    <tr style=\"text-align: right;\">\n      <th></th>\n      <th>A</th>\n      <th>B</th>\n      <th>C</th>\n    </tr>\n  </thead>\n  <tbody>\n    <tr>\n      <th>0</th>\n      <td>Jay</td>\n      <td>Masters</td>\n      <td>26</td>\n    </tr>\n    <tr>\n      <th>1</th>\n      <td>Usher</td>\n      <td>Graduate</td>\n      <td>22</td>\n    </tr>\n    <tr>\n      <th>2</th>\n      <td>Nicky</td>\n      <td>Graduate</td>\n      <td>20</td>\n    </tr>\n    <tr>\n      <th>3</th>\n      <td>Romero</td>\n      <td>Masters</td>\n      <td>23</td>\n    </tr>\n    <tr>\n      <th>4</th>\n      <td>Will</td>\n      <td>Graduate</td>\n      <td>24</td>\n    </tr>\n  </tbody>\n</table>\n</div>"
     },
     "execution_count": 17,
     "metadata": {},
     "output_type": "execute_result"
    }
   ],
   "source": [
    "# Create a sample dataframe\n",
    "school = pd.DataFrame({'A': ['Jay', 'Usher', 'Nicky', 'Romero', 'Will'],\n",
    "                       'B': ['Masters', 'Graduate', 'Graduate', 'Masters',\n",
    "                             'Graduate'],\n",
    "                       'C': [26, 22, 20, 23, 24]})\n",
    "school"
   ],
   "metadata": {
    "collapsed": false,
    "pycharm": {
     "name": "#%%\n"
    }
   }
  },
  {
   "cell_type": "code",
   "execution_count": 18,
   "outputs": [
    {
     "data": {
      "text/plain": "B                 Graduate        Masters\nB        C                               \nGraduate 20          Nicky  Not Available\n         22          Usher  Not Available\n         24           Will  Not Available\nMasters  23  Not Available         Romero\n         26  Not Available            Jay",
      "text/html": "<div>\n<style scoped>\n    .dataframe tbody tr th:only-of-type {\n        vertical-align: middle;\n    }\n\n    .dataframe tbody tr th {\n        vertical-align: top;\n    }\n\n    .dataframe thead th {\n        text-align: right;\n    }\n</style>\n<table border=\"1\" class=\"dataframe\">\n  <thead>\n    <tr style=\"text-align: right;\">\n      <th></th>\n      <th>B</th>\n      <th>Graduate</th>\n      <th>Masters</th>\n    </tr>\n    <tr>\n      <th>B</th>\n      <th>C</th>\n      <th></th>\n      <th></th>\n    </tr>\n  </thead>\n  <tbody>\n    <tr>\n      <th rowspan=\"3\" valign=\"top\">Graduate</th>\n      <th>20</th>\n      <td>Nicky</td>\n      <td>Not Available</td>\n    </tr>\n    <tr>\n      <th>22</th>\n      <td>Usher</td>\n      <td>Not Available</td>\n    </tr>\n    <tr>\n      <th>24</th>\n      <td>Will</td>\n      <td>Not Available</td>\n    </tr>\n    <tr>\n      <th rowspan=\"2\" valign=\"top\">Masters</th>\n      <th>23</th>\n      <td>Not Available</td>\n      <td>Romero</td>\n    </tr>\n    <tr>\n      <th>26</th>\n      <td>Not Available</td>\n      <td>Jay</td>\n    </tr>\n  </tbody>\n</table>\n</div>"
     },
     "execution_count": 18,
     "metadata": {},
     "output_type": "execute_result"
    }
   ],
   "source": [
    "# Lets create a pivot table to segregate students based on age and course\n",
    "table = pd.pivot_table(school, values='A', index=['B', 'C'],\n",
    "                       columns=['B'], aggfunc=np.sum,\n",
    "                       fill_value=\"Not Available\")\n",
    "\n",
    "table"
   ],
   "metadata": {
    "collapsed": false,
    "pycharm": {
     "name": "#%%\n"
    }
   }
  },
  {
   "cell_type": "code",
   "execution_count": null,
   "outputs": [],
   "source": [
    "# Random integers\n",
    "array = np.random.randint(20, size=12)\n",
    "array\n",
    "\n"
   ],
   "metadata": {
    "collapsed": false,
    "pycharm": {
     "name": "#%%\n",
     "is_executing": true
    }
   }
  },
  {
   "cell_type": "code",
   "execution_count": null,
   "outputs": [],
   "source": [
    "#  Divide by 2 and check if remainder is 1\n",
    "cond = np.mod(array, 2) == 1\n",
    "cond"
   ],
   "metadata": {
    "collapsed": false,
    "pycharm": {
     "name": "#%%\n",
     "is_executing": true
    }
   }
  },
  {
   "cell_type": "code",
   "execution_count": null,
   "outputs": [],
   "source": [
    "# Use extract to get the values\n",
    "np.extract(cond, array)"
   ],
   "metadata": {
    "collapsed": false,
    "pycharm": {
     "name": "#%%\n",
     "is_executing": true
    }
   }
  },
  {
   "cell_type": "code",
   "execution_count": null,
   "outputs": [],
   "source": [
    "\n",
    "# Apply condition on extract directly\n",
    "np.extract(((array < 3) | (array > 15)), array)"
   ],
   "metadata": {
    "collapsed": false,
    "pycharm": {
     "name": "#%%\n",
     "is_executing": true
    }
   }
  },
  {
   "cell_type": "code",
   "execution_count": 19,
   "outputs": [
    {
     "data": {
      "text/plain": "False"
     },
     "execution_count": 19,
     "metadata": {},
     "output_type": "execute_result"
    }
   ],
   "source": [
    "array1 = np.array([0.12, 0.17, 0.24, 0.29])\n",
    "array2 = np.array([0.13, 0.19, 0.26, 0.31])\n",
    "# with a tolerance of 0.1, it should return False:\n",
    "np.allclose(array1, array2, 0.1)\n"
   ],
   "metadata": {
    "collapsed": false,
    "pycharm": {
     "name": "#%%\n"
    }
   }
  },
  {
   "cell_type": "code",
   "execution_count": 20,
   "outputs": [
    {
     "data": {
      "text/plain": "True"
     },
     "execution_count": 20,
     "metadata": {},
     "output_type": "execute_result"
    }
   ],
   "source": [
    "# with a tolerance of 0.2, it should return True:\n",
    "np.allclose(array1, array2, 0.2)"
   ],
   "metadata": {
    "collapsed": false,
    "pycharm": {
     "name": "#%%\n"
    }
   }
  },
  {
   "cell_type": "code",
   "execution_count": 21,
   "outputs": [
    {
     "data": {
      "text/plain": "(array([2, 3, 5, 7, 8]),)"
     },
     "execution_count": 21,
     "metadata": {},
     "output_type": "execute_result"
    }
   ],
   "source": [
    "y = np.array([1, 5, 6, 8, 1, 7, 3, 6, 9])\n",
    "# Where y is greater than 5, returns index position\n",
    "np.where(y > 5)\n",
    "# First will replace the values that match the condition,\n"
   ],
   "metadata": {
    "collapsed": false,
    "pycharm": {
     "name": "#%%\n"
    }
   }
  },
  {
   "cell_type": "code",
   "execution_count": 22,
   "outputs": [
    {
     "data": {
      "text/plain": "array(['Miss', 'Miss', 'Hit', 'Hit', 'Miss', 'Hit', 'Miss', 'Hit', 'Hit'],\n      dtype='<U4')"
     },
     "execution_count": 22,
     "metadata": {},
     "output_type": "execute_result"
    }
   ],
   "source": [
    "# second will replace the values that does not\n",
    "np.where(y > 5, \"Hit\", \"Miss\")"
   ],
   "metadata": {
    "collapsed": false,
    "pycharm": {
     "name": "#%%\n"
    }
   }
  },
  {
   "cell_type": "code",
   "execution_count": null,
   "outputs": [],
   "source": [
    "a = np.array([1, 5, 6, 8, 1, 7, 3, 6, 9])\n",
    "print(\"50th Percentile of a, axis = 0 : \",\n",
    "      np.percentile(a, 50, axis=0))\n",
    "b = np.array([[10, 7, 4], [3, 2, 1]])\n",
    "print(\"30th Percentile of b, axis = 0 : \",\n",
    "      np.percentile(b, 30, axis=0))"
   ],
   "metadata": {
    "collapsed": false,
    "pycharm": {
     "name": "#%%\n",
     "is_executing": true
    }
   }
  }
 ],
 "metadata": {
  "kernelspec": {
   "display_name": "Python 3",
   "language": "python",
   "name": "python3"
  },
  "language_info": {
   "codemirror_mode": {
    "name": "ipython",
    "version": 2
   },
   "file_extension": ".py",
   "mimetype": "text/x-python",
   "name": "python",
   "nbconvert_exporter": "python",
   "pygments_lexer": "ipython2",
   "version": "2.7.6"
  }
 },
 "nbformat": 4,
 "nbformat_minor": 0
}