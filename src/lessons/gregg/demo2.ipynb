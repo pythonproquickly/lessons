{
 "cells": [
  {
   "cell_type": "code",
   "execution_count": 3,
   "id": "761275d1",
   "metadata": {},
   "outputs": [
    {
     "name": "stdout",
     "output_type": "stream",
     "text": [
      "999\n",
      "hello\n"
     ]
    }
   ],
   "source": [
    "print(999)\n",
    "print(\"hello\")"
   ]
  },
  {
   "cell_type": "code",
   "execution_count": 4,
   "id": "6cf9ca7e",
   "metadata": {},
   "outputs": [
    {
     "name": "stdout",
     "output_type": "stream",
     "text": [
      "andyaaa\n",
      "aaa\n"
     ]
    }
   ],
   "source": [
    "name = input(\"andy\")\n",
    "print(name)"
   ]
  },
  {
   "cell_type": "markdown",
   "id": "47e8709d",
   "metadata": {},
   "source": [
    "aklsa ;as;l;sl;\n",
    "saaks;l"
   ]
  },
  {
   "cell_type": "code",
   "execution_count": null,
   "id": "032b4b83",
   "metadata": {},
   "outputs": [],
   "source": []
  }
 ],
 "metadata": {
  "kernelspec": {
   "display_name": "Python 3 (ipykernel)",
   "language": "python",
   "name": "python3"
  },
  "language_info": {
   "codemirror_mode": {
    "name": "ipython",
    "version": 3
   },
   "file_extension": ".py",
   "mimetype": "text/x-python",
   "name": "python",
   "nbconvert_exporter": "python",
   "pygments_lexer": "ipython3",
   "version": "3.10.6"
  }
 },
 "nbformat": 4,
 "nbformat_minor": 5
}
