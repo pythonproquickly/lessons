{
 "cells": [
  {
   "cell_type": "code",
   "execution_count": 13,
   "id": "242e9cd0",
   "metadata": {},
   "outputs": [
    {
     "name": "stdout",
     "output_type": "stream",
     "text": [
      "{'one': 4, 'two': 4, 'three': 3, 'four': 2}\n"
     ]
    }
   ],
   "source": [
    "my_dict = {'one': 2, 'two':5, 'three':4, 'four':1}\n",
    "for num in my_dict:\n",
    "    if my_dict[num] < my_dict['three']:\n",
    "        my_dict[num] *= 2\n",
    "    else:\n",
    "        my_dict[num] -= 1\n",
    "print(my_dict)"
   ]
  },
  {
   "cell_type": "code",
   "execution_count": 14,
   "id": "5d234c89",
   "metadata": {},
   "outputs": [
    {
     "name": "stdout",
     "output_type": "stream",
     "text": [
      "{4: 'lexi', 5: 'hazel'}\n"
     ]
    }
   ],
   "source": [
    "dogs = ['lucy', 'suki', 'hazel', 'lexi']\n",
    "dt = {}\n",
    "for dog in dogs:\n",
    "    x = len(dog)\n",
    "    dt[x] = dog\n",
    "print(dt)"
   ]
  },
  {
   "cell_type": "code",
   "execution_count": 15,
   "id": "b60760f1",
   "metadata": {},
   "outputs": [
    {
     "name": "stdout",
     "output_type": "stream",
     "text": [
      "4\n"
     ]
    }
   ],
   "source": [
    "lst = [(x, x % 2) for x in range(5)]\n",
    "y = 0\n",
    "for a, b in lst:\n",
    "    if b == 1:\n",
    "        y += a\n",
    "print(y)"
   ]
  },
  {
   "cell_type": "code",
   "execution_count": 16,
   "id": "e9b7acdd",
   "metadata": {},
   "outputs": [
    {
     "name": "stdout",
     "output_type": "stream",
     "text": [
      "{0: ['cat', 'dog', 'cow'], 1: ['monkey', 'horse'], 2: ['hippopotamus']}\n"
     ]
    }
   ],
   "source": [
    "animals = ['cat', 'monkey', 'dog', 'cow', 'horse', 'hippopotamus']\n",
    "d = {0:[], 1:[], 2:[]}\n",
    "for animal in animals:\n",
    "    if len(animal) <= 3:\n",
    "        d[0].append(animal)\n",
    "    elif len(animal) <= 6:\n",
    "        d[1].append(animal)\n",
    "    else:\n",
    "        d[2].append(animal)\n",
    "print(d)"
   ]
  },
  {
   "cell_type": "code",
   "execution_count": 17,
   "id": "7a4f64b3",
   "metadata": {},
   "outputs": [],
   "source": [
    "log = {'book': [\"Charlotte’s Web\", 'Holes'], 'author': ['E.B. White', \"Louis Sachar\"]}"
   ]
  },
  {
   "cell_type": "code",
   "execution_count": 18,
   "id": "6f266bc4",
   "metadata": {},
   "outputs": [],
   "source": [
    "log['pages'] = [192, 272]"
   ]
  },
  {
   "cell_type": "code",
   "execution_count": 19,
   "id": "d68225d4",
   "metadata": {},
   "outputs": [
    {
     "data": {
      "text/plain": [
       "{'book': ['Charlotte’s Web', 'Holes'],\n",
       " 'author': ['E.B. White', 'Louis Sachar'],\n",
       " 'pages': [192, 272]}"
      ]
     },
     "execution_count": 19,
     "metadata": {},
     "output_type": "execute_result"
    }
   ],
   "source": [
    "log"
   ]
  },
  {
   "cell_type": "code",
   "execution_count": 20,
   "id": "fddf2b36",
   "metadata": {},
   "outputs": [],
   "source": [
    "log['book'].append('BFG')\n",
    "log['author'].append('Roald Dahl')\n",
    "log['pages'].append(28)"
   ]
  },
  {
   "cell_type": "code",
   "execution_count": 21,
   "id": "fe0db6ad",
   "metadata": {},
   "outputs": [
    {
     "data": {
      "text/plain": [
       "{'book': ['Charlotte’s Web', 'Holes', 'BFG'],\n",
       " 'author': ['E.B. White', 'Louis Sachar', 'Roald Dahl'],\n",
       " 'pages': [192, 272, 28]}"
      ]
     },
     "execution_count": 21,
     "metadata": {},
     "output_type": "execute_result"
    }
   ],
   "source": [
    "log"
   ]
  },
  {
   "cell_type": "code",
   "execution_count": 23,
   "id": "de5a2cd3",
   "metadata": {},
   "outputs": [],
   "source": [
    "x = [(\"Stuart Little\", \"EB White\", 128), (\"Matilda\", \"Roald Dahl\", 232), (\"A Wrinkle in Time\", \"Madeline L'Engle\", 416)]\n",
    "                                                                          "
   ]
  },
  {
   "cell_type": "code",
   "execution_count": 24,
   "id": "f6e937bb",
   "metadata": {},
   "outputs": [
    {
     "data": {
      "text/plain": [
       "[('Stuart Little', 'EB White', 128),\n",
       " ('Matilda', 'Roald Dahl', 232),\n",
       " ('A Wrinkle in Time', \"Madeline L'Engle\", 416)]"
      ]
     },
     "execution_count": 24,
     "metadata": {},
     "output_type": "execute_result"
    }
   ],
   "source": [
    "x"
   ]
  },
  {
   "cell_type": "code",
   "execution_count": 25,
   "id": "c1864b66",
   "metadata": {},
   "outputs": [],
   "source": [
    "for item in x:\n",
    "    book, author, pages = item\n",
    "    log['book'].append(book)\n",
    "    log['author'].append(author)\n",
    "    log['pages'].append(pages)"
   ]
  },
  {
   "cell_type": "code",
   "execution_count": 26,
   "id": "a7be2832",
   "metadata": {},
   "outputs": [
    {
     "data": {
      "text/plain": [
       "{'book': ['Charlotte’s Web',\n",
       "  'Holes',\n",
       "  'BFG',\n",
       "  'Stuart Little',\n",
       "  'Matilda',\n",
       "  'A Wrinkle in Time'],\n",
       " 'author': ['E.B. White',\n",
       "  'Louis Sachar',\n",
       "  'Roald Dahl',\n",
       "  'EB White',\n",
       "  'Roald Dahl',\n",
       "  \"Madeline L'Engle\"],\n",
       " 'pages': [192, 272, 28, 128, 232, 416]}"
      ]
     },
     "execution_count": 26,
     "metadata": {},
     "output_type": "execute_result"
    }
   ],
   "source": [
    "log"
   ]
  },
  {
   "cell_type": "code",
   "execution_count": 28,
   "id": "16b06b6a",
   "metadata": {},
   "outputs": [
    {
     "data": {
      "text/plain": [
       "1268"
      ]
     },
     "execution_count": 28,
     "metadata": {},
     "output_type": "execute_result"
    }
   ],
   "source": [
    "sum(log['pages'])"
   ]
  },
  {
   "cell_type": "code",
   "execution_count": 36,
   "id": "21429cc8",
   "metadata": {},
   "outputs": [
    {
     "name": "stdout",
     "output_type": "stream",
     "text": [
      "A Wrinkle in Time\n"
     ]
    }
   ],
   "source": [
    "for index, page in enumerate(log['pages']):\n",
    "    if page == max(log['pages']):\n",
    "        index_of_max = index\n",
    "print(log['book'][index_of_max])"
   ]
  },
  {
   "cell_type": "code",
   "execution_count": 34,
   "id": "7217600c",
   "metadata": {},
   "outputs": [
    {
     "name": "stdout",
     "output_type": "stream",
     "text": [
      "[(0, 192), (1, 272), (2, 28), (3, 128), (4, 232), (5, 416)]\n"
     ]
    }
   ],
   "source": [
    "print(list(enumerate(log['pages'])))"
   ]
  },
  {
   "cell_type": "code",
   "execution_count": 40,
   "id": "b656aa89",
   "metadata": {},
   "outputs": [
    {
     "data": {
      "text/plain": [
       "['E.B. White',\n",
       " 'Louis Sachar',\n",
       " 'Roald Dahl',\n",
       " 'EB White',\n",
       " 'Roald Dahl',\n",
       " \"Madeline L'Engle\"]"
      ]
     },
     "execution_count": 40,
     "metadata": {},
     "output_type": "execute_result"
    }
   ],
   "source": [
    "log['author']"
   ]
  },
  {
   "cell_type": "code",
   "execution_count": 45,
   "id": "9452acad",
   "metadata": {},
   "outputs": [
    {
     "name": "stdout",
     "output_type": "stream",
     "text": [
      "5\n"
     ]
    }
   ],
   "source": [
    "print(len(list(set(log['author']))))"
   ]
  },
  {
   "cell_type": "code",
   "execution_count": 46,
   "id": "38b9bc5b",
   "metadata": {},
   "outputs": [],
   "source": [
    "#3\n",
    "x = [('History', 30), ('Math', 45), ('English', 30), ('Spanish', 10), ('PE', 0)]\n",
    "\n"
   ]
  },
  {
   "cell_type": "code",
   "execution_count": 61,
   "id": "bc853d10",
   "metadata": {},
   "outputs": [
    {
     "name": "stdout",
     "output_type": "stream",
     "text": [
      "['Math', 'History', 'English']\n"
     ]
    }
   ],
   "source": [
    "def sorter(x):\n",
    "    # this function is used by sorted below to use the second item in the tuple as the sort key\n",
    "    return x[1]\n",
    "\n",
    "# sort x in reverse order on second item in tuple (minutes)\n",
    "sorted_data =  sorted(x, key=sorter, reverse = True)\n",
    "top3 = []\n",
    "# unpack class from x. _ means I'm ignoring class size as I dont need it.\n",
    "# I just need the first three (highest)\n",
    "for aclass, _ in sorted_data:\n",
    "    top3.append(aclass)\n",
    "    if len(top3) == 3:\n",
    "        break\n",
    "print(top3)\n"
   ]
  },
  {
   "cell_type": "code",
   "execution_count": null,
   "id": "c8ec18b6",
   "metadata": {},
   "outputs": [],
   "source": []
  },
  {
   "cell_type": "code",
   "execution_count": 50,
   "id": "32bada73",
   "metadata": {},
   "outputs": [
    {
     "name": "stdout",
     "output_type": "stream",
     "text": [
      "{10: [1, 2, 5, 10], 15: [1, 3, 5, 15], 8: [1, 2, 4, 8]}\n"
     ]
    }
   ],
   "source": [
    "def factors(numbers):\n",
    "    result = {}\n",
    "    for number in numbers:\n",
    "        result[number] = []\n",
    "        for n in range(1, number + 1):\n",
    "            if number % n == 0:\n",
    "                result[number].append(n)\n",
    "    return(result)\n",
    "\n",
    "print(factors([10 ,15, 8]))"
   ]
  },
  {
   "cell_type": "code",
   "execution_count": null,
   "id": "4301b8a0",
   "metadata": {},
   "outputs": [],
   "source": []
  }
 ],
 "metadata": {
  "kernelspec": {
   "display_name": "Python 3 (ipykernel)",
   "language": "python",
   "name": "python3"
  },
  "language_info": {
   "codemirror_mode": {
    "name": "ipython",
    "version": 3
   },
   "file_extension": ".py",
   "mimetype": "text/x-python",
   "name": "python",
   "nbconvert_exporter": "python",
   "pygments_lexer": "ipython3",
   "version": "3.10.6"
  }
 },
 "nbformat": 4,
 "nbformat_minor": 5
}
