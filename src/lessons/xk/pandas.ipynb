{
 "cells": [
  {
   "cell_type": "code",
   "execution_count": 16,
   "metadata": {},
   "outputs": [
    {
     "data": {
      "text/plain": "'3.10.2 (main, Feb  8 2022, 11:45:51) [GCC 11.2.0]'"
     },
     "execution_count": 16,
     "metadata": {},
     "output_type": "execute_result"
    }
   ],
   "source": [
    "import sys\n",
    "\n",
    "sys.version"
   ]
  },
  {
   "cell_type": "code",
   "execution_count": 17,
   "metadata": {},
   "outputs": [],
   "source": [
    "import matplotlib.pyplot as plt\n",
    "import pandas as pd\n",
    "import numpy as np\n",
    "#sns.set()"
   ]
  },
  {
   "cell_type": "code",
   "execution_count": 18,
   "metadata": {},
   "outputs": [],
   "source": [
    "# point to correct diretory for the following file\n",
    "laptimes = pd.read_csv(\n",
    "    '/home/andy/ws/andykmiles/clients-ctpsws/src/clients_ctpsws/amira/lapTimes.csv')\n",
    "\n",
    "laptimes['seconds'] = laptimes['milliseconds'] / 1000"
   ]
  },
  {
   "cell_type": "code",
   "execution_count": 20,
   "metadata": {},
   "outputs": [
    {
     "data": {
      "text/plain": "        raceId  driverId  lap  position      time  milliseconds  seconds\n0          841        20    1         1  1:38.109         98109   98.109\n1          841        20    2         1  1:33.006         93006   93.006\n2          841        20    3         1  1:32.713         92713   92.713\n3          841        20    4         1  1:32.803         92803   92.803\n4          841        20    5         1  1:32.342         92342   92.342\n...        ...       ...  ...       ...       ...           ...      ...\n426628     988       825   50        13  1:43.928        103928  103.928\n426629     988       825   51        13  1:44.138        104138  104.138\n426630     988       825   52        13  1:43.934        103934  103.934\n426631     988       825   53        13  1:44.164        104164  104.164\n426632     988       825   54        13  1:44.285        104285  104.285\n\n[426633 rows x 7 columns]",
      "text/html": "<div>\n<style scoped>\n    .dataframe tbody tr th:only-of-type {\n        vertical-align: middle;\n    }\n\n    .dataframe tbody tr th {\n        vertical-align: top;\n    }\n\n    .dataframe thead th {\n        text-align: right;\n    }\n</style>\n<table border=\"1\" class=\"dataframe\">\n  <thead>\n    <tr style=\"text-align: right;\">\n      <th></th>\n      <th>raceId</th>\n      <th>driverId</th>\n      <th>lap</th>\n      <th>position</th>\n      <th>time</th>\n      <th>milliseconds</th>\n      <th>seconds</th>\n    </tr>\n  </thead>\n  <tbody>\n    <tr>\n      <th>0</th>\n      <td>841</td>\n      <td>20</td>\n      <td>1</td>\n      <td>1</td>\n      <td>1:38.109</td>\n      <td>98109</td>\n      <td>98.109</td>\n    </tr>\n    <tr>\n      <th>1</th>\n      <td>841</td>\n      <td>20</td>\n      <td>2</td>\n      <td>1</td>\n      <td>1:33.006</td>\n      <td>93006</td>\n      <td>93.006</td>\n    </tr>\n    <tr>\n      <th>2</th>\n      <td>841</td>\n      <td>20</td>\n      <td>3</td>\n      <td>1</td>\n      <td>1:32.713</td>\n      <td>92713</td>\n      <td>92.713</td>\n    </tr>\n    <tr>\n      <th>3</th>\n      <td>841</td>\n      <td>20</td>\n      <td>4</td>\n      <td>1</td>\n      <td>1:32.803</td>\n      <td>92803</td>\n      <td>92.803</td>\n    </tr>\n    <tr>\n      <th>4</th>\n      <td>841</td>\n      <td>20</td>\n      <td>5</td>\n      <td>1</td>\n      <td>1:32.342</td>\n      <td>92342</td>\n      <td>92.342</td>\n    </tr>\n    <tr>\n      <th>...</th>\n      <td>...</td>\n      <td>...</td>\n      <td>...</td>\n      <td>...</td>\n      <td>...</td>\n      <td>...</td>\n      <td>...</td>\n    </tr>\n    <tr>\n      <th>426628</th>\n      <td>988</td>\n      <td>825</td>\n      <td>50</td>\n      <td>13</td>\n      <td>1:43.928</td>\n      <td>103928</td>\n      <td>103.928</td>\n    </tr>\n    <tr>\n      <th>426629</th>\n      <td>988</td>\n      <td>825</td>\n      <td>51</td>\n      <td>13</td>\n      <td>1:44.138</td>\n      <td>104138</td>\n      <td>104.138</td>\n    </tr>\n    <tr>\n      <th>426630</th>\n      <td>988</td>\n      <td>825</td>\n      <td>52</td>\n      <td>13</td>\n      <td>1:43.934</td>\n      <td>103934</td>\n      <td>103.934</td>\n    </tr>\n    <tr>\n      <th>426631</th>\n      <td>988</td>\n      <td>825</td>\n      <td>53</td>\n      <td>13</td>\n      <td>1:44.164</td>\n      <td>104164</td>\n      <td>104.164</td>\n    </tr>\n    <tr>\n      <th>426632</th>\n      <td>988</td>\n      <td>825</td>\n      <td>54</td>\n      <td>13</td>\n      <td>1:44.285</td>\n      <td>104285</td>\n      <td>104.285</td>\n    </tr>\n  </tbody>\n</table>\n<p>426633 rows × 7 columns</p>\n</div>"
     },
     "execution_count": 20,
     "metadata": {},
     "output_type": "execute_result"
    }
   ],
   "source": [
    "laptimes"
   ]
  },
  {
   "cell_type": "code",
   "execution_count": null,
   "outputs": [],
   "source": [],
   "metadata": {
    "collapsed": false,
    "pycharm": {
     "name": "#%%\n"
    }
   }
  }
 ],
 "metadata": {
  "kernelspec": {
   "display_name": "Python 3",
   "language": "python",
   "name": "python3"
  },
  "language_info": {
   "codemirror_mode": {
    "name": "ipython",
    "version": 3
   },
   "file_extension": ".py",
   "mimetype": "text/x-python",
   "name": "python",
   "nbconvert_exporter": "python",
   "pygments_lexer": "ipython3",
   "version": "3.8.3"
  }
 },
 "nbformat": 4,
 "nbformat_minor": 4
}