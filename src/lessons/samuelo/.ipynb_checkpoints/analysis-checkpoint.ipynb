{
 "cells": [
  {
   "cell_type": "code",
   "execution_count": 2,
   "metadata": {},
   "outputs": [
    {
     "data": {
      "text/html": [
       "<div>\n",
       "<style scoped>\n",
       "    .dataframe tbody tr th:only-of-type {\n",
       "        vertical-align: middle;\n",
       "    }\n",
       "\n",
       "    .dataframe tbody tr th {\n",
       "        vertical-align: top;\n",
       "    }\n",
       "\n",
       "    .dataframe thead th {\n",
       "        text-align: right;\n",
       "    }\n",
       "</style>\n",
       "<table border=\"1\" class=\"dataframe\">\n",
       "  <thead>\n",
       "    <tr style=\"text-align: right;\">\n",
       "      <th></th>\n",
       "      <th>server</th>\n",
       "      <th>host</th>\n",
       "      <th>agent</th>\n",
       "      <th>time</th>\n",
       "    </tr>\n",
       "  </thead>\n",
       "  <tbody>\n",
       "    <tr>\n",
       "      <th>count</th>\n",
       "      <td>22131376</td>\n",
       "      <td>22131376</td>\n",
       "      <td>22131326</td>\n",
       "      <td>22131376</td>\n",
       "    </tr>\n",
       "    <tr>\n",
       "      <th>unique</th>\n",
       "      <td>1213</td>\n",
       "      <td>541761</td>\n",
       "      <td>74224</td>\n",
       "      <td>5920287</td>\n",
       "    </tr>\n",
       "    <tr>\n",
       "      <th>top</th>\n",
       "      <td>seas_443.022322</td>\n",
       "      <td>M-9CG6192TXQ.adsroot.itcs.umich.edu</td>\n",
       "      <td>Mozilla/5.0 (Windows NT 10.0; Win64; x64) Appl...</td>\n",
       "      <td>2022-05-15 17:10:51-04:00</td>\n",
       "    </tr>\n",
       "    <tr>\n",
       "      <th>freq</th>\n",
       "      <td>279694</td>\n",
       "      <td>372886</td>\n",
       "      <td>612933</td>\n",
       "      <td>274</td>\n",
       "    </tr>\n",
       "  </tbody>\n",
       "</table>\n",
       "</div>"
      ],
      "text/plain": [
       "                 server                                 host  \\\n",
       "count          22131376                             22131376   \n",
       "unique             1213                               541761   \n",
       "top     seas_443.022322  M-9CG6192TXQ.adsroot.itcs.umich.edu   \n",
       "freq             279694                               372886   \n",
       "\n",
       "                                                    agent  \\\n",
       "count                                            22131326   \n",
       "unique                                              74224   \n",
       "top     Mozilla/5.0 (Windows NT 10.0; Win64; x64) Appl...   \n",
       "freq                                               612933   \n",
       "\n",
       "                             time  \n",
       "count                    22131376  \n",
       "unique                    5920287  \n",
       "top     2022-05-15 17:10:51-04:00  \n",
       "freq                          274  "
      ]
     },
     "execution_count": 2,
     "metadata": {},
     "output_type": "execute_result"
    }
   ],
   "source": [
    "import sys\n",
    "import csv\n",
    "\n",
    "import pandas as pd\n",
    "\n",
    "ANALYSIS_FILE = \"/Users/andy/ws/ctpsws-clients/lessons/src/lessons/samuelo/data/log_summary.csv\"\n",
    "la = pd.read_csv(ANALYSIS_FILE, sep='\\t', engine='python', quoting=csv.QUOTE_NONE)"
   ]
  },
  {
   "cell_type": "code",
   "execution_count": 4,
   "metadata": {},
   "outputs": [
    {
     "data": {
      "text/html": [
       "<div>\n",
       "<style scoped>\n",
       "    .dataframe tbody tr th:only-of-type {\n",
       "        vertical-align: middle;\n",
       "    }\n",
       "\n",
       "    .dataframe tbody tr th {\n",
       "        vertical-align: top;\n",
       "    }\n",
       "\n",
       "    .dataframe thead th {\n",
       "        text-align: right;\n",
       "    }\n",
       "</style>\n",
       "<table border=\"1\" class=\"dataframe\">\n",
       "  <thead>\n",
       "    <tr style=\"text-align: right;\">\n",
       "      <th></th>\n",
       "      <th>server</th>\n",
       "      <th>host</th>\n",
       "      <th>agent</th>\n",
       "      <th>time</th>\n",
       "    </tr>\n",
       "  </thead>\n",
       "  <tbody>\n",
       "    <tr>\n",
       "      <th>0</th>\n",
       "      <td>engin_443.030322</td>\n",
       "      <td>msnbot-207-46-13-95.search.msn.com</td>\n",
       "      <td>Mozilla/5.0 (compatible; bingbot/2.0; +http://...</td>\n",
       "      <td>2022-03-03 00:01:23-05:00</td>\n",
       "    </tr>\n",
       "    <tr>\n",
       "      <th>1</th>\n",
       "      <td>engin_443.030322</td>\n",
       "      <td>136.143.177.51</td>\n",
       "      <td>Site24x7</td>\n",
       "      <td>2022-03-03 00:01:31-05:00</td>\n",
       "    </tr>\n",
       "    <tr>\n",
       "      <th>2</th>\n",
       "      <td>engin_443.030322</td>\n",
       "      <td>msnbot-157-55-39-110.search.msn.com</td>\n",
       "      <td>Mozilla/5.0 (compatible; bingbot/2.0; +http://...</td>\n",
       "      <td>2022-03-03 00:01:34-05:00</td>\n",
       "    </tr>\n",
       "    <tr>\n",
       "      <th>3</th>\n",
       "      <td>engin_443.030322</td>\n",
       "      <td>136.143.177.50</td>\n",
       "      <td>Site24x7</td>\n",
       "      <td>2022-03-03 00:01:39-05:00</td>\n",
       "    </tr>\n",
       "    <tr>\n",
       "      <th>4</th>\n",
       "      <td>engin_443.030322</td>\n",
       "      <td>c-67-177-141-139.hsd1.mi.comcast.net</td>\n",
       "      <td>Mozilla/5.0 (Windows NT 10.0; Win64; x64) Appl...</td>\n",
       "      <td>2022-03-03 00:01:43-05:00</td>\n",
       "    </tr>\n",
       "  </tbody>\n",
       "</table>\n",
       "</div>"
      ],
      "text/plain": [
       "             server                                  host  \\\n",
       "0  engin_443.030322    msnbot-207-46-13-95.search.msn.com   \n",
       "1  engin_443.030322                        136.143.177.51   \n",
       "2  engin_443.030322   msnbot-157-55-39-110.search.msn.com   \n",
       "3  engin_443.030322                        136.143.177.50   \n",
       "4  engin_443.030322  c-67-177-141-139.hsd1.mi.comcast.net   \n",
       "\n",
       "                                               agent  \\\n",
       "0  Mozilla/5.0 (compatible; bingbot/2.0; +http://...   \n",
       "1                                           Site24x7   \n",
       "2  Mozilla/5.0 (compatible; bingbot/2.0; +http://...   \n",
       "3                                           Site24x7   \n",
       "4  Mozilla/5.0 (Windows NT 10.0; Win64; x64) Appl...   \n",
       "\n",
       "                        time  \n",
       "0  2022-03-03 00:01:23-05:00  \n",
       "1  2022-03-03 00:01:31-05:00  \n",
       "2  2022-03-03 00:01:34-05:00  \n",
       "3  2022-03-03 00:01:39-05:00  \n",
       "4  2022-03-03 00:01:43-05:00  "
      ]
     },
     "execution_count": 4,
     "metadata": {},
     "output_type": "execute_result"
    }
   ],
   "source": [
    "la.head()"
   ]
  },
  {
   "cell_type": "code",
   "execution_count": 11,
   "metadata": {},
   "outputs": [],
   "source": [
    "la[\"ymd\"] = la[\"time\"[:10]]"
   ]
  },
  {
   "cell_type": "code",
   "execution_count": 15,
   "metadata": {},
   "outputs": [
    {
     "name": "stderr",
     "output_type": "stream",
     "text": [
      "/var/folders/lk/clzym6995bn5drrty1kvx97c0000gn/T/ipykernel_28029/2264970938.py:1: FutureWarning: Indexing with multiple keys (implicitly converted to a tuple of keys) will be deprecated, use a list instead.\n",
      "  la_result = la.groupby(by=(\"ymd\"))[\"host\", \"agent\"].sum()\n"
     ]
    }
   ],
   "source": [
    "la_result = la.groupby(by=(\"ymd\"))[\"host\", \"agent\"].sum()"
   ]
  },
  {
   "cell_type": "code",
   "execution_count": 14,
   "metadata": {},
   "outputs": [
    {
     "data": {
      "text/html": [
       "<div>\n",
       "<style scoped>\n",
       "    .dataframe tbody tr th:only-of-type {\n",
       "        vertical-align: middle;\n",
       "    }\n",
       "\n",
       "    .dataframe tbody tr th {\n",
       "        vertical-align: top;\n",
       "    }\n",
       "\n",
       "    .dataframe thead th {\n",
       "        text-align: right;\n",
       "    }\n",
       "</style>\n",
       "<table border=\"1\" class=\"dataframe\">\n",
       "  <thead>\n",
       "    <tr style=\"text-align: right;\">\n",
       "      <th></th>\n",
       "      <th>host</th>\n",
       "      <th>agent</th>\n",
       "    </tr>\n",
       "    <tr>\n",
       "      <th>ymd</th>\n",
       "      <th></th>\n",
       "      <th></th>\n",
       "    </tr>\n",
       "  </thead>\n",
       "  <tbody>\n",
       "    <tr>\n",
       "      <th>2021-01-01 00:00:06-05:00</th>\n",
       "      <td>1</td>\n",
       "      <td>1</td>\n",
       "    </tr>\n",
       "    <tr>\n",
       "      <th>2021-01-01 00:00:07-05:00</th>\n",
       "      <td>1</td>\n",
       "      <td>1</td>\n",
       "    </tr>\n",
       "    <tr>\n",
       "      <th>2021-01-01 00:00:08-05:00</th>\n",
       "      <td>1</td>\n",
       "      <td>1</td>\n",
       "    </tr>\n",
       "    <tr>\n",
       "      <th>2021-01-01 00:00:09-05:00</th>\n",
       "      <td>2</td>\n",
       "      <td>2</td>\n",
       "    </tr>\n",
       "    <tr>\n",
       "      <th>2021-01-01 00:00:10-05:00</th>\n",
       "      <td>1</td>\n",
       "      <td>1</td>\n",
       "    </tr>\n",
       "  </tbody>\n",
       "</table>\n",
       "</div>"
      ],
      "text/plain": [
       "                           host  agent\n",
       "ymd                                   \n",
       "2021-01-01 00:00:06-05:00     1      1\n",
       "2021-01-01 00:00:07-05:00     1      1\n",
       "2021-01-01 00:00:08-05:00     1      1\n",
       "2021-01-01 00:00:09-05:00     2      2\n",
       "2021-01-01 00:00:10-05:00     1      1"
      ]
     },
     "execution_count": 14,
     "metadata": {},
     "output_type": "execute_result"
    }
   ],
   "source": [
    "la_result.head()"
   ]
  },
  {
   "cell_type": "code",
   "execution_count": null,
   "metadata": {},
   "outputs": [],
   "source": []
  }
 ],
 "metadata": {
  "kernelspec": {
   "display_name": "Python 3 (ipykernel)",
   "language": "python",
   "name": "python3"
  },
  "language_info": {
   "codemirror_mode": {
    "name": "ipython",
    "version": 3
   },
   "file_extension": ".py",
   "mimetype": "text/x-python",
   "name": "python",
   "nbconvert_exporter": "python",
   "pygments_lexer": "ipython3",
   "version": "3.10.4"
  },
  "vscode": {
   "interpreter": {
    "hash": "310428ea005b65ebfc61e64bd273906531656d9ed0acdaa296af1dfdd3f8ad32"
   }
  }
 },
 "nbformat": 4,
 "nbformat_minor": 2
}
