{
 "cells": [
  {
   "cell_type": "code",
   "execution_count": 3,
   "id": "02d61778",
   "metadata": {
    "pycharm": {
     "name": "#%%\n"
    }
   },
   "outputs": [],
   "source": [
    "import json\n",
    "import pandas as pd"
   ]
  },
  {
   "cell_type": "code",
   "execution_count": 4,
   "id": "cd730d99",
   "metadata": {
    "pycharm": {
     "name": "#%%\n"
    }
   },
   "outputs": [
    {
     "ename": "FileNotFoundError",
     "evalue": "[Errno 2] No such file or directory: 'FBI_CrimeData_2016.json'",
     "output_type": "error",
     "traceback": [
      "\u001B[0;31m---------------------------------------------------------------------------\u001B[0m",
      "\u001B[0;31mFileNotFoundError\u001B[0m                         Traceback (most recent call last)",
      "Input \u001B[0;32mIn [4]\u001B[0m, in \u001B[0;36m<cell line: 1>\u001B[0;34m()\u001B[0m\n\u001B[0;32m----> 1\u001B[0m data_file \u001B[38;5;241m=\u001B[39m \u001B[38;5;28;43mopen\u001B[39;49m\u001B[43m(\u001B[49m\u001B[38;5;124;43m\"\u001B[39;49m\u001B[38;5;124;43mFBI_CrimeData_2016.json\u001B[39;49m\u001B[38;5;124;43m\"\u001B[39;49m\u001B[43m,\u001B[49m\u001B[43m \u001B[49m\u001B[38;5;124;43m\"\u001B[39;49m\u001B[38;5;124;43mr\u001B[39;49m\u001B[38;5;124;43m\"\u001B[39;49m\u001B[43m)\u001B[49m\n\u001B[1;32m      2\u001B[0m crime_data \u001B[38;5;241m=\u001B[39m json\u001B[38;5;241m.\u001B[39mload(data_file)\n\u001B[1;32m      3\u001B[0m data_file\u001B[38;5;241m.\u001B[39mclose()\n",
      "\u001B[0;31mFileNotFoundError\u001B[0m: [Errno 2] No such file or directory: 'FBI_CrimeData_2016.json'"
     ]
    }
   ],
   "source": [
    "data_file = open(\"FBI_CrimeData_2016.json\", \"r\")\n",
    "crime_data = json.load(data_file)\n",
    "data_file.close()\n",
    "\n",
    "def accum_crime(place, crime, lst):\n",
    "    tot_crime = 0\n",
    "    for data in lst:\n",
    "        this_crime =int(data[crime])\n",
    "        if place == data[\"Region\"] or place == data[\"State\"]:\n",
    "            tot_crime += this_crime\n",
    "    return tot_crime\n",
    "\n",
    "\n",
    "def accum_violent_crime(place, lst):\n",
    "    tot_violent_crime = 0\n",
    "    for data in lst:\n",
    "        violent_crime =int(data[\"Murder\"]) + int(data[\"Rape\"]) + int(data[\"Robbery\"]) + int(data[\"Assault\"])\n",
    "        if place == data[\"Region\"] or place == data[\"State\"]:\n",
    "            tot_violent_crime += violent_crime\n",
    "            \n",
    "    return tot_violent_crime\n",
    "\n",
    "def accum_nonviolent_crime(place, lst):\n",
    "    tot_nonviolent_crime = 0\n",
    "    for data in lst:\n",
    "        nonviolent_crime =int(data[\"Burglary\"]) + int(data[\"Theft\"]) + int(data[\"Vehicle_Theft\"]) \n",
    "        if place == data[\"Region\"] or place == data[\"State\"]:\n",
    "            #print(this_crime)\n",
    "            tot_nonviolent_crime += nonviolent_crime\n",
    "            #print(tot_crime)\n",
    "        \n",
    "    return tot_nonviolent_crime\n",
    "\n",
    "def accum_violent_crime(region, state, lst):\n",
    "    tot_violent_state_crime = 0\n",
    "    for data in lst:\n",
    "        violent_crime =int(data[\"Murder\"]) + int(data[\"Rape\"]) + int(data[\"Robbery\"]) + int(data[\"Assault\"])\n",
    "        if region == data[\"Region\"]:\n",
    "            if state == data[\"State\"]:\n",
    "                tot_violent_state_crime += violent_crime\n",
    "    return tot_violent_state_crime"
   ]
  },
  {
   "cell_type": "code",
   "execution_count": null,
   "id": "04bfbc25",
   "metadata": {
    "pycharm": {
     "name": "#%%\n"
    }
   },
   "outputs": [],
   "source": [
    "murders_by_region = {}    \n",
    "for data in crime_data:\n",
    "    region = data[\"Region\"]\n",
    "    \n",
    "    if region not in murders_by_region:\n",
    "        murders = accum_crime(region, \"Murder\", crime_data)\n",
    "        murders_by_region[region] = murders\n",
    "            \n",
    "    if region in murders_by_region:\n",
    "        continue\n",
    "\n",
    "    \n",
    "violent_crime_by_state = {}\n",
    "for data in crime_data:\n",
    "    state = data[\"State\"]\n",
    "    if state not in violent_crime_by_state:\n",
    "        murders = accum_violent_crime(state, crime_data)\n",
    "        violent_crime_by_state[state] = murders\n",
    "    if state in murders_by_state:\n",
    "        continue\n",
    "\n",
    "total_violent_crime = 0\n",
    "for state, crime in violent_crime_by_state.items():\n",
    "    total_violent_crime += crime\n",
    "\n",
    "national_violent_crime_mean = total_violent_crime/len(violent_crime_by_state)\n",
    "\n",
    "\n",
    "violent_by_region = {}\n",
    "for data in crime_data:\n",
    "    region = data[\"Region\"]\n",
    "    if region not in violent_by_region:\n",
    "        violent = accum_violent_crime(region, crime_data)\n",
    "        violent_by_region[region] = violent\n",
    "            \n",
    "    if region in violent_by_region:\n",
    "        continue\n",
    "            \n",
    "\n",
    "    \n",
    "nonviolent_by_region = {}\n",
    "for data in crime_data:\n",
    "    region = data[\"Region\"]\n",
    "    if region not in nonviolent_by_region:\n",
    "        nonviolent = accum_nonviolent_crime(region, crime_data)\n",
    "        nonviolent_by_region[region] = nonviolent\n",
    "            #print(murders_by_region)\n",
    "    if region in nonviolent_by_region:\n",
    "        continue\n",
    "            \n",
    "        \n",
    "print(murders_by_region)\n",
    "print(violent_by_region)\n",
    "print(nonviolent_by_region)\n",
    "\n",
    "\n",
    "\n"
   ]
  },
  {
   "cell_type": "code",
   "execution_count": null,
   "id": "5f24f069",
   "metadata": {
    "pycharm": {
     "name": "#%%\n"
    }
   },
   "outputs": [],
   "source": [
    "region_list = []\n",
    "murder_list = []\n",
    "for region, murders in murders_by_region.items():\n",
    "    region_list.append(region)\n",
    "    murder_list.append(murders)\n",
    "\n",
    "# the labels - must match the number of data points\n",
    "\n",
    "\n",
    "pd_murder_Dict = {\"Murders\":pd.Series(murder_list),\"Region\":pd.Series(region_list)}\n",
    "\n",
    "df = pd.DataFrame(pd_murder_Dict)\n",
    "print(\"Murder by Region\")\n",
    "print(df)\n",
    "df.plot.bar(x='Region',y='Murders',legend=False,color=['red', 'green', 'blue', 'cyan'])"
   ]
  },
  {
   "cell_type": "code",
   "execution_count": null,
   "id": "715ed25f",
   "metadata": {
    "pycharm": {
     "name": "#%%\n"
    }
   },
   "outputs": [],
   "source": [
    "# the data points\n",
    "region_list = []\n",
    "violent_crimes_list = []\n",
    "for region, violent_crimes in violent_by_region.items():\n",
    "    region_list.append(region)\n",
    "    violent_crimes_list.append(violent_crimes)\n",
    "\n",
    "\n",
    "# the labels - must match the number of data points\n",
    "\n",
    "\n",
    "pd_violent_crimes_Dict = {\"Violent Crimes\":pd.Series(violent_crimes_list),\"Region\":pd.Series(region_list)}\n",
    "\n",
    "df = pd.DataFrame(pd_violent_crimes_Dict)\n",
    "print(\"Violent Crimes by Region\")\n",
    "print(df)\n",
    "df.plot.bar(x='Region',y='Violent Crimes',legend=False,color=['red', 'green', 'blue', 'cyan'])\n",
    "#_______________________\n"
   ]
  },
  {
   "cell_type": "code",
   "execution_count": null,
   "id": "03f78fc5",
   "metadata": {
    "pycharm": {
     "name": "#%%\n"
    }
   },
   "outputs": [],
   "source": [
    "# the data points\n",
    "region_list = []\n",
    "nonviolent_crimes_list = []\n",
    "for region, nonviolent_crimes in nonviolent_by_region.items():\n",
    "    region_list.append(region)\n",
    "    nonviolent_crimes_list.append(nonviolent_crimes)\n",
    "\n",
    "\n",
    "# the labels - must match the number of data points\n",
    "\n",
    "\n",
    "pd_violent_crimes_Dict = {\"Non-Violent Crimes\":pd.Series(nonviolent_crimes_list),\"Region\":pd.Series(region_list)}\n",
    "\n",
    "df = pd.DataFrame(pd_violent_crimes_Dict)\n",
    "print(\"Non-Violent Crimes by Region\")\n",
    "print(df)\n",
    "df.plot.bar(x='Region',y='Non-Violent Crimes',legend=False,color=['red', 'green', 'blue', 'cyan'])\n",
    "#_______________________\n"
   ]
  },
  {
   "cell_type": "code",
   "execution_count": null,
   "id": "8f9921a0",
   "metadata": {
    "pycharm": {
     "name": "#%%\n"
    }
   },
   "outputs": [],
   "source": [
    "states = []\n",
    "num_crimes = []\n",
    "distance_from_mean = []\n",
    "for state, crime in violent_crime_by_state.items():\n",
    "    states.append(state)\n",
    "    crimes.append(crime)\n",
    "\n",
    "for state, crime in violent_crime_by_state.items():\n",
    "    states.append(state)\n",
    "    num_crimes.append(crime)\n",
    "for crime in num_crimes:\n",
    "    mean_distance = int(crime - national_violent_crime_mean)\n",
    "    distance_from_mean.append(mean_distance)\n",
    "\n",
    "print(\"National Average Violent Crime\", int(national_violent_crime_mean))\n",
    "print()\n",
    "output_format = \"{0:25}{1:15}{2:>10}\"\n",
    "print(output_format.format('State', 'Crimes', 'Distance from Mean'))\n",
    "print(\"---------------------------------------------------------\")\n",
    "for x, y, z in zip(states, crimes, distance_from_mean):\n",
    "    print(output_format.format(str(x), str(y), str(z)))\n"
   ]
  },
  {
   "cell_type": "code",
   "execution_count": null,
   "id": "8bbaa2be",
   "metadata": {
    "pycharm": {
     "name": "#%%\n"
    }
   },
   "outputs": [],
   "source": [
    "\n",
    "\n",
    "\n",
    "for state in South:\n",
    "    if state in violent_crime_by_state:\n",
    "        South_crimes[state] = violent_crime_by_state[state]\n",
    "\n",
    "def worst_state(region_list):\n",
    "    region_crimes = {}\n",
    "    for state in region_list:\n",
    "        if state in violent_crime_by_state:\n",
    "            region_crimes[state] = violent_crime_by_state[state]\n",
    "    return region_crimes\n",
    "def max(region_list):\n",
    "    crime_dictionary = worst_state(region_list)\n",
    "    max_value = 0\n",
    "    max_key = \"\"\n",
    "    for state, num in crime_dictionary.items():\n",
    "        if num > max_value:\n",
    "            max_value = num\n",
    "            max_key = state\n",
    "    return max_key, max_value\n",
    "\n",
    "South = []\n",
    "West = []\n",
    "Northeast = []\n",
    "Midwest = []\n",
    "for data in crime_data:\n",
    "    region = data[\"Region\"]\n",
    "    state = data[\"State\"]\n",
    "    if region == \"South\" and state not in South:\n",
    "        South.append(state)\n",
    "    if region == \"West\" and state not in West:\n",
    "        West.append(state)\n",
    "    if region == \"Northeast\" and state not in Northeast:\n",
    "        Northeast.append(state)\n",
    "    if region == \"Midwest\" and state not in Midwest:\n",
    "        Midwest.append(state)\n",
    "#South_state = (max(South))\n",
    "\n",
    "print(\"States with Most Violent Crimes per Region\")\n",
    "print(\"--------------------------------------------\")\n",
    "print(\"State with Most Violent Crimes in South is\", max(South)[0], \"with\", max(South)[1], \"violent crimes\")\n",
    "print(\"State with Most Violent Crimes in West is\", max(West)[0], \"with\", max(West)[1], \"violent crimes\")\n",
    "print(\"State with Most Violent Crimes in Northeast is\", max(Northeast)[0], \"with\", max(Northeast)[1], \"violent crimes\")\n",
    "print(\"State with Most Violent Crimes in Midwest is\", max(Midwest)[0], \"with\", max(Midwest)[1], \"violent crimes\")"
   ]
  },
  {
   "cell_type": "code",
   "execution_count": null,
   "id": "ee669ec0",
   "metadata": {
    "pycharm": {
     "name": "#%%\n"
    }
   },
   "outputs": [],
   "source": [
    "#print(violent_crime_by_state)\n",
    "\n",
    "y = sorted(violent_crime_by_state.items(), key=lambda item: item[1])\n",
    "z = sorted(violent_crime_by_state.items(), key=lambda item: item[1], reverse=True)\n",
    "region_list = []\n",
    "nonviolent_crimes_list = []\n",
    "for region, nonviolent_crimes in nonviolent_by_region.items():\n",
    "    region_list.append(region)\n",
    "    nonviolent_crimes_list.append(nonviolent_crimes)\n",
    "\n",
    "\n",
    "# the labels - must match the number of data points\n",
    "\n",
    "\n",
    "pd_violent_crimes_Dict = {\"Non-Violent Crimes\":pd.Series(nonviolent_crimes_list),\"Region\":pd.Series(region_list)}\n",
    "\n",
    "df = pd.DataFrame(pd_violent_crimes_Dict)\n",
    "print(\"Non-Violent Crimes by Region\")\n",
    "print(df)\n",
    "df.plot.bar(x='Region',y='Non-Violent Crimes',legend=False,color=['red', 'green', 'blue', 'cyan'])\n",
    "#_______________________\n",
    "\n",
    "print(\"The four safest states based on violent crimes are\", y[:4])\n",
    "print(\"The four most dangerous states based on violent crimes are\", z[:4])"
   ]
  },
  {
   "cell_type": "code",
   "execution_count": null,
   "id": "e831d5dd",
   "metadata": {
    "pycharm": {
     "name": "#%%\n"
    }
   },
   "outputs": [],
   "source": []
  }
 ],
 "metadata": {
  "kernelspec": {
   "display_name": "Python 3 (ipykernel)",
   "language": "python",
   "name": "python3"
  },
  "language_info": {
   "codemirror_mode": {
    "name": "ipython",
    "version": 3
   },
   "file_extension": ".py",
   "mimetype": "text/x-python",
   "name": "python",
   "nbconvert_exporter": "python",
   "pygments_lexer": "ipython3",
   "version": "3.9.6"
  }
 },
 "nbformat": 4,
 "nbformat_minor": 5
}